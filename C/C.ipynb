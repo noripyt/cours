{
 "cells": [
  {
   "cell_type": "markdown",
   "metadata": {
    "slideshow": {
     "slide_type": "slide"
    }
   },
   "source": [
    "# Bertrand Bordage de NoriPyt\n",
    "- Programmeur Python, Django, PostgreSQL\n",
    "- Membre de l’équipe de développement du CMS Wagtail\n",
    "- Créateur de nombreux projets open source plus ou moins célèbres"
   ]
  },
  {
   "cell_type": "markdown",
   "metadata": {
    "slideshow": {
     "slide_type": "slide"
    }
   },
   "source": [
    "# Le langage de programmation C"
   ]
  },
  {
   "cell_type": "markdown",
   "metadata": {
    "slideshow": {
     "slide_type": "slide"
    }
   },
   "source": [
    "## Démo de la puissance de C\n",
    "\n",
    "Ce petit programme a été fait spécialement pour ce cours.\n",
    "\n",
    "Derrière cette démonstration aux allures familières :\n",
    "- 420 lignes de code\n",
    "- 6 heures de travail\n",
    "- trois librairies externes : OpenGL, GLFW, GLU\n",
    "- une bonne dose de géométrie dont nous ne verrons pas le détail\n",
    "- aucun bug"
   ]
  },
  {
   "cell_type": "markdown",
   "metadata": {
    "slideshow": {
     "slide_type": "slide"
    }
   },
   "source": [
    "![](gl-demo.png)"
   ]
  },
  {
   "cell_type": "markdown",
   "metadata": {
    "slideshow": {
     "slide_type": "slide"
    }
   },
   "source": [
    "## Source de la démo"
   ]
  },
  {
   "cell_type": "code",
   "execution_count": null,
   "metadata": {},
   "outputs": [],
   "source": [
    "//%cflags: -lm -lGL -lGLU -lglfw\n",
    "\n",
    "#include \"math.h\"\n",
    "#include \"time.h\"\n",
    "#include \"stdio.h\"\n",
    "#include \"stdlib.h\"\n",
    "\n",
    "#include \"GL/glu.h\"\n",
    "#include \"GLFW/glfw3.h\"\n",
    "\n",
    "\n",
    "#define PI 3.14159265358979323846\n",
    "\n",
    "#define WINDOW_WIDTH      800\n",
    "#define WINDOW_HEIGHT     600\n",
    "#define FOV                70  // Camera field of view, in degrees\n",
    "#define MAP_WIDTH          64  // In number of cubes\n",
    "#define MAP_DEPTH          64  // In number of cubes\n",
    "#define MOVE_SPEED          4  // In world units per second\n",
    "#define SIDE_LIGHTNESS    0.6  // Between 0 and 1\n",
    "#define BOTTOM_LIGHTNESS  0.3  // Between 0 and 1\n",
    "\n",
    "\n",
    "void check_gl_error() {\n",
    "    GLenum error = glGetError();\n",
    "    switch (error) {\n",
    "        case GL_NO_ERROR:\n",
    "            break;\n",
    "        case GL_INVALID_ENUM:\n",
    "            fprintf(stderr, \"Invalid enum passed to last OpenGL call.\\n\");\n",
    "            break;\n",
    "        case GL_INVALID_VALUE:\n",
    "            fprintf(stderr, \"Invalid value passed to last OpenGL call.\\n\");\n",
    "            break;\n",
    "        case GL_INVALID_OPERATION:\n",
    "            fprintf(stderr,\n",
    "                    \"Invalid operation passed to last OpenGL call.\\n\");\n",
    "            break;\n",
    "        case GL_INVALID_FRAMEBUFFER_OPERATION:\n",
    "            fprintf(stderr, \"Invalid OpenGL operation, the currently bound \"\n",
    "                            \"framebuffer was not complete.\\n\");\n",
    "            break;\n",
    "        case GL_OUT_OF_MEMORY:\n",
    "            fprintf(stderr, \"Not enough memory for the last OpenGL call.\\n\");\n",
    "            break;\n",
    "        default:\n",
    "            fprintf(stderr, \"Unknown OpenGL error (code %i)\\n\", error);\n",
    "            break;\n",
    "        \n",
    "    }\n",
    "}\n",
    "\n",
    "\n",
    "void error_callback(int error, const char* description) {\n",
    "    fprintf(stderr, \"Error: %s\\n\", description);\n",
    "}\n",
    "\n",
    "\n",
    "typedef struct {\n",
    "    float x;\n",
    "    float y;\n",
    "    float z;\n",
    "    float dx;\n",
    "    float dy;\n",
    "    float dz;\n",
    "    float ax;\n",
    "    float ay;\n",
    "    double mouse_x;\n",
    "    double mouse_y;\n",
    "    char mouse_grabbed;\n",
    "} Camera;\n",
    "\n",
    "\n",
    "typedef struct {\n",
    "    float x;\n",
    "    float y;\n",
    "    float z;\n",
    "    int red;\n",
    "    int green;\n",
    "    int blue;\n",
    "} Cube;\n",
    "\n",
    "\n",
    "typedef struct {\n",
    "    GLFWwindow* window;\n",
    "    unsigned int window_width;\n",
    "    unsigned int window_height;\n",
    "    Camera camera;\n",
    "    unsigned int n_cubes;\n",
    "    Cube* cubes;\n",
    "    double last_frame_time;\n",
    "    double dt;\n",
    "} Game;\n",
    "\n",
    "\n",
    "Game game;\n",
    "\n",
    "\n",
    "static void set_framebuffer_size(GLFWwindow* window, int width, int height) {\n",
    "    glViewport(0, 0, width, height);\n",
    "    game.window_width = width;\n",
    "    game.window_height = height;\n",
    "}\n",
    "\n",
    "\n",
    "static void key_callback(GLFWwindow* window, int key, int scancode,\n",
    "                         int action, int mods) {\n",
    "    if (action == GLFW_PRESS) {\n",
    "        switch (key) {\n",
    "            case GLFW_KEY_W:\n",
    "                game.camera.dz -= MOVE_SPEED;\n",
    "                break;\n",
    "            case GLFW_KEY_A:\n",
    "                game.camera.dx -= MOVE_SPEED;\n",
    "                break;\n",
    "            case GLFW_KEY_S:\n",
    "                game.camera.dz += MOVE_SPEED;\n",
    "                break;\n",
    "            case GLFW_KEY_D:\n",
    "                game.camera.dx += MOVE_SPEED;\n",
    "                break;\n",
    "            case GLFW_KEY_SPACE:\n",
    "                game.camera.dy += MOVE_SPEED;\n",
    "                break;\n",
    "            case GLFW_KEY_LEFT_CONTROL:\n",
    "                game.camera.dy -= MOVE_SPEED;\n",
    "                break;\n",
    "            case GLFW_KEY_ESCAPE:\n",
    "                glfwSetInputMode(game.window,\n",
    "                                 GLFW_CURSOR, GLFW_CURSOR_NORMAL);\n",
    "                game.camera.mouse_grabbed = 0;\n",
    "                break;\n",
    "        }\n",
    "    } else if (action == GLFW_RELEASE) {\n",
    "        switch (key) {\n",
    "            case GLFW_KEY_W:\n",
    "                game.camera.dz += MOVE_SPEED;\n",
    "                break;\n",
    "            case GLFW_KEY_A:\n",
    "                game.camera.dx += MOVE_SPEED;\n",
    "                break;\n",
    "            case GLFW_KEY_S:\n",
    "                game.camera.dz -= MOVE_SPEED;\n",
    "                break;\n",
    "            case GLFW_KEY_D:\n",
    "                game.camera.dx -= MOVE_SPEED;\n",
    "                break;\n",
    "            case GLFW_KEY_SPACE:\n",
    "                game.camera.dy -= MOVE_SPEED;\n",
    "                break;\n",
    "            case GLFW_KEY_LEFT_CONTROL:\n",
    "                game.camera.dy += MOVE_SPEED;\n",
    "                break;\n",
    "        }\n",
    "    }\n",
    "}\n",
    "\n",
    "\n",
    "static void mouse_button_callback(GLFWwindow* window,\n",
    "                                  int button, int action, int mods) {\n",
    "    if (action == GLFW_PRESS) {\n",
    "        if (button == GLFW_MOUSE_BUTTON_LEFT) {\n",
    "            glfwSetInputMode(game.window, GLFW_CURSOR, GLFW_CURSOR_DISABLED);\n",
    "            glfwGetCursorPos(game.window,\n",
    "                             &game.camera.mouse_x, &game.camera.mouse_y);\n",
    "            game.camera.mouse_grabbed = 1;\n",
    "        }\n",
    "    }\n",
    "}\n",
    "\n",
    "static void mouse_move_callback(GLFWwindow* window,\n",
    "                                double mouse_x, double mouse_y) {\n",
    "    if (game.camera.mouse_grabbed) {\n",
    "        game.camera.ay += (mouse_x - game.camera.mouse_x) / 300;\n",
    "        game.camera.ax += (mouse_y - game.camera.mouse_y) / 300;\n",
    "        if (game.camera.ax < -PI / 2) {\n",
    "            game.camera.ax = -PI / 2;\n",
    "        } else if (game.camera.ax > PI / 2) {\n",
    "            game.camera.ax = PI / 2;\n",
    "        }\n",
    "        game.camera.mouse_x = mouse_x;\n",
    "        game.camera.mouse_y = mouse_y;\n",
    "    }\n",
    "}\n",
    "\n",
    "\n",
    "void vertexA(Cube cube) {\n",
    "    glVertex3f(cube.x+.5, cube.y+.5, cube.z+.5);\n",
    "}\n",
    "\n",
    "void vertexB(Cube cube) {\n",
    "    glVertex3f(cube.x-.5, cube.y+.5, cube.z+.5);\n",
    "}\n",
    "\n",
    "void vertexC(Cube cube) {\n",
    "    glVertex3f(cube.x-.5, cube.y-.5, cube.z+.5);\n",
    "}\n",
    "\n",
    "void vertexD(Cube cube) {\n",
    "    glVertex3f(cube.x+.5, cube.y-.5, cube.z+.5);\n",
    "}\n",
    "\n",
    "void vertexE(Cube cube) {\n",
    "    glVertex3f(cube.x-.5, cube.y+.5, cube.z-.5);\n",
    "}\n",
    "\n",
    "void vertexF(Cube cube) {\n",
    "    glVertex3f(cube.x+.5, cube.y+.5, cube.z-.5);\n",
    "}\n",
    "\n",
    "void vertexG(Cube cube) {\n",
    "    glVertex3f(cube.x+.5, cube.y-.5, cube.z-.5);\n",
    "}\n",
    "\n",
    "void vertexH(Cube cube) {\n",
    "    glVertex3f(cube.x-.5, cube.y-.5, cube.z-.5);\n",
    "}\n",
    "\n",
    "\n",
    "void render_cube(Cube cube) {\n",
    "    // Makes the color darker to simulate lighting.\n",
    "    glColor3ub(cube.red * SIDE_LIGHTNESS,\n",
    "               cube.green * SIDE_LIGHTNESS,\n",
    "               cube.blue * SIDE_LIGHTNESS);\n",
    "    check_gl_error();\n",
    "    glBegin(GL_QUADS);\n",
    "\n",
    "    //\n",
    "    // Front\n",
    "    //\n",
    "    vertexA(cube);\n",
    "    vertexB(cube);\n",
    "    vertexC(cube);\n",
    "    vertexD(cube);\n",
    "    //\n",
    "    // Back\n",
    "    //\n",
    "    vertexE(cube);\n",
    "    vertexF(cube);\n",
    "    vertexG(cube);\n",
    "    vertexH(cube);\n",
    "    //\n",
    "    // Left\n",
    "    //\n",
    "    vertexF(cube);\n",
    "    vertexA(cube);\n",
    "    vertexD(cube);\n",
    "    vertexG(cube);\n",
    "    //\n",
    "    // Right\n",
    "    //\n",
    "    vertexB(cube);\n",
    "    vertexE(cube);\n",
    "    vertexH(cube);\n",
    "    vertexC(cube);\n",
    "    //\n",
    "    // Top\n",
    "    //\n",
    "    // Makes the color fully lit to simulate lighting.\n",
    "    glColor3ub(cube.red, cube.green, cube.blue);\n",
    "    vertexF(cube);\n",
    "    vertexE(cube);\n",
    "    vertexB(cube);\n",
    "    vertexA(cube);\n",
    "    //\n",
    "    // Bottom\n",
    "    //\n",
    "    // Makes the color very dark to simulate lighting.\n",
    "    glColor3ub(cube.red * BOTTOM_LIGHTNESS,\n",
    "               cube.green * BOTTOM_LIGHTNESS,\n",
    "               cube.blue * BOTTOM_LIGHTNESS);\n",
    "    vertexD(cube);\n",
    "    vertexC(cube);\n",
    "    vertexH(cube);\n",
    "    vertexG(cube);\n",
    "\n",
    "    glEnd();\n",
    "    check_gl_error();\n",
    "}\n",
    "\n",
    "\n",
    "float rad2deg(float angle) {\n",
    "    return 180 * angle / PI;\n",
    "}\n",
    "\n",
    "\n",
    "void render() {\n",
    "    glClear(GL_COLOR_BUFFER_BIT | GL_DEPTH_BUFFER_BIT);\n",
    "    check_gl_error();\n",
    "\n",
    "    // Sets the projection matrix to a perspective.\n",
    "    glMatrixMode(GL_PROJECTION);\n",
    "    check_gl_error();\n",
    "    glLoadIdentity();\n",
    "    check_gl_error();\n",
    "    gluPerspective(FOV, (float)game.window_width / game.window_height,\n",
    "                   1, 1000);\n",
    "\n",
    "    // Moves and rotates the world so the camera is its origin.\n",
    "    glMatrixMode(GL_MODELVIEW);\n",
    "    check_gl_error();\n",
    "    glLoadIdentity();\n",
    "    check_gl_error();\n",
    "    Camera camera = game.camera;\n",
    "    glRotatef(rad2deg(camera.ax), 1, 0, 0);\n",
    "    glRotatef(rad2deg(camera.ay), 0, 1, 0);\n",
    "    glTranslatef(-camera.x, -camera.y, -camera.z);\n",
    "\n",
    "    for (unsigned int i = 0; i < game.n_cubes; i++) {\n",
    "        render_cube(game.cubes[i]);\n",
    "    }\n",
    "}\n",
    "\n",
    "\n",
    "void create_window() {\n",
    "    glfwWindowHint(GLFW_SAMPLES, 4);\n",
    "    game.window_width = WINDOW_WIDTH;\n",
    "    game.window_height = WINDOW_HEIGHT;\n",
    "    game.window = glfwCreateWindow(\n",
    "        game.window_width, game.window_height,\n",
    "        \"OpenGL is hard, but rewarding\", NULL, NULL);\n",
    "    glfwMakeContextCurrent(game.window);\n",
    "    // Sets game rendering to the same frequency as the screen frequency.\n",
    "    glfwSwapInterval(1);\n",
    "}\n",
    "\n",
    "\n",
    "void update_camera() {\n",
    "    game.camera.x += (\n",
    "        game.camera.dx * cos(game.camera.ay)\n",
    "        + game.camera.dz * cos(game.camera.ay + PI / 2)) * game.dt;\n",
    "    game.camera.y += game.camera.dy * game.dt;\n",
    "    game.camera.z += (\n",
    "        game.camera.dx * sin(game.camera.ay)\n",
    "        + game.camera.dz * sin(game.camera.ay + PI / 2)) * game.dt;\n",
    "}\n",
    "\n",
    "\n",
    "void loop() {\n",
    "    while (!glfwWindowShouldClose(game.window)) {\n",
    "        update_camera();\n",
    "        render();\n",
    "        // Puts on the screen the frame rendered to a temporary buffer.\n",
    "        glfwSwapBuffers(game.window);\n",
    "        // Runs all pending events.\n",
    "        glfwPollEvents();\n",
    "\n",
    "        double now = glfwGetTime();\n",
    "        game.dt = now - game.last_frame_time;\n",
    "        game.last_frame_time = now;\n",
    "\n",
    "        printf(\"FPS: %i Position: [%f %f %f] Direction: [%f %f]\\r\",\n",
    "               (int)round(1 / game.dt),\n",
    "               game.camera.x, game.camera.y, game.camera.z,\n",
    "               game.camera.ax, game.camera.ay);\n",
    "    }\n",
    "}\n",
    "\n",
    "\n",
    "unsigned char rand_char() {\n",
    "    return 255 * (float)rand() / RAND_MAX;\n",
    "}\n",
    "\n",
    "\n",
    "void create_map(unsigned int width, unsigned int depth) {\n",
    "    game.n_cubes = width * depth;\n",
    "    game.cubes = (Cube*)malloc(game.n_cubes * sizeof(Cube));\n",
    "    for (int z = 0; z < depth; z++) {\n",
    "        for (int x = 0; x < width; x++) {\n",
    "            game.cubes[x + z*width] = (Cube){\n",
    "                x - width * .5, rand_char() / 120 - 5, z - depth * .5,\n",
    "                rand_char(), rand_char(), rand_char()};\n",
    "        }\n",
    "    }\n",
    "}\n",
    "\n",
    "\n",
    "int main() {\n",
    "    // Sets the pseudo-random generator seed using the current time.\n",
    "    srand(time(NULL));\n",
    "    \n",
    "    glfwSetErrorCallback(error_callback);\n",
    "\n",
    "    if (!glfwInit()) {\n",
    "        fprintf(stderr, \"Error while initializing GLFW.\\n\");\n",
    "        return 1;\n",
    "    }\n",
    "\n",
    "    create_window();\n",
    "    if (game.window == NULL) {\n",
    "        fprintf(stderr, \"Cannot create a window.\\n\");\n",
    "        return 1;\n",
    "    }\n",
    "\n",
    "    glfwSetFramebufferSizeCallback(game.window, set_framebuffer_size);\n",
    "    glfwSetKeyCallback(game.window, key_callback);\n",
    "    glfwSetMouseButtonCallback(game.window, mouse_button_callback);\n",
    "    glfwSetCursorPosCallback(game.window, mouse_move_callback);\n",
    "\n",
    "    game.camera = (Camera){x: 0, y: 0, z: 0, dx: 0, dy: 0, dz: 0, \n",
    "                           ax: 0, ay: 0, mouse_grabbed: 0};\n",
    "    create_map(MAP_WIDTH, MAP_DEPTH);\n",
    "\n",
    "    glEnable(GL_DEPTH_TEST);\n",
    "    check_gl_error();\n",
    "\n",
    "    glEnable(GL_CULL_FACE);\n",
    "    check_gl_error();\n",
    "    glCullFace(GL_BACK);\n",
    "    check_gl_error();\n",
    "\n",
    "    loop();\n",
    "\n",
    "    free(game.cubes);\n",
    "    glfwDestroyWindow(game.window);\n",
    "    glfwTerminate();\n",
    "    // Adds a new line to avoid getting a weird line due to previous \\r.\n",
    "    puts(\"\");\n",
    "    return 0;\n",
    "}"
   ]
  },
  {
   "cell_type": "markdown",
   "metadata": {
    "slideshow": {
     "slide_type": "slide"
    }
   },
   "source": [
    "## Quelqu’un a compris quelque chose ?\n",
    "\n",
    "Au fur et à mesure qu’on découvrira C, on reviendra sur cette démo pour comprendre de mieux en mieux comment elle marche."
   ]
  },
  {
   "cell_type": "markdown",
   "metadata": {
    "slideshow": {
     "slide_type": "slide"
    }
   },
   "source": [
    "## Projet pour ceux se sentant à l’aise\n",
    "\n",
    "Dès que vous avez fini les exercices ou pris un peu d’avance, améliorez cette démo !\n",
    "\n",
    "Vous pouvez vous y mettre à plusieurs, mais ne parlez pas : chuchotez ou utilisez Slack.\n",
    "\n",
    "Vous pouvez améliorer ce que vous souhaitez, mais en cas de manque d’inspiration, ce serait super de :\n",
    "- [facile] mettre le fond en bleu ciel au lieu de noir\n",
    "- [facile] ajouter un mode « course » en appuyant sur la touche majuscule gauche\n",
    "- [moyen] mettre en plein écran quand on appuie sur F11\n",
    "- [moyen] poser un nouveau bloc quand on clique près d’un bloc déjà existant\n",
    "- [moyen] faire en sorte que notre position suive le relief et qu’on ne vole plus\n",
    "- [difficile] faire en sorte qu’on puisse sauter\n",
    "- [difficile] écrire un algorithme _diamond-square_ pour générer de manière plus intéressante la hauteur des cubes\n",
    "- [moyen] réutiliser l’algorithme _diamond-square_ pour définir les couleurs de blocs, un peu comme des biomes\n",
    "- [moyen] permettre de saisir la taille de la carte en argument du programme, en faisant `./demo 64x128`\n",
    "- [très difficile] générer le monde au fur et à mesure qu’on avance dans le jeu, de sorte qu’il n’y ait toujours un bloc sous nos pieds\n",
    "- [très difficile] réécrire l’envoi des cubes à la carte graphiques en utilisant des VAO (_Vertex Array Object_) et VBO (_Vertex Buffer Object_) pour décupler les performances, et afficher bien plus de cubes"
   ]
  },
  {
   "cell_type": "markdown",
   "metadata": {
    "slideshow": {
     "slide_type": "slide"
    }
   },
   "source": [
    "## Autre idée de projet\n",
    "\n",
    "Créer un résolveur de sudoku. Il lira un fichier contenant le sudoku à résoudre.\n",
    "\n",
    "En sortie, le programme donnera le sudoku résolu.\n",
    "\n",
    "Au niveau algorithmique, c’est relativement brutal : il suffit de passer en revue les cases vides. Pour chaque case vide, il faut passer en revue les chiffres de 0 à 9 et ainsi trouver les chiffres possibles pour cette case. Pour chaque chiffre possible, il faut « ouvrir » une nouvelle branche d’arborescence permettant de tester des possibilités pour chacune des autres cases.\n",
    "\n",
    "L’algorithme passe donc en revue les solutions sous forme d’arborescence, et dès qu’il trouve une solution, il s’arrête et l’affiche.\n",
    "\n",
    "Oui, c’est le retour de la programmation récursive. Il est possible de réaliser ce programme sans récursivité, mais c’est nettement plus difficile.\n",
    "\n",
    "Pour ceux qui aiment les défis, généraliser cet algorithme à n’importe quelle taille de sudoku rectangulaire régulier : 6×6, 12×12, 12×6, etc."
   ]
  },
  {
   "cell_type": "markdown",
   "metadata": {
    "slideshow": {
     "slide_type": "slide"
    }
   },
   "source": [
    "## Documentations\n",
    "\n",
    "Difficile de trouver une bonne documentation pour C : il n’y en a pas vraiment d’officielle.\n",
    "\n",
    "Toutefois, quelques sites contenant tout ce dont on a besoin :\n",
    "- [référence des librairies C sur C++.com](http://www.cplusplus.com/reference/clibrary/) : très pratique pour trouver les fonctions des modules standards C, avec beaucoup d’exemples (attention, le site contient aussi de la documentation C++ inutilisable en C)\n",
    "- [manuel GCC](https://www.gnu.org/software/gnu-c-manual/gnu-c-manual.html) : documentation précise de la syntaxe et fonctionnement de C\n",
    "- [manuel GCC de la librairie standard](https://www.gnu.org/software/libc/manual/html_node/index.html) : contient le détail de tous les modules stantard C (un peu comme C++.com)\n",
    "\n",
    "Et concernant la démo, elle utilise [GLFW](http://www.glfw.org/docs/latest/), [OpenGL](https://www.khronos.org/registry/OpenGL-Refpages/gl4/) et GLU (dont la documentation est incluse dans celle d’[OpenGL 2.1](https://www.khronos.org/registry/OpenGL-Refpages/gl2.1/))\n",
    "\n",
    "Et si vous n’avez pas la foi : Google + StackOverflow !"
   ]
  },
  {
   "cell_type": "markdown",
   "metadata": {
    "slideshow": {
     "slide_type": "slide"
    }
   },
   "source": [
    "## Un langage à part\n",
    "\n",
    "C est **le** langage entre l’assembleur et tous les logiciels, y compris les autres langages de programmation.\n",
    "\n",
    "L’assembleur est la forme textuelle du langage machine. L’assembleur est directement transposé en langage machine compréhensible par le processeur.\n",
    "\n",
    "La quasi totalité des langages de programmation actuels sont écrits en C, particulièrement les langages compilés : Python, PHP, Java, JavaScript…\n",
    "\n",
    "C est un langage dit **bas niveau** parce qu’il est proche du langage machine.\n",
    "Par opposition, les langages interprétés plus récents comme Python, PHP, Java, etc sont dit **haut niveau**."
   ]
  },
  {
   "cell_type": "markdown",
   "metadata": {
    "slideshow": {
     "slide_type": "slide"
    }
   },
   "source": [
    "## Pourquoi « encore » utiliser C ?\n",
    "\n",
    "C peut sembler archaïque, langage compilé d’il y a 45 ans.\n",
    "\n",
    "Pourtant, tous les développeurs sont amenés à en faire dans leur vie pour ces raisons :\n",
    "- performances optimales (indispensable pour des jeux, traitement d’images, etc)\n",
    "- quasiment toutes les librairies bas niveau sont écrites en C (pour les échanges réseau, le traitement d’images, les connexions à des bases de données, etc)\n",
    "- le cœur des systèmes d’exploitation est écrit en C\n",
    "- les langages haut niveau sont écrits en C"
   ]
  },
  {
   "cell_type": "markdown",
   "metadata": {
    "slideshow": {
     "slide_type": "slide"
    }
   },
   "source": [
    "## Quand ne pas utiliser C ?\n",
    "\n",
    "Bien qu’universel et très puissant, C est très exigeant et contient beaucoup de différences d’un système d’exploitation à un autre.\n",
    "\n",
    "Pour ces raisons, il est conseillé d’utiliser à la place un langage interprété comme Python quand :\n",
    "- les performances sont peu importantes\n",
    "- on n’a pas besoin d’utiliser directement une librairie C\n",
    "- on souhaite obtenir rapidement un résultat\n",
    "- on souhaite maintenir moins de code\n",
    "- on ne souhaite pas galérer avec de la compilation sous Windows et MacOS\n",
    "\n",
    "En pratique, dans la plupart des métiers informatiques, on fait peu de C.\n",
    "\n",
    "Toutefois, ne pas connaître C risque de vous poursuivre toute votre vie professionnelle. Un bon développeur est toujours capable de lire du C, que ce soit pour juste compiler un programme déjà existant, ou pour améliorer une fonctionnalité de son propre langage de programmation."
   ]
  },
  {
   "cell_type": "markdown",
   "metadata": {
    "slideshow": {
     "slide_type": "slide"
    }
   },
   "source": [
    "## Évitons les confusions : C ≠ C++ ≠ C# #\n",
    "\n",
    "Pour faire court :\n",
    "\n",
    "Nom | Naissance | Lien avec les autres | Vu lors de ce cours\n",
    "--- | --------- | -------------------- | -------------------\n",
    "C | 1972 | Utilisé par tous les langages modernes | Oui\n",
    "C++ | 1983 | Étend C en ajoutant de nouvelles fonctionnalités | Non\n",
    "C# | 2000 | Aucun rapport, se veut comme un successeur à C et C++ | Non"
   ]
  },
  {
   "cell_type": "markdown",
   "metadata": {
    "slideshow": {
     "slide_type": "slide"
    }
   },
   "source": [
    "## Quelques compilateurs\n",
    "\n",
    "Il existe des dizaines de compilateurs C.\n",
    "\n",
    "Voici les plus utilisés aujourd’hui :\n",
    "\n",
    "Nom | Licence | Support Linux | Support MacOS | Support Windows\n",
    "--- | ------- | ------------- | ------------- | ---------------\n",
    "GCC | Open source | Oui           | Oui           | Oui\n",
    "Clang | Open source | Oui | Oui | Oui\n",
    "Microsoft Visual C | Gratuit mais fermé | Non | Non | Oui\n",
    "\n",
    "Clang ≈ le futur de GCC\n",
    "\n",
    "En attendant, on utilisera plutôt GCC."
   ]
  },
  {
   "cell_type": "markdown",
   "metadata": {
    "slideshow": {
     "slide_type": "slide"
    }
   },
   "source": [
    "## Installation du compilateur\n",
    "\n",
    "On utilise uniquement *GNU Compiler Collection*, alias GCC.\n",
    "\n",
    "Sous **Ubuntu** :\n",
    "`sudo apt install gcc`\n",
    "\n",
    "Sous **Windows** :\n",
    "- installer MinGW (`mingw-get-setup.exe` sur https://sourceforge.net/projects/mingw/files/Installer/)\n",
    "- lancer le gestionnaire de paquets de MinGW et installer `mingw32-gcc`\n",
    "- ajouter à votre variable `%PATH%` le chemin des binaires de MinGW (`C:\\MinGW\\bin` dans beaucoup de cas)\n",
    "- relancer votre session ou redémarrer\n",
    "\n",
    "Malgré cette installation plus complexe, il est toujours possible que vous ne puissiez pas exécuter `gcc` directement dans votre invite de commandes Windows.\n",
    "\n",
    "Windows : enfer pour développer correctement, privilégier n’importe quelle distribution de Linux.\n",
    "\n",
    "Pour ceux qui galèrent, installer VirtualBox avec une machine virtuelle Ubuntu 17.10."
   ]
  },
  {
   "cell_type": "markdown",
   "metadata": {
    "slideshow": {
     "slide_type": "slide"
    }
   },
   "source": [
    "## Premier programme\n",
    "\n",
    "Voici le plus simple programme C. Il contient juste une fonction `main` :"
   ]
  },
  {
   "cell_type": "code",
   "execution_count": 1,
   "metadata": {},
   "outputs": [],
   "source": [
    "int main() {}"
   ]
  },
  {
   "cell_type": "markdown",
   "metadata": {},
   "source": [
    "Pour le compiler :\n",
    "- enregistrer ce code dans un fichier, par exemple `first.c`\n",
    "- ouvrir un terminal dans le dossier du fichier\n",
    "- lancer `gcc first.c -o first`\n",
    "\n",
    "Pour le lancer : `./first`"
   ]
  },
  {
   "cell_type": "markdown",
   "metadata": {
    "slideshow": {
     "slide_type": "slide"
    }
   },
   "source": [
    "## Salut tout le monde !\n",
    "\n",
    "Bon, le programme précédent ne faisait absolument rien.\n",
    "\n",
    "Faisons maintenant le traditionnel “Hello World!”."
   ]
  },
  {
   "cell_type": "code",
   "execution_count": 2,
   "metadata": {},
   "outputs": [
    {
     "name": "stdout",
     "output_type": "stream",
     "text": [
      "Hello World!\n"
     ]
    }
   ],
   "source": [
    "#include \"stdio.h\"\n",
    "\n",
    "int main() {\n",
    "    puts(\"Hello World!\");\n",
    "}"
   ]
  },
  {
   "cell_type": "markdown",
   "metadata": {},
   "source": [
    "Ici, on a utilisé la fonction `puts` permettant d’afficher du texte.\n",
    "\n",
    "Cette fonction est contenue dans la librairie standard `stdio`, d’où la première ligne.\n",
    "\n",
    "La plupart des librairies standard de C commencent par `std`. Ici, le `io` signifie “Input/Output”."
   ]
  },
  {
   "cell_type": "markdown",
   "metadata": {
    "slideshow": {
     "slide_type": "subslide"
    }
   },
   "source": [
    "### Exercice 1\n",
    "\n",
    "Écrire, compiler et lancer un programme affichant `Je m’appelle [votre nom].`, puis `J’habite à [votre ville].` dans une seconde ligne, en remplaçant vos nom et ville."
   ]
  },
  {
   "cell_type": "markdown",
   "metadata": {
    "slideshow": {
     "slide_type": "slide"
    }
   },
   "source": [
    "## L’implicite `main`"
   ]
  },
  {
   "cell_type": "markdown",
   "metadata": {},
   "source": [
    "Que se passe-t-il si j’essaie de renommer `main` ?"
   ]
  },
  {
   "cell_type": "code",
   "execution_count": 3,
   "metadata": {},
   "outputs": [
    {
     "name": "stderr",
     "output_type": "stream",
     "text": [
      "/tmp/tmp0wjofvkj.out: /tmp/tmpbr5b7rcf.out: undefined symbol: main\n",
      "[C kernel] Executable exited with code 1"
     ]
    }
   ],
   "source": [
    "#include \"stdio.h\"\n",
    "\n",
    "int hello() {\n",
    "    puts(\"Hello World!\");\n",
    "}"
   ]
  },
  {
   "cell_type": "markdown",
   "metadata": {},
   "source": [
    "La compilation a fonctionné.\n",
    "\n",
    "Par contre quand on lance le programme, on a une erreur et rien ne s’affiche !\n",
    "\n",
    "Tous les programmes C qu’on souhaite lancer directement doivent contenir une fonction `main`, c’est uniquement cette fonction qui sera exécutée au lancement du programme.\n",
    "\n",
    "Bien entendu, les librairies qui ne sont pas faites pour être lancées directement peuvent ne pas avoir cette fonction."
   ]
  },
  {
   "cell_type": "markdown",
   "metadata": {
    "slideshow": {
     "slide_type": "slide"
    }
   },
   "source": [
    "## Variables\n",
    "\n",
    "Pour définir une variable en C, on a deux possibilités.\n",
    "\n",
    "Définir la variable sans l’attribuer :"
   ]
  },
  {
   "cell_type": "code",
   "execution_count": null,
   "metadata": {},
   "outputs": [],
   "source": [
    "int age;"
   ]
  },
  {
   "cell_type": "markdown",
   "metadata": {},
   "source": [
    "Il s’agit donc du type, ici `int`, suivi du nom de la variable, fini par un `;`.\n",
    "\n",
    "Toutes les instructions C doivent impérativement finir par `;`.\n",
    "\n",
    "Définir la variable en l’attribuant :"
   ]
  },
  {
   "cell_type": "code",
   "execution_count": null,
   "metadata": {},
   "outputs": [],
   "source": [
    "int age = 28;"
   ]
  },
  {
   "cell_type": "markdown",
   "metadata": {},
   "source": [
    "On peut également définir plusieurs variables à la fois :"
   ]
  },
  {
   "cell_type": "code",
   "execution_count": null,
   "metadata": {},
   "outputs": [],
   "source": [
    "int birth_year = 1989, this_year = 2017;"
   ]
  },
  {
   "cell_type": "markdown",
   "metadata": {
    "slideshow": {
     "slide_type": "subslide"
    }
   },
   "source": [
    "### Exercice 2\n",
    "\n",
    "Écrire, compiler et lancer un programme où vous définissez votre âge."
   ]
  },
  {
   "cell_type": "markdown",
   "metadata": {
    "slideshow": {
     "slide_type": "slide"
    }
   },
   "source": [
    "## Types élémentaires\n",
    "\n",
    "Le nombre d’octets d’un type varie d’un type de processeur à un autre.\n",
    "Des processeurs 32 bits et 64 bits auront donc certains types de longueur différente.\n",
    "Dans le tableau ci-dessous, il s’agit des tailles pour un processeur moderne 64 bits.\n",
    "\n",
    "Notation | Nom français | Exemple | Nombre d’octets\n",
    "-------- | ------------ | ------- | ---------------\n",
    "`char` | Octet, ou caractère ASCII | `'A'` ou `65` | 1\n",
    "`short` | Petit nombre entier | `3725` | 2\n",
    "`int` | Nombre entier | `35816642` | 4\n",
    "`long` | Long nombre entier | `654987546216454298` | 8\n",
    "`float` | Nombre à virgule | `1.618033` | 4\n",
    "`double` | Nombre à virgule plus précis | `1.6180339887498` | 8"
   ]
  },
  {
   "cell_type": "markdown",
   "metadata": {
    "slideshow": {
     "slide_type": "slide"
    }
   },
   "source": [
    "## Types élémentaires (suite)\n",
    "\n",
    "Quelques spécificités sont à noter :\n",
    "- Pas de type booléen en C, on utilise un type numérique à la place.\n",
    "- Les types `char`, `short`, `int`, `long` peuvent être `signed` ou `unsigned`. `float` et `double` sont toujours signés. Par défaut, les types `short`, `int` et `long` sont `signed`, mais `char` n’est pas explicitement signé ou non par défaut.\n",
    "- Le minimum d’un type entier `unsigned` est $0$ et le maximum est $2^{8n}-1$. Par exemple, `unsigned short` va de $0$ à $65535$.\n",
    "- Le minimum d’un type entier `signed` est $-2^{8n-1}$ et le maximum est $2^{8n-1}-1$, où $n$ est le nombre d’octets. Par exemple, `signed short` va de $-32768$ à $32767$.\n",
    "- Il existe un type spécial, `void`. Il sert à indiquer qu’une fonction ne renvoie rien, mais on ne peut pas définir une variable comme `void`."
   ]
  },
  {
   "cell_type": "markdown",
   "metadata": {
    "slideshow": {
     "slide_type": "subslide"
    }
   },
   "source": [
    "### Exercice 3\n",
    "\n",
    "Écrire, compiler et lancer un programme contenant une variable `char`, une `unsigned short`, une `long` et une `float`. Chaque variable doit avoir une valeur attribuée."
   ]
  },
  {
   "cell_type": "markdown",
   "metadata": {
    "slideshow": {
     "slide_type": "slide"
    }
   },
   "source": [
    "## Opérateurs élémentaires\n",
    "\n",
    "Notation | Nom | Types compatibles | Exemple\n",
    "-------- | --- | ----------------- | -------\n",
    "`+`, `-`, `*`, `-` | Opérations usuelles | Types numériques | `-65 * (3 + 5.7)`\n",
    "`%` | Modulo | Types numériques | `12 % 5`\n",
    "`==` | Égalité | Tous types | `13 == 5`\n",
    "`!=` | Différence | Tous types | `5 != 3.5`\n",
    "`<` `>` | Inférieur/supérieur | Types numériques | `2 < 8`\n",
    "`<=` `>=` | Inférieur/supérieur ou égal | Types numériques | `8700 >= -32`\n",
    "`&&` | « Et » booléen | Tous types | `0 && 1`\n",
    "<code>&#124;&#124;</code> | « Ou » booléen | Tous types | <code>3 < 2 &#124;&#124; 15 > 8</code>\n",
    "\n",
    "Opérations modifiant directement les objets (on dit qu’ils sont modifiés **en place** ou **inplace**) :\n",
    "\n",
    "Notation | Nom | Types compatibles | Exemple\n",
    "-------- | --- | ----------------- | -------\n",
    "`++` | Incrémentation | Types numériques | `age++`\n",
    "`--` | Décrémentation | Types numériques | `age--`"
   ]
  },
  {
   "cell_type": "markdown",
   "metadata": {
    "slideshow": {
     "slide_type": "subslide"
    }
   },
   "source": [
    "### Exercice 4\n",
    "\n",
    "Écrire, compiler et lancer un programme faisant ceci :\n",
    "- définir une variable `i` à `-172` en choisissant le type le plus adapté\n",
    "- décrémenter cette valeur\n",
    "- effectuer un modulo 16 sur `i`\n",
    "- définir une variable `is_even` vérifiant si la variable `i` est paire."
   ]
  },
  {
   "cell_type": "markdown",
   "metadata": {
    "slideshow": {
     "slide_type": "slide"
    }
   },
   "source": [
    "## Fonctions d’entrée/sortie\n",
    "\n",
    "Toutes les fonctions permettant d’écrire à l’écran ou de demander à l’utilisateur de taper sont dans la librairie standard `stdio`.\n",
    "\n",
    "Pour se servir de ces fonctions, il faut donc toujours mettre `#include \"stdio.h\"` au début du fichier.\n",
    "\n",
    "Quelques caractères **échappés** à connaître pour tous les langages :\n",
    "\n",
    "Notation | Nom\n",
    "-------- | ---\n",
    "`\\n`     | Retour à la ligne\n",
    "`\\t`     | Tabulation\n",
    "`\\r`     | « Retour chariot » : revient au début de la ligne en cours"
   ]
  },
  {
   "cell_type": "markdown",
   "metadata": {
    "slideshow": {
     "slide_type": "slide"
    }
   },
   "source": [
    "## Fonctions d’entrée/sortie (suite)\n",
    "\n",
    "### Sortie\n",
    "\n",
    "On a déjà vu `puts(texte)`, qui permet d’afficher du texte à l’écran suivi d’un retour à la ligne.\n",
    "\n",
    "Juste avant, on a vu `printf(format, valeur1, valeur2, …)` qui permet d’afficher une ou plusieurs variables suivant un motif. C’est la fonction d’affichage qui vous sera la plus utile, elle peut même s’utiliser à la place de `puts`. Exemples d’utilisation :"
   ]
  },
  {
   "cell_type": "code",
   "execution_count": 4,
   "metadata": {},
   "outputs": [
    {
     "name": "stdout",
     "output_type": "stream",
     "text": [
      "Bonjour tout le monde\n",
      "J’ai 28 ans\n",
      "Il fait 21.370000 °C.\n",
      "Il fait 21.37 °C.\n"
     ]
    }
   ],
   "source": [
    "#include \"stdio.h\"\n",
    "\n",
    "int main () {\n",
    "    printf(\"Bonjour\");\n",
    "    printf(\" tout le monde\\n\");\n",
    "    printf(\"J’ai %i ans\\n\", 28);\n",
    "    printf(\"Il fait %f °C.\\n\", 21.37);\n",
    "    printf(\"Il fait %.2f °C.\\n\", 21.37);\n",
    "}"
   ]
  },
  {
   "cell_type": "markdown",
   "metadata": {
    "slideshow": {
     "slide_type": "subslide"
    }
   },
   "source": [
    "### Exercice 5\n",
    "\n",
    "Afficher la variable `age` créée dans l’exercice 2.\n",
    "\n",
    "### Exercice 6\n",
    "\n",
    "Afficher le résultat de la multiplication de 6 par l’addition de 9 modulo 7."
   ]
  },
  {
   "cell_type": "markdown",
   "metadata": {
    "slideshow": {
     "slide_type": "subslide"
    }
   },
   "source": [
    "### Exercice 7\n",
    "\n",
    "Afficher le tableau suivant. Il doit être le plus beau possible, avec des bordures continues, sans « trous ». Pour bien faire, il faut utiliser des _box-drawing characters_.\n",
    "\n",
    "Language   | Year | GitHub popularity\n",
    "---------- | ---- | -----------------\n",
    "C          | 1972 | #10\n",
    "Python     | 1990 | #2\n",
    "PHP        | 1994 | #5\n",
    "Java       | 1995 | #3\n",
    "JavaScript | 1995 | #1\n",
    "\n",
    "Pour info, la popularité sur GitHub est mesurée en nombre de _pull request_ ouvertes en 2017.\n",
    "Voir https://octoverse.github.com/.\n",
    "\n",
    "### Exercice 8\n",
    "\n",
    "Définir une variable de type `signed short` à sa plus grande valeur possible. Afficher cette variable, puis l’incrémenter et l’afficher à nouveau. Conclure."
   ]
  },
  {
   "cell_type": "code",
   "execution_count": null,
   "metadata": {
    "scrolled": true,
    "slideshow": {
     "slide_type": "skip"
    }
   },
   "outputs": [],
   "source": [
    "// Exercice 7\n",
    "\n",
    "#include \"stdio.h\"\n",
    "\n",
    "int main() {\n",
    "    printf(\"┏━━━━━━━━━━━━┳━━━━━━┳━━━━━━━━━━━━━━━━━━━┓\\n\");\n",
    "    printf(\"\\033[1m\");  // Changes the text to bold.\n",
    "    printf(\"┃ %10s ┃ %4s ┃ %17s ┃\\n\", \"Language\", \"Year\", \"GitHub popularity\");\n",
    "    printf(\"\\033[0m\");  // Resets text to normal weight.\n",
    "    printf(\"┡━━━━━━━━━━━━╇━━━━━━╇━━━━━━━━━━━━━━━━━━━┩\\n\");\n",
    "    printf(\"│ %10s │ %4s │ %17s │\\n\", \"C\", \"1972\", \"#10\");\n",
    "    printf(\"│ %10s │ %4s │ %17s │\\n\", \"C++\", \"1984\", \"#6\");\n",
    "    printf(\"│ %10s │ %4s │ %17s │\\n\", \"Python\", \"1990\", \"#2\");\n",
    "    printf(\"│ %10s │ %4s │ %17s │\\n\", \"PHP\", \"1994\", \"#5\");\n",
    "    printf(\"│ %10s │ %4s │ %17s │\\n\", \"Java\", \"1995\", \"#3\");\n",
    "    printf(\"│ %10s │ %4s │ %17s │\\n\", \"JavaScript\", \"1995\", \"#1\");\n",
    "    printf(\"└────────────┴──────┴───────────────────┘\\n\");\n",
    "}"
   ]
  },
  {
   "cell_type": "code",
   "execution_count": null,
   "metadata": {
    "slideshow": {
     "slide_type": "skip"
    }
   },
   "outputs": [],
   "source": [
    "// Exercice 8\n",
    "\n",
    "#include \"stdio.h\"\n",
    "\n",
    "int main () {\n",
    "    short i = 32767;\n",
    "    printf(\"%i\\n\", i);\n",
    "    i++;\n",
    "    printf(\"%i\\n\", i);\n",
    "}"
   ]
  },
  {
   "cell_type": "markdown",
   "metadata": {
    "slideshow": {
     "slide_type": "slide"
    }
   },
   "source": [
    "## Fonctions d’entrée/sortie (suite)\n",
    "\n",
    "### Entrée (caractère simple)\n",
    "\n",
    "L’entrée la plus simple se fait avec `getchar` :"
   ]
  },
  {
   "cell_type": "code",
   "execution_count": null,
   "metadata": {},
   "outputs": [],
   "source": [
    "#include \"stdio.h\"\n",
    "\n",
    "int main() {\n",
    "    printf(\"Tape une lettre : \");\n",
    "    char letter = getchar();\n",
    "    printf(\"Tu as tapé %c !\\n\", letter);\n",
    "}"
   ]
  },
  {
   "cell_type": "markdown",
   "metadata": {},
   "source": [
    "Malheureusement, c’est insuffisant pour plus d’un caractère, ou pour un autre type."
   ]
  },
  {
   "cell_type": "markdown",
   "metadata": {
    "slideshow": {
     "slide_type": "subslide"
    }
   },
   "source": [
    "### Exercice 9\n",
    "\n",
    "Demander à l’utilisateur s’il veut faire quelque chose, du genre “Would you like to see more? [yN]” ou « Voulez-vous en voir plus ? [oN] »."
   ]
  },
  {
   "cell_type": "markdown",
   "metadata": {
    "slideshow": {
     "slide_type": "slide"
    }
   },
   "source": [
    "## Fonctions d’entrée/sortie (suite)\n",
    "\n",
    "### Entrée (tous cas)\n",
    "\n",
    "La vraie réciproque de `printf` est `scanf`. Voilà comment s’en servir :"
   ]
  },
  {
   "cell_type": "code",
   "execution_count": null,
   "metadata": {},
   "outputs": [],
   "source": [
    "#include \"stdio.h\"\n",
    "\n",
    "int main() {\n",
    "    unsigned int age;\n",
    "    printf(\"Quel âge as-tu ? \");\n",
    "    scanf(\"%u\", &age);\n",
    "    printf(\"Oh, tu as %u ans !\\n\", age);\n",
    "}"
   ]
  },
  {
   "cell_type": "markdown",
   "metadata": {},
   "source": [
    "Contrairement à `printf`, le format ne contient que le format de la valeur.\n",
    "\n",
    "Autre problème, on ne peut pas passer directement des valeurs. À la place, on crée des variables et on les référence avec `&`. On reviendra sur le concept de référence."
   ]
  },
  {
   "cell_type": "markdown",
   "metadata": {
    "slideshow": {
     "slide_type": "subslide"
    }
   },
   "source": [
    "### Exercice 10\n",
    "\n",
    "Écrire un outil simple de multiplication demandant deux nombres entiers à l’utilisateur et affichant après saisie la multiplication des deux."
   ]
  },
  {
   "cell_type": "markdown",
   "metadata": {
    "slideshow": {
     "slide_type": "slide"
    }
   },
   "source": [
    "## Fonctions d’entrée/sortie (suite)\n",
    "\n",
    "### Formats\n",
    "\n",
    "Se référer aux documentations pour l’ensemble des possibilités de [`printf`](http://www.cplusplus.com/reference/cstdio/printf/) et [`scanf`](http://www.cplusplus.com/reference/cstdio/scanf/).\n",
    "\n",
    "Formats les plus importants communs à `printf` et `scanf` :\n",
    "\n",
    "Notation | Type | Exemple d’entrée/sortie\n",
    "-------- | ---- | -----------------------\n",
    "`%i`     | `short`, `int` | `-8530`\n",
    "`%u`     | `unsigned` `short`/`int` | `12`\n",
    "`%li`    | `long` | `-546413432864`\n",
    "`%u`     | `unsigned long` | `165413179`\n",
    "`%f`     | `float`, `double` | `7.1325`\n",
    "`%.1f`   | `float`, `double` | `7.1`\n",
    "`%c`     | `char`  | `a`\n",
    "`%s`     | `char*` (on verra ça) | `abcdef`"
   ]
  },
  {
   "cell_type": "markdown",
   "metadata": {
    "slideshow": {
     "slide_type": "subslide"
    }
   },
   "source": [
    "### Exercice 11\n",
    "\n",
    "Réécrire l’exercice précédent, mais en faisant des multiplications de `float` à la place."
   ]
  },
  {
   "cell_type": "code",
   "execution_count": null,
   "metadata": {
    "slideshow": {
     "slide_type": "skip"
    }
   },
   "outputs": [],
   "source": [
    "// Exercice 11\n",
    "\n",
    "#include \"stdio.h\"\n",
    "\n",
    "int main() {\n",
    "    float a, b;\n",
    "    printf(\"We’re going to do a multiplication.\\n\");\n",
    "    printf(\"Enter the first operand: \");\n",
    "    scanf(\"%f\", &a);\n",
    "    printf(\"Enter the second operand: \");\n",
    "    scanf(\"%f\", &b);\n",
    "    printf(\"%f × %f = %f\\n\", a, b, a * b);\n",
    "}"
   ]
  },
  {
   "cell_type": "markdown",
   "metadata": {
    "slideshow": {
     "slide_type": "slide"
    }
   },
   "source": [
    "## Créer une fonction\n",
    "\n",
    "Comme vu rapidement avec `main`, une fonction C a obligatoirement un type de retour.\n",
    "\n",
    "Chacun de ses arguments doit également être typé.\n",
    "\n",
    "Par exemple, une fonction calculant la longueur d’hypothénuse d’un triangle rectangle :"
   ]
  },
  {
   "cell_type": "code",
   "execution_count": 5,
   "metadata": {},
   "outputs": [
    {
     "name": "stdout",
     "output_type": "stream",
     "text": [
      "90.138779\n"
     ]
    }
   ],
   "source": [
    "//%cflags: -lm\n",
    "\n",
    "#include \"math.h\"\n",
    "#include \"stdio.h\"\n",
    "\n",
    "float hypotenuse(float adjacent, float opposite) {\n",
    "    return sqrt(adjacent*adjacent + opposite*opposite);\n",
    "}\n",
    "\n",
    "int main() {\n",
    "    printf(\"%f\\n\", hypotenuse(50, 75));\n",
    "}"
   ]
  },
  {
   "cell_type": "markdown",
   "metadata": {
    "slideshow": {
     "slide_type": "slide"
    }
   },
   "source": [
    "## Lier des librairies compilées\n",
    "\n",
    "Dans l’exemple précédent, le `//%cflags: -lm` me permet d’ajouter des arguments à `gcc`. Ne le recopiez pas dans la source, mais servez-vous en pour compiler.\n",
    "\n",
    "Lors de ce cours, `//%cflags:` sera utilisé uniquement pour ajouter lier des librairies au programme, de sorte que cela fonctionne. Ici, on lie la librairie `math` dont la version compilée est `m` en faisant `-lm`. Pour lier OpenGL, on utilise `-lGL`.\n",
    "\n",
    "Dans cet exemple, on compile en faisant :\n",
    "\n",
    "`gcc hypotenuse.c -lm -o hypotenuse`\n",
    "\n",
    "**Attention !** L’ordre des arguments est important, il faut toujours mettre **après** la source les arguments `-l…`.\n",
    "\n",
    "Puis on se sert du programme normalement :\n",
    "\n",
    "`./hypotenuse`"
   ]
  },
  {
   "cell_type": "markdown",
   "metadata": {
    "slideshow": {
     "slide_type": "subslide"
    }
   },
   "source": [
    "### Exercice 12\n",
    "\n",
    "Créer une fonction calculant pour tout $n$, $\\sqrt[\\leftroot{-2}\\uproot{2}5]{n}$.\n",
    "\n",
    "Pour rappel, $\\sqrt[\\leftroot{-2}\\uproot{2}i]{n} ⇔ n^\\frac{1}{i}$.\n",
    "\n",
    "Se servir de cette fonction pour calculer $\\sqrt[\\leftroot{-2}\\uproot{2}5]{5}$, $\\sqrt[\\leftroot{-2}\\uproot{2}5]{32}$ et $\\sqrt[\\leftroot{-2}\\uproot{2}5]{243}$."
   ]
  },
  {
   "cell_type": "markdown",
   "metadata": {
    "slideshow": {
     "slide_type": "slide"
    }
   },
   "source": [
    "## Retour sur la fonction `main`\n",
    "\n",
    "La fonction `main` a toujours eu le type de retour `int` jusqu’à présent.\n",
    "Étrange étant donné qu’on en renvoie rien ! On devrait plutôt avoir ceci, non ?"
   ]
  },
  {
   "cell_type": "code",
   "execution_count": null,
   "metadata": {},
   "outputs": [],
   "source": [
    "void main() {}"
   ]
  },
  {
   "cell_type": "markdown",
   "metadata": {},
   "source": [
    "Pourtant on constate que le programme renvoie une erreur 202, bizarre, non ?\n",
    "\n",
    "En fait, `main` renvoie le **code de retour** (=**return code**) du programme.\n",
    "\n",
    "Le *return code* permet de préciser une erreur, qui va interrompre un script par exemple.\n",
    "\n",
    "Le code pour une absence d’erreur est 0. C’est le code par défaut.\n",
    "\n",
    "Exemple d’erreur :"
   ]
  },
  {
   "cell_type": "code",
   "execution_count": 6,
   "metadata": {},
   "outputs": [
    {
     "name": "stderr",
     "output_type": "stream",
     "text": [
      "[C kernel] Executable exited with code 1"
     ]
    }
   ],
   "source": [
    "int main() {\n",
    "    return 1;\n",
    "}"
   ]
  },
  {
   "cell_type": "markdown",
   "metadata": {
    "slideshow": {
     "slide_type": "subslide"
    }
   },
   "source": [
    "### Exercice 13\n",
    "\n",
    "Demander à l’utilisateur quel _return code_ renvoyer.\n",
    "\n",
    "Attention, c’est juste pour l’exercice. Il est inadapté de demander explicitement un code de retour à l’utilisateur dans la vie de tous les jours."
   ]
  },
  {
   "cell_type": "markdown",
   "metadata": {
    "slideshow": {
     "slide_type": "slide"
    }
   },
   "source": [
    "## Conditions\n",
    "\n",
    "Comme dans tous les autres langages, sans surprise, C propose des `if`s et `else` :"
   ]
  },
  {
   "cell_type": "code",
   "execution_count": 7,
   "metadata": {},
   "outputs": [
    {
     "name": "stderr",
     "output_type": "stream",
     "text": [
      "[C kernel] Executable exited with code 3"
     ]
    }
   ],
   "source": [
    "int main() {\n",
    "    int i = 3, return_code = 0;\n",
    "    if (i == 2) {\n",
    "        return_code = 1;\n",
    "    } else if (i == 5) {\n",
    "        return_code = 2;\n",
    "    } else {\n",
    "        return_code = 3;\n",
    "    }\n",
    "    return return_code;\n",
    "}"
   ]
  },
  {
   "cell_type": "markdown",
   "metadata": {
    "slideshow": {
     "slide_type": "subslide"
    }
   },
   "source": [
    "### Exercice 14\n",
    "\n",
    "Écrire une petite calculatrice gérant les opérations `+`, `-`, `×` et `÷`.\n",
    "\n",
    "L’utilisateur doit d’abord saisir un premier nombre à virgule, puis un opérateur, puis un autre nombre.\n",
    "\n",
    "Selon ces trois paramètres, le programme doit correctement renvoyer le résultat de l’opération, sinon afficher un message d’erreur et quitter avec le _return code_ adapté lorsque les données sont invalides.\n",
    "\n",
    "Exemple d’entrée/sortie :\n",
    "```\n",
    "28\n",
    "*\n",
    "2\n",
    "= 56\n",
    "```\n",
    "ou\n",
    "```\n",
    "7+13\n",
    "= 20\n",
    "```"
   ]
  },
  {
   "cell_type": "code",
   "execution_count": null,
   "metadata": {
    "slideshow": {
     "slide_type": "skip"
    }
   },
   "outputs": [],
   "source": [
    "// Exercice 14\n",
    "\n",
    "#include \"stdio.h\"\n",
    "\n",
    "#include \"stdio.h\"\n",
    "\n",
    "int main() {\n",
    "    int n;\n",
    "    float a, b, result;\n",
    "    char operator;\n",
    "\n",
    "    n = scanf(\"%f %c %f\", &a, &operator, &b);\n",
    "    // Consumes extra input characters\n",
    "    while (getchar() != '\\n') {}\n",
    "\n",
    "    if (n < 3) {\n",
    "        fprintf(stderr, \"Invalid first operand (%f), operator (%c)\"\n",
    "                        \" or second operand (%f).\\n\", a, operator, b);\n",
    "        return 1;\n",
    "    }\n",
    "\n",
    "    if (operator == '+') {\n",
    "        result = a + b;\n",
    "    } else if (operator == '-') {\n",
    "        result = a - b;\n",
    "    } else if (operator == '*') {\n",
    "        result = a * b;\n",
    "    } else if (operator == '/') {\n",
    "        result = a / b;\n",
    "    } else {\n",
    "        fprintf(stderr, \"Invalid operator %c.\\n\", operator);\n",
    "        return 1;\n",
    "    }\n",
    "\n",
    "    printf(\"= %f\\n\", result);\n",
    "}"
   ]
  },
  {
   "cell_type": "markdown",
   "metadata": {
    "slideshow": {
     "slide_type": "slide"
    }
   },
   "source": [
    "## Boucle `while`\n",
    "\n",
    "La boucle `while` exécute le même ensemble d’instructions **tant que** sa condition est vraie (**while** en anglais)."
   ]
  },
  {
   "cell_type": "code",
   "execution_count": null,
   "metadata": {},
   "outputs": [],
   "source": [
    "#include \"stdio.h\"\n",
    "\n",
    "int main() {\n",
    "    char answer;\n",
    "    while (answer != 'y') {\n",
    "        puts(\"Processing…\");\n",
    "        puts(\"Would you like to quit? [yN]\");\n",
    "        answer = getchar();\n",
    "    }\n",
    "}"
   ]
  },
  {
   "cell_type": "markdown",
   "metadata": {},
   "source": [
    "Une variante de la boucle `while` existe, le `do`…`while`. Il vérifie la condition à la fin de la boucle au lieu du début :"
   ]
  },
  {
   "cell_type": "code",
   "execution_count": null,
   "metadata": {},
   "outputs": [],
   "source": [
    "#include \"stdio.h\"\n",
    "\n",
    "int main() {\n",
    "    do {\n",
    "        puts(\"Processing…\");\n",
    "        puts(\"Would you like to quit? [yN]\");\n",
    "    } while (getchar() != 'y');\n",
    "}"
   ]
  },
  {
   "cell_type": "markdown",
   "metadata": {
    "slideshow": {
     "slide_type": "subslide"
    }
   },
   "source": [
    "### Exercice 15\n",
    "\n",
    "Améliorer la calculatrice pour qu’elle demande en boucle des calculs à l’utilisateur.\n",
    "\n",
    "Le résultat précédent doit toujours être utilisé comme premier opérande de l’opération suivante.\n",
    "\n",
    "Créer une fonction contenant la logique d’opération pour simplifier la lisibilité.\n",
    "\n",
    "Exemple d’entrée/sortie :\n",
    "\n",
    "```\n",
    "7\n",
    "+\n",
    "23\n",
    "= 30.000000\n",
    "/3\n",
    "= 10.000000\n",
    "- 8\n",
    "= 2.000000\n",
    "/ 4\n",
    "= 0.500000\n",
    "```"
   ]
  },
  {
   "cell_type": "code",
   "execution_count": null,
   "metadata": {
    "slideshow": {
     "slide_type": "skip"
    }
   },
   "outputs": [],
   "source": [
    "// Exercice 15\n",
    "\n",
    "#include \"stdio.h\"\n",
    "#include \"math.h\"\n",
    "\n",
    "float calculate(float a) {\n",
    "    int n;\n",
    "    float b;\n",
    "    char operator;\n",
    "\n",
    "    // Consumes extra input characters\n",
    "    while (getchar() != ' ') {}\n",
    "    n = scanf(\"%c%f\", &operator, &b);\n",
    "    // Consumes extra input characters\n",
    "    while (getchar() != '\\n') {}\n",
    "\n",
    "    if (n < 2) {\n",
    "        fprintf(stderr, \"Invalid operator (%c) or second operand (%f).\\n\",\n",
    "                operator, b);\n",
    "        return NAN;\n",
    "    }\n",
    "\n",
    "    if (operator == '+') {\n",
    "        return a + b;\n",
    "    } else if (operator == '-') {\n",
    "        return a - b;\n",
    "    } else if (operator == '*') {\n",
    "        return a * b;\n",
    "    } else if (operator == '/') {\n",
    "        return a / b;\n",
    "    }\n",
    "    fprintf(stderr, \"Invalid operator %c.\\n\", operator);\n",
    "    return NAN;\n",
    "}\n",
    "\n",
    "int main() {\n",
    "    float a, result;\n",
    "    int n = scanf(\"%f\", &a);\n",
    "    if (n == 0) {\n",
    "        fprintf(stderr, \"Invalid first operand.\\n\");\n",
    "        return 1;\n",
    "    }\n",
    "    while (1) {\n",
    "        result = calculate(a);\n",
    "        if (isnan(result)) {\n",
    "            return 1;\n",
    "        }\n",
    "        printf(\"= %f\\n\", result);\n",
    "        a = result;\n",
    "    }\n",
    "}"
   ]
  },
  {
   "cell_type": "markdown",
   "metadata": {
    "slideshow": {
     "slide_type": "slide"
    }
   },
   "source": [
    "## Boucle `for`\n",
    "\n",
    "La boucle `for` est adaptée pour **itérer** sur des objets :"
   ]
  },
  {
   "cell_type": "code",
   "execution_count": 8,
   "metadata": {},
   "outputs": [
    {
     "name": "stdout",
     "output_type": "stream",
     "text": [
      "1 2 3 4 5 6 "
     ]
    }
   ],
   "source": [
    "#include \"stdio.h\"\n",
    "\n",
    "int main() {\n",
    "    for (int i = 1; i <= 6; i++) {\n",
    "        printf(\"%i \", i);\n",
    "    }\n",
    "}"
   ]
  },
  {
   "cell_type": "markdown",
   "metadata": {},
   "source": [
    "Elle contient une condition, comme `while`, mais également deux parties supplémentaires :\n",
    "- une instruction lancée avant la première itération, ici `int i = 1`\n",
    "- une instruction lancée à la fin de chaque itération, ici `i++`"
   ]
  },
  {
   "cell_type": "markdown",
   "metadata": {
    "slideshow": {
     "slide_type": "subslide"
    }
   },
   "source": [
    "### Exercice 16\n",
    "\n",
    "Ajouter à la calculatrice la fonction puissance (notée `^`) **sans** utiliser la fonction `pow` de `math.h`."
   ]
  },
  {
   "cell_type": "code",
   "execution_count": null,
   "metadata": {
    "slideshow": {
     "slide_type": "skip"
    }
   },
   "outputs": [],
   "source": [
    "// Exercice 16\n",
    "\n",
    "#include \"stdio.h\"\n",
    "#include \"math.h\"\n",
    "\n",
    "float calculate(float a) {\n",
    "    int n;\n",
    "    float b, result;\n",
    "    char operator;\n",
    "\n",
    "    // Consumes extra input characters\n",
    "    while (getchar() != ' ') {}\n",
    "    n = scanf(\"%c %f\", &operator, &b);\n",
    "    // Consumes extra input characters\n",
    "    while (getchar() != '\\n') {}\n",
    "\n",
    "    if (n < 2) {\n",
    "        fprintf(stderr, \"Invalid operator (%c) or second operand (%f).\\n\",\n",
    "                operator, b);\n",
    "        return NAN;\n",
    "    }\n",
    "\n",
    "    if (operator == '+') {\n",
    "        return a + b;\n",
    "    } else if (operator == '-') {\n",
    "        return a - b;\n",
    "    } else if (operator == '*') {\n",
    "        return a * b;\n",
    "    } else if (operator == '/') {\n",
    "        return a / b;\n",
    "    } else if (operator == '^') {\n",
    "        result = a;\n",
    "        for (int i = 1; i < b; i++) {\n",
    "            result *= a;\n",
    "        }\n",
    "        return result;\n",
    "    }\n",
    "    fprintf(stderr, \"Invalid operator %c.\\n\", operator);\n",
    "    return NAN;\n",
    "}\n",
    "\n",
    "int main() {\n",
    "    float a, result;\n",
    "    int n = scanf(\"%f\", &a);\n",
    "    if (n == 0) {\n",
    "        fprintf(stderr, \"Invalid first operand.\\n\");\n",
    "        return 1;\n",
    "    }\n",
    "    while (1) {\n",
    "        result = calculate(a);\n",
    "        if (isnan(result)) {\n",
    "            return 1;\n",
    "        }\n",
    "        printf(\"= %f\\n\", result);\n",
    "        a = result;\n",
    "    }\n",
    "}"
   ]
  },
  {
   "cell_type": "markdown",
   "metadata": {
    "slideshow": {
     "slide_type": "slide"
    }
   },
   "source": [
    "## Interrompre une boucle\n",
    "\n",
    "Parfois, on a besoin d’arrêter une boucle avant qu’elle ait fini.\n",
    "\n",
    "Pour cela, on utilise le mot-clé `break`.\n",
    "\n",
    "Il est souvent plus facile de faire appel à `break` que d’utiliser `do`…`while`. De même, il est souvent peu adapté de mettre une condition à `while`, car on va avoir besoin de tester une condition non pas au début ou la fin d’une boucle, mais au milieu :"
   ]
  },
  {
   "cell_type": "code",
   "execution_count": null,
   "metadata": {},
   "outputs": [],
   "source": [
    "#include \"stdio.h\"\n",
    "\n",
    "int main() {\n",
    "    while (1) {\n",
    "        puts(\"Would you like to quit? [yN]\");\n",
    "        if (getchar() == 'y') {\n",
    "            break;\n",
    "        }\n",
    "        puts(\"Processing…\");\n",
    "    }\n",
    "}"
   ]
  },
  {
   "cell_type": "markdown",
   "metadata": {},
   "source": [
    "De même, on peut utiliser `break` au cours d’une boucle `for`."
   ]
  },
  {
   "cell_type": "markdown",
   "metadata": {
    "slideshow": {
     "slide_type": "subslide"
    }
   },
   "source": [
    "### Exercice 17\n",
    "\n",
    "Remplacer la puissance « écrite à la main » par la fonction `pow` de `math.h`\n",
    "\n",
    "Arrêter la calculatrice lorsque le résultat d’une opération est un nombre spécial secret.\n",
    "\n",
    "Par exemple, arrêter la calculatrice lorsqu’on atteint 666, 7, un nombre proche de 3.14, 1.618, etc."
   ]
  },
  {
   "cell_type": "code",
   "execution_count": null,
   "metadata": {
    "slideshow": {
     "slide_type": "skip"
    }
   },
   "outputs": [],
   "source": [
    "//%cflags: -lm\n",
    "// Exercice 17\n",
    "\n",
    "#include \"stdio.h\"\n",
    "#include \"math.h\"\n",
    "\n",
    "float calculate(float a) {\n",
    "    int n;\n",
    "    float b;\n",
    "    char operator;\n",
    "\n",
    "    // Consumes extra input characters\n",
    "    while (getchar() != ' ') {}\n",
    "    n = scanf(\"%c%f\", &operator, &b);\n",
    "    // Consumes extra input characters\n",
    "    while (getchar() != '\\n') {}\n",
    "\n",
    "    if (n < 2) {\n",
    "        fprintf(stderr, \"Invalid operator (%c) or second operand (%f).\\n\",\n",
    "                operator, b);\n",
    "        return NAN;\n",
    "    }\n",
    "\n",
    "    if (operator == '+') {\n",
    "        return a + b;\n",
    "    } else if (operator == '-') {\n",
    "        return a - b;\n",
    "    } else if (operator == '*') {\n",
    "        return a * b;\n",
    "    } else if (operator == '/') {\n",
    "        return a / b;\n",
    "    } else if (operator == '^') {\n",
    "        return pow(a, b);\n",
    "    }\n",
    "    fprintf(stderr, \"Invalid operator %c.\\n\", operator);\n",
    "    return NAN;\n",
    "}\n",
    "\n",
    "int main() {\n",
    "    float a, result;\n",
    "    int n = scanf(\"%f\", &a);\n",
    "    if (n == 0) {\n",
    "        fprintf(stderr, \"Invalid first operand.\\n\");\n",
    "        return 1;\n",
    "    }\n",
    "    while (1) {\n",
    "        result = calculate(a);\n",
    "        if (result == 666 || result == 7\n",
    "                || (result >= 3.14 && result < 3.15)\n",
    "                || (result >= 1.618 && result < 1.619)) {\n",
    "            printf(\"Secret goal reached. Exiting.\\n\");\n",
    "            return 0;\n",
    "        } else if (isnan(result)) {\n",
    "            return 1;\n",
    "        }\n",
    "        printf(\"= %f\\n\", result);\n",
    "        a = result;\n",
    "    }\n",
    "}"
   ]
  },
  {
   "cell_type": "markdown",
   "metadata": {
    "slideshow": {
     "slide_type": "slide"
    }
   },
   "source": [
    "## `Switch`…`case`\n",
    "\n",
    "C possède également une manière d’éviter des redondances dans les `if` :"
   ]
  },
  {
   "cell_type": "code",
   "execution_count": 9,
   "metadata": {},
   "outputs": [
    {
     "name": "stderr",
     "output_type": "stream",
     "text": [
      "[C kernel] Executable exited with code 3"
     ]
    }
   ],
   "source": [
    "int main () {\n",
    "    int i = 3, return_code = 0;\n",
    "    switch (i) {\n",
    "        case 2:\n",
    "            return_code = 1;\n",
    "            break;\n",
    "        case 5:\n",
    "            return_code = 2;\n",
    "            break;\n",
    "        default:\n",
    "            return_code = 3;\n",
    "    }\n",
    "    return return_code;\n",
    "}"
   ]
  },
  {
   "cell_type": "markdown",
   "metadata": {},
   "source": [
    "On précise `break` sinon les `case` et `default` suivant un `case` vrai sont également exécutés. Cette fonctionnalité un peu spéciale est parfois utile, mais la plupart du temps il est préférable de « casser » à la fin de chaque case.\n",
    "\n",
    "Malheureusement, comme on le voit, le `switch`…`case` est souvent finalement plus long qu’un ensemble de `if`s.\n",
    "\n",
    "On privilégie souvent les `if`s, mais on utilise des `switch`…`case` lorsqu’on a besoin de l’optimisation de vitesse qu’ils apporteent par rapport aux `if`s. "
   ]
  },
  {
   "cell_type": "markdown",
   "metadata": {
    "slideshow": {
     "slide_type": "subslide"
    }
   },
   "source": [
    "### Exercice 18\n",
    "\n",
    "Réécrire la calculatrice de sorte que les conditions soient remplacées par des `switch`…`case` lorsque que c’est adapté."
   ]
  },
  {
   "cell_type": "code",
   "execution_count": null,
   "metadata": {
    "slideshow": {
     "slide_type": "skip"
    }
   },
   "outputs": [],
   "source": [
    "//%cflags: -lm\n",
    "// Exercice 18\n",
    "\n",
    "#include \"stdio.h\"\n",
    "#include \"math.h\"\n",
    "\n",
    "float calculate(float a) {\n",
    "    int n;\n",
    "    float b;\n",
    "    char operator;\n",
    "\n",
    "    // Consumes extra input characters\n",
    "    while (getchar() != ' ') {}\n",
    "    n = scanf(\"%c%f\", &operator, &b);\n",
    "    // Consumes extra input characters\n",
    "    while (getchar() != '\\n') {}\n",
    "\n",
    "    if (n < 2) {\n",
    "        fprintf(stderr, \"Invalid operator (%c) or second operand (%f).\\n\",\n",
    "                operator, b);\n",
    "        return NAN;\n",
    "    }\n",
    "\n",
    "    switch (operator) {\n",
    "        case '+':\n",
    "            return a + b;\n",
    "        case '-':\n",
    "            return a - b;\n",
    "        case '*':\n",
    "            return a * b;\n",
    "        case '/':\n",
    "            return a / b;\n",
    "        case '^':\n",
    "            return pow(a, b);\n",
    "        default:\n",
    "            fprintf(stderr, \"Invalid operator %c.\\n\", operator);\n",
    "            return NAN;\n",
    "    }\n",
    "}\n",
    "\n",
    "int main() {\n",
    "    float a, result;\n",
    "    int n = scanf(\"%f\", &a);\n",
    "    if (n == 0) {\n",
    "        fprintf(stderr, \"Invalid first operand.\\n\");\n",
    "        return 1;\n",
    "    }\n",
    "    while (1) {\n",
    "        result = calculate(a);\n",
    "        if (result == 666 || result == 7\n",
    "                || (result >= 3.14 && result < 3.15)\n",
    "                || (result >= 1.618 && result < 1.619)) {\n",
    "            printf(\"Secret goal reached. Exiting.\\n\");\n",
    "            return 0;\n",
    "        } else if (isnan(result)) {\n",
    "            return 1;\n",
    "        }\n",
    "        printf(\"= %f\\n\", result);\n",
    "        a = result;\n",
    "    }\n",
    "}"
   ]
  },
  {
   "cell_type": "markdown",
   "metadata": {
    "slideshow": {
     "slide_type": "slide"
    }
   },
   "source": [
    "## Tableaux\n",
    "\n",
    "En C, un tableau est un succession de données du même type.\n",
    "\n",
    "Un tableau a toujours une taille fixe qui doit être écrite explicitement dans le code.\n",
    "\n",
    "Pour définir un tableau de 20 nombres entiers :"
   ]
  },
  {
   "cell_type": "code",
   "execution_count": null,
   "metadata": {},
   "outputs": [],
   "source": [
    "int ages[20];"
   ]
  },
  {
   "cell_type": "markdown",
   "metadata": {},
   "source": [
    "Pour assigner directement un tableau :"
   ]
  },
  {
   "cell_type": "code",
   "execution_count": null,
   "metadata": {},
   "outputs": [],
   "source": [
    "int ages[6] = {8, 57, 32, 12, 26, 22};"
   ]
  },
  {
   "cell_type": "markdown",
   "metadata": {},
   "source": [
    "Pour obtenir un élément à un index particulier (noter qu’on commence à 0 et non à 1) :"
   ]
  },
  {
   "cell_type": "code",
   "execution_count": null,
   "metadata": {},
   "outputs": [],
   "source": [
    "ages[0];"
   ]
  },
  {
   "cell_type": "markdown",
   "metadata": {},
   "source": [
    "Pour réassigner un élément :"
   ]
  },
  {
   "cell_type": "code",
   "execution_count": null,
   "metadata": {},
   "outputs": [],
   "source": [
    "ages[0] = 9;"
   ]
  },
  {
   "cell_type": "markdown",
   "metadata": {
    "slideshow": {
     "slide_type": "subslide"
    }
   },
   "source": [
    "### Exercice 19\n",
    "\n",
    "Écrire un programme permettant de faire les comptes.\n",
    "\n",
    "L’utilisateur saisira jusqu’à 100 nombres à virgule jusqu’à ce qu’il ne saississe plus qu’une phrase avec des espaces, comme “End of month”.\n",
    "\n",
    "Le programme affichera alors un tableau listant toutes les opérations avec le solde du compte après chaque opération.\n",
    "\n",
    "Exemple d’entrée/sortie :\n",
    "\n",
    "```\n",
    "857.32\n",
    "1500\n",
    "-500\n",
    "-3\n",
    "-20\n",
    "End of month\n",
    "┏━━━━━━━━━┳━━━━━━━━━━━━━━━━━┓\n",
    "┃  Amount ┃ Account balance ┃\n",
    "┡━━━━━━━━━╇━━━━━━━━━━━━━━━━━┩\n",
    "│  857.32 │          857.32 │\n",
    "│ 1500.00 │         2357.32 │\n",
    "│ -500.00 │         1857.32 │\n",
    "│   -3.00 │         1854.32 │\n",
    "│  -20.00 │         1834.32 │\n",
    "└─────────┴─────────────────┘\n",
    "```"
   ]
  },
  {
   "cell_type": "code",
   "execution_count": null,
   "metadata": {
    "slideshow": {
     "slide_type": "skip"
    }
   },
   "outputs": [],
   "source": [
    "// Exercice 19\n",
    "\n",
    "#include \"stdio.h\"\n",
    "#include \"string.h\"\n",
    "\n",
    "void main() {\n",
    "    int size;\n",
    "    float operations_amounts[100];\n",
    "    float amount;\n",
    "    for (size = 0; size < 100; size++) {\n",
    "        int n_parsed = scanf(\"%f\", &amount);\n",
    "        if (n_parsed < 1) {\n",
    "            break;\n",
    "        }\n",
    "        operations_amounts[size] = amount;\n",
    "    }\n",
    "    printf(\"┏━━━━━━━━━━━━┳━━━━━━━━━━━━━━━━━┓\\n\");\n",
    "\n",
    "    printf(\"\\033[1m\");  // Changes the text to bold.\n",
    "    printf(\"┃ %10s ┃ %15s ┃\\n\",\n",
    "           \"Amount\", \"Account balance\");\n",
    "    printf(\"\\033[0m\");  // Resets text to normal weight.\n",
    "    printf(\"┡━━━━━━━━━━━━╇━━━━━━━━━━━━━━━━━┩\\n\");\n",
    "    float total = 0;\n",
    "    for (int i = 0; i < size; i++) {\n",
    "        amount = operations_amounts[i];\n",
    "        total += amount;\n",
    "        printf(\"│ %10.2f │ %15.2f │\\n\", amount, total);\n",
    "    }\n",
    "    printf(\"└────────────┴─────────────────┘\\n\");\n",
    "}"
   ]
  },
  {
   "cell_type": "markdown",
   "metadata": {
    "slideshow": {
     "slide_type": "slide"
    }
   },
   "source": [
    "## Chaîne de caractères\n",
    "\n",
    "En C, la chaîne de caractères n’existe pas vraiment en tant que telle.\n",
    "\n",
    "Il s’agit en réalité d’un tableau contenant un caractère par case.\n",
    "\n",
    "À la fin du tableau, une case additionelle contient le caractère spécial `\\0`, marquant la fin de la chaîne de caractères."
   ]
  },
  {
   "cell_type": "code",
   "execution_count": null,
   "metadata": {},
   "outputs": [],
   "source": [
    "char name[60] = \"Bonjour !\";"
   ]
  },
  {
   "cell_type": "markdown",
   "metadata": {},
   "source": [
    "Ici, le tableau contient donc :\n",
    "\n",
    "0 | 1 | 2 | 3 | 4 | 5 | 6 | 7 | 8 | 9\n",
    "- | - | - | - | - | - | - | - | - | -\n",
    "`B` | `o` | `n` | `j` | `o` | `u` | `r` | <code>&nbsp;</code> | `!` | `\\0`\n",
    "\n",
    "De la 11<sup>e</sup> à la 60<sup>e</sup> case, le tableau contient bien des valeurs, mais elles sont semi-aléatoires.\n",
    "\n",
    "Dans cette variable `name`, on pourra donc définir à nouveau une valeur, tant que sa longueur n’excède pas 60 octets.\n",
    "\n",
    "À noter : la librairie `string.h` contient de nombreuses fonctionalités utiles pour nous faciliter la vie.\n",
    "Les plus intéressantes pour tout de suite sont `strlen` et `strcpy`."
   ]
  },
  {
   "cell_type": "markdown",
   "metadata": {
    "slideshow": {
     "slide_type": "subslide"
    }
   },
   "source": [
    "### Exercice 20\n",
    "\n",
    "Améliorer le programme de comptes pour pouvoir gérer la description de l’opération.\n",
    "\n",
    "Désormais, l’utilisateur saisira des descriptions d’opérations bancaires suivis de nombres à virgule jusqu’à ce qu’il ne saississe plus qu’une phrase avec des espaces, comme “End of month”.\n",
    "\n",
    "Exemple d’entrée/sortie :\n",
    "\n",
    "```\n",
    "Solde 857.32\n",
    "Salaire 1500\n",
    "Loyer -500\n",
    "Chips -3\n",
    "Disque -20\n",
    "End of month\n",
    "┏━━━━━━━━━━━━━━━━━━━━━━┳━━━━━━━━━┳━━━━━━━━━━━━━━━━━┓\n",
    "┃          Description ┃  Amount ┃ Account balance ┃\n",
    "┡━━━━━━━━━━━━━━━━━━━━━━╇━━━━━━━━━╇━━━━━━━━━━━━━━━━━┩\n",
    "│                Solde │  857.32 │          857.32 │\n",
    "│              Salaire │ 1500.00 │         2357.32 │\n",
    "│                Loyer │ -500.00 │         1857.32 │\n",
    "│                Chips │   -3.00 │         1854.32 │\n",
    "│               Disque │  -20.00 │         1834.32 │\n",
    "└──────────────────────┴─────────┴─────────────────┘\n",
    "```"
   ]
  },
  {
   "cell_type": "code",
   "execution_count": null,
   "metadata": {
    "slideshow": {
     "slide_type": "skip"
    }
   },
   "outputs": [],
   "source": [
    "// Exercice 20\n",
    "\n",
    "#include \"stdio.h\"\n",
    "#include \"string.h\"\n",
    "\n",
    "void main() {\n",
    "    int size;\n",
    "    char operations_names[100][20];\n",
    "    float operations_amounts[100];\n",
    "    char name[20];\n",
    "    float amount;\n",
    "    for (size = 0; size < 100; size++) {\n",
    "        int n_parsed = scanf(\"%s %f\", name, &amount);\n",
    "        if (n_parsed < 2) {\n",
    "            break;\n",
    "        }\n",
    "        strcpy(operations_names[size], name);\n",
    "        operations_amounts[size] = amount;\n",
    "    }\n",
    "    printf(\"┏━━━━━━━━━━━━━━━━━━━━━━┳━━━━━━━━━━━━┳━━━━━━━━━━━━━━━━━┓\\n\");\n",
    "\n",
    "    printf(\"\\033[1m\");  // Changes the text to bold.\n",
    "    printf(\"┃ %20s ┃ %10s ┃ %15s ┃\\n\",\n",
    "           \"Description\", \"Amount\", \"Account balance\");\n",
    "    printf(\"\\033[0m\");  // Resets text to normal weight.\n",
    "    printf(\"┡━━━━━━━━━━━━━━━━━━━━━━╇━━━━━━━━━━━━╇━━━━━━━━━━━━━━━━━┩\\n\");\n",
    "    float total = 0;\n",
    "    for (int i = 0; i < size; i++) {\n",
    "        strcpy(name, operations_names[i]);\n",
    "        amount = operations_amounts[i];\n",
    "        total += amount;\n",
    "        printf(\"│ %20s │ %10.2f │ %15.2f │\\n\", name, amount, total);\n",
    "    }\n",
    "    printf(\"└──────────────────────┴────────────┴─────────────────┘\\n\");\n",
    "}"
   ]
  },
  {
   "cell_type": "markdown",
   "metadata": {
    "slideshow": {
     "slide_type": "slide"
    }
   },
   "source": [
    "## Tableaux à 2, 3, 4, … dimensions\n",
    "\n",
    "Jusqu’à présent, on a fait des tableaux à une dimension.\n",
    "\n",
    "Pour ajouter des dimensions, il suffit d’utiliser d’ajouter de nouvelles paires de crochets :"
   ]
  },
  {
   "cell_type": "code",
   "execution_count": null,
   "metadata": {},
   "outputs": [],
   "source": [
    "unsigned short goban[19][19];"
   ]
  },
  {
   "cell_type": "markdown",
   "metadata": {},
   "source": [
    "Ici, on a créé un plateau de jeu de go (dit goban) de 19 cases de côté, soit 361 cases.\n",
    "\n",
    "Pour dire que le joueur 1 pose une pierre en C12, on fait :"
   ]
  },
  {
   "cell_type": "code",
   "execution_count": null,
   "metadata": {},
   "outputs": [],
   "source": [
    "goban[2][11] = 1;"
   ]
  },
  {
   "cell_type": "markdown",
   "metadata": {},
   "source": [
    "Pour savoir s’il y a une pierre posée en H4, on fait appel à :"
   ]
  },
  {
   "cell_type": "code",
   "execution_count": null,
   "metadata": {},
   "outputs": [],
   "source": [
    "goban[7][3];"
   ]
  },
  {
   "cell_type": "markdown",
   "metadata": {
    "slideshow": {
     "slide_type": "subslide"
    }
   },
   "source": [
    "### Exercice 21\n",
    "\n",
    "Écrire un programme de tic-tac-toe. La plateau de jeu est affiché à nouveau à chaque tour. On demande tour à tour aux joueurs les coordonnées de là où ils veulent jouer. Bien entendu, le jeu doit s’arrêter dès qu’un joueur a gagné, et on doit empêcher les joueurs de tricher.\n",
    "\n",
    "Exemple d’entrée/sortie :\n",
    "```\n",
    "    A   B   C\n",
    "  ┌───┬───┬───┐\n",
    "1 │   │   │   │\n",
    "  ├───┼───┼───┤\n",
    "2 │   │   │   │\n",
    "  ├───┼───┼───┤\n",
    "3 │   │   │   │\n",
    "  └───┴───┴───┘\n",
    "\n",
    "Player X? B2\n",
    "\n",
    "    A   B   C\n",
    "  ┌───┬───┬───┐\n",
    "1 │   │   │   │\n",
    "  ├───┼───┼───┤\n",
    "2 │   │ X │   │\n",
    "  ├───┼───┼───┤\n",
    "3 │   │   │   │\n",
    "  └───┴───┴───┘\n",
    "\n",
    "Player O? C1\n",
    "\n",
    "    A   B   C\n",
    "  ┌───┬───┬───┐\n",
    "1 │   │   │ O │\n",
    "  ├───┼───┼───┤\n",
    "2 │   │ X │   │\n",
    "  ├───┼───┼───┤\n",
    "3 │   │   │   │\n",
    "  └───┴───┴───┘\n",
    "```"
   ]
  },
  {
   "cell_type": "code",
   "execution_count": null,
   "metadata": {
    "slideshow": {
     "slide_type": "skip"
    }
   },
   "outputs": [],
   "source": [
    "// Exercice 21\n",
    "\n",
    "#include \"stdio.h\"\n",
    "\n",
    "char board[3][3] = {{' ', ' ', ' '},\n",
    "                    {' ', ' ', ' '},\n",
    "                    {' ', ' ', ' '}};\n",
    "\n",
    "void display() {\n",
    "    printf(\"    A   B   C\\n\");\n",
    "    printf(\"  ┌───┬───┬───┐\\n\");\n",
    "    printf(\"1 │ %c │ %c │ %c │\\n\",\n",
    "           board[0][0], board[0][1], board[0][2]);\n",
    "    printf(\"  ├───┼───┼───┤\\n\");\n",
    "    printf(\"2 │ %c │ %c │ %c │\\n\",\n",
    "           board[1][0], board[1][1], board[1][2]);\n",
    "    printf(\"  ├───┼───┼───┤\\n\");\n",
    "    printf(\"3 │ %c │ %c │ %c │\\n\",\n",
    "           board[2][0], board[2][1], board[2][2]);\n",
    "    printf(\"  └───┴───┴───┘\\n\");\n",
    "}\n",
    "\n",
    "\n",
    "char get_winner() {\n",
    "    char player;\n",
    "    // Checks rows.\n",
    "    for (int row = 0; row < 3; row++) {\n",
    "        player = board[row][0];\n",
    "        if (player != ' ' && board[row][1] == player && board[row][2] == player) {\n",
    "            return player;\n",
    "        }\n",
    "    }\n",
    "    // Checks columns.\n",
    "    for (int col = 0; col < 3; col++) {\n",
    "        player = board[0][col];\n",
    "        if (player != ' ' && board[1][col] == player && board[2][col] == player) {\n",
    "            return player;\n",
    "        }\n",
    "    }\n",
    "    // Checks diagonals.\n",
    "    player = board[1][1];\n",
    "    if (player != ' ') {\n",
    "        if ((board[0][0] == player && board[2][2] == player)\n",
    "                || (board[0][2] == player && board[2][0] == player)) {\n",
    "            return player;\n",
    "        }\n",
    "    }\n",
    "    return ' ';\n",
    "}\n",
    "\n",
    "\n",
    "void ask_for_input(char player) {\n",
    "    int n_parsed;\n",
    "    unsigned char col, row;\n",
    "    while (1) {\n",
    "        printf(\"Player %c? \", player);\n",
    "        n_parsed = scanf(\"%c%hhu\", &col, &row);\n",
    "        // Consumes extra input characters\n",
    "        while (getchar() != '\\n') {}\n",
    "\n",
    "        if (n_parsed == 2) {\n",
    "            col -= 65;  // Converts to a number between 0 and 2.\n",
    "            row -= 1;   // Converts to a number between 0 and 2.\n",
    "            if (col < 3 && row < 3 && board[row][col] == ' ') {\n",
    "                break;\n",
    "            }\n",
    "        }\n",
    "        printf(\"Invalid choice\\n\");\n",
    "    }\n",
    "    board[row][col] = player;\n",
    "}\n",
    "\n",
    "\n",
    "int main() {\n",
    "    char player = 'X';\n",
    "    while (1) {\n",
    "        display();\n",
    "        ask_for_input(player);\n",
    "        char winner = get_winner();\n",
    "        if (winner != ' ') {\n",
    "            display();\n",
    "            printf(\"%c won!\\n\", winner);\n",
    "            break;\n",
    "        }\n",
    "        // Ternary operator, equivalent to `if … else`.\n",
    "        player = player == 'X' ? 'O': 'X';\n",
    "    }\n",
    "}"
   ]
  },
  {
   "cell_type": "markdown",
   "metadata": {
    "slideshow": {
     "slide_type": "slide"
    }
   },
   "source": [
    "## _Type casting_\n",
    "\n",
    "Pour passer d’un type à un autre, on utilise du _type casting_.\n",
    "Pour cela, on précise avant une valeur le type souhaité entre parenthèses :"
   ]
  },
  {
   "cell_type": "code",
   "execution_count": 10,
   "metadata": {},
   "outputs": [
    {
     "name": "stdout",
     "output_type": "stream",
     "text": [
      "-106 150 -106 -106.000000"
     ]
    }
   ],
   "source": [
    "#include \"stdio.h\"\n",
    "\n",
    "int main() {\n",
    "    int age = -106;\n",
    "    printf(\"%i %i %li %f\",\n",
    "           (char)age, (unsigned char)age, (long)age, (float)age);\n",
    "}"
   ]
  },
  {
   "cell_type": "markdown",
   "metadata": {},
   "source": [
    "Notez que cela ne transforme pas les données stockées dans la RAM, mais bien la manière dont elles sont interprétées.\n",
    "\n",
    "Ainsi, `-106` en `int` est représenté `FFFFFF96`. En castant en `char`, on conserve juste le dernier octet, `96`. En `signed char`, `96` correspond à `-106`, mais en `unsigned char` il correspond à `150`.\n",
    "\n",
    "Attention donc, le _type casting_ n’est pas exactement une conversion, mais plutôt une interprétation différente de la même donnée."
   ]
  },
  {
   "cell_type": "markdown",
   "metadata": {
    "slideshow": {
     "slide_type": "subslide"
    }
   },
   "source": [
    "### Exercice 22\n",
    "\n",
    "Écrire un programme affichant le résultat de la division de deux nombres entiers demandés à l’utilisateur.\n",
    "Constater le problème et corriger **sans** demander des `float` à l’utilisateur."
   ]
  },
  {
   "cell_type": "markdown",
   "metadata": {
    "slideshow": {
     "slide_type": "slide"
    }
   },
   "source": [
    "## Pointeurs\n",
    "\n",
    "Problème majeur avec les tableaux : ils ont une taille fixe. Au quotidien, on a sans arrêt besoin de lister des quantités indéterminées de données. Les pointeurs permettent de faire des **tableaux de taille dynamique**.\n",
    "\n",
    "Les pointeurs sont un peu complexes à appréhender, mais il est primordial de les comprendre, ils sont omniprésents en C.\n",
    "\n",
    "### Pointer vers une variable\n",
    "\n",
    "Un pointeur est en réalité une adresse de la RAM. à cette adresse seront stockées les données qui nous intéressent. Le `&` vu lors du `scanf` permet d’aller chercher l’adresse mémoire d’une variable, et ainsi de créer un pointeur. Par exemple :"
   ]
  },
  {
   "cell_type": "code",
   "execution_count": 11,
   "metadata": {},
   "outputs": [
    {
     "name": "stdout",
     "output_type": "stream",
     "text": [
      "Mon âge, à l’adresse mémoire 140731546071708, est 28.\n",
      "Joyeux anniversaire ! 29 ans déjà.\n"
     ]
    }
   ],
   "source": [
    "#include \"stdio.h\"\n",
    "\n",
    "int main() {\n",
    "    int age = 28;\n",
    "    int* age_pointer = &age;\n",
    "    printf(\"Mon âge, à l’adresse mémoire %lu, est %i.\\n\",\n",
    "           (unsigned long)age_pointer, age_pointer[0]);\n",
    "    age_pointer[0] = 29;\n",
    "    printf(\"Joyeux anniversaire ! %i ans déjà.\\n\", age_pointer[0]);\n",
    "}"
   ]
  },
  {
   "cell_type": "markdown",
   "metadata": {
    "slideshow": {
     "slide_type": "slide"
    }
   },
   "source": [
    "## Pointeurs (suite)\n",
    "\n",
    "### Pointer vers une variable : explications\n",
    "\n",
    "Beaucoup de choses dans l’exemple :\n",
    "- `&age` permet d’obtenir l’adresse en RAM de la variable `age`\n",
    "- `int*` est le type d’une adresse en RAM de variable `int`\n",
    "- `age_pointer` contient donc l’adresse en RAM de `age` : comme cela « pointe » vers `age`, on dit que cette variable est un pointeur\n",
    "- on caste `age_pointer` en `unsigned long` pour pouvoir afficher quelle est l’adresse mémoire : en effet, un pointeur est lui-même stocké sous forme d’une adresse de 8 octets, permettant ainsi de le caster directement en `unsigned long`\n",
    "- `age_pointer[0]` permet d’obtenir la donnée stockée à l’adresse mémoire stockée dans `age_pointer` : ici, c’est donc la valeur de `age` puisqu’`age_pointer` pointe à l’adresse de `age`."
   ]
  },
  {
   "cell_type": "markdown",
   "metadata": {
    "slideshow": {
     "slide_type": "subslide"
    }
   },
   "source": [
    "### Exercice 23\n",
    "\n",
    "Créer une fonction prenant en paramètre un pointeur de nombre à virgule et renvoyant ce nombre divisé par 3.\n",
    "\n",
    "Dans `main`, utiliser cette fonction sur un nombre à virgule saisi par l’utilisateur."
   ]
  },
  {
   "cell_type": "code",
   "execution_count": null,
   "metadata": {
    "slideshow": {
     "slide_type": "skip"
    }
   },
   "outputs": [],
   "source": [
    "// Exercice 23\n",
    "\n",
    "#include <stdio.h>\n",
    "\n",
    "float divide(float* number) {\n",
    "    return number[0] / 3;\n",
    "}\n",
    "\n",
    "int main() {\n",
    "    float number;\n",
    "    scanf(\"%f\", &number);\n",
    "    printf(\"%f\\n\", divide(&number));\n",
    "}"
   ]
  },
  {
   "cell_type": "markdown",
   "metadata": {
    "slideshow": {
     "slide_type": "slide"
    }
   },
   "source": [
    "## Pointeurs (suite)\n",
    "\n",
    "### Pointer vers un tableau\n",
    "\n",
    "Pointer vers un tableau existant fonctionne comme précédemment, mais on peut demander des indices différents de 0 :"
   ]
  },
  {
   "cell_type": "code",
   "execution_count": 12,
   "metadata": {},
   "outputs": [
    {
     "name": "stdout",
     "output_type": "stream",
     "text": [
      "Bd Bordage"
     ]
    }
   ],
   "source": [
    "#include \"stdio.h\"\n",
    "\n",
    "int main() {\n",
    "    char name[50] = \"Bertrand Bordage\";\n",
    "    char* name_pointer = name;\n",
    "    printf(\"%c%c %s\", name_pointer[0], name_pointer[7], &name_pointer[9]);\n",
    "}"
   ]
  },
  {
   "cell_type": "markdown",
   "metadata": {},
   "source": [
    "Quelques explications s’imposent encore."
   ]
  },
  {
   "cell_type": "markdown",
   "metadata": {
    "slideshow": {
     "slide_type": "slide"
    }
   },
   "source": [
    "## Pointeurs (suite)\n",
    "\n",
    "### Pointer vers un tableau : explications\n",
    "\n",
    "Dans l’exemple précédent, on a utilisé à nouveau les mêmes notations, mais elles peuvent paraître incohérentes par rapport à précédemment. Pourtant tout est logique, voilà les raisons :\n",
    "- On créé `name_pointer` sans utiliser `name` : c’est parce que `name` n’est pas un `char` mais un tableau de char, ce qui est un concept proche du pointeur, mais avec une taille fixe. Cette proximité permet de créer un pointeur directement à partir d’un tableau, sans `&`.\n",
    "- `name_pointer[0]` correspond à la première lettre du tableau, et non au tableau lui-même : le pointeur est en fait une autre façon d’utiliser le tableau. L’adresse du pointeur est l’adresse de la première case du tableau, c’est pourquoi on ne fait pas `name_pointer[0][0]` pour obtenir la première lettre.\n",
    "- `&name_pointer[9]` permet d’aller chercher la référence de la dixième case du tableau, et donc de créer un pointeur commençant à `Bordage`. Le `%s` du format permet d’afficher une chaîne de caractères, donc il affiche les caractères commençant à l’index 9 jusqu’à rencontrer `\\0`."
   ]
  },
  {
   "cell_type": "markdown",
   "metadata": {
    "slideshow": {
     "slide_type": "subslide"
    }
   },
   "source": [
    "### Exercice 24\n",
    "\n",
    "Écrire une fonction `string_length` renvoyant la longueur d’une chaîne de caractères passée en argument sous la forme de pointeur.\n",
    "\n",
    "Interdiction bien sûr d’utiliser `strlen` de `string.h`.\n",
    "\n",
    "Utiliser cette fonction pour afficher la longueur d’une chaîne saisie par un utilisateur, pouvant aller jusqu’à 10000 caractères."
   ]
  },
  {
   "cell_type": "code",
   "execution_count": null,
   "metadata": {
    "slideshow": {
     "slide_type": "skip"
    }
   },
   "outputs": [],
   "source": [
    "// Exercice 24\n",
    "\n",
    "#include \"stdio.h\"\n",
    "\n",
    "unsigned int string_length(char* data) {\n",
    "    unsigned int i = 0;\n",
    "    while (data[i] != '\\0') {\n",
    "        i++;\n",
    "    }\n",
    "    return i;\n",
    "}\n",
    "\n",
    "int main() {\n",
    "    char data[10000];\n",
    "    scanf(\"%s\", data);\n",
    "    printf(\"%i\\n\", string_length(data));\n",
    "}"
   ]
  },
  {
   "cell_type": "markdown",
   "metadata": {
    "slideshow": {
     "slide_type": "slide"
    }
   },
   "source": [
    "## Pointeurs (suite)\n",
    "\n",
    "### Chaîne de caractères\n",
    "\n",
    "Comme vu précédemment, on peut utiliser des pointeurs pour les chaînes de caractères.\n",
    "Dans tous les cas où on souhaite utiliser une chaîne de caractères de taille indéterminée, on préfère utiliser un pointeur. De plus, c’est simple à utiliser :"
   ]
  },
  {
   "cell_type": "code",
   "execution_count": 13,
   "metadata": {},
   "outputs": [
    {
     "name": "stdout",
     "output_type": "stream",
     "text": [
      "Bertrand Bordage"
     ]
    }
   ],
   "source": [
    "#include \"stdio.h\"\n",
    "\n",
    "int main() {\n",
    "    char* name = \"Bertrand Bordage\";\n",
    "    printf(\"%s\", name);\n",
    "}"
   ]
  },
  {
   "cell_type": "markdown",
   "metadata": {},
   "source": [
    "À partir de maintenant, on privilégiera `char*` pour les chaînes de caractères."
   ]
  },
  {
   "cell_type": "markdown",
   "metadata": {
    "slideshow": {
     "slide_type": "slide"
    }
   },
   "source": [
    "## Pointeurs (suite)\n",
    "\n",
    "### Tableau de taille dynamique\n",
    "\n",
    "On arrive au cœur de l’intérêt du pointeur : faire de grand tableaux dont la taille varie. Par exemple :"
   ]
  },
  {
   "cell_type": "code",
   "execution_count": 14,
   "metadata": {},
   "outputs": [
    {
     "name": "stdout",
     "output_type": "stream",
     "text": [
      "0, 5"
     ]
    }
   ],
   "source": [
    "#include \"stdio.h\"\n",
    "#include \"stdlib.h\"\n",
    "\n",
    "int* get_range(int n) {\n",
    "    int* numbers = (int*)malloc(n * sizeof(int));\n",
    "    while (n > 0) {\n",
    "        n--;\n",
    "        numbers[n] = n;\n",
    "    }\n",
    "    return numbers;\n",
    "}\n",
    "\n",
    "int main() {\n",
    "    int* range = get_range(6);\n",
    "    printf(\"%i, %i\", range[0], range[5]);\n",
    "    free(range);\n",
    "}"
   ]
  },
  {
   "cell_type": "markdown",
   "metadata": {
    "slideshow": {
     "slide_type": "slide"
    }
   },
   "source": [
    "## Pointeurs (suite)\n",
    "\n",
    "### Tableau de taille dynamique : explications\n",
    "\n",
    "Dans l’exemple précédent :\n",
    "- La gestion de mémoire de ce pointeur ne peut être faite automatiquement, on doit donc la faire manuellement avec `malloc` et `free`, permettant de réserver et libérer de la RAM.\n",
    "- `stdlib.h` contient les fonctions `malloc` et `free` utilisées ensuite.\n",
    "- `malloc` permet de réserver un emplacement mémoire, ici de la taille de `n` `int`.\n",
    "- `sizeof` permet d’obtenir le nombre d’octets d’un type, ici `int`, donc cela vaut 4.\n",
    "- On caste le pointeur renvoyé par `malloc` car `malloc` renvoie toujours le type `void*`.\n",
    "- `free(range)` libère l’espace mémoire réservé dès qu’on n’en a plus besoin.\n",
    "\n",
    "**Attention !** Tout `malloc` doit toujours avoir un `free` qui correspond, sans quoi le programme risque des fuites de mémoire, et ainsi utiliser de plus en plus de RAM inutilement.\n",
    "\n",
    "Autre fonction utile : `realloc`, qui permet d’agrandir un espace mémoire déjà réservé."
   ]
  },
  {
   "cell_type": "markdown",
   "metadata": {
    "slideshow": {
     "slide_type": "subslide"
    }
   },
   "source": [
    "### Exercice 25\n",
    "\n",
    "Réécrire le programme de l’exercice 24 de sorte que l’utilisateur puisse mettre en entrée une chaîne de caractères potentiellement illimitée."
   ]
  },
  {
   "cell_type": "code",
   "execution_count": null,
   "metadata": {
    "slideshow": {
     "slide_type": "skip"
    }
   },
   "outputs": [],
   "source": [
    "// Exercice 25\n",
    "\n",
    "#include \"stdio.h\"\n",
    "#include \"stdlib.h\"\n",
    "\n",
    "unsigned int string_length(char* data) {\n",
    "    unsigned int i = 0;\n",
    "    while (data[i] != '\\0') {\n",
    "        i++;\n",
    "    }\n",
    "    return i;\n",
    "}\n",
    "\n",
    "char is_end_of_input(char* buffer) {\n",
    "    for (int i = 0; i < 10; i++) {\n",
    "        if (buffer[i] == '\\0') {\n",
    "            return 1;\n",
    "        }\n",
    "    }\n",
    "    return 0;\n",
    "}\n",
    "\n",
    "int main() {\n",
    "    unsigned int size = 10;\n",
    "    char* data = (char*)malloc(size * sizeof(char));\n",
    "    char* current_buffer = data;\n",
    "    while (1) {\n",
    "        scanf(\"%10[^\\n]\", current_buffer);\n",
    "        if (is_end_of_input(current_buffer)) {\n",
    "            break;\n",
    "        }\n",
    "        size += 10;\n",
    "        data = (char*)realloc(data, size * sizeof(char));\n",
    "        current_buffer = data + size - 10;\n",
    "    }\n",
    "    printf(\"%i\\n\", string_length(data));\n",
    "    free(data);\n",
    "}"
   ]
  },
  {
   "cell_type": "markdown",
   "metadata": {
    "slideshow": {
     "slide_type": "slide"
    }
   },
   "source": [
    "## Pointeurs (suite)\n",
    "\n",
    "### Pointeurs vs tableaux\n",
    "\n",
    "Dernier avantage des pointeurs : ils peuvent être renvoyés par une fonction, ce qui est impossible pour un tableau.\n",
    "\n",
    "Tout ceci dit, on peut se demander quel est l’intérêt des tableaux, quand les pointeurs sont si puissants.\n",
    "\n",
    "Et effectivement, dans la plupart des cas, on utilise des pointeurs et non des tableaux, car il est finalement rare d’avoir des listes de données de taille fixe.\n",
    "\n",
    "Mais il existe des cas où il est utile de donner une taille fixe à un tableau. Comme vu précédemment, cela convient par exemple pour des gobans, échiquiers, etc, dont la taille est toujours fixe.\n",
    "\n",
    "Comme nous le verrons, cela peut également être utile pour les structures."
   ]
  },
  {
   "cell_type": "markdown",
   "metadata": {
    "slideshow": {
     "slide_type": "slide"
    }
   },
   "source": [
    "## Création de type\n",
    "\n",
    "On peut créer un nouveau type en se basant sur des types déjà existants :"
   ]
  },
  {
   "cell_type": "code",
   "execution_count": null,
   "metadata": {},
   "outputs": [],
   "source": [
    "typedef unsigned long int uint128;\n",
    "typedef char chessboard[8][8];\n",
    "\n",
    "int main() {\n",
    "    uint128 i = 68714234687197654;\n",
    "    chessboard board;\n",
    "}"
   ]
  },
  {
   "cell_type": "markdown",
   "metadata": {},
   "source": [
    "Ici, `uint128` n’est finalement qu’un raccourci d’un type déjà existant, ce qui est peu utile.\n",
    "\n",
    "Le second cas, est nettement plus utile. Lors d’un programme d’échecs, on n’a pas à se préoccuper du nombre de cases dans un échiquier, ou du type de chaque case. On dit juste qu’on créé un échiquier, tout simplement.\n",
    "\n",
    "Le cas précédent est déjà utile, mais les structures sont un type composé encore plus intéressant."
   ]
  },
  {
   "cell_type": "markdown",
   "metadata": {
    "slideshow": {
     "slide_type": "subslide"
    }
   },
   "source": [
    "### Exercice 26\n",
    "\n",
    "Créer un nouveau type pour le « plateau » du tic-tac-toe.\n",
    "\n",
    "Initialiser un plateau avec la partie suivante :\n",
    "\n",
    "```\n",
    "┌───┬───┬───┐\n",
    "│ X │ X │   │\n",
    "├───┼───┼───┤\n",
    "│ O │ O │ X │\n",
    "├───┼───┼───┤\n",
    "│ X │   │ O │\n",
    "└───┴───┴───┘\n",
    "```"
   ]
  },
  {
   "cell_type": "markdown",
   "metadata": {
    "slideshow": {
     "slide_type": "slide"
    }
   },
   "source": [
    "## Lire/écrire des fichiers\n",
    "\n",
    "`stdio` contient également de quoi traiter des fichiers. Malheureusement, comme c’est plus proche de ce qu’il se passe vraiment dans la machine, c’est assez compliqué.\n",
    "\n",
    "### Outils indispensables\n",
    "\n",
    "- `FILE` : type d’un fichier, utilisé avec un pointeur\n",
    "- `fopen` : fonction permettant d’ouvrir le fichier en choisissant son mode (lecture, écriture, etc)\n",
    "- `fwrite` : fonction permettant d’écrire un groupe d’octets dans le fichier\n",
    "- `fwrite` : fonction permettant de lire un groupe d’octets dans le fichier\n",
    "- `feof` : fonction permettant de savoir si on est à la fin du fichier\n",
    "- `fclose` : fonction permettant de fermer et donc enregistrer le fichier"
   ]
  },
  {
   "cell_type": "markdown",
   "metadata": {
    "slideshow": {
     "slide_type": "slide"
    }
   },
   "source": [
    "## Lire/écrire des fichiers\n",
    "\n",
    "### Écrire\n",
    "\n",
    "Voici comment écrire le contenu d’un tableau de caractères `content` dans un fichier `example.txt` :"
   ]
  },
  {
   "cell_type": "code",
   "execution_count": null,
   "metadata": {},
   "outputs": [],
   "source": [
    "#include \"stdio.h\"\n",
    "#include \"stdlib.h\"\n",
    "\n",
    "int main() {\n",
    "    FILE* file = fopen(\"example.txt\", \"w\");\n",
    "    char content[] = \"Lorem ipsum\\n\";\n",
    "    fwrite(content, sizeof(char), sizeof(content) - 1, file);\n",
    "    fclose(file);\n",
    "}"
   ]
  },
  {
   "cell_type": "markdown",
   "metadata": {
    "slideshow": {
     "slide_type": "subslide"
    }
   },
   "source": [
    "### Exercice 27\n",
    "\n",
    "Modifier le tic-tac-toe de l’exercice 21 pour que chaque tour soit enregistré dans un même fichier les contenant tous à la suite."
   ]
  },
  {
   "cell_type": "markdown",
   "metadata": {
    "slideshow": {
     "slide_type": "slide"
    }
   },
   "source": [
    "## Lire/écrire des fichiers\n",
    "\n",
    "### Lire\n",
    "\n",
    "Paradoxalement, la lecture d’un fichier est nettement plus complexe. En effet, la taille du contenu est inconnue, et on doit gérer le cas où le fichier n’existe pas. Cela donne :"
   ]
  },
  {
   "cell_type": "code",
   "execution_count": null,
   "metadata": {},
   "outputs": [],
   "source": [
    "#include \"stdio.h\"\n",
    "#include \"stdlib.h\"\n",
    "\n",
    "int main() {\n",
    "    FILE* file = fopen(\"example.txt\", \"r\");\n",
    "    if (file == NULL) {\n",
    "        return 1;\n",
    "    }\n",
    "    long index = 0;\n",
    "    long size = 0;\n",
    "    char* content = NULL;\n",
    "    while (!feof(file)) {\n",
    "        index = size;\n",
    "        size += BUFSIZ;\n",
    "        content = (char*)realloc(content, size * sizeof(char));\n",
    "        fread(&content[index], sizeof(char), BUFSIZ, file);\n",
    "    }\n",
    "    printf(\"%s\", content);\n",
    "    free(content);\n",
    "    fclose(file);\n",
    "}"
   ]
  },
  {
   "cell_type": "markdown",
   "metadata": {
    "slideshow": {
     "slide_type": "subslide"
    }
   },
   "source": [
    "### Exercice 28\n",
    "\n",
    "Modifier le tic-tac-toe pour reprendre automatiquement une partie en cours dans le fichier sauvegardé à l’épisode précédent. Si la partie était finie, on recommence une nouvelle partie."
   ]
  },
  {
   "cell_type": "markdown",
   "metadata": {
    "slideshow": {
     "slide_type": "slide"
    }
   },
   "source": [
    "## Structures\n",
    "\n",
    "La structure est un type composé de plusieurs autres types groupés ensembles et utilisables très facilement.\n",
    "C’est l’ancêtre du concept de classe, pour ceux qui connaissent.\n",
    "\n",
    "Ici, on crée un type `Book` contenant trois attributs : `title`, `author` et `pages`."
   ]
  },
  {
   "cell_type": "code",
   "execution_count": 15,
   "metadata": {},
   "outputs": [
    {
     "name": "stdout",
     "output_type": "stream",
     "text": [
      "Book “Les Piliers de la Terre” by Ken Follet contains 1050 pages\n",
      "Book “Pillars of the Earth” by Ken Follet contains 1076 pages\n"
     ]
    }
   ],
   "source": [
    "#include \"stdio.h\"\n",
    "#include \"string.h\"\n",
    "\n",
    "typedef struct {\n",
    "    char title[100];\n",
    "    char author[60];\n",
    "    int pages;\n",
    "} Book;\n",
    "\n",
    "void show_book(Book book) {\n",
    "    printf(\"Book “%s” by %s contains %i pages\\n\",\n",
    "           book.title, book.author, book.pages);\n",
    "}\n",
    "\n",
    "int main() {\n",
    "    Book book = {\"Les Piliers de la Terre\", \"Ken Follet\", pages: 1050};\n",
    "    show_book(book);\n",
    "    book.pages = 1076;\n",
    "    strcpy(book.title, \"Pillars of the Earth\");\n",
    "    show_book(book);\n",
    "}"
   ]
  },
  {
   "cell_type": "markdown",
   "metadata": {
    "slideshow": {
     "slide_type": "subslide"
    }
   },
   "source": [
    "### Exercice 29\n",
    "\n",
    "Créer une structure `Language` permettant de contenir les informations de l’exercice 7.\n",
    "\n",
    "Écrire une fonction permettant d’afficher la ligne de tableau correspondant à un langage.\n",
    "\n",
    "Créer chacun des langages et les afficher sous forme de tableau à l’aide de la fonction ainsi créée."
   ]
  },
  {
   "cell_type": "markdown",
   "metadata": {
    "slideshow": {
     "slide_type": "slide"
    }
   },
   "source": [
    "## Modules\n",
    "\n",
    "Jusqu’à présent, on a créé uniquement des programmes exécutables directement.\n",
    "Souvent, on réunit des fonctionnalités à part dans un même module qui pourra être utilisable dans plusieurs programmes.\n",
    "\n",
    "À chaque utilisation de module, on faisait un `#include \"module.h\"`. Jusqu’à présent on n’a défini que des fichiers `.c`, qui contiennent le fonctionnement du code. Les fichiers `.h` contiennent les **définitions de types** et les **signatures des fonctions**, c’est-à-dire une version de la fonction spécifiant uniquement son nom, son type de retour et ses arguments."
   ]
  },
  {
   "cell_type": "markdown",
   "metadata": {
    "slideshow": {
     "slide_type": "slide"
    }
   },
   "source": [
    "## Modules\n",
    "\n",
    "### Exemple\n",
    "\n",
    "Fichier `triangle.c` :"
   ]
  },
  {
   "cell_type": "code",
   "execution_count": null,
   "metadata": {},
   "outputs": [],
   "source": [
    "#include \"math.h\"\n",
    "\n",
    "typedef struct {\n",
    "    float x;\n",
    "    float y;\n",
    "} Point;\n",
    "\n",
    "typedef struct {\n",
    "    Point a;\n",
    "    Point b;\n",
    "    Point c;\n",
    "} Triangle;\n",
    "\n",
    "float distance(Point a, Point b) {\n",
    "    float dx = (b.x - a.x);\n",
    "    float dy = (b.y - a.y);\n",
    "    return sqrt(dx * dx + dy * dy);\n",
    "}\n",
    "\n",
    "float perimeter(Triangle t) {\n",
    "    return distance(t.a, t.b) + distance(t.b, t.c) + distance(t.a, t.c);\n",
    "}"
   ]
  },
  {
   "cell_type": "markdown",
   "metadata": {
    "slideshow": {
     "slide_type": "slide"
    }
   },
   "source": [
    "## Modules\n",
    "\n",
    "### Exemple (suite)\n",
    "\n",
    "Fichier `triangle.h` :"
   ]
  },
  {
   "cell_type": "code",
   "execution_count": null,
   "metadata": {},
   "outputs": [],
   "source": [
    "typedef struct {\n",
    "    float x;\n",
    "    float y;\n",
    "} Point;\n",
    "\n",
    "typedef struct {\n",
    "    Point a;\n",
    "    Point b;\n",
    "    Point c;\n",
    "} Triangle;\n",
    "\n",
    "float distance(Point a, Point b);\n",
    "\n",
    "float perimeter(Triangle t);"
   ]
  },
  {
   "cell_type": "markdown",
   "metadata": {
    "slideshow": {
     "slide_type": "slide"
    }
   },
   "source": [
    "## Modules\n",
    "\n",
    "### Exemple (suite)\n",
    "\n",
    "Fichier `example.c` :"
   ]
  },
  {
   "cell_type": "code",
   "execution_count": null,
   "metadata": {},
   "outputs": [],
   "source": [
    "#include \"stdio.h\"\n",
    "#include \"triangle.h\"\n",
    "\n",
    "int main() {\n",
    "    Triangle t = {(Point){30, 5}, (Point){10, 16}, (Point){3, 8}};\n",
    "    printf(\"%f\\n\", perimeter(t));\n",
    "}"
   ]
  },
  {
   "cell_type": "markdown",
   "metadata": {
    "slideshow": {
     "slide_type": "slide"
    }
   },
   "source": [
    "## Modules\n",
    "\n",
    "### Compilation\n",
    "\n",
    "Malheureusement, ce n’est pas de tout repos :\n",
    "- `gcc -c -fPIC triangle.c -o triangle.o`\n",
    "- `gcc -shared triangle.o -o libtriangle.so`\n",
    "- `gcc example.c -o example -L. -ltriangle -lm`\n",
    "\n",
    "Puis on peut lancer le programme ainsi :\n",
    "- `LD_LIBRARY_PATH=. ./example` (`LD_LIBRARY_PATH` est utile ici car la librairie `triangle` n’est pas installée globalement)\n",
    "\n",
    "Cette tâche laborieuse est souvent automatisée par _Make_ ou autres outils.\n",
    "\n",
    "Noter ici qu’on lie les librairies `triangle` et `m` à la troisième ligne de compilation.\n",
    "C’est à cet endroit qu’on ajoute les éventuelles autres librairies à lier."
   ]
  },
  {
   "cell_type": "markdown",
   "metadata": {
    "slideshow": {
     "slide_type": "subslide"
    }
   },
   "source": [
    "### Exercice 30\n",
    "\n",
    "Copier et compiler la librairie comme indiqué."
   ]
  },
  {
   "cell_type": "markdown",
   "metadata": {
    "slideshow": {
     "slide_type": "slide"
    }
   },
   "source": [
    "## Directives du préprocesseur\n",
    "\n",
    "Avant l’étape de compilation, un **préprocesseur** entre en jeu et permet de modifier votre code avant qu’il soit compilé.\n",
    "\n",
    "Les instructions données au préprocesseur sont appellées **directives** et commencent par un `#`, sans `;` à la fin.\n",
    "\n",
    "Oui, les `#include` – dont la syntaxe était un peu à part – étaient bien des directives de préprocesseur.\n",
    "\n",
    "### `#define`\n",
    "\n",
    "Elle permet de créer une variable globale qui sera remplacée partout juste avant la compilation. Ainsi, le préprocesseur va transformer ce code en la cellule suivante :"
   ]
  },
  {
   "cell_type": "code",
   "execution_count": null,
   "metadata": {},
   "outputs": [],
   "source": [
    "#define SUDOKU_SIZE 8\n",
    "char sudoku[SUDOKU_SIZE][SUDOKU_SIZE];"
   ]
  },
  {
   "cell_type": "code",
   "execution_count": null,
   "metadata": {},
   "outputs": [],
   "source": [
    "char sudoku[8][8];"
   ]
  },
  {
   "cell_type": "markdown",
   "metadata": {
    "slideshow": {
     "slide_type": "slide"
    }
   },
   "source": [
    "## Directives du préprocesseur (suite)\n",
    "\n",
    "### `if`, `elif`, `else`, `endif`\n",
    "\n",
    "On peut également définir du code en fonction d’un paramètre de préprocesseur.\n",
    "\n",
    "C’est considéré comme une mauvaise pratique de s’en servir, mais souvent on n’a pas le choix.\n",
    "En effet, le nom des modules et leurs possibilités dépendent des systèmes d’exploitation.\n",
    "Ainsi, la plupart des conditions visibles dans des librairies en C permettent d’écrire de la compatibilité entre systèmes d’exploitation :"
   ]
  },
  {
   "cell_type": "code",
   "execution_count": null,
   "metadata": {},
   "outputs": [],
   "source": [
    "#if defined __unix__  // For Linux and MacOS\n",
    "    #include \"unistd.h\"\n",
    "#elif defined _WIN32  // For Windows (even with 64 bits…)\n",
    "    #include \"windows.h\"\n",
    "#endif"
   ]
  },
  {
   "cell_type": "markdown",
   "metadata": {
    "slideshow": {
     "slide_type": "subslide"
    }
   },
   "source": [
    "### Exercice 31\n",
    "\n",
    "Réécrire l’exercice 25 en utilisant un paramètre de préprocesseur pour définir la taille du _buffer_."
   ]
  },
  {
   "cell_type": "markdown",
   "metadata": {
    "slideshow": {
     "slide_type": "slide"
    }
   },
   "source": [
    "## Exercice final\n",
    "\n",
    "Écrire un programme simulant un **jeu d’échecs**. À chaque coup y compris le premier, on affichera l’échiquier avec les pièces dedans et des coordonnées. On demandera tour à tour aux deux joueurs quel déplacement effectuer. La partie s’arrête quand il n’y a plus de pièces blanches ou noires dans l’échiquier. Pour commencer, on autorise tous les déplacements et on exclut les règles complexes comme les roques.\n",
    "\n",
    "Idéalement, le programme sauvegardera automatiquement une partie au fur et à mesure qu’elle avance.\n",
    "La sauvegarde contiendra tous les états successifs du plateau tel qu’affichés dans le terminal.\n",
    "\n",
    "De même, idéalement il faudrait structurer le programme de manière modulaire, de sorte d’éviter un énorme fichier contenant toute la logique.\n",
    "\n",
    "Exemple d’entrée/sortie :\n",
    "```\n",
    "    A   B   C   D   E   F   G   H\n",
    "  ┌───┬───┬───┬───┬───┬───┬───┬───┐\n",
    "1 │ ♜ │ ♞ │ ♝ │ ♛ │ ♚ │ ♝ │ ♞ │ ♜ │\n",
    "  ├───┼───┼───┼───┼───┼───┼───┼───┤\n",
    "2 │ ♟ │ ♟ │ ♟ │ ♟ │ ♟ │ ♟ │ ♟ │ ♟ │\n",
    "  ├───┼───┼───┼───┼───┼───┼───┼───┤\n",
    "3 │   │   │   │   │   │   │   │   │\n",
    "  ├───┼───┼───┼───┼───┼───┼───┼───┤\n",
    "4 │   │   │   │   │   │   │   │   │\n",
    "  ├───┼───┼───┼───┼───┼───┼───┼───┤\n",
    "5 │   │   │   │   │   │   │   │   │\n",
    "  ├───┼───┼───┼───┼───┼───┼───┼───┤\n",
    "6 │   │   │   │   │   │   │   │   │\n",
    "  ├───┼───┼───┼───┼───┼───┼───┼───┤\n",
    "7 │ ♙ │ ♙ │ ♙ │ ♙ │ ♙ │ ♙ │ ♙ │ ♙ │\n",
    "  ├───┼───┼───┼───┼───┼───┼───┼───┤\n",
    "8 │ ♖ │ ♘ │ ♗ │ ♕ │ ♔ │ ♗ │ ♘ │ ♖ │\n",
    "  └───┴───┴───┴───┴───┴───┴───┴───┘\n",
    "\n",
    "White player? B8 C6\n",
    "\n",
    "    A   B   C   D   E   F   G   H\n",
    "  ┌───┬───┬───┬───┬───┬───┬───┬───┐\n",
    "1 │ ♜ │ ♞ │ ♝ │ ♛ │ ♚ │ ♝ │ ♞ │ ♜ │\n",
    "  ├───┼───┼───┼───┼───┼───┼───┼───┤\n",
    "2 │ ♟ │ ♟ │ ♟ │ ♟ │ ♟ │ ♟ │ ♟ │ ♟ │\n",
    "  ├───┼───┼───┼───┼───┼───┼───┼───┤\n",
    "3 │   │   │   │   │   │   │   │   │\n",
    "  ├───┼───┼───┼───┼───┼───┼───┼───┤\n",
    "4 │   │   │   │   │   │   │   │   │\n",
    "  ├───┼───┼───┼───┼───┼───┼───┼───┤\n",
    "5 │   │   │   │   │   │   │   │   │\n",
    "  ├───┼───┼───┼───┼───┼───┼───┼───┤\n",
    "6 │   │   │ ♘ │   │   │   │   │   │\n",
    "  ├───┼───┼───┼───┼───┼───┼───┼───┤\n",
    "7 │ ♙ │ ♙ │ ♙ │ ♙ │ ♙ │ ♙ │ ♙ │ ♙ │\n",
    "  ├───┼───┼───┼───┼───┼───┼───┼───┤\n",
    "8 │ ♖ │   │ ♗ │ ♕ │ ♔ │ ♗ │ ♘ │ ♖ │\n",
    "  └───┴───┴───┴───┴───┴───┴───┴───┘\n",
    "\n",
    "Black player?\n",
    "```"
   ]
  },
  {
   "cell_type": "markdown",
   "metadata": {
    "slideshow": {
     "slide_type": "slide"
    }
   },
   "source": [
    "# Merci et bonne continuation !\n",
    "\n",
    "### Et tenez-moi au courant si vous continuez à améliorer la démo.\n",
    "\n",
    "Twitter : [**@NoriPytCom**](https://twitter.com/NoriPytCom) - GitHub : [**@BertrandBordage**](https://github.com/BertrandBordage)"
   ]
  }
 ],
 "metadata": {
  "celltoolbar": "Slideshow",
  "kernelspec": {
   "display_name": "C",
   "language": "c",
   "name": "bash"
  },
  "language_info": {
   "file_extension": ".c",
   "mimetype": "text/plain",
   "name": "c"
  }
 },
 "nbformat": 4,
 "nbformat_minor": 2
}
