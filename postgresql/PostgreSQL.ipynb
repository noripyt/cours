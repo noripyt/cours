{
 "cells": [
  {
   "cell_type": "markdown",
   "metadata": {
    "slideshow": {
     "slide_type": "slide"
    }
   },
   "source": [
    "# Bertrand Bordage de NoriPyt\n",
    "- Programmeur Python, Django, PostgreSQL\n",
    "- Membre de l’équipe de développement du CMS Wagtail\n",
    "- Créateur de nombreux projets open source plus ou moins célèbres"
   ]
  },
  {
   "cell_type": "markdown",
   "metadata": {
    "slideshow": {
     "slide_type": "slide"
    }
   },
   "source": [
    "## Introduction\n",
    "\n",
    "PostgreSQL est le SGBD open source le plus complet, sécurisé et professionnel (on y reviendra). \n",
    "\n",
    "Début du développement en 1985\n",
    "\n",
    "Première version open source en 1995\n",
    "\n",
    "Un nom changeant : Postgres (1985) → Postgres95 (1995) → PostgreSQL (1996)\n",
    "\n",
    "Prononciation : « poste-graisse-cul-elle », et en anglais « poste-graisse-kyou-elle »\n",
    "\n",
    "Versions supportées aujourd’hui : 9.3, 9.4, 9.5, 9.6, 10.\n",
    "\n",
    "Un projet très actif : tous les ans, des nouveautés importantes :\n",
    "- 9.4 (2015) : nouveau type de données JSON binaire\n",
    "- 9.5 (2016) : nouvelle commande de type `UPSERT`, nouveau type d’index\n",
    "- 9.6 (2017) : exécution en parallèle lors des commandes `SELECT`\n",
    "- 10 (2018) : nouveaux outils pour diviser une base de données sur plusieurs serveurs"
   ]
  },
  {
   "cell_type": "markdown",
   "metadata": {
    "slideshow": {
     "slide_type": "slide"
    }
   },
   "source": [
    "## Qui utilise PostgreSQL ?\n",
    "\n",
    "4e base de données la plus utilisée au monde après Oracle, MySQL et Microsoft SQL server.\n",
    "\n",
    "De nombreuses communautés : essentiellement des développeurs webs, mais aussi une grande partie des sciences « dures », des astrophysiciens, biologistes, météorologues, etc.\n",
    "\n",
    "Un exemple concret récent : en 2016 la Caisse d’Allocations Familiale est passée entièrement à Linux et PostgreSQL, un chantier géant de 22 M€. Au final :\n",
    "- PostgreSQL gère bien les 3 milliards de requêtes par jour. Et plus rapidement que les solutions propriétaires utilisées avant, 2.2 fois plus vite selon la CAF.\n",
    "- une moyenne de 20 M€ / an d’économisés à l’échelle nationale grâce à l’abandon de matériels et logiciels propriétaires\n",
    "- 3 à 6 G€ d’allocations versées avec succès chaque mois"
   ]
  },
  {
   "cell_type": "markdown",
   "metadata": {
    "slideshow": {
     "slide_type": "slide"
    }
   },
   "source": [
    "## Installation\n",
    "\n",
    "#### Sous Ubuntu/Debian\n",
    "\n",
    "`sudo apt install postgresql`\n",
    "\n",
    "#### Sous Windows & MacOS\n",
    "\n",
    "Télécharger et installer la dernière version sur https://www.enterprisedb.com/downloads/postgres-postgresql-downloads"
   ]
  },
  {
   "cell_type": "markdown",
   "metadata": {
    "slideshow": {
     "slide_type": "slide"
    }
   },
   "source": [
    "## Structure d’une installation PostgreSQL\n",
    "\n",
    "Une installation de PostgreSQL arrive avec son **serveur**, qui stocke les données et traite les requêtes, et son **client**, une interface pour se connecter au serveur.\n",
    "\n",
    "Plusieurs versions de PostgreSQL peuvent être installées à la fois, et il peut y avoir plusieurs instance de chaque version **→ clusters**\n",
    "\n",
    "Évidemment, PostgreSQL peut contenir autant de **bases de données** que nécessaire. Mais en plus, à l’intérieur de chaque base de données il y a des **schémas**, des genre de sous-bases de données permettant d’avoir plusieurs fois des tables du même nom.\n",
    "\n",
    "Chaque **schéma** contient des **tables** et éventuellement des **vues** (en quelque sorte des tables calculées automatiquement à partir d’autres tables).\n",
    "\n",
    "Des **extensions** permettent d’ajouter des fonctionnalités : nouveaux types de données ou d’index, nouvelles fonctions, etc.\n",
    "\n",
    "Bien d’autres subtilités, mais voilà les grandes lignes.\n",
    "\n",
    "Pour la plupart des usages, on se sert du **client** pour se connecter à une **base de données** où on ne se sert que des **tables**.\n",
    "\n",
    "#### → peu différent des autres SGBD au quotidien, ouf !"
   ]
  },
  {
   "cell_type": "markdown",
   "metadata": {
    "slideshow": {
     "slide_type": "slide"
    }
   },
   "source": [
    "## `psql`\n",
    "\n",
    "`psql`, le client en terminal fourni avec le serveur PostgreSQL\n",
    "\n",
    "Pour se connecter en mode root pour les premières fois et ponctuellement pour des opérations de maintenance :\n",
    "\n",
    "`sudo -u postgres psql`\n",
    "\n",
    "En se connectant avec l’utilisateur Linux `postgres`, on ouvre la base de données `postgres` avec l’utilisateur PostgreSQL `postgres`. Cet utilisateur PostgreSQL `postgres` est le superutilisateur par défaut.\n",
    "\n",
    "Bon, ça a l’air compliqué, mais dites-vous que si vous avez besoin de faire quelque chose dans PostgreSQL et que vous avez un problème d’accès, l’artillerie lourde est `sudo -u postgres psql`\n",
    "\n",
    "Évidemment, cet utilisateur PostgreSQL `postgres` ne doit jamais être utilisé dans une application."
   ]
  },
  {
   "cell_type": "markdown",
   "metadata": {
    "slideshow": {
     "slide_type": "slide"
    }
   },
   "source": [
    "## Premier utilisateur et première base de données\n",
    "\n",
    "Dans le client en mode superutilisateur (`sudo -u postgres psql`) :\n",
    "```PostgreSQL\n",
    "CREATE ROLE essai WITH LOGIN ENCRYPTED PASSWORD 'votre mot de passe';\n",
    "CREATE DATABASE essai OWNER essai;\n",
    "```\n",
    "\n",
    "Ne pas oublier les `;`.\n",
    "\n",
    "On passe à la la base de données `essai` pour pouvoir s’en servir :\n",
    "\n",
    "`\\c essai`\n",
    "\n",
    "![](psql-switch-db.png)"
   ]
  },
  {
   "cell_type": "markdown",
   "metadata": {
    "slideshow": {
     "slide_type": "slide"
    }
   },
   "source": [
    "## Les commandes en `\\` dans `psql`\n",
    "\n",
    "Cette commande `\\c` n’est pas du SQL, il s’agit d’une syntaxe propre à `psql` pour effectuer des opérations hors du domaine SQL.\n",
    "\n",
    "Voici les commandes les plus utiles :\n",
    "\n",
    "Commande | Description\n",
    "---- | ----------------------------\n",
    "`\\q` | quitter\n",
    "`\\l` | liste des bases de données\n",
    "`\\c db_name` | se connecter à une base de données\n",
    "`\\?` | liste des commandes en `\\`\n",
    "`\\du` | liste des roles\n",
    "`\\dt` | liste des tables\n",
    "`\\dn` | liste des schémas"
   ]
  },
  {
   "cell_type": "markdown",
   "metadata": {
    "slideshow": {
     "slide_type": "slide"
    }
   },
   "source": [
    "## Exercice\n",
    "\n",
    "À l’aide de [la documentation PostgreSQL](https://www.postgresql.org/docs/10/static/) (et Internet en général), créer une base de données `library` possédée par un utilisateur `librarian`, contenant une table `books` avec les colonnes suivantes :\n",
    "- `id`, un identifiant autoincrémenté servant de clé primaire\n",
    "- `title`, un champ stockant le titre du livre\n",
    "- `author`, un champ stockant le nom de l’auteur\n",
    "- `pages`, le nombre de pages\n",
    "- `is_author_alive`, si oui ou non l’auteur est vivant\n",
    "\n",
    "Essayer d’utiliser les types de données les plus adaptés possibles.\n",
    "\n",
    "Faire ensuite une requête pour ajouter vos trois livres préférés.\n",
    "\n",
    "Effectuer une requête récupérant tous les livres dont l’auteur est décédé et dont le nom ne contient pas la lettre `e` ou `E`."
   ]
  },
  {
   "cell_type": "markdown",
   "metadata": {
    "slideshow": {
     "slide_type": "slide"
    }
   },
   "source": [
    "## SGBD open source le plus complet, sécurisé et professionnel ?\n",
    "\n",
    "Si on se restreint au SQL, les autres solutions usuelles sont :\n",
    "- Oracle (propriétaire)\n",
    "- Microsoft SQL server (propriétaire)\n",
    "- MySQL (open source)\n",
    "- SQLite (open source)\n",
    "\n",
    "**Oracle** est assez équivalent à PostgreSQL en terme de fonctionnalités, mais… 17 500 € plus cher par poste.\n",
    "\n",
    "**Microsoft SQL server** est plus abordable qu’Oracle, mais pauvre face à PostgreSQL, tout en étant très lié à Windows. Une version Linux est toutefois sortie récemment, Microsoft privilégiant désormais Linux à Windows Server.\n",
    "\n",
    "Malheureusement, **MySQL** et **SQLite** sont non seulement moins complets que PostgreSQL, mais vaguement sournois."
   ]
  },
  {
   "cell_type": "markdown",
   "metadata": {
    "slideshow": {
     "slide_type": "slide"
    }
   },
   "source": [
    "## Lacunes de MySQL par rapport à PostgreSQL\n",
    "\n",
    "Outre l’absence ou les défauts de nombreuses fonctionnalités dans MySQL (recherche plein texte basique et lente, recherches géographiques très limitées, pas d’indexs géographiques, etc), certaines fonctionnements sont traitres :\n",
    "- les modifications de structure dans les transactions ne sont pas gérées, aboutissant à des bases de données cassées\n",
    "- l’encodage par défaut est Windows suédois (`latin1_swedish_ci`), même en France, aboutissant parfois à des caractères spéciaux erronés\n",
    "- les contraintes ne sont pas respectées, elles sont contournées silencieusement\n",
    "- chaque mise à jour majeure peut aboutir à un écrasement de la configuration"
   ]
  },
  {
   "cell_type": "markdown",
   "metadata": {
    "slideshow": {
     "slide_type": "slide"
    }
   },
   "source": [
    "## Lacunes de SQLite par rapport à PostgreSQL\n",
    "\n",
    "Pas besoin de chercher loin pour SQLite, ces deux informations suffisent :\n",
    "- SQLite ne gère bien qu’une seule connection à la fois\n",
    "- Pour être conforme à SQL, SQLite oblige à typer les colonnes, mais… On peut tout de même stocker `'bonjour'` dans une colonne `integer`, `'blablablablabla'` dans un `VARCHAR(3)` ou `3.14159` dans un `integer`. La plupart des utilisateurs de SQLite ignorent cela et il faut souvent des années pour qu’un développeur réalise qu’il y a un problème dans sa base de données à cause de cela."
   ]
  },
  {
   "cell_type": "markdown",
   "metadata": {
    "slideshow": {
     "slide_type": "slide"
    }
   },
   "source": [
    "## `psql` au quotidien\n",
    "\n",
    "Habituellement, on se connecte à l’aide d’un utilisateur créé, et non `postgres`.\n",
    "\n",
    "Usage typique pour se connecter à l’aide d’un mot de passe :\n",
    "\n",
    "`psql -U user_name -h localhost -p 5432 db_name`\n",
    "\n",
    "Par défaut le nom de base de données est le nom d’utilisateur. Pour une base de données `essai` d’un utilisateur `essai`, ceci suffit :\n",
    "\n",
    "`psql -U essai -h localhost -p 5432`\n",
    "\n",
    "On constate que PostgreSQL nous demande bien le mot de passe, et le saisir nous connecte bien.\n",
    "\n",
    "Cependant, cela ne marche que sur cette machine, on ne pourrait pas accéder au serveur PostgreSQL depuis une autre machine en utilisant l’IP du serveur PostgreSQL\n",
    "\n",
    "En effet, PostgreSQL nécessite plus de configuration pour ce genre d’usage."
   ]
  },
  {
   "cell_type": "markdown",
   "metadata": {
    "slideshow": {
     "slide_type": "slide"
    }
   },
   "source": [
    "## `pg_hba.conf`\n",
    "\n",
    "C’est le fichier de configuration que vous modifierez le plus souvent.\n",
    "\n",
    "Il s’agit probablement de la partie la plus complexe pour un débutant de PostgreSQL, d’autant qu’il faut quelques bases en réseau.\n",
    "\n",
    "Ce fichier signifie “PostgreSQL Host-Based Authentication” et définit les règles de qui à accès à quoi, et depuis quel endroit. Il existe de nombreuses combinaisons de règles possibles, visibles [dans la documentation](https://www.postgresql.org/docs/10/static/auth-pg-hba-conf.html).\n",
    "\n",
    "Pour le modifier sous Linux, `sudo nano /etc/postgresql/*/main/pg_hba.conf` (remplacer `*` par le numéro de version si vous avez plusieurs versions installées en même temps).\n",
    "\n",
    "Il contient par défaut des règles comme :\n",
    "```\n",
    "local    all    postgres                    peer\n",
    "host     all    all         127.0.0.1/32    md5\n",
    "local    all    all                         peer\n",
    "```\n",
    "\n",
    "La première ligne signifie que l’utilisateur `postgres` a le droit d’accéder à toutes les bases de données (`all`) lorsqu’il se connecte à partir de l’utilisateur Linux `postgres` (`peer`), le tout uniquement sur cette machine (`local`).\n",
    "\n",
    "La seconde signifie que n’importe quel utilisateur (`all`) peut se connecter à n’importe quelle base de données (`all`) s’il se connecte avec un mot de passe (`md5`) via une connection depuis un hôte situé dans le sous-réseau `127.0.0.1/32` (c’est à dire uniquement `127.0.0.1`)."
   ]
  },
  {
   "cell_type": "markdown",
   "metadata": {
    "slideshow": {
     "slide_type": "slide"
    }
   },
   "source": [
    "## Personnalisation de `pg_hba.conf`\n",
    "\n",
    "Grâce aux règles par défaut, on découvre par exemple qu’on peut se connecter sur n’importe quelle base de données, même `postgres`, à l’aide de notre utilisateur `essai` :\n",
    "\n",
    "`psql -U essai -h localhost -p 5432 postgres`\n",
    "\n",
    "Même s’il faut connaître le mot de passe et que cela ne fonctionne qu’en local, ce n’est pas idéal.\n",
    "\n",
    "Il faut parcourir les possibilités pour parvenir à une installation sécurisée convenant à chaque situation.\n",
    "\n",
    "Après modification de `pg_hba.conf`, il faut redémarrer le serveur PostgreSQL avec `sudo systemctl restart postgresql`. D’où l’intérêt d’avoir une bonne configuration dès le début, pour éviter de couper le service."
   ]
  },
  {
   "cell_type": "markdown",
   "metadata": {
    "slideshow": {
     "slide_type": "slide"
    }
   },
   "source": [
    "## Exercice\n",
    "\n",
    "On cherche à faire une installation sécurisée pour un serveur mutualisé. Ce serveur héberge des applications Python et une même instance PostgreSQL pour tout le monde. Des dizaines d’utilisateurs Linux existent, et on veut à tout prix éviter qu’un utilisateur puisse voir ou modifier les données du voisin.\n",
    "\n",
    "Un utilisateur Linux spécial, `badass`, a payé pour pouvoir accéder à trois bases de données à la fois.\n",
    "\n",
    "Configurer PostgreSQL pour qu’il n’accepte que ces types de connection :\n",
    "- L’utilisateur Linux `postgres` peut se connecter sans mot de passe à toutes les bases de données, uniquement avec le nom d’utilisateur PostgreSQL `postgres`.\n",
    "- Chaque utilisateur Linux peut se connecter uniquement à une base de données en tant que son propre utilisateur, le tout sans mot de passe. Par exemple, l’utilisateur Linux `bertrand` ne pourra que se connecter qu’à la base de données `bertrand`, et uniquement avec l’utilisateur PostgreSQL `bertrand`. Bien entendu, il ne pourra se connecter à cette base de données que si elle existe.\n",
    "- L’utilisateur Linux `badass` doit pouvoir se connecter aux bases de données `clefs`, `bassins` et `lignes`, le tout sans mot de passe.\n",
    "\n",
    "Écrire ensuite :\n",
    "- La commande permettant à l’utilisateur Linux `postgres` de se connecter à `postgres`\n",
    "- La commande permettant à l’utilisateur Linux `jean` de se connecter à `jean`\n",
    "- La commande permettant à l’utilisateur `badass` de se connecter à la base de données `clefs`"
   ]
  },
  {
   "cell_type": "markdown",
   "metadata": {
    "slideshow": {
     "slide_type": "slide"
    }
   },
   "source": [
    "## Autres fichiers de configuration\n",
    "\n",
    "L’autre fichier majeur de configuration PostgreSQL est `postgresql.conf`, qui définit tous les paramètres du serveur : port, chemins, logs, utilisation mémoire, activation de fonctionnalités, formats, règles de prédiction du *query planner*… C’est extrêmement complet.\n",
    "\n",
    "Pourtant, il n’est pas nécessaire de modifier `postgresql.conf`, les paramètres par défaut sont idéaux dans la plupart des cas.\n",
    "\n",
    "En revanche, il est possible de devoir modifier le port après installation d’une nouvelle version majeure. Si l’ancienne version est installée, la nouvelle aura le prochain port disponible, 5433. Il est ainsi possible de se retrouver avec plusieurs versions tournant chacune sur un port différent. En général, on garde l’ancienne version quelques minutes ou heures, le temps de faire migrer l’ancienne version avec `pg_upgradecluster`. Une fois la commande réussi, PostgreSQL propose de supprimer l’ancien cluster. Si vous acceptez, il modifie la configuration du nouveau cluster pour reprendre le port précédent, 5432.\n",
    "\n",
    "Le reste des fichiers de configuration n’est quasiment jamais utile à modifier."
   ]
  },
  {
   "cell_type": "markdown",
   "metadata": {
    "slideshow": {
     "slide_type": "slide"
    }
   },
   "source": [
    "## `json` & `jsonb`\n",
    "\n",
    "Depuis quelques années, PostgreSQL possède des fonctionnalités `NoSQL` grâce aux deux types de données `json` et `jsonb`.\n",
    "\n",
    "Ils permettent simplement de stocker du JSON dans la base de données puis d’effectuer des requêtes dessus.\n",
    "\n",
    "Les deux types de données sont les mêmes, sauf que `jsonb` est stocké de manière optimisé en binaire, prenant moins de place tout en étant plus rapide.\n",
    "\n",
    "C’est ainsi qu’on peut désormais voir des commandes comme :\n",
    "```PostgreSQL\n",
    "SELECT *\n",
    "FROM my_table\n",
    "WHERE data #>> '{author,age}' > 30;\n",
    "```\n",
    "\n",
    "alors que la colonne `data` stocke une donnée du type :\n",
    "```JSON\n",
    "{\n",
    "    \"title\": \"a book\",\n",
    "    \"author\": {\n",
    "        \"name\": \"an author\",\n",
    "        \"age\": 29\n",
    "    }\n",
    "}\n",
    "```"
   ]
  },
  {
   "cell_type": "markdown",
   "metadata": {
    "slideshow": {
     "slide_type": "slide"
    }
   },
   "source": [
    "## pgadmin\n",
    "\n",
    "pgadmin, une interface complète d’administration de serveur PostgreSQL\n",
    "\n",
    "Équivalent pour PostgreSQL de PHPMyAdmin pour MySQL/Maria\n",
    "\n",
    "pgadmin4 est officiellement la principale version, mais son installation est plus complexe pour l’instant.\n",
    "\n",
    "Utilisons pgadmin3:\n",
    "\n",
    "#### Sous Ubuntu ou Debian\n",
    "\n",
    "`sudo apt install pgadmin3`\n",
    "\n",
    "#### Sous Windows\n",
    "\n",
    "Télécharger sur https://www.pgadmin.org/download/pgadmin-3-windows/\n",
    "\n",
    "Puis installer normalement\n",
    "\n",
    "#### Sous MacOS\n",
    "\n",
    "Télécharger sur https://www.pgadmin.org/download/pgadmin-3-macos/\n",
    "\n",
    "Puis installer normalement"
   ]
  },
  {
   "cell_type": "markdown",
   "metadata": {
    "slideshow": {
     "slide_type": "slide"
    }
   },
   "source": [
    "## Utilisation de pgadmin\n",
    "\n",
    "Après lancement, créer un serveur dans l’interface en configurant avec un utilisateur.\n",
    "\n",
    "Pour un usage local pour du développement, il est recommandé d’ajouter l’utilisateur `postgres` pour accéder à tout.\n",
    "\n",
    "On arrive sur une interface de ce genre :\n",
    "\n",
    "![](pgadmin3.png)"
   ]
  },
  {
   "cell_type": "markdown",
   "metadata": {
    "slideshow": {
     "slide_type": "slide"
    }
   },
   "source": [
    "## Recherche plein texte et extensions\n",
    "\n",
    "Les possibilités de PostgreSQL en se limitent pas au standard SQL.\n",
    "\n",
    "En plus du JSON, PostgreSQL propose une myriade d’autres fonctionalités.\n",
    "\n",
    "L’une des plus célèbres est la recherche plein texte. Elle n’offre pas tout à fait autant de possibilités qu’une solution dédiée comme Elasticsearch, mais PostgreSQL arrive directement avec des configurations pour 16 langues, rendant la recherche plein texte beaucoup plus accessible qu’avec Elasticsearch.\n",
    "\n",
    "Dans le CMS Wagtail, le moteur de recherche PostgreSQL que je réalise depuis un an devient depuis peu plus fiable et plus riche qu’avec Elasticsearch, tout en étant plus rapide à indexer.\n",
    "\n",
    "En fouillant un peu dans les extensions officielles de PostgreSQL, on trouve de nombreuses petites pépites : PostGIS pour de la recherche géographique, `ltree` pour le stockage d’arborescence, `fuzzystrmatch` pour trouver des mots ayant une prononciation similaire, etc."
   ]
  },
  {
   "cell_type": "markdown",
   "metadata": {
    "slideshow": {
     "slide_type": "slide"
    }
   },
   "source": [
    "## Sauvegarde et restauration au format texte\n",
    "\n",
    "Une succession de commandes dans un fichier texte\n",
    "\n",
    "Avantage : facile à modifier et à lire\n",
    "\n",
    "Inconvénient : fichier assez volumineux du fait du format texte et de la redondance des commandes\n",
    "\n",
    "#### Sauvegarde au format texte\n",
    "\n",
    "`pg_dump -U user_name -f db_name.sql db_name`\n",
    "\n",
    "#### Restauration au format texte\n",
    "\n",
    "`psql -U user_name db_name | db_name.sql`"
   ]
  },
  {
   "cell_type": "markdown",
   "metadata": {
    "slideshow": {
     "slide_type": "slide"
    }
   },
   "source": [
    "## Sauvegarde et restauration au format binaire\n",
    "\n",
    "Un fichier binaire extrêmement optimisé pour prendre le moins de place possible\n",
    "\n",
    "Avantage : considérablement plus léger que le format texte\n",
    "\n",
    "Inconvénient : impossible à modifier, incompatible d’une architecture de processeur à l’autre\n",
    "\n",
    "#### Sauvegarde au format binaire\n",
    "\n",
    "`pg_dump -U user_name -Fc -b -f db_name.backup db_name`\n",
    "\n",
    "#### Restauration au format binaire\n",
    "\n",
    "`pg_restore -U user_name -d db_name -e -j 5 db_name.backup`\n",
    "\n",
    "Un intérêt de `pg_restore` est qu’il fournit de nombreuses options. Par exemple `-e` permet d’annuler la restauration à la moindre erreur, indispensable pour faire du travail propre.\n",
    "`-j 5` permet d’indiquer que la restauration doit se faire en parallèle dans 5 processus, décuplant la vitesse."
   ]
  },
  {
   "cell_type": "markdown",
   "metadata": {
    "slideshow": {
     "slide_type": "slide"
    }
   },
   "source": [
    "## Réplication\n",
    "\n",
    "La communauté PostgreSQL offre plusieurs solutions de réplication, la plus célèbre étant Slony.\n",
    "\n",
    "Toutefois, mettre en place une réplication reste assez complexe pour des résultats discutables.\n",
    "\n",
    "Il y a parfois confusion sur l’utilité d’une réplication : la réplication n’est pas une sauvegarde.\n",
    "Elle permet à un second serveur de prendre le relais si le premier tombe en panne, ou de répartir la charge entre plusieurs serveurs.\n",
    "\n",
    "Il est honnêtement inutile de recourir à une réplication dans la quasi totalité des cas. En effet :\n",
    "- PostgreSQL ne plante jamais. En 7 ans de production, je n’ai jamais vu cela, malgré des conditions parfois extrêmes (très peu de RAM, 0 octet de disque libre, millions de lignes)\n",
    "- PostgreSQL est rapide, je n’ai jamais eu de problème de vitesse nécessitant d’en venir à une réplication\n",
    "- PostgreSQL est très peu gourmand : quelques dizaines voire centaines de Mo de RAM utilisés dans la plupart des cas.\n",
    "- Si jamais PostgreSQL plantait, il redémarrerait tout seul.\n",
    "\n",
    "Une solution plus économe, robuste et censée est de mettre en place un système de copie statique des pages HTML de l’application web servie par un autre serveur. Le tout couplé à une tâche cron faisant quotidiennement une sauvegarde sur un serveur externe."
   ]
  },
  {
   "cell_type": "markdown",
   "metadata": {
    "slideshow": {
     "slide_type": "slide"
    }
   },
   "source": [
    "## Entretien de la base de données\n",
    "\n",
    "Comme toutes les bases de données et systèmes de fichiers, PostgreSQL utilise des méthodes rapides pour modifier les données pouvant aboutir à de la fragmentation, des indexs mal optimisés, et des statistiques périmées.\n",
    "\n",
    "Ce problème, particulièrement les statistiques erronées, peut amener à de mauvaises prédictions du *query planner*, et ainsi à des requêtes trop lentes.\n",
    "\n",
    "Pour corriger ces problèmes, il existe plusieurs commandes. Deux commandes sont à retenir, car elles font le nettoyage le plus complet :\n",
    "```\n",
    "VACUUM ANALYZE db_name;\n",
    "REINDEX DATABASE db_name;\n",
    "```\n",
    "\n",
    "Au quotidien, pas besoin d’effectuer ces commandes, un système, l’**autovaccuum**, se charge de le faire automatiquement lorsque c’est nécessaire.\n",
    "\n",
    "Toutefois, dans certains cas il est utile d’exécuter manuellement ces commandes, notamment juste avant un test de performance."
   ]
  }
 ],
 "metadata": {
  "celltoolbar": "Slideshow",
  "kernelspec": {
   "display_name": "PostgreSQL",
   "language": "sql",
   "name": "postgres"
  },
  "language_info": {
   "codemirror_mode": "sql",
   "file_extension": ".sql",
   "mimetype": "text/x-postgresql",
   "name": "PostgreSQL"
  }
 },
 "nbformat": 4,
 "nbformat_minor": 2
}
