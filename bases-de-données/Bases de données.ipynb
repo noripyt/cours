{
 "cells": [
  {
   "cell_type": "markdown",
   "metadata": {
    "slideshow": {
     "slide_type": "skip"
    }
   },
   "source": [
    "Pour exporter en slides, lancer :\n",
    "`jupyter nbconvert Bases\\ de\\ données.ipynb --to slides --post serve`"
   ]
  },
  {
   "cell_type": "code",
   "execution_count": 1,
   "metadata": {
    "slideshow": {
     "slide_type": "skip"
    }
   },
   "outputs": [],
   "source": [
    "-- connection: dbname=cours user=cours"
   ]
  },
  {
   "cell_type": "markdown",
   "metadata": {
    "slideshow": {
     "slide_type": "slide"
    }
   },
   "source": [
    "# Bases de données\n",
    "### Master Humanités Numériques — université de Rouen"
   ]
  },
  {
   "cell_type": "markdown",
   "metadata": {
    "slideshow": {
     "slide_type": "slide"
    }
   },
   "source": [
    "## Bertrand Bordage de NoriPyt\n",
    "- Développeur, musicien & dirigeant\n",
    "- Membre de l’équipe de développement du CMS Wagtail\n",
    "- Créateur de Dezède avec l’université de Rouen\n",
    "- Créateur de nombreux projets open source"
   ]
  },
  {
   "cell_type": "markdown",
   "metadata": {
    "slideshow": {
     "slide_type": "slide"
    }
   },
   "source": [
    "# Introduction\n",
    "\n",
    "Un peu de mise en contexte et explications avant de commencer."
   ]
  },
  {
   "cell_type": "markdown",
   "metadata": {
    "slideshow": {
     "slide_type": "slide"
    }
   },
   "source": [
    "## Qu’entend-on par « base de données » ?\n",
    "\n",
    "- En sciences humaines, une application (web, de bureau ou mobile) permettant d’accéder facilement à des données stockées dans un SGBD.<br />\n",
    "  ⇒ Terme abusif, à éviter\n",
    "- Tout système informatique de stockage de données<br />\n",
    "  ⇒ « Système de Gestion de Bases de Données », soit SGBD ou DBMS en anglais\n",
    "- Un ensemble de données structuré par un SGBD\n",
    "\n",
    "Dans le cadre de ce cours, on se concentrera sur les SGBD."
   ]
  },
  {
   "cell_type": "markdown",
   "metadata": {
    "slideshow": {
     "slide_type": "slide"
    }
   },
   "source": [
    "## Exemples d’utilisations abusives du terme « base de données »\n",
    "\n",
    "- Dezède\n",
    "- SUDOC\n",
    "- Data BNF\n",
    "- Gallica\n",
    "\n",
    "Pourquoi éviter ce terme abusif ?<br />\n",
    "Au même titre, Twitter, les services Google, et presque tout l’Internet moderne pourrait être nommé « base de données ».\n",
    "\n",
    "Même un tableur type Excel ou une feuille de papier peuvent être appelés abusivement « base de données ».\n",
    "\n",
    "Pas faux en soit, mais peu précis."
   ]
  },
  {
   "cell_type": "markdown",
   "metadata": {
    "slideshow": {
     "slide_type": "slide"
    }
   },
   "source": [
    "## Redéfinissions « base de données »\n",
    "\n",
    "une base de données ≠ un Système de Gestion de Base de Données\n",
    "\n",
    "un **SGBD** = logiciel<br/>\n",
    "une **base de données** = contenu\n",
    "\n",
    "Dans l’ordre d’utilisation, on :\n",
    "- **créé la structure** de la base de données\n",
    "- **ajoute des données** à la base de données\n",
    "- **effectue des requêtes** sur ces données\n",
    "- ajoute des données\n",
    "- effectue des requêtes\n",
    "- …"
   ]
  },
  {
   "cell_type": "markdown",
   "metadata": {
    "slideshow": {
     "slide_type": "slide"
    }
   },
   "source": [
    "## Pourquoi Excel, Gallica et papier pas SGBD ?\n",
    "\n",
    "**Excel** : non structuré, ne permet pas de faire de requêtes au-delà de filtrages basiques\n",
    "\n",
    "**Gallica** : contient une base de données mais n’est pas un SGBD (pas de création de nouvelle base de données au sein de Gallica)\n",
    "\n",
    "**Papier** : non structuré, ne permet pas de faire de requêtes.\n",
    "\n",
    "En plus de devoir **gérer les actions listées précédemment**, un SGBD doit permettre de réaliser toutes ces tâches sous forme de **code informatique**, et être ainsi totalement automatisables. Cela permet d’intégrer les données dans n’importe quel programme : application web, de bureau, mobile."
   ]
  },
  {
   "cell_type": "markdown",
   "metadata": {
    "slideshow": {
     "slide_type": "slide"
    }
   },
   "source": [
    "## Termes courants à connaître\n",
    "\n",
    "Une **base de données** (ou **database**, **DB**, **BDD**) est composée de **tables** stockant des **lignes** suivant plusieurs **colonnes**.\n",
    "\n",
    "Chaque **table** contient les données structurées suivant les mêmes colonnes.<br />\n",
    "Par exemple, la base de données « bibliothèque » contient les tables « livres », « auteurs », « genres », « collections », « éditeurs », etc.\n",
    "\n",
    "Une **ligne** correspond à un ensemble de **données** représentant un seul **objet**.<br />\n",
    "Par exemple « Le Horla de Maupassant ».\n",
    "\n",
    "Une **colonne** correspond à un champ. Par exemple « année de publication ».\n",
    "\n",
    "Une **valeur** est la **donnée** élémentaire contenue dans une **cellule**, c’est-à-dire l’intersection d’une ligne et d’une colonne. Par exemple, l’année de publication du Horla de Maupassant est « 1886 ».\n",
    "\n",
    "Ensuite, on **lance une requête** (sans lance-requêtes) pour demander à la base de données d’extraire des informations. Par exemple, on peut demander tous les livres de Maupassant, ou le nombre de livres fantastiques publiés entre 1880 et 1890."
   ]
  },
  {
   "cell_type": "markdown",
   "metadata": {
    "slideshow": {
     "slide_type": "slide"
    }
   },
   "source": [
    "## Principaux types de bases de données\n",
    "- relationnelle\n",
    "- non relationnelle\n",
    "- SQL (« siquoueul »)\n",
    "- noSQL (« nosiquoueul »)\n",
    "\n",
    "La plupart du temps :\n",
    "- bases de données **relationnelles** en **SQL**\n",
    "- bases de données **non relationnelles** en **noSQL**\n",
    "\n",
    "Le type de base de données indispensable, vu dans ce cours :<br />\n",
    "les bases de données relationnelles en SQL"
   ]
  },
  {
   "cell_type": "markdown",
   "metadata": {
    "slideshow": {
     "slide_type": "slide"
    }
   },
   "source": [
    "## SQL, c’est quoi ?\n",
    "\n",
    "_Structured Query Language_ (= Langage de requêtes structurées)\n",
    "\n",
    "Langage informatique créé en 1974 ayant abouti à une norme internationale\n",
    "\n",
    "Un langage pour décrire la forme du résultat que l’on souhaite obtenir, et non le raisonnement.\n",
    "\n",
    "SQL ≠ SGBD<br />\n",
    "SQL = langage<br />\n",
    "SGBD = logiciel pouvant être utilisé à l’aide d’un langage comme SQL\n",
    "\n",
    "Célèbres SGBD où les requêtes s’écrivent en SQL :\n",
    "\n",
    "Nom     | Prononciation idéale | Prononciation à la française\n",
    "------- | -------------------- | ----------------------------\n",
    "MySQL   | maïèskyouèl     | maïèsküèl\n",
    "SQLite  | sikoueulaïte    | èsküèlite\n",
    "Oracle  | owreukeul       | oracle\n",
    "Microsoft SQL server | maïcrossoft èskyouèl seurveur | microssoft esküèl serveur\n",
    "PostgreSQL | poste-graisse-kyouèl | poste-graisse-küèl\n",
    "\n",
    "Ce tableau est précieux, tout le monde se trompe sur ces prononciations."
   ]
  },
  {
   "cell_type": "markdown",
   "metadata": {
    "slideshow": {
     "slide_type": "slide"
    }
   },
   "source": [
    "## Quel SGBD choisir ?\n",
    "\n",
    "![db](mysql.png)\n",
    "\n",
    "**++** le plus répandu<br />\n",
    "**+-** gratuit mais dirigé par Oracle, et sous licence partiellement open source<br />\n",
    "**--** structure laxiste aboutissant à des pertes de données"
   ]
  },
  {
   "cell_type": "markdown",
   "metadata": {
    "slideshow": {
     "slide_type": "slide"
    }
   },
   "source": [
    "## Quel SGBD choisir ?\n",
    "\n",
    "![db](sqlite.png)\n",
    "\n",
    "**++** le plus léger, il est partout (navigateurs, smartphones, …)<br />\n",
    "**++** open source<br />\n",
    "**--** sournois, car ne respecte aucune des structures pourtant obligatoires à déclarer"
   ]
  },
  {
   "cell_type": "markdown",
   "metadata": {
    "slideshow": {
     "slide_type": "slide"
    }
   },
   "source": [
    "## Quel SGBD choisir ?\n",
    "\n",
    "![db](oracle.png)\n",
    "\n",
    "**++** le plus complet<br />\n",
    "**--** coûte 17 500 € la licence (oui)"
   ]
  },
  {
   "cell_type": "markdown",
   "metadata": {
    "slideshow": {
     "slide_type": "slide"
    }
   },
   "source": [
    "## Quel SGBD choisir ?\n",
    "\n",
    "![db](ms-sql.jpg)\n",
    "\n",
    "**++** coûte moins cher qu’Oracle<br />\n",
    "**--** n’a aucun intérêt par rapport à PostgreSQL"
   ]
  },
  {
   "cell_type": "markdown",
   "metadata": {
    "slideshow": {
     "slide_type": "slide"
    }
   },
   "source": [
    "## Quel SGBD choisir ?\n",
    "\n",
    "![db](postgresql.png)\n",
    "\n",
    "**++** le plus complet et fiable des SGBD open source, quasiment aussi complet qu’Oracle<br />\n",
    "**--** configuration des accès un peu complexe (mais pour une excellente sécurité)"
   ]
  },
  {
   "cell_type": "markdown",
   "metadata": {
    "slideshow": {
     "slide_type": "slide"
    }
   },
   "source": [
    "## Au menu du jour\n",
    "\n",
    "**PostgreSQL** !\n",
    "\n",
    "Parfait pour toutes les types de base de données jusqu’à des millards de données, ce qui suffira toute votre vie.\n",
    "\n",
    "Nous n’aurons pas de problème de configuration des accès car nous passons par un service en ligne gérant ça pour nous."
   ]
  },
  {
   "cell_type": "markdown",
   "metadata": {
    "slideshow": {
     "slide_type": "slide"
    }
   },
   "source": [
    "# Passons à la pratique !"
   ]
  },
  {
   "cell_type": "markdown",
   "metadata": {
    "slideshow": {
     "slide_type": "slide"
    }
   },
   "source": [
    "## Procédure de travail\n",
    "\n",
    "Ouvrez un onglet de navigateur web sur NoriSQL : https://sql.noripyt.com\n",
    "\n",
    "Trois parties :\n",
    "- en haut : commandes SQL structurant la base de données\n",
    "- au milieu : fichiers CSV pour insérer un fichier de données dans une table\n",
    "- en bas : commandes SQL pour effectuer des requêtes\n",
    "\n",
    "Sous les deux champs permettant de remplir des requêtes s’affiche le résultat de ces requêtes, ou les erreurs contenues dans la requête.\n",
    "\n",
    "**À chaque modification** puis lancement, l’URL de NoriSQL change : conservez chaque nouvelle URL pour chaque étape que vous souhaitez sauvegardez ! Créez un document que vous **sauvegardez régulièrement** contenant à chaque modification un **descriptif** de ce que vous venez de faire + l’**URL**."
   ]
  },
  {
   "cell_type": "markdown",
   "metadata": {
    "slideshow": {
     "slide_type": "slide"
    }
   },
   "source": [
    "## Notre projet pour cet ensemble de cours\n",
    "\n",
    "Créer une **base de données de livres**, ceux que vous adorez plus ou moins.\n",
    "\n",
    "Au fur et à mesure de l’avancée du cours, on va rencontrer des problèmes nécessitant d’**affiner la structure** de la base de données.\n",
    "\n",
    "Nous allons tous **collaborer** à un fichier Google Drive servant de source à cette base de données :<br />\n",
    "https://docs.google.com/spreadsheets/d/1xptGD4t671SJrdRum18GsJh65dILbDvHp4bzwD2W--Q/edit?usp=sharing\n",
    "\n",
    "Utiliser ce fichier de source collaboratif permettra de vous faire voir les problématiques de formatage des données, **le problème numéro un auquel vous ferez face**."
   ]
  },
  {
   "cell_type": "markdown",
   "metadata": {
    "slideshow": {
     "slide_type": "slide"
    }
   },
   "source": [
    "## Création d’une table\n",
    "\n",
    "Création de la structure de la table :"
   ]
  },
  {
   "cell_type": "code",
   "execution_count": 2,
   "metadata": {},
   "outputs": [],
   "source": [
    "CREATE TABLE books (id int, title text, author text,\n",
    "                    pages int, is_author_alive boolean);"
   ]
  },
  {
   "cell_type": "markdown",
   "metadata": {},
   "source": [
    "Types de données élémentaires :\n",
    "\n",
    "Type SQL | Exemple de donnée | Traduction\n",
    "-------- | ----------------- | ----------\n",
    "`boolean` | `true` ou `false` | Booléen, soit vrai ou faux\n",
    "`int` | `-723` | Nombre entier\n",
    "`float` | `3.1415` | Nombre à virgule avec précision incertaine (inadapté pour des prix)\n",
    "`text` | `'bonjour'` | Texte libre\n",
    "`varchar(57)` | `'salut'` | Texte libre, jusqu’à 57 caractères\n",
    "`date` | `DATE '2017-10-16'` | Une date\n",
    "`time` | `TIME '10:08:27'` | Une heure\n",
    "`timestamp` | `TIMESTAMP '2017-10-16 10:08:27'`| Un moment dans l’histoire, donc une combinaison de date et heure"
   ]
  },
  {
   "cell_type": "markdown",
   "metadata": {
    "slideshow": {
     "slide_type": "slide"
    }
   },
   "source": [
    "## Ajout de données\n",
    "\n",
    "Ajout sans préciser les colonnes :"
   ]
  },
  {
   "cell_type": "code",
   "execution_count": 3,
   "metadata": {},
   "outputs": [],
   "source": [
    "INSERT INTO books\n",
    "VALUES (1, 'Alice au pays des merveilles', 'Lewis Carroll', 196, false),\n",
    "       (2, 'Les Piliers de la terre', 'Ken Follett', 1050, true);"
   ]
  },
  {
   "cell_type": "markdown",
   "metadata": {},
   "source": [
    "Ajout en précisant les colonnes :"
   ]
  },
  {
   "cell_type": "code",
   "execution_count": 4,
   "metadata": {},
   "outputs": [],
   "source": [
    "INSERT INTO books (id, title, author)\n",
    "VALUES (3, 'De l’autre côté du miroir', 'Lewis Carroll'),\n",
    "       (4, 'Un Monde sans fin', 'Ken Follett');"
   ]
  },
  {
   "cell_type": "markdown",
   "metadata": {
    "slideshow": {
     "slide_type": "subslide"
    }
   },
   "source": [
    "### Exercice 1\n",
    "\n",
    "Insérez au moins 3 de vos livres préférés dans la table `books`.\n",
    "\n",
    "Ajouter ensuite ces livres dans le tableur Google Drive.\n",
    "\n",
    "### Exercice 2\n",
    "\n",
    "À partir du tableur Google Drive, exporter en CSV pour importer toutes les données dans NoriSQL."
   ]
  },
  {
   "cell_type": "markdown",
   "metadata": {
    "slideshow": {
     "slide_type": "slide"
    }
   },
   "source": [
    "## Sélection de données\n",
    "\n",
    "Sélection de toutes les colonnes de toutes les lignes :"
   ]
  },
  {
   "cell_type": "code",
   "execution_count": 5,
   "metadata": {},
   "outputs": [
    {
     "data": {
      "text/html": [
       "<table>\n",
       "<tr><th style=\"text-align: right;\">  id</th><th>title                       </th><th>author       </th><th style=\"text-align: right;\">  pages</th><th style=\"text-align: right;\">  is_author_alive</th></tr>\n",
       "<tr><td style=\"text-align: right;\">   1</td><td>Alice au pays des merveilles</td><td>Lewis Carroll</td><td style=\"text-align: right;\">    196</td><td style=\"text-align: right;\">                0</td></tr>\n",
       "<tr><td style=\"text-align: right;\">   2</td><td>Les Piliers de la terre     </td><td>Ken Follett  </td><td style=\"text-align: right;\">   1050</td><td style=\"text-align: right;\">                1</td></tr>\n",
       "<tr><td style=\"text-align: right;\">   3</td><td>De l’autre côté du miroir   </td><td>Lewis Carroll</td><td style=\"text-align: right;\">       </td><td style=\"text-align: right;\">                 </td></tr>\n",
       "<tr><td style=\"text-align: right;\">   4</td><td>Un Monde sans fin           </td><td>Ken Follett  </td><td style=\"text-align: right;\">       </td><td style=\"text-align: right;\">                 </td></tr>\n",
       "</table>"
      ],
      "text/plain": [
       "  id  title                         author           pages    is_author_alive\n",
       "----  ----------------------------  -------------  -------  -----------------\n",
       "   1  Alice au pays des merveilles  Lewis Carroll      196                  0\n",
       "   2  Les Piliers de la terre       Ken Follett       1050                  1\n",
       "   3  De l’autre côté du miroir     Lewis Carroll\n",
       "   4  Un Monde sans fin             Ken Follett"
      ]
     },
     "metadata": {},
     "output_type": "display_data"
    }
   ],
   "source": [
    "SELECT * FROM books;"
   ]
  },
  {
   "cell_type": "markdown",
   "metadata": {},
   "source": [
    "Sélection de deux colonnes :"
   ]
  },
  {
   "cell_type": "code",
   "execution_count": 6,
   "metadata": {},
   "outputs": [
    {
     "data": {
      "text/html": [
       "<table>\n",
       "<tr><th>title                       </th><th>author       </th></tr>\n",
       "<tr><td>Alice au pays des merveilles</td><td>Lewis Carroll</td></tr>\n",
       "<tr><td>Les Piliers de la terre     </td><td>Ken Follett  </td></tr>\n",
       "<tr><td>De l’autre côté du miroir   </td><td>Lewis Carroll</td></tr>\n",
       "<tr><td>Un Monde sans fin           </td><td>Ken Follett  </td></tr>\n",
       "</table>"
      ],
      "text/plain": [
       "title                         author\n",
       "----------------------------  -------------\n",
       "Alice au pays des merveilles  Lewis Carroll\n",
       "Les Piliers de la terre       Ken Follett\n",
       "De l’autre côté du miroir     Lewis Carroll\n",
       "Un Monde sans fin             Ken Follett"
      ]
     },
     "metadata": {},
     "output_type": "display_data"
    }
   ],
   "source": [
    "SELECT title, author FROM books;"
   ]
  },
  {
   "cell_type": "markdown",
   "metadata": {
    "slideshow": {
     "slide_type": "subslide"
    }
   },
   "source": [
    "### Exercice 3\n",
    "\n",
    "Écrire une requête récupérant le titre et le nombre de pages de tous les livres"
   ]
  },
  {
   "cell_type": "markdown",
   "metadata": {
    "slideshow": {
     "slide_type": "slide"
    }
   },
   "source": [
    "## Alias de colonnes"
   ]
  },
  {
   "cell_type": "code",
   "execution_count": 7,
   "metadata": {},
   "outputs": [
    {
     "data": {
      "text/html": [
       "<table>\n",
       "<tr><th>titre                       </th><th>auteur       </th></tr>\n",
       "<tr><td>Alice au pays des merveilles</td><td>Lewis Carroll</td></tr>\n",
       "<tr><td>Les Piliers de la terre     </td><td>Ken Follett  </td></tr>\n",
       "<tr><td>De l’autre côté du miroir   </td><td>Lewis Carroll</td></tr>\n",
       "<tr><td>Un Monde sans fin           </td><td>Ken Follett  </td></tr>\n",
       "</table>"
      ],
      "text/plain": [
       "titre                         auteur\n",
       "----------------------------  -------------\n",
       "Alice au pays des merveilles  Lewis Carroll\n",
       "Les Piliers de la terre       Ken Follett\n",
       "De l’autre côté du miroir     Lewis Carroll\n",
       "Un Monde sans fin             Ken Follett"
      ]
     },
     "metadata": {},
     "output_type": "display_data"
    }
   ],
   "source": [
    "SELECT title AS titre, author AS auteur FROM books;"
   ]
  },
  {
   "cell_type": "markdown",
   "metadata": {
    "slideshow": {
     "slide_type": "subslide"
    }
   },
   "source": [
    "### Exercice 4\n",
    "\n",
    "Écrire une requête récupérant le nom du livre et le nombre de pages, avec les noms de colonne `nom` et `nombre_de_pages`."
   ]
  },
  {
   "cell_type": "markdown",
   "metadata": {
    "slideshow": {
     "slide_type": "slide"
    }
   },
   "source": [
    "## Limiter le nombre de données récupérées\n",
    "\n",
    "La plupart des bases de données sont volumineuses, il est inutile d’aller chercher systématiquement la totalité des données.\n",
    "\n",
    "Pour limiter le nombre de résultats :"
   ]
  },
  {
   "cell_type": "code",
   "execution_count": 8,
   "metadata": {},
   "outputs": [
    {
     "data": {
      "text/html": [
       "<table>\n",
       "<tr><th style=\"text-align: right;\">  id</th><th>title                       </th><th>author       </th><th style=\"text-align: right;\">  pages</th><th style=\"text-align: right;\">  is_author_alive</th></tr>\n",
       "<tr><td style=\"text-align: right;\">   1</td><td>Alice au pays des merveilles</td><td>Lewis Carroll</td><td style=\"text-align: right;\">    196</td><td style=\"text-align: right;\">                0</td></tr>\n",
       "<tr><td style=\"text-align: right;\">   2</td><td>Les Piliers de la terre     </td><td>Ken Follett  </td><td style=\"text-align: right;\">   1050</td><td style=\"text-align: right;\">                1</td></tr>\n",
       "<tr><td style=\"text-align: right;\">   3</td><td>De l’autre côté du miroir   </td><td>Lewis Carroll</td><td style=\"text-align: right;\">       </td><td style=\"text-align: right;\">                 </td></tr>\n",
       "</table>"
      ],
      "text/plain": [
       "  id  title                         author           pages    is_author_alive\n",
       "----  ----------------------------  -------------  -------  -----------------\n",
       "   1  Alice au pays des merveilles  Lewis Carroll      196                  0\n",
       "   2  Les Piliers de la terre       Ken Follett       1050                  1\n",
       "   3  De l’autre côté du miroir     Lewis Carroll"
      ]
     },
     "metadata": {},
     "output_type": "display_data"
    }
   ],
   "source": [
    "SELECT * FROM books LIMIT 3;"
   ]
  },
  {
   "cell_type": "markdown",
   "metadata": {},
   "source": [
    "Pour sauter les premiers résultats :"
   ]
  },
  {
   "cell_type": "code",
   "execution_count": 9,
   "metadata": {},
   "outputs": [
    {
     "data": {
      "text/html": [
       "<table>\n",
       "<tr><th style=\"text-align: right;\">  id</th><th>title                    </th><th>author       </th><th style=\"text-align: right;\">  pages</th><th style=\"text-align: right;\">  is_author_alive</th></tr>\n",
       "<tr><td style=\"text-align: right;\">   3</td><td>De l’autre côté du miroir</td><td>Lewis Carroll</td><td style=\"text-align: right;\">       </td><td style=\"text-align: right;\">                 </td></tr>\n",
       "<tr><td style=\"text-align: right;\">   4</td><td>Un Monde sans fin        </td><td>Ken Follett  </td><td style=\"text-align: right;\">       </td><td style=\"text-align: right;\">                 </td></tr>\n",
       "</table>"
      ],
      "text/plain": [
       "  id  title                      author           pages    is_author_alive\n",
       "----  -------------------------  -------------  -------  -----------------\n",
       "   3  De l’autre côté du miroir  Lewis Carroll\n",
       "   4  Un Monde sans fin          Ken Follett"
      ]
     },
     "metadata": {},
     "output_type": "display_data"
    }
   ],
   "source": [
    "SELECT * FROM books OFFSET 2;"
   ]
  },
  {
   "cell_type": "markdown",
   "metadata": {
    "slideshow": {
     "slide_type": "subslide"
    }
   },
   "source": [
    "### Exercice 5\n",
    "\n",
    "Dans un site Internet, on affiche plusieurs pages de résultats.\n",
    "\n",
    "Chaque page fait 4 résultats.\n",
    "\n",
    "Écrire la requête listant les résultats de la page 2."
   ]
  },
  {
   "cell_type": "markdown",
   "metadata": {
    "slideshow": {
     "slide_type": "slide"
    }
   },
   "source": [
    "## Filtrer les données\n",
    "\n",
    "Sélection de tous les livres écrits par Lewis Carroll :"
   ]
  },
  {
   "cell_type": "code",
   "execution_count": 10,
   "metadata": {},
   "outputs": [
    {
     "data": {
      "text/html": [
       "<table>\n",
       "<tr><th style=\"text-align: right;\">  id</th><th>title                       </th><th>author       </th><th style=\"text-align: right;\">  pages</th><th style=\"text-align: right;\">  is_author_alive</th></tr>\n",
       "<tr><td style=\"text-align: right;\">   1</td><td>Alice au pays des merveilles</td><td>Lewis Carroll</td><td style=\"text-align: right;\">    196</td><td style=\"text-align: right;\">                0</td></tr>\n",
       "<tr><td style=\"text-align: right;\">   3</td><td>De l’autre côté du miroir   </td><td>Lewis Carroll</td><td style=\"text-align: right;\">       </td><td style=\"text-align: right;\">                 </td></tr>\n",
       "</table>"
      ],
      "text/plain": [
       "  id  title                         author           pages    is_author_alive\n",
       "----  ----------------------------  -------------  -------  -----------------\n",
       "   1  Alice au pays des merveilles  Lewis Carroll      196                  0\n",
       "   3  De l’autre côté du miroir     Lewis Carroll"
      ]
     },
     "metadata": {},
     "output_type": "display_data"
    }
   ],
   "source": [
    "SELECT * FROM books WHERE author = 'Lewis Carroll';"
   ]
  },
  {
   "cell_type": "markdown",
   "metadata": {},
   "source": [
    "Sélection de tous les livres écrits par Ken Follett de plus de 1100 pages :"
   ]
  },
  {
   "cell_type": "code",
   "execution_count": 11,
   "metadata": {},
   "outputs": [
    {
     "data": {
      "text/html": [
       "<table>\n",
       "<tr><th style=\"text-align: right;\">  id</th><th>title                  </th><th>author     </th><th style=\"text-align: right;\">  pages</th><th style=\"text-align: right;\">  is_author_alive</th></tr>\n",
       "<tr><td style=\"text-align: right;\">   2</td><td>Les Piliers de la terre</td><td>Ken Follett</td><td style=\"text-align: right;\">   1050</td><td style=\"text-align: right;\">                1</td></tr>\n",
       "</table>"
      ],
      "text/plain": [
       "  id  title                    author         pages    is_author_alive\n",
       "----  -----------------------  -----------  -------  -----------------\n",
       "   2  Les Piliers de la terre  Ken Follett     1050                  1"
      ]
     },
     "metadata": {},
     "output_type": "display_data"
    }
   ],
   "source": [
    "SELECT * FROM books WHERE author = 'Ken Follett' AND pages < 1100;"
   ]
  },
  {
   "cell_type": "markdown",
   "metadata": {
    "slideshow": {
     "slide_type": "subslide"
    }
   },
   "source": [
    "### Exercice 6\n",
    "\n",
    "Écrire une requête récupérant les livres de votre auteur préféré."
   ]
  },
  {
   "cell_type": "markdown",
   "metadata": {
    "slideshow": {
     "slide_type": "slide"
    }
   },
   "source": [
    "## Comparaisons\n",
    "\n",
    "Exemple   | Traduction\n",
    "--------- | ---------\n",
    "`a = b`     | `a` est égal à `b`\n",
    "`a != b`        | `a` est différent de `b`\n",
    "`a > b` | `a` est supérieur à `b`\n",
    "`a < b` | `a` est inférieur à `b`\n",
    "`a >= b` | `a` est supérieur ou égal à `b`\n",
    "`a <= b` | `a` est inférieur ou égal à `b`\n",
    "`a IS NULL` | `a` n’a pas été rempli (tout type sauf texte)\n",
    "`a IN (1, 2, 3)` | `a` est parmi les valeurs `1`, `2` ou `3`\n",
    "`a LIKE '%feuill__'` | `a` vaut `'feuillue'` ou `'portefeuilles'`\n",
    "\n",
    "Combinaison de comparaisons :\n",
    "\n",
    "Exemple | Traduction\n",
    "------- | ----------\n",
    "`a AND b` | `true` si à la fois `a` et `b` sont `true`\n",
    "`a OR b` | `true` si soit `a` ou `b` est `true`, ou les deux\n",
    "`NOT a` | `true` si `a` est `false`"
   ]
  },
  {
   "cell_type": "markdown",
   "metadata": {
    "slideshow": {
     "slide_type": "subslide"
    }
   },
   "source": [
    "### Exercice 7\n",
    "\n",
    "Écrire une requête récupérant les livres dont le titre commence par « Le ».\n",
    "\n",
    "### Exercice 8\n",
    "\n",
    "Écrire une requête récupérant les livres dont l’auteur est toujours vivant et a un nom contenant un « e ».\n",
    "\n",
    "### Exercice 9\n",
    "\n",
    "Écrire une requête récupérant les livres dont l’un des deux champs suivants (ou les deux) n’est pas défini : `pages` ou `is_author_alive`"
   ]
  },
  {
   "cell_type": "markdown",
   "metadata": {
    "slideshow": {
     "slide_type": "slide"
    }
   },
   "source": [
    "## Mise à jour de données\n",
    "\n",
    "Encore un ajout de données :"
   ]
  },
  {
   "cell_type": "code",
   "execution_count": 12,
   "metadata": {},
   "outputs": [],
   "source": [
    "INSERT INTO books (title) VALUES ('La Chute des géants');"
   ]
  },
  {
   "cell_type": "markdown",
   "metadata": {},
   "source": [
    "Oups, j’ai oublié quelques infos !"
   ]
  },
  {
   "cell_type": "code",
   "execution_count": 13,
   "metadata": {},
   "outputs": [],
   "source": [
    "UPDATE books\n",
    "SET id = 5, author = 'Ken Follett'\n",
    "WHERE title = 'La Chute des géants';"
   ]
  },
  {
   "cell_type": "markdown",
   "metadata": {},
   "source": [
    "Est-ce que ça a marché ?"
   ]
  },
  {
   "cell_type": "code",
   "execution_count": 14,
   "metadata": {},
   "outputs": [
    {
     "data": {
      "text/html": [
       "<table>\n",
       "<tr><th style=\"text-align: right;\">  id</th><th>title                  </th><th>author     </th><th style=\"text-align: right;\">  pages</th><th style=\"text-align: right;\">  is_author_alive</th></tr>\n",
       "<tr><td style=\"text-align: right;\">   2</td><td>Les Piliers de la terre</td><td>Ken Follett</td><td style=\"text-align: right;\">   1050</td><td style=\"text-align: right;\">                1</td></tr>\n",
       "<tr><td style=\"text-align: right;\">   4</td><td>Un Monde sans fin      </td><td>Ken Follett</td><td style=\"text-align: right;\">       </td><td style=\"text-align: right;\">                 </td></tr>\n",
       "<tr><td style=\"text-align: right;\">   5</td><td>La Chute des géants    </td><td>Ken Follett</td><td style=\"text-align: right;\">       </td><td style=\"text-align: right;\">                 </td></tr>\n",
       "</table>"
      ],
      "text/plain": [
       "  id  title                    author         pages    is_author_alive\n",
       "----  -----------------------  -----------  -------  -----------------\n",
       "   2  Les Piliers de la terre  Ken Follett     1050                  1\n",
       "   4  Un Monde sans fin        Ken Follett\n",
       "   5  La Chute des géants      Ken Follett"
      ]
     },
     "metadata": {},
     "output_type": "display_data"
    }
   ],
   "source": [
    "SELECT * FROM books WHERE author = 'Ken Follett';"
   ]
  },
  {
   "cell_type": "markdown",
   "metadata": {},
   "source": [
    "Oui !"
   ]
  },
  {
   "cell_type": "markdown",
   "metadata": {
    "slideshow": {
     "slide_type": "subslide"
    }
   },
   "source": [
    "### Exercice 10\n",
    "\n",
    "Remplir automatiquement le champ `is_author_alive` de tous les livres où il n’est pas défini. Remplir par défaut la valeur `false`."
   ]
  },
  {
   "cell_type": "markdown",
   "metadata": {
    "slideshow": {
     "slide_type": "slide"
    }
   },
   "source": [
    "## Modification de la structure\n",
    "\n",
    "Dans la vie professionnelle, on ne supprime pas les tables pour les recréer à chaque fois comme on fait aujourd’hui ensemble.\n",
    "\n",
    "À la place, on fait **migrer** la base de données en modifiant sa structure.\n",
    "\n",
    "Si on souhaite ajouter un champ :"
   ]
  },
  {
   "cell_type": "code",
   "execution_count": 15,
   "metadata": {},
   "outputs": [],
   "source": [
    "ALTER TABLE books ADD COLUMN publication_year int;"
   ]
  },
  {
   "cell_type": "code",
   "execution_count": 16,
   "metadata": {
    "slideshow": {
     "slide_type": "skip"
    }
   },
   "outputs": [],
   "source": [
    "ALTER TABLE books DROP COLUMN publication_year;"
   ]
  },
  {
   "cell_type": "markdown",
   "metadata": {},
   "source": [
    "Mettre une valeur par défaut :"
   ]
  },
  {
   "cell_type": "code",
   "execution_count": 17,
   "metadata": {},
   "outputs": [],
   "source": [
    "ALTER TABLE books ALTER COLUMN title SET DEFAULT '[Titre inconnu]';"
   ]
  },
  {
   "cell_type": "markdown",
   "metadata": {},
   "source": [
    "Mais ce qui nous intéresse, c’est de rendre des champs obligatoires :"
   ]
  },
  {
   "cell_type": "code",
   "execution_count": 18,
   "metadata": {},
   "outputs": [],
   "source": [
    "ALTER TABLE books ALTER COLUMN title SET NOT NULL,\n",
    "                  ALTER COLUMN author SET NOT NULL;"
   ]
  },
  {
   "cell_type": "markdown",
   "metadata": {},
   "source": [
    "Impossible désormais de ne pas remplir les champs titre et auteur !\n",
    "\n",
    "Liste complète des possibilités de modification de structure :\n",
    "https://www.postgresql.org/docs/10/static/sql-altertable.html"
   ]
  },
  {
   "cell_type": "markdown",
   "metadata": {
    "slideshow": {
     "slide_type": "subslide"
    }
   },
   "source": [
    "### Exercice 11\n",
    "\n",
    "Rendre obligatoire l’identifiant et le titre.\n",
    "\n",
    "Insérer une ligne sans l’identifiant, constater ce qu’il se passe.\n",
    "\n",
    "Même chose pour le titre.\n",
    "\n",
    "### Exercice 12\n",
    "\n",
    "Modifier la structure pour qu’on considère qu’un auteur soit décédé par défaut."
   ]
  },
  {
   "cell_type": "code",
   "execution_count": 19,
   "metadata": {
    "slideshow": {
     "slide_type": "skip"
    }
   },
   "outputs": [],
   "source": [
    "ALTER TABLE books ALTER COLUMN id SET NOT NULL;\n",
    "ALTER TABLE books ALTER COLUMN is_author_alive SET DEFAULT false;"
   ]
  },
  {
   "cell_type": "markdown",
   "metadata": {
    "slideshow": {
     "slide_type": "slide"
    }
   },
   "source": [
    "## Suppression de données"
   ]
  },
  {
   "cell_type": "code",
   "execution_count": null,
   "metadata": {},
   "outputs": [],
   "source": [
    "INSERT INTO books (title, author)\n",
    "VALUES ('Alice in Wonderland', 'Lewis Carroll');"
   ]
  },
  {
   "cell_type": "markdown",
   "metadata": {},
   "source": [
    "Oups, un doublon !\n",
    "\n",
    "Retirons-le :"
   ]
  },
  {
   "cell_type": "code",
   "execution_count": 21,
   "metadata": {},
   "outputs": [],
   "source": [
    "DELETE FROM books\n",
    "WHERE title = 'Alice in Wonderland';"
   ]
  },
  {
   "cell_type": "markdown",
   "metadata": {},
   "source": [
    "Et si le titre avait été le même ?"
   ]
  },
  {
   "cell_type": "markdown",
   "metadata": {
    "slideshow": {
     "slide_type": "subslide"
    }
   },
   "source": [
    "### Exercice 13\n",
    "\n",
    "Supprimer tous les livres d’un auteur que vous n’aimez pas.\n",
    "\n",
    "(C’est le seul type d’autodafé qu’il est convenable de faire dans sa vie.)"
   ]
  },
  {
   "cell_type": "markdown",
   "metadata": {
    "slideshow": {
     "slide_type": "slide"
    }
   },
   "source": [
    "## Les identifiants automatiques, indispensables"
   ]
  },
  {
   "cell_type": "markdown",
   "metadata": {},
   "source": [
    "Définir des identifiants soi-même, tâche rébarbative et source d’erreurs.\n",
    "\n",
    "Les **identifiants auto-incrémentés**, ou numéros de série, sont là pour ça.\n",
    "\n",
    "À chaque nouvel ajout dans la base de données, nouvel identifiant créé.\n",
    "\n",
    "**Très important !** L’identifiant d’une donnée supprimée n’est jamais réutilisé.\n",
    "\n",
    "Pour créer un identifiant auto-incrémenté, on dispose du type `serial`."
   ]
  },
  {
   "cell_type": "markdown",
   "metadata": {
    "slideshow": {
     "slide_type": "subslide"
    }
   },
   "source": [
    "### Exercice 14\n",
    "\n",
    "Supprimer la table.\n",
    "\n",
    "Recréer la table en changeant l’identifiant de `books` en un identifiant auto-incrémenté.\n",
    "\n",
    "Ne pas réimporter les données.\n",
    "\n",
    "Insérer une ligne sans préciser `id`. Sélectionner toutes les lignes pour vérifier si `id` s’est rempli automatiquement.\n",
    "\n",
    "Note : pour cette modification de structure importante et uniquement celle-là, il est difficile (mais possible) de le faire sans supprimer la table. C’est pourquoi on s’autorise ici à ne pas faire de commande `ALTER TABLE`."
   ]
  },
  {
   "cell_type": "code",
   "execution_count": 22,
   "metadata": {
    "slideshow": {
     "slide_type": "skip"
    }
   },
   "outputs": [],
   "source": [
    "DROP TABLE books;\n",
    "\n",
    "CREATE TABLE books (id serial, title text NOT NULL, author text, pages int, is_author_alive boolean);\n",
    "\n",
    "INSERT INTO books (title, author, pages, is_author_alive)\n",
    "VALUES ('Alice au pays des merveilles', 'Lewis Carroll', 196, false),\n",
    "       ('Les Piliers de la terre', 'Ken Follett', 1050, true),\n",
    "       ('De l’autre côté du miroir', 'Lewis Carroll', NULL, NULL),\n",
    "       ('Un Monde sans fin', 'Ken Follett', NULL, NULL),\n",
    "       ('La Chute des géants', 'Ken Follett', NULL, NULL);"
   ]
  },
  {
   "cell_type": "markdown",
   "metadata": {
    "slideshow": {
     "slide_type": "slide"
    }
   },
   "source": [
    "# Un problème sauvage apparaît !"
   ]
  },
  {
   "cell_type": "markdown",
   "metadata": {
    "slideshow": {
     "slide_type": "slide"
    }
   },
   "source": [
    "## Problème : doublons possibles\n",
    "\n",
    "Utiliser le type `serial` permet de ne plus avoir à saisir d’identifiants.\n",
    "\n",
    "Un problème subsiste avec `id`, on peut utiliser deux fois le même identifiant :"
   ]
  },
  {
   "cell_type": "code",
   "execution_count": 23,
   "metadata": {},
   "outputs": [],
   "source": [
    "INSERT INTO books (id, title, author)\n",
    "VALUES (5, 'L’Hiver du monde', 'Ken Follett');"
   ]
  },
  {
   "cell_type": "code",
   "execution_count": 24,
   "metadata": {},
   "outputs": [
    {
     "data": {
      "text/html": [
       "<table>\n",
       "<tr><th style=\"text-align: right;\">  id</th><th>title              </th><th>author     </th><th style=\"text-align: right;\">  pages</th><th style=\"text-align: right;\">  is_author_alive</th></tr>\n",
       "<tr><td style=\"text-align: right;\">   5</td><td>La Chute des géants</td><td>Ken Follett</td><td style=\"text-align: right;\">       </td><td style=\"text-align: right;\">                 </td></tr>\n",
       "<tr><td style=\"text-align: right;\">   5</td><td>L’Hiver du monde   </td><td>Ken Follett</td><td style=\"text-align: right;\">       </td><td style=\"text-align: right;\">                 </td></tr>\n",
       "</table>"
      ],
      "text/plain": [
       "  id  title                author         pages    is_author_alive\n",
       "----  -------------------  -----------  -------  -----------------\n",
       "   5  La Chute des géants  Ken Follett\n",
       "   5  L’Hiver du monde     Ken Follett"
      ]
     },
     "metadata": {},
     "output_type": "display_data"
    }
   ],
   "source": [
    "SELECT * FROM books WHERE id = 5;"
   ]
  },
  {
   "cell_type": "code",
   "execution_count": 25,
   "metadata": {
    "slideshow": {
     "slide_type": "skip"
    }
   },
   "outputs": [],
   "source": [
    "DELETE FROM books WHERE id = 5 AND title = 'L’Hiver du monde';"
   ]
  },
  {
   "cell_type": "markdown",
   "metadata": {
    "slideshow": {
     "slide_type": "slide"
    }
   },
   "source": [
    "## Clé primaire, la solution\n",
    "\n",
    "On peut marquer une colonne comme étant **clé primaire**, ou ***primary key***. Ainsi, elle ne peut avoir deux fois la même valeur.\n",
    "\n",
    "De plus, la clé primaire est **la colonne officiellement utilisée comme identifiant** par la base de données pour cette table.\n",
    "\n",
    "On peut donc faire une clé primaire sur n’importe quelle colonne de n’importe quel type, tant que les données ne sont pas jamais en double. Par exemple :"
   ]
  },
  {
   "cell_type": "code",
   "execution_count": 26,
   "metadata": {},
   "outputs": [],
   "source": [
    "CREATE TABLE countries (name varchar(100) PRIMARY KEY);\n",
    "INSERT INTO countries VALUES ('France'), ('Belgique'), ('Italie');"
   ]
  },
  {
   "cell_type": "markdown",
   "metadata": {
    "slideshow": {
     "slide_type": "slide"
    }
   },
   "source": [
    "## Clé primaire, la solution (suite)\n",
    "\n",
    "Rien de différent de d’habitude en sélectionnant les données :"
   ]
  },
  {
   "cell_type": "code",
   "execution_count": 27,
   "metadata": {},
   "outputs": [
    {
     "data": {
      "text/html": [
       "<table>\n",
       "<tr><th>name    </th></tr>\n",
       "<tr><td>France  </td></tr>\n",
       "<tr><td>Belgique</td></tr>\n",
       "<tr><td>Italie  </td></tr>\n",
       "</table>"
      ],
      "text/plain": [
       "name\n",
       "--------\n",
       "France\n",
       "Belgique\n",
       "Italie"
      ]
     },
     "metadata": {},
     "output_type": "display_data"
    }
   ],
   "source": [
    "SELECT * FROM countries;"
   ]
  },
  {
   "cell_type": "markdown",
   "metadata": {},
   "source": [
    "Toutefois, il est désormais impossible d’avoir un pays en doublon.\n",
    "\n",
    "Dans le cas des livres, utiliser le titre comme identifiant est ambigu: si on vous parle de _Confessions_, pouvez-vous savoir de quel livre précis il s’agit ? Il y en a tellement eu, c’est impossible.\n",
    "\n",
    "Mais dans le cas des pays, pas d’ambigüité: la liste est courte et stable, il ne devrait jamais y avoir de confusion sur le pays dont il s’agit quand on donne son nom. Utiliser le nom comme identifiant au lieu d’un nombre est ici adapté."
   ]
  },
  {
   "cell_type": "markdown",
   "metadata": {
    "slideshow": {
     "slide_type": "subslide"
    }
   },
   "source": [
    "### Exercice 15\n",
    "\n",
    "Faire votre propre table contenant quelques pays.\n",
    "\n",
    "Essayer d’insérer un doublon dans cette table pour constater ce qu’il se passe.\n",
    "\n",
    "### Exercice 16\n",
    "\n",
    "Supprimer la table des pays.\n",
    "\n",
    "Trouver d’autres scénarios que celui vu dans la slide précédente pour « forcer » la création d’un doublon dans la table `books`.\n",
    "\n",
    "Pistes :\n",
    "- il n’y a pas que la commande `INSERT INTO` pour modifier les données de la table.\n",
    "- il n’y a pas forcément besoin de préciser une valeur à `id` pour créer un doublon.\n",
    "- un identifiant n’existant plus dans la table ne doit jamais être réutilisé.\n",
    "\n",
    "Réécrire table de livres pour que la colonne `id` soit la clé primaire de la table.\n",
    "\n",
    "Tenter à nouveau de créer des doublons de plusieurs manières différentes une fois la clé primaire créée."
   ]
  },
  {
   "cell_type": "code",
   "execution_count": 28,
   "metadata": {
    "slideshow": {
     "slide_type": "skip"
    }
   },
   "outputs": [
    {
     "data": {
      "text/html": [
       "<table>\n",
       "<tr><th style=\"text-align: right;\">  id</th><th>title                       </th><th>author       </th><th style=\"text-align: right;\">  pages</th><th style=\"text-align: right;\">  is_author_alive</th></tr>\n",
       "<tr><td style=\"text-align: right;\">   1</td><td>Alice au pays des merveilles</td><td>Lewis Carroll</td><td style=\"text-align: right;\">    196</td><td style=\"text-align: right;\">                0</td></tr>\n",
       "<tr><td style=\"text-align: right;\">   2</td><td>Les Piliers de la terre     </td><td>Ken Follett  </td><td style=\"text-align: right;\">   1050</td><td style=\"text-align: right;\">                1</td></tr>\n",
       "<tr><td style=\"text-align: right;\">   3</td><td>De l’autre côté du miroir   </td><td>Lewis Carroll</td><td style=\"text-align: right;\">       </td><td style=\"text-align: right;\">                 </td></tr>\n",
       "<tr><td style=\"text-align: right;\">   4</td><td>Un Monde sans fin           </td><td>Ken Follett  </td><td style=\"text-align: right;\">       </td><td style=\"text-align: right;\">                 </td></tr>\n",
       "<tr><td style=\"text-align: right;\">   5</td><td>La Chute des géants         </td><td>Ken Follett  </td><td style=\"text-align: right;\">       </td><td style=\"text-align: right;\">                 </td></tr>\n",
       "</table>"
      ],
      "text/plain": [
       "  id  title                         author           pages    is_author_alive\n",
       "----  ----------------------------  -------------  -------  -----------------\n",
       "   1  Alice au pays des merveilles  Lewis Carroll      196                  0\n",
       "   2  Les Piliers de la terre       Ken Follett       1050                  1\n",
       "   3  De l’autre côté du miroir     Lewis Carroll\n",
       "   4  Un Monde sans fin             Ken Follett\n",
       "   5  La Chute des géants           Ken Follett"
      ]
     },
     "metadata": {},
     "output_type": "display_data"
    }
   ],
   "source": [
    "DROP TABLE books;\n",
    "\n",
    "CREATE TABLE books (id serial PRIMARY KEY, title text NOT NULL, author text, pages int, is_author_alive boolean);\n",
    "\n",
    "INSERT INTO books (title, author, pages, is_author_alive)\n",
    "VALUES ('Alice au pays des merveilles', 'Lewis Carroll', 196, false),\n",
    "       ('Les Piliers de la terre', 'Ken Follett', 1050, true),\n",
    "       ('De l’autre côté du miroir', 'Lewis Carroll', NULL, NULL),\n",
    "       ('Un Monde sans fin', 'Ken Follett', NULL, NULL),\n",
    "       ('La Chute des géants', 'Ken Follett', NULL, NULL);\n",
    "\n",
    "SELECT * FROM books;"
   ]
  },
  {
   "cell_type": "markdown",
   "metadata": {
    "slideshow": {
     "slide_type": "slide"
    }
   },
   "source": [
    "## Supprimer une table\n",
    "\n",
    "Pour supprimer une table, il suffit d’utiliser cette syntaxe :"
   ]
  },
  {
   "cell_type": "code",
   "execution_count": 29,
   "metadata": {},
   "outputs": [],
   "source": [
    "DROP TABLE countries;"
   ]
  },
  {
   "cell_type": "markdown",
   "metadata": {},
   "source": [
    "Cette commande donne une erreur lorsque la table n’existe pas, ce qui est normal et souhaitable.\n",
    "\n",
    "Toutefois, il existe un raccourci pour supprimer la table et ne pas déclencher d’erreur si elle n’existe pas :"
   ]
  },
  {
   "cell_type": "code",
   "execution_count": 30,
   "metadata": {},
   "outputs": [],
   "source": [
    "DROP TABLE IF EXISTS countries;"
   ]
  },
  {
   "cell_type": "markdown",
   "metadata": {
    "slideshow": {
     "slide_type": "slide"
    }
   },
   "source": [
    "## Agréger les données\n",
    "\n",
    "Sélection du nombre de livres :"
   ]
  },
  {
   "cell_type": "code",
   "execution_count": 31,
   "metadata": {},
   "outputs": [
    {
     "data": {
      "text/html": [
       "<table>\n",
       "<tr><th style=\"text-align: right;\">  count</th></tr>\n",
       "<tr><td style=\"text-align: right;\">      5</td></tr>\n",
       "</table>"
      ],
      "text/plain": [
       "  count\n",
       "-------\n",
       "      5"
      ]
     },
     "metadata": {},
     "output_type": "display_data"
    }
   ],
   "source": [
    "SELECT count(*) FROM books;"
   ]
  },
  {
   "cell_type": "markdown",
   "metadata": {},
   "source": [
    "Sélection du nombre total de pages dans la table :"
   ]
  },
  {
   "cell_type": "code",
   "execution_count": 32,
   "metadata": {},
   "outputs": [
    {
     "data": {
      "text/html": [
       "<table>\n",
       "<tr><th style=\"text-align: right;\">  sum</th></tr>\n",
       "<tr><td style=\"text-align: right;\"> 1246</td></tr>\n",
       "</table>"
      ],
      "text/plain": [
       "  sum\n",
       "-----\n",
       " 1246"
      ]
     },
     "metadata": {},
     "output_type": "display_data"
    }
   ],
   "source": [
    "SELECT sum(pages) FROM books;"
   ]
  },
  {
   "cell_type": "markdown",
   "metadata": {},
   "source": [
    "Liste agrégations disponibles : https://www.postgresql.org/docs/10/static/functions-aggregate.html\n",
    "\n",
    "Notamment `min`, `max` et `avg`."
   ]
  },
  {
   "cell_type": "markdown",
   "metadata": {
    "slideshow": {
     "slide_type": "subslide"
    }
   },
   "source": [
    "### Exercice 17\n",
    "\n",
    "Écrire une requête récupérant le nombre de livres écrits par votre auteur préféré.\n",
    "\n",
    "### Exercice 18\n",
    "\n",
    "Écrire une requête récupérant le nombre de livres contenant la syllabe `tion` dans le titre.\n",
    "\n",
    "### Exercice 19\n",
    "\n",
    "Écrire une requête calculant le nombre moyen de pages par livre.\n",
    "\n",
    "### Exercice 20\n",
    "\n",
    "Écrire une requête calculant le pourcentage de livres écrits par des auteurs vivants.\n",
    "\n",
    "Indices :\n",
    "- on peut écrire un filtre dans une agrégation `count` à la place de `*`. Il n’y a pas à mettre de `WHERE`.\n",
    "- Pour obtenir un résultat de type `float` dans une division de nombre entiers, il faut transformer au moins un des deux nombres en `float`, en faisant `CAST(my_number AS float)`."
   ]
  },
  {
   "cell_type": "code",
   "execution_count": 33,
   "metadata": {
    "slideshow": {
     "slide_type": "skip"
    }
   },
   "outputs": [
    {
     "data": {
      "text/html": [
       "<table>\n",
       "<tr><th>alive_ratio  </th></tr>\n",
       "<tr><td>20 %         </td></tr>\n",
       "</table>"
      ],
      "text/plain": [
       "alive_ratio\n",
       "-------------\n",
       "20 %"
      ]
     },
     "metadata": {},
     "output_type": "display_data"
    }
   ],
   "source": [
    "SELECT count(*) FROM books WHERE author = 'Ken Follett';\n",
    "SELECT count(*) FROM books WHERE title = '%tion%';\n",
    "SELECT avg(pages) FROM books;\n",
    "\n",
    "SELECT 100 * CAST(count(CASE WHEN is_author_alive THEN true\n",
    "                        ELSE NULL END)\n",
    "                  AS float)\n",
    "       / count(*) || ' %' AS alive_ratio\n",
    "FROM books;"
   ]
  },
  {
   "cell_type": "markdown",
   "metadata": {
    "slideshow": {
     "slide_type": "slide"
    }
   },
   "source": [
    "## Ordonner les données\n",
    "\n",
    "Ordonner les livres par ordre alphabétique croissant de titre :"
   ]
  },
  {
   "cell_type": "code",
   "execution_count": 34,
   "metadata": {},
   "outputs": [
    {
     "data": {
      "text/html": [
       "<table>\n",
       "<tr><th style=\"text-align: right;\">  id</th><th>title                       </th><th>author       </th><th style=\"text-align: right;\">  pages</th><th style=\"text-align: right;\">  is_author_alive</th></tr>\n",
       "<tr><td style=\"text-align: right;\">   1</td><td>Alice au pays des merveilles</td><td>Lewis Carroll</td><td style=\"text-align: right;\">    196</td><td style=\"text-align: right;\">                0</td></tr>\n",
       "<tr><td style=\"text-align: right;\">   3</td><td>De l’autre côté du miroir   </td><td>Lewis Carroll</td><td style=\"text-align: right;\">       </td><td style=\"text-align: right;\">                 </td></tr>\n",
       "<tr><td style=\"text-align: right;\">   5</td><td>La Chute des géants         </td><td>Ken Follett  </td><td style=\"text-align: right;\">       </td><td style=\"text-align: right;\">                 </td></tr>\n",
       "<tr><td style=\"text-align: right;\">   2</td><td>Les Piliers de la terre     </td><td>Ken Follett  </td><td style=\"text-align: right;\">   1050</td><td style=\"text-align: right;\">                1</td></tr>\n",
       "<tr><td style=\"text-align: right;\">   4</td><td>Un Monde sans fin           </td><td>Ken Follett  </td><td style=\"text-align: right;\">       </td><td style=\"text-align: right;\">                 </td></tr>\n",
       "</table>"
      ],
      "text/plain": [
       "  id  title                         author           pages    is_author_alive\n",
       "----  ----------------------------  -------------  -------  -----------------\n",
       "   1  Alice au pays des merveilles  Lewis Carroll      196                  0\n",
       "   3  De l’autre côté du miroir     Lewis Carroll\n",
       "   5  La Chute des géants           Ken Follett\n",
       "   2  Les Piliers de la terre       Ken Follett       1050                  1\n",
       "   4  Un Monde sans fin             Ken Follett"
      ]
     },
     "metadata": {},
     "output_type": "display_data"
    }
   ],
   "source": [
    "SELECT * FROM books ORDER BY title;"
   ]
  },
  {
   "cell_type": "markdown",
   "metadata": {},
   "source": [
    "Ordonner les livres par ordre alphabétique croissant d’auteur, puis par ordre décroissant de titre :"
   ]
  },
  {
   "cell_type": "code",
   "execution_count": 35,
   "metadata": {},
   "outputs": [
    {
     "data": {
      "text/html": [
       "<table>\n",
       "<tr><th style=\"text-align: right;\">  id</th><th>title                       </th><th>author       </th><th style=\"text-align: right;\">  pages</th><th style=\"text-align: right;\">  is_author_alive</th></tr>\n",
       "<tr><td style=\"text-align: right;\">   4</td><td>Un Monde sans fin           </td><td>Ken Follett  </td><td style=\"text-align: right;\">       </td><td style=\"text-align: right;\">                 </td></tr>\n",
       "<tr><td style=\"text-align: right;\">   2</td><td>Les Piliers de la terre     </td><td>Ken Follett  </td><td style=\"text-align: right;\">   1050</td><td style=\"text-align: right;\">                1</td></tr>\n",
       "<tr><td style=\"text-align: right;\">   5</td><td>La Chute des géants         </td><td>Ken Follett  </td><td style=\"text-align: right;\">       </td><td style=\"text-align: right;\">                 </td></tr>\n",
       "<tr><td style=\"text-align: right;\">   3</td><td>De l’autre côté du miroir   </td><td>Lewis Carroll</td><td style=\"text-align: right;\">       </td><td style=\"text-align: right;\">                 </td></tr>\n",
       "<tr><td style=\"text-align: right;\">   1</td><td>Alice au pays des merveilles</td><td>Lewis Carroll</td><td style=\"text-align: right;\">    196</td><td style=\"text-align: right;\">                0</td></tr>\n",
       "</table>"
      ],
      "text/plain": [
       "  id  title                         author           pages    is_author_alive\n",
       "----  ----------------------------  -------------  -------  -----------------\n",
       "   4  Un Monde sans fin             Ken Follett\n",
       "   2  Les Piliers de la terre       Ken Follett       1050                  1\n",
       "   5  La Chute des géants           Ken Follett\n",
       "   3  De l’autre côté du miroir     Lewis Carroll\n",
       "   1  Alice au pays des merveilles  Lewis Carroll      196                  0"
      ]
     },
     "metadata": {},
     "output_type": "display_data"
    }
   ],
   "source": [
    "SELECT * FROM books ORDER BY author ASC, title DESC;"
   ]
  },
  {
   "cell_type": "markdown",
   "metadata": {
    "slideshow": {
     "slide_type": "subslide"
    }
   },
   "source": [
    "### Exercice 21\n",
    "\n",
    "Écrire une requête affichant les quatre livres possédant le plus de pages."
   ]
  },
  {
   "cell_type": "markdown",
   "metadata": {
    "slideshow": {
     "slide_type": "slide"
    }
   },
   "source": [
    "# Encore des soucis, désolé.\n",
    "\n",
    "Non, les ordinateurs ne sont pas intelligents, et ne sont pas prêts de l’être."
   ]
  },
  {
   "cell_type": "markdown",
   "metadata": {
    "slideshow": {
     "slide_type": "slide"
    }
   },
   "source": [
    "## Problème : ordres inattendus\n",
    "\n",
    "### Auteurs\n",
    "\n",
    "« Ken Follett » devrait être après « Lewis Carroll », car F > C\n",
    "\n",
    "Solution : séparer nom et prénom\n",
    "\n",
    "### Livres\n",
    "\n",
    "Pour faciliter la recherche de titres, on ordonne généralement indépendamment du premier article.\n",
    "\n",
    "« Les Piliers de la terre » devrait être après « Un Monde sans fin », car P > M\n",
    "\n",
    "Solution : séparer l’article du titre"
   ]
  },
  {
   "cell_type": "markdown",
   "metadata": {
    "slideshow": {
     "slide_type": "subslide"
    }
   },
   "source": [
    "### Exercice 22\n",
    "\n",
    "Modifier la structure de la table pour corriger ces deux problèmes.\n",
    "\n",
    "Il faut maintenant séparer manuellement les données.\n",
    "\n",
    "Dans le fichier Google Drive, ajuster la structure de vos livres préférés conformément à la nouvelle structure.\n",
    "\n",
    "Réimporter ensuite les données du Google Drive dans la base de données SQL.\n",
    "\n",
    "### Exercice 23\n",
    "\n",
    "Écrire une requête sélectionnant à nouveau les données par ordre de titre pour constater qu’elles sont correctement ordonnées.\n",
    "\n",
    "Réécrire la requête précédente pour que :\n",
    "- les deux parties du titre soient affichées en une seule colonne `full_title`\n",
    "- le prénom et le nom de l’auteur soient affichés en une seule colonne `author`\n",
    "\n",
    "L’opérateur pour concaténer les chaînes de caractères est `||`."
   ]
  },
  {
   "cell_type": "code",
   "execution_count": 36,
   "metadata": {
    "slideshow": {
     "slide_type": "skip"
    }
   },
   "outputs": [],
   "source": [
    "DROP TABLE books;\n",
    "\n",
    "CREATE TABLE books (id serial PRIMARY KEY, title_prefix text, title text NOT NULL,\n",
    "                    author_first_name text, author_last_name text, pages int, is_author_alive boolean);\n",
    "\n",
    "INSERT INTO books (title_prefix, title, author_first_name, author_last_name, pages, is_author_alive)\n",
    "VALUES ('', 'Alice au pays des merveilles', 'Lewis', 'Carroll', 196, false),\n",
    "       ('Les ', 'Piliers de la terre', 'Ken', 'Follett', 1050, true),\n",
    "       ('', 'De l’autre côté du miroir', 'Lewis', 'Carroll', NULL, NULL),\n",
    "       ('Un ', 'Monde sans fin', 'Ken', 'Follett', NULL, NULL),\n",
    "       ('La ', 'Chute des géants', 'Ken', 'Follett', NULL, NULL);"
   ]
  },
  {
   "cell_type": "code",
   "execution_count": 37,
   "metadata": {
    "slideshow": {
     "slide_type": "skip"
    }
   },
   "outputs": [
    {
     "data": {
      "text/html": [
       "<table>\n",
       "<tr><th style=\"text-align: right;\">  id</th><th>full_title                  </th><th>author       </th><th style=\"text-align: right;\">  pages</th><th style=\"text-align: right;\">  is_author_alive</th></tr>\n",
       "<tr><td style=\"text-align: right;\">   1</td><td>Alice au pays des merveilles</td><td>Lewis Carroll</td><td style=\"text-align: right;\">    196</td><td style=\"text-align: right;\">                0</td></tr>\n",
       "<tr><td style=\"text-align: right;\">   5</td><td>La Chute des géants         </td><td>Ken Follett  </td><td style=\"text-align: right;\">       </td><td style=\"text-align: right;\">                 </td></tr>\n",
       "<tr><td style=\"text-align: right;\">   3</td><td>De l’autre côté du miroir   </td><td>Lewis Carroll</td><td style=\"text-align: right;\">       </td><td style=\"text-align: right;\">                 </td></tr>\n",
       "<tr><td style=\"text-align: right;\">   4</td><td>Un Monde sans fin           </td><td>Ken Follett  </td><td style=\"text-align: right;\">       </td><td style=\"text-align: right;\">                 </td></tr>\n",
       "<tr><td style=\"text-align: right;\">   2</td><td>Les Piliers de la terre     </td><td>Ken Follett  </td><td style=\"text-align: right;\">   1050</td><td style=\"text-align: right;\">                1</td></tr>\n",
       "</table>"
      ],
      "text/plain": [
       "  id  full_title                    author           pages    is_author_alive\n",
       "----  ----------------------------  -------------  -------  -----------------\n",
       "   1  Alice au pays des merveilles  Lewis Carroll      196                  0\n",
       "   5  La Chute des géants           Ken Follett\n",
       "   3  De l’autre côté du miroir     Lewis Carroll\n",
       "   4  Un Monde sans fin             Ken Follett\n",
       "   2  Les Piliers de la terre       Ken Follett       1050                  1"
      ]
     },
     "metadata": {},
     "output_type": "display_data"
    }
   ],
   "source": [
    "SELECT id, title_prefix || title AS full_title, author_first_name || ' ' || author_last_name AS author, pages, is_author_alive\n",
    "FROM books\n",
    "ORDER BY title;"
   ]
  },
  {
   "cell_type": "markdown",
   "metadata": {
    "slideshow": {
     "slide_type": "slide"
    }
   },
   "source": [
    "## Problème : données déduites ou relatives\n",
    "\n",
    "Dans notre table, un champ inadapté : `is_author_alive`\n",
    "\n",
    "C’est une donnée qu’on peut déduire d’autres données : on déduit qu’un auteur est toujours vivant si nous n’avons pas trouvé sa date de décès.\n",
    "\n",
    "La date de décès étant toujours plus précise que `is_author_alive`, on préfère stocker la date de décès, ce qui nous permettra de déduire si l’auteur est vivant.\n",
    "\n",
    "De même, on pourrait souhaiter stocker l’âge de l’auteur.<br />\n",
    "**Très mauvaise pratique !** donnée déduite des dates de naissance et décès, et relative au moment de la saisie.\n",
    "\n",
    "En stockant dates de naissance et décès d’un auteur, on peut déduire beaucoup d’autres informations, comme :\n",
    "- Qui sont ses contemporains ?\n",
    "- Est-il mort plus vieux que la moyenne ?\n",
    "- De quel mouvement artistique peut-il se rapprocher ?"
   ]
  },
  {
   "cell_type": "markdown",
   "metadata": {
    "slideshow": {
     "slide_type": "subslide"
    }
   },
   "source": [
    "### Exercice 24\n",
    "\n",
    "Ajouter `birth` et `death`, les champs de date de naissance et décès.\n",
    "\n",
    "Supprimer `is_author_alive`.\n",
    "\n",
    "Dans le tableur Google Drive, ajouter ces données pour vos trois livres préférés.\n",
    "\n",
    "Réimporter ces données dans la base de données SQL."
   ]
  },
  {
   "cell_type": "markdown",
   "metadata": {
    "slideshow": {
     "slide_type": "subslide"
    }
   },
   "source": [
    "### Exercice 25\n",
    "\n",
    "Écrire une requête renvoyant uniquement les données suivantes :\n",
    "- prénom de l’auteur\n",
    "- nom de famille de l’auteur\n",
    "- est-ce que l’auteur est toujours vivant ?\n",
    "- âge de l’auteur en nombre d’années (au moment du décès, s’il est mort)\n",
    "\n",
    "**Attention :** pour calculer l’âge de l’auteur, vous avez besoin de ces outils :\n",
    "- Pour calculer un âge, utiliser la fonction `age(death, birth)`. Si l’auteur n’est pas encore mort, alors il faut écrire la date d’aujourd’hui à la place.\n",
    "- Pour obtenir la date d’aujourd’hui, faire `now()`.\n",
    "- Pour utiliser la première valeur définie d’une liste de valeurs, utiliser la fonction `COALESCE(a, b, c, …)`. Si `a` est définie (donc ne vaut pas `NULL`), la fonction renverra `a`. Si `a` vaut `NULL` et `b` est définie, alors cette fonction renverra `b`. Si seule `c` est définie, alors la fonction renverra `c`, etc.\n",
    "- Pour extraire le nombre d’années d’une date ou d’une différence de dates, utiliser `EXTRACT(year from …)`, où on remplace les points de suspension par la données de laquelle extraire les années."
   ]
  },
  {
   "cell_type": "code",
   "execution_count": 38,
   "metadata": {
    "slideshow": {
     "slide_type": "skip"
    }
   },
   "outputs": [],
   "source": [
    "ALTER TABLE books ADD COLUMN author_birth date;\n",
    "ALTER TABLE books ADD COLUMN author_death date;\n",
    "ALTER TABLE books DROP COLUMN is_author_alive;\n",
    "UPDATE books SET author_birth = '1949-6-5' WHERE author_last_name = 'Follett';\n",
    "UPDATE books SET author_birth = '1832-1-27', author_death = '1898-1-14' WHERE author_last_name = 'Carroll';"
   ]
  },
  {
   "cell_type": "code",
   "execution_count": 39,
   "metadata": {
    "slideshow": {
     "slide_type": "skip"
    }
   },
   "outputs": [
    {
     "data": {
      "text/html": [
       "<table>\n",
       "<tr><th>author_first_name  </th><th>author_last_name  </th><th style=\"text-align: right;\">  is_author_alive</th><th style=\"text-align: right;\">  age</th></tr>\n",
       "<tr><td>Ken                </td><td>Follett           </td><td style=\"text-align: right;\">                1</td><td style=\"text-align: right;\">   68</td></tr>\n",
       "<tr><td>Ken                </td><td>Follett           </td><td style=\"text-align: right;\">                1</td><td style=\"text-align: right;\">   68</td></tr>\n",
       "<tr><td>Ken                </td><td>Follett           </td><td style=\"text-align: right;\">                1</td><td style=\"text-align: right;\">   68</td></tr>\n",
       "<tr><td>Lewis              </td><td>Carroll           </td><td style=\"text-align: right;\">                0</td><td style=\"text-align: right;\">   65</td></tr>\n",
       "<tr><td>Lewis              </td><td>Carroll           </td><td style=\"text-align: right;\">                0</td><td style=\"text-align: right;\">   65</td></tr>\n",
       "</table>"
      ],
      "text/plain": [
       "author_first_name    author_last_name      is_author_alive    age\n",
       "-------------------  ------------------  -----------------  -----\n",
       "Ken                  Follett                             1     68\n",
       "Ken                  Follett                             1     68\n",
       "Ken                  Follett                             1     68\n",
       "Lewis                Carroll                             0     65\n",
       "Lewis                Carroll                             0     65"
      ]
     },
     "metadata": {},
     "output_type": "display_data"
    }
   ],
   "source": [
    "SELECT author_first_name, author_last_name, author_death IS NULL AS is_author_alive,\n",
    "       EXTRACT(year from age(COALESCE(author_death, now()), author_birth)) AS age\n",
    "FROM books;"
   ]
  },
  {
   "cell_type": "markdown",
   "metadata": {
    "slideshow": {
     "slide_type": "slide"
    }
   },
   "source": [
    "## Problème : la liste d’auteurs a des doublons\n",
    "\n",
    "Première solution, lorsqu’on affiche les données :"
   ]
  },
  {
   "cell_type": "code",
   "execution_count": 40,
   "metadata": {},
   "outputs": [
    {
     "data": {
      "text/html": [
       "<table>\n",
       "<tr><th>author_first_name  </th><th>author_last_name  </th></tr>\n",
       "<tr><td>Lewis              </td><td>Carroll           </td></tr>\n",
       "<tr><td>Ken                </td><td>Follett           </td></tr>\n",
       "</table>"
      ],
      "text/plain": [
       "author_first_name    author_last_name\n",
       "-------------------  ------------------\n",
       "Lewis                Carroll\n",
       "Ken                  Follett"
      ]
     },
     "metadata": {},
     "output_type": "display_data"
    }
   ],
   "source": [
    "SELECT DISTINCT author_first_name, author_last_name\n",
    "FROM books\n",
    "ORDER BY author_last_name;"
   ]
  },
  {
   "cell_type": "markdown",
   "metadata": {},
   "source": [
    "Toutefois, les données restent en double dans la base de données.\n",
    "\n",
    "En cas de modification d’orthographe d’un nom d’auteur, ou de sa date de naissance, **il faut modifier tous les livres de cet auteur !**\n",
    "\n",
    "La solution est de séparer les données des auteurs des données de livres, en gardant un lien entre les deux."
   ]
  },
  {
   "cell_type": "markdown",
   "metadata": {
    "slideshow": {
     "slide_type": "subslide"
    }
   },
   "source": [
    "### Exercice 26\n",
    "\n",
    "Créer une nouvelle feuille dans le tableur pour contenir la table des auteurs.\n",
    "\n",
    "Y recopier les données de vos auteurs préférés, telles que saisies dans la table des livres.\n",
    "\n",
    "**Attention, ne pas supprimer les données de la table des livres pour le moment**\n",
    "\n",
    "Exporter en TSV les deux feuilles, de sorte à créer la table `authors` et recréer une fois de plus la table `books`.\n",
    "\n",
    "Ne pas oublier de corriger la structure de table générée par NoriSQL, c’est-à-dire faire attention aux champs obligatoires, clés primaires et types de colonnes."
   ]
  },
  {
   "cell_type": "code",
   "execution_count": 41,
   "metadata": {
    "slideshow": {
     "slide_type": "skip"
    }
   },
   "outputs": [
    {
     "data": {
      "text/html": [
       "<table>\n",
       "<tr><th style=\"text-align: right;\">  id</th><th>first_name  </th><th>last_name  </th><th>birth     </th><th>death     </th></tr>\n",
       "<tr><td style=\"text-align: right;\">   1</td><td>Lewis       </td><td>Carroll    </td><td>1832-01-27</td><td>1898-01-14</td></tr>\n",
       "<tr><td style=\"text-align: right;\">   2</td><td>Ken         </td><td>Follett    </td><td>1949-06-05</td><td>          </td></tr>\n",
       "</table>"
      ],
      "text/plain": [
       "  id  first_name    last_name    birth       death\n",
       "----  ------------  -----------  ----------  ----------\n",
       "   1  Lewis         Carroll      1832-01-27  1898-01-14\n",
       "   2  Ken           Follett      1949-06-05"
      ]
     },
     "metadata": {},
     "output_type": "display_data"
    }
   ],
   "source": [
    "CREATE TABLE authors (\n",
    "    id serial PRIMARY KEY,\n",
    "    first_name varchar(50),\n",
    "    last_name varchar(50) NOT NULL,\n",
    "    birth date NOT NULL,\n",
    "    death date\n",
    ");\n",
    "INSERT INTO authors\n",
    "VALUES (1, 'Lewis', 'Carroll', '1832-1-27', '1898-1-14'),\n",
    "       (2, 'Ken', 'Follett', '1949-6-5', NULL);\n",
    "\n",
    "SELECT * FROM authors;"
   ]
  },
  {
   "cell_type": "markdown",
   "metadata": {
    "slideshow": {
     "slide_type": "slide"
    }
   },
   "source": [
    "## Lier des tables\n",
    "\n",
    "Maintenant que nous avons déplacé des données dans la table `authors`, il faut faire un lien avec la table `books` et supprimer les données d’auteurs de la table des livres.\n",
    "\n",
    "Pour créer un lien entre deux tables, on stocke sur chaque ligne d’une une des deux tables la clé primaire d’une ligne de l’autre.\n",
    "\n",
    "Exemple de table de livres :\n",
    "\n",
    "id | title | author_id\n",
    "-- | ----- | ---------\n",
    "1  | Alice au Pays des merveilles | 1\n",
    "2  | De l’autre côté du miroir | 1\n",
    "3  | Les Piliers de la terre | 2\n",
    "4  | La Chute des géants | 2\n",
    "\n",
    "Ainsi que la table d’auteurs correspondante :\n",
    "\n",
    "id | first_name | last_name\n",
    "-- | ---------- | ---------\n",
    "1  | Lewis      | Carroll\n",
    "2  | Ken        | Follett"
   ]
  },
  {
   "cell_type": "markdown",
   "metadata": {
    "slideshow": {
     "slide_type": "slide"
    }
   },
   "source": [
    "## Lier des tables (suite)\n",
    "\n",
    "On écrit une règle permettant d’assurer que la ligne de la table liée existera toujours, pour éviter des liens morts. Cette règle spéciale est appelée **une contrainte**.\n",
    "\n",
    "On a déjà défini des genres de contraintes : on a forcé le format des données et on a rendu des champs obligatoires, par exemple. Ce sont des genre de contraintes de saisie, mais cela ne s’appelle pas des contraintes dans le jargon des bases de données. On y reviendra.\n",
    "\n",
    "Toutefois, on a déjà créé une vraie contrainte de base de données de manière déguisée : une clé primaire créé automatiquement une **contrainte d’unicité**, notée `UNIQUE`, afin qu’il soit impossible de créer des doublons d’identifiants.\n",
    "\n",
    "Cette contrainte que l’on va écrire pour lier les tables est appelée une **clé étrangère**, ou ***foreign key***, et est notée `FOREIGN KEY`.\n",
    "\n",
    "Pour créer cette contrainte :"
   ]
  },
  {
   "cell_type": "code",
   "execution_count": 42,
   "metadata": {
    "slideshow": {
     "slide_type": "skip"
    }
   },
   "outputs": [],
   "source": [
    "CREATE TABLE main_table (id serial PRIMARY KEY, related_id int);\n",
    "CREATE TABLE related_table (id int PRIMARY KEY);"
   ]
  },
  {
   "cell_type": "code",
   "execution_count": 43,
   "metadata": {},
   "outputs": [],
   "source": [
    "ALTER TABLE main_table\n",
    "ADD CONSTRAINT main_table_fk FOREIGN KEY (related_id)\n",
    "                             REFERENCES related_table (id);"
   ]
  },
  {
   "cell_type": "code",
   "execution_count": 44,
   "metadata": {
    "slideshow": {
     "slide_type": "skip"
    }
   },
   "outputs": [],
   "source": [
    "DROP TABLE main_table;\n",
    "DROP TABLE related_table;"
   ]
  },
  {
   "cell_type": "markdown",
   "metadata": {
    "slideshow": {
     "slide_type": "subslide"
    }
   },
   "source": [
    "### Exercice 27\n",
    "\n",
    "Dans le tableur, donner explicitement des identifiants uniques à chacun des auteurs que vous avez saisi.\n",
    "\n",
    "Puis, saisir dans une colonne nommée `author_id` l’identifiant de chacun des auteurs que vous avez saisi.\n",
    "\n",
    "Une fois que tout le monde a bien rempli la colonne `author_id`, une âme charitable se dévoue pour supprimer les colonnes des auteurs qu’on trouve dans la table des livres, hormis `author_id` bien sûr."
   ]
  },
  {
   "cell_type": "markdown",
   "metadata": {
    "slideshow": {
     "slide_type": "subslide"
    }
   },
   "source": [
    "### Exercice 28\n",
    "\n",
    "Importer à nouveau les deux tables.\n",
    "\n",
    "Ne pas oublier de corriger la structure de table générée par NoriSQL, c’est-à-dire faire attention aux champs obligatoires, clés primaires et types de colonnes.\n",
    "\n",
    "Attention aussi, `author_id` ne doit pas être `serial` ni `PRIMARY KEY`, puisqu’il ne s’agit pas de l’identifiant de la table en cours, `books`, mais de la table étrangère liée, `authors`.\n",
    "\n",
    "Créer la contrainte `FOREIGN KEY` entre les deux tables. Il est possible que la contrainte refuse de se créer s’il y a des erreurs dans les données. Corriger les données le cas échéant.\n",
    "\n",
    "Sans faire appel au tableur+import, créer manuellement un livre d’un auteur déjà existant.\n",
    "\n",
    "Puis, créer un livre d’un auteur n’existant pas encore.\n",
    "\n",
    "Une fois cela fait, recopier les deux nouveaux livres ainsi tapés dans la base de données, de sorte que chacun ait créé 5 livres."
   ]
  },
  {
   "cell_type": "code",
   "execution_count": 45,
   "metadata": {
    "slideshow": {
     "slide_type": "skip"
    }
   },
   "outputs": [
    {
     "data": {
      "text/html": [
       "<table>\n",
       "<tr><th style=\"text-align: right;\">  id</th><th>title_prefix  </th><th>title                       </th><th style=\"text-align: right;\">  pages</th><th style=\"text-align: right;\">  author_id</th><th style=\"text-align: right;\">  id</th><th>first_name  </th><th>last_name  </th><th>birth     </th><th>death     </th></tr>\n",
       "<tr><td style=\"text-align: right;\">   1</td><td>              </td><td>Alice au pays des merveilles</td><td style=\"text-align: right;\">    196</td><td style=\"text-align: right;\">          1</td><td style=\"text-align: right;\">   1</td><td>Lewis       </td><td>Carroll    </td><td>1832-01-27</td><td>1898-01-14</td></tr>\n",
       "<tr><td style=\"text-align: right;\">   3</td><td>              </td><td>De l’autre côté du miroir   </td><td style=\"text-align: right;\">       </td><td style=\"text-align: right;\">          1</td><td style=\"text-align: right;\">   1</td><td>Lewis       </td><td>Carroll    </td><td>1832-01-27</td><td>1898-01-14</td></tr>\n",
       "<tr><td style=\"text-align: right;\">   2</td><td>Les           </td><td>Piliers de la terre         </td><td style=\"text-align: right;\">   1050</td><td style=\"text-align: right;\">          2</td><td style=\"text-align: right;\">   2</td><td>Ken         </td><td>Follett    </td><td>1949-06-05</td><td>          </td></tr>\n",
       "<tr><td style=\"text-align: right;\">   4</td><td>Un            </td><td>Monde sans fin              </td><td style=\"text-align: right;\">       </td><td style=\"text-align: right;\">          2</td><td style=\"text-align: right;\">   2</td><td>Ken         </td><td>Follett    </td><td>1949-06-05</td><td>          </td></tr>\n",
       "<tr><td style=\"text-align: right;\">   5</td><td>La            </td><td>Chute des géants            </td><td style=\"text-align: right;\">       </td><td style=\"text-align: right;\">          2</td><td style=\"text-align: right;\">   2</td><td>Ken         </td><td>Follett    </td><td>1949-06-05</td><td>          </td></tr>\n",
       "</table>"
      ],
      "text/plain": [
       "  id  title_prefix    title                           pages    author_id    id  first_name    last_name    birth       death\n",
       "----  --------------  ----------------------------  -------  -----------  ----  ------------  -----------  ----------  ----------\n",
       "   1                  Alice au pays des merveilles      196            1     1  Lewis         Carroll      1832-01-27  1898-01-14\n",
       "   3                  De l’autre côté du miroir                        1     1  Lewis         Carroll      1832-01-27  1898-01-14\n",
       "   2  Les             Piliers de la terre              1050            2     2  Ken           Follett      1949-06-05\n",
       "   4  Un              Monde sans fin                                   2     2  Ken           Follett      1949-06-05\n",
       "   5  La              Chute des géants                                 2     2  Ken           Follett      1949-06-05"
      ]
     },
     "metadata": {},
     "output_type": "display_data"
    }
   ],
   "source": [
    "ALTER TABLE books ADD COLUMN author_id int;\n",
    "UPDATE books SET author_id = 1 WHERE author_last_name = 'Carroll';\n",
    "UPDATE books SET author_id = 2 WHERE author_last_name = 'Follett';\n",
    "ALTER TABLE books DROP COLUMN author_first_name;\n",
    "ALTER TABLE books DROP COLUMN author_last_name;\n",
    "ALTER TABLE books DROP COLUMN author_birth;\n",
    "ALTER TABLE books DROP COLUMN author_death;\n",
    "\n",
    "ALTER TABLE books\n",
    "ADD CONSTRAINT books_author_fk FOREIGN KEY (author_id)\n",
    "                               REFERENCES authors (id);\n",
    "\n",
    "SELECT * FROM books INNER JOIN authors ON (books.author_id = authors.id);"
   ]
  },
  {
   "cell_type": "markdown",
   "metadata": {
    "slideshow": {
     "slide_type": "slide"
    }
   },
   "source": [
    "## Problème : réunir les données liées\n",
    "\n",
    "Notre base de données est enfin mieux structurée ! Pour désigner la satisfaction qu’apporte une structure réussie, on dit que c’est une solution **élégante**.\n",
    "\n",
    "Mais… Cela a beau être élégant, ce n’est pas pratique, on accède soit aux livres, soit aux auteurs, mais jamais aux deux en même temps :"
   ]
  },
  {
   "cell_type": "code",
   "execution_count": 46,
   "metadata": {},
   "outputs": [
    {
     "data": {
      "text/html": [
       "<table>\n",
       "<tr><th style=\"text-align: right;\">  id</th><th>title_prefix  </th><th>title                       </th><th style=\"text-align: right;\">  pages</th><th style=\"text-align: right;\">  author_id</th></tr>\n",
       "<tr><td style=\"text-align: right;\">   1</td><td>              </td><td>Alice au pays des merveilles</td><td style=\"text-align: right;\">    196</td><td style=\"text-align: right;\">          1</td></tr>\n",
       "<tr><td style=\"text-align: right;\">   3</td><td>              </td><td>De l’autre côté du miroir   </td><td style=\"text-align: right;\">       </td><td style=\"text-align: right;\">          1</td></tr>\n",
       "<tr><td style=\"text-align: right;\">   2</td><td>Les           </td><td>Piliers de la terre         </td><td style=\"text-align: right;\">   1050</td><td style=\"text-align: right;\">          2</td></tr>\n",
       "</table>"
      ],
      "text/plain": [
       "  id  title_prefix    title                           pages    author_id\n",
       "----  --------------  ----------------------------  -------  -----------\n",
       "   1                  Alice au pays des merveilles      196            1\n",
       "   3                  De l’autre côté du miroir                        1\n",
       "   2  Les             Piliers de la terre              1050            2"
      ]
     },
     "metadata": {},
     "output_type": "display_data"
    }
   ],
   "source": [
    "SELECT * FROM books LIMIT 3;"
   ]
  },
  {
   "cell_type": "code",
   "execution_count": 47,
   "metadata": {},
   "outputs": [
    {
     "data": {
      "text/html": [
       "<table>\n",
       "<tr><th style=\"text-align: right;\">  id</th><th>first_name  </th><th>last_name  </th><th>birth     </th><th>death     </th></tr>\n",
       "<tr><td style=\"text-align: right;\">   1</td><td>Lewis       </td><td>Carroll    </td><td>1832-01-27</td><td>1898-01-14</td></tr>\n",
       "<tr><td style=\"text-align: right;\">   2</td><td>Ken         </td><td>Follett    </td><td>1949-06-05</td><td>          </td></tr>\n",
       "</table>"
      ],
      "text/plain": [
       "  id  first_name    last_name    birth       death\n",
       "----  ------------  -----------  ----------  ----------\n",
       "   1  Lewis         Carroll      1832-01-27  1898-01-14\n",
       "   2  Ken           Follett      1949-06-05"
      ]
     },
     "metadata": {},
     "output_type": "display_data"
    }
   ],
   "source": [
    "SELECT * FROM authors;"
   ]
  },
  {
   "cell_type": "markdown",
   "metadata": {},
   "source": [
    "Bien utile pour faire des efficacement des recherches sur les livres ou les auteurs, mais impossible de demander quels sont les noms des auteurs d’un ensemble de livres, ou les livres d’un auteur donné."
   ]
  },
  {
   "cell_type": "markdown",
   "metadata": {
    "slideshow": {
     "slide_type": "slide"
    }
   },
   "source": [
    "## Les jointures, ou la puissance des relations\n",
    "\n",
    "Jusqu’à présent, on a toujours sélectionné les données dans une seule table à l’aide de `SELECT`.\n",
    "Maintenant, on veut sélectionner dans deux tables à la fois. Pour cela, on fait une jointure, `JOIN`, en aujoutant aux données principales des données annexes. On précise également par quelle règle on fait le rapprochement entre les deux tables :"
   ]
  },
  {
   "cell_type": "code",
   "execution_count": 48,
   "metadata": {},
   "outputs": [
    {
     "data": {
      "text/html": [
       "<table>\n",
       "<tr><th style=\"text-align: right;\">  id</th><th>title_prefix  </th><th>title                       </th><th style=\"text-align: right;\">  pages</th><th style=\"text-align: right;\">  author_id</th><th style=\"text-align: right;\">  id</th><th>first_name  </th><th>last_name  </th><th>birth     </th><th>death     </th></tr>\n",
       "<tr><td style=\"text-align: right;\">   1</td><td>              </td><td>Alice au pays des merveilles</td><td style=\"text-align: right;\">    196</td><td style=\"text-align: right;\">          1</td><td style=\"text-align: right;\">   1</td><td>Lewis       </td><td>Carroll    </td><td>1832-01-27</td><td>1898-01-14</td></tr>\n",
       "<tr><td style=\"text-align: right;\">   3</td><td>              </td><td>De l’autre côté du miroir   </td><td style=\"text-align: right;\">       </td><td style=\"text-align: right;\">          1</td><td style=\"text-align: right;\">   1</td><td>Lewis       </td><td>Carroll    </td><td>1832-01-27</td><td>1898-01-14</td></tr>\n",
       "<tr><td style=\"text-align: right;\">   2</td><td>Les           </td><td>Piliers de la terre         </td><td style=\"text-align: right;\">   1050</td><td style=\"text-align: right;\">          2</td><td style=\"text-align: right;\">   2</td><td>Ken         </td><td>Follett    </td><td>1949-06-05</td><td>          </td></tr>\n",
       "</table>"
      ],
      "text/plain": [
       "  id  title_prefix    title                           pages    author_id    id  first_name    last_name    birth       death\n",
       "----  --------------  ----------------------------  -------  -----------  ----  ------------  -----------  ----------  ----------\n",
       "   1                  Alice au pays des merveilles      196            1     1  Lewis         Carroll      1832-01-27  1898-01-14\n",
       "   3                  De l’autre côté du miroir                        1     1  Lewis         Carroll      1832-01-27  1898-01-14\n",
       "   2  Les             Piliers de la terre              1050            2     2  Ken           Follett      1949-06-05"
      ]
     },
     "metadata": {},
     "output_type": "display_data"
    }
   ],
   "source": [
    "SELECT * FROM books\n",
    "JOIN authors ON authors.id = books.author_id\n",
    "LIMIT 3;"
   ]
  },
  {
   "cell_type": "markdown",
   "metadata": {},
   "source": [
    "`ON` fonctionne exactement comme `WHERE`, mais il se place uniquement après un `JOIN`.\n",
    "On peut ajouter un `WHERE` après un `JOIN` pour filtrer les données.\n",
    "\n",
    "Ici, pour la première fois on précise le nom des tables avec la syntaxe `table.colonne` afin d’éviter les ambigüités. En effet, les deux tables ayant une colonne `id`, la base de données ne saurait quelle colonne choisir entre ces deux homonymes."
   ]
  },
  {
   "cell_type": "markdown",
   "metadata": {
    "slideshow": {
     "slide_type": "subslide"
    }
   },
   "source": [
    "### Exercice 29\n",
    "\n",
    "Réécrire la requête joignant les deux tables, mais en n’affichant pas les deux colonnes (ici peu pertinentes) montrant l’identifiant de l’auteur.\n",
    "\n",
    "Retirer également la limite.\n",
    "\n",
    "### Exercice 30\n",
    "\n",
    "Écrire une requête listant uniquement le titre de tous les livres écrits par l’auteur dont le nom de famille est _Follett_.\n",
    "\n",
    "### Exercice 31\n",
    "\n",
    "Écrire une requête listant les cinq livres écrits par les auteurs nés le plus récemment."
   ]
  },
  {
   "cell_type": "markdown",
   "metadata": {
    "slideshow": {
     "slide_type": "slide"
    }
   },
   "source": [
    "## Problème : les traductions\n",
    "\n",
    "Un même livre peut avoir plusieurs titres en fonction de sa langue de traduction. D’autres données varient aussi avec la traduction : l’année de publication, le nombre de pages, l’éditeur, et même les auteurs ! En effet, on peut compter le traducteur dans les auteurs, mais laissons ce problème de côté car nous ne gérons qu’un auteur par livre.\n",
    "\n",
    "Il existe de nombreuses méthodes pour gérer des traductions. On pourrait ajouter une nouvelle colonne `original_title`, mais cette donnée serait alors redondante entre les différentes traductions d’un même livre. On pourrait aussi séparer la colonne `title` en `title_en`, `title_fr`, `title_de` etc. Dans certains cas, ces techniques sont pertinentes, mais ici ce n’est pas le cas, car on peut avoir un livre dans des centaines de langues, or on ne va pas s’amuser à avoir des centaines de colonnes juste pour le titre. De plus, il reste le problème des autres données variant avec la langue, notamment le nombre de pages.\n",
    "\n",
    "Voici la solution nous convenant : on va considérer qu’une traduction est un livre à part de l’original. Toutefois, on va conserver un lien entre la traduction et l’original, en précisant la langue des livres."
   ]
  },
  {
   "cell_type": "markdown",
   "metadata": {
    "slideshow": {
     "slide_type": "subslide"
    }
   },
   "source": [
    "### Exercice 32\n",
    "\n",
    "Ajouter deux colonnes `translation_of` et `language` pour gérer les traductions. `translation_of` doit être une _foreign key_ d’un livre vers un autre livre. `language` contiendra le code de langue de 2 lettres suivant la norme [ISO 639-1](https://fr.wikipedia.org/wiki/Liste_des_codes_ISO_639-1).\n",
    "\n",
    "### Exercice 33\n",
    "\n",
    "Ajouter au document Google Drive trois livres en langue étrangère que vous aimez, à la fois en version originale et en traduction française.\n",
    "\n",
    "Si certains de vos livres déjà saisis sont des livres en langue étrangère, bien s’assurer que l’original et la traduction soient saisis.\n",
    "\n",
    "### Exercice 34\n",
    "\n",
    "Écrire une requête allant chercher tous les livres en anglais."
   ]
  },
  {
   "cell_type": "markdown",
   "metadata": {
    "slideshow": {
     "slide_type": "subslide"
    }
   },
   "source": [
    "### Exercice 35\n",
    "\n",
    "Écrire une requête allant chercher tous les livres pour lesquels il existe une traduction dans la base de données.\n",
    "\n",
    "### Exercice 36\n",
    "\n",
    "Écrire une requête déduisant la langue maternelle de chaque auteur. En effet, on peut considérer qu’un livre qui n’a pas de traduction est dans la langue maternelle de l’auteur.\n",
    "\n",
    "### Exercice 37\n",
    "\n",
    "Écrire une requête allant chercher les titres **complets** originaux & traduits et les noms d’auteurs **complets** de tous les livres pour lesquels il existe une traduction dans la base de données."
   ]
  },
  {
   "cell_type": "code",
   "execution_count": 49,
   "metadata": {
    "slideshow": {
     "slide_type": "skip"
    }
   },
   "outputs": [],
   "source": [
    "ALTER TABLE books ADD COLUMN translation_of int REFERENCES books(id);\n",
    "ALTER TABLE books ADD COLUMN language varchar(2);\n",
    "UPDATE books SET language = 'fr';\n",
    "\n",
    "INSERT INTO books (title_prefix, title, author_id, language)\n",
    "VALUES ('', 'Alice in Wonderland', 1, 'en'),\n",
    "       ('', 'Through the Looking-Glass', 1, 'en'),\n",
    "       ('The ', 'Pillars of the Earth', 2, 'en'),\n",
    "       ('', 'World Without End', 2, 'en'),\n",
    "       ('', 'Fall of Giants', 2, 'en');\n",
    "       \n",
    "UPDATE books SET translation_of = 6 WHERE id = 1;\n",
    "UPDATE books SET translation_of = 7 WHERE id = 3;\n",
    "UPDATE books SET translation_of = 8 WHERE id = 2;\n",
    "UPDATE books SET translation_of = 9 WHERE id = 4;\n",
    "UPDATE books SET translation_of = 10 WHERE id = 5;"
   ]
  },
  {
   "cell_type": "code",
   "execution_count": 50,
   "metadata": {
    "slideshow": {
     "slide_type": "skip"
    }
   },
   "outputs": [
    {
     "data": {
      "text/html": [
       "<table>\n",
       "<tr><th>original_title           </th><th>translated_title            </th><th>author       </th></tr>\n",
       "<tr><td>Alice in Wonderland      </td><td>Alice au pays des merveilles</td><td>Lewis Carroll</td></tr>\n",
       "<tr><td>Through the Looking-Glass</td><td>De l’autre côté du miroir   </td><td>Lewis Carroll</td></tr>\n",
       "<tr><td>The Pillars of the Earth </td><td>Les Piliers de la terre     </td><td>Ken Follett  </td></tr>\n",
       "<tr><td>World Without End        </td><td>Un Monde sans fin           </td><td>Ken Follett  </td></tr>\n",
       "<tr><td>Fall of Giants           </td><td>La Chute des géants         </td><td>Ken Follett  </td></tr>\n",
       "</table>"
      ],
      "text/plain": [
       "original_title             translated_title              author\n",
       "-------------------------  ----------------------------  -------------\n",
       "Alice in Wonderland        Alice au pays des merveilles  Lewis Carroll\n",
       "Through the Looking-Glass  De l’autre côté du miroir     Lewis Carroll\n",
       "The Pillars of the Earth   Les Piliers de la terre       Ken Follett\n",
       "World Without End          Un Monde sans fin             Ken Follett\n",
       "Fall of Giants             La Chute des géants           Ken Follett"
      ]
     },
     "metadata": {},
     "output_type": "display_data"
    }
   ],
   "source": [
    "SELECT\n",
    "    books.title_prefix || books.title AS original_title,\n",
    "    translated.title_prefix || translated.title AS translated_title,\n",
    "    authors.first_name || ' ' || authors.last_name AS author\n",
    "FROM books\n",
    "JOIN books AS translated\n",
    "ON translated.translation_of = books.id\n",
    "JOIN authors ON authors.id = books.author_id;"
   ]
  },
  {
   "cell_type": "markdown",
   "metadata": {
    "slideshow": {
     "slide_type": "slide"
    }
   },
   "source": [
    "## Statistiques complexes\n",
    "\n",
    "On a vu comment faire des **statistiques simples** en **agrégant les données**. Une agrégation simple permet d’avoir une donnée : une moyenne, une somme, etc.\n",
    "\n",
    "Les statistiques complexes nécessitent d’avoir une succession d’agrégations de données.\n",
    "\n",
    "Exemples de statistiques complexes : graphe, camembert, diagramme de Venn, diagramme de cordes.\n",
    "\n",
    "Pour obtenir une succession d’agrégations de données, on doit **grouper par** une autre colonne ces agrégations. Par exemple, « le nombre de livres par langue » se traduit par « on souhaite compter le nombre de livres pour une langue donnée ». On doit donc faire une agrégation `count`. Et plus précisément, on doit « grouper par langue les livres, puis utiliser l’agrégation `count` pour connaître le nombre par langue ». On écrit donc :"
   ]
  },
  {
   "cell_type": "code",
   "execution_count": 51,
   "metadata": {},
   "outputs": [
    {
     "data": {
      "text/html": [
       "<table>\n",
       "<tr><th>language  </th><th style=\"text-align: right;\">  count</th></tr>\n",
       "<tr><td>fr        </td><td style=\"text-align: right;\">      5</td></tr>\n",
       "<tr><td>en        </td><td style=\"text-align: right;\">      5</td></tr>\n",
       "</table>"
      ],
      "text/plain": [
       "language      count\n",
       "----------  -------\n",
       "fr                5\n",
       "en                5"
      ]
     },
     "metadata": {},
     "output_type": "display_data"
    }
   ],
   "source": [
    "SELECT language, count(books)\n",
    "FROM books\n",
    "GROUP BY language;"
   ]
  },
  {
   "cell_type": "markdown",
   "metadata": {
    "slideshow": {
     "slide_type": "subslide"
    }
   },
   "source": [
    "### Exercice 38\n",
    "\n",
    "Écrire une requête renvoyant la moyenne de nombre de pages par langue.\n",
    "\n",
    "### Exercice 39\n",
    "\n",
    "De la requête précédente, on serait tenter de déduire quel langue est plus courte à écrire qu’une autre.\n",
    "Cependant, des livres non traduits peuvent exister dans la base de données, et perturber notre statistique. En effet, qu’un livre fasse 800 pages en anglais ne nous apprend rien sur la densité de l’anglais. Mais apprendre qu’un livre de 800 pages en anglais se traduit par 950 pages en français est plus parlant.\n",
    "\n",
    "Écrire une requête renvoyant le pourcentage de caractères en plus en français par rapport à l’anglais, en n’utilisant que les livres pour lesquels on a les versions anglaises et françaises.\n",
    "\n",
    "On exclut évidemment de la requête tous les livres pour lesquels une des deux versions (française ou anglaise) n’a pas de nombre de pages."
   ]
  },
  {
   "cell_type": "code",
   "execution_count": 52,
   "metadata": {
    "slideshow": {
     "slide_type": "skip"
    }
   },
   "outputs": [
    {
     "data": {
      "text/html": [
       "<table>\n",
       "<tr><th style=\"text-align: right;\">  ?column?</th></tr>\n",
       "<tr><td style=\"text-align: right;\">          </td></tr>\n",
       "</table>"
      ],
      "text/plain": [
       "  ?column?\n",
       "----------\n"
      ]
     },
     "metadata": {},
     "output_type": "display_data"
    }
   ],
   "source": [
    "SELECT avg(books.pages) / avg(other.pages) FROM books\n",
    "JOIN books AS other\n",
    "ON (other.translation_of = books.id OR other.id = books.translation_of) AND other.language = 'fr'\n",
    "WHERE books.language = 'en';"
   ]
  },
  {
   "cell_type": "markdown",
   "metadata": {
    "slideshow": {
     "slide_type": "slide"
    }
   },
   "source": [
    "## Statistiques complexes (suite)\n",
    "\n",
    "**Attention :** pour des raisons logiques, toutes les colonnes dans `SELECT` autres que des agrégations doivent forcément être dans `GROUP BY`. Ici, `language` est bien dans les deux. On pourrait avoir envie d’afficher le titre des livres en même temps qu’on affiche le nombre. Mais ça n’aurait pas de sens, car l’objectif du `GROUP BY` est de rassembler plusieurs lignes suivant une même donnée. On ne pourrait pas mettre sur une même ligne « fr » tous les titres de livres français."
   ]
  },
  {
   "cell_type": "markdown",
   "metadata": {
    "slideshow": {
     "slide_type": "slide"
    }
   },
   "source": [
    "## Statistiques complexes (suite)\n",
    "\n",
    "Lorsqu’on fait des statistiques complexes, on souhaite presque toujours ordonner les données par une ou plusieurs colonnes ayant servi à regrouper ces données. Par exemple :"
   ]
  },
  {
   "cell_type": "code",
   "execution_count": 53,
   "metadata": {},
   "outputs": [
    {
     "data": {
      "text/html": [
       "<table>\n",
       "<tr><th>language  </th><th style=\"text-align: right;\">  count</th></tr>\n",
       "<tr><td>en        </td><td style=\"text-align: right;\">      5</td></tr>\n",
       "<tr><td>fr        </td><td style=\"text-align: right;\">      5</td></tr>\n",
       "</table>"
      ],
      "text/plain": [
       "language      count\n",
       "----------  -------\n",
       "en                5\n",
       "fr                5"
      ]
     },
     "metadata": {},
     "output_type": "display_data"
    }
   ],
   "source": [
    "SELECT language, count(books)\n",
    "FROM books\n",
    "GROUP BY language\n",
    "ORDER BY language;"
   ]
  },
  {
   "cell_type": "markdown",
   "metadata": {
    "slideshow": {
     "slide_type": "slide"
    }
   },
   "source": [
    "## Statistiques complexes (suite)\n",
    "\n",
    "Tout l’intérêt des bases de données relationnelles est de pouvoir faire des statistiques en se servant des relations entre les données.\n",
    "\n",
    "Comme précédemment, on groupe par une ou plusieurs colonnes tout en effectuant une agrégation. Toutefois, on y ajoute une jointure pour rassembler les tables liées.\n",
    "\n",
    "Par exemple, pour connaître le nombre de livres pour chaque auteur, on fait :"
   ]
  },
  {
   "cell_type": "code",
   "execution_count": 54,
   "metadata": {},
   "outputs": [
    {
     "data": {
      "text/html": [
       "<table>\n",
       "<tr><th>first_name  </th><th>last_name  </th><th style=\"text-align: right;\">  count</th></tr>\n",
       "<tr><td>Lewis       </td><td>Carroll    </td><td style=\"text-align: right;\">      4</td></tr>\n",
       "<tr><td>Ken         </td><td>Follett    </td><td style=\"text-align: right;\">      6</td></tr>\n",
       "</table>"
      ],
      "text/plain": [
       "first_name    last_name      count\n",
       "------------  -----------  -------\n",
       "Lewis         Carroll            4\n",
       "Ken           Follett            6"
      ]
     },
     "metadata": {},
     "output_type": "display_data"
    }
   ],
   "source": [
    "SELECT first_name, last_name, count(books)\n",
    "FROM authors\n",
    "JOIN books ON books.author_id = authors.id\n",
    "GROUP BY first_name, last_name\n",
    "ORDER BY last_name;"
   ]
  },
  {
   "cell_type": "markdown",
   "metadata": {
    "slideshow": {
     "slide_type": "subslide"
    }
   },
   "source": [
    "### Exercice 40\n",
    "\n",
    "Faire une requête récupérant le nombre moyen de pages par auteur.\n",
    "\n",
    "### Exercice 41\n",
    "\n",
    "Déduire un âge moyen par langue maternelle d’auteur."
   ]
  },
  {
   "cell_type": "code",
   "execution_count": 55,
   "metadata": {
    "slideshow": {
     "slide_type": "skip"
    }
   },
   "outputs": [
    {
     "data": {
      "text/html": [
       "<table>\n",
       "<tr><th>language  </th><th style=\"text-align: right;\">  average_age</th></tr>\n",
       "<tr><td>en        </td><td style=\"text-align: right;\">           67</td></tr>\n",
       "</table>"
      ],
      "text/plain": [
       "language      average_age\n",
       "----------  -------------\n",
       "en                     67"
      ]
     },
     "metadata": {},
     "output_type": "display_data"
    }
   ],
   "source": [
    "SELECT\n",
    "    language,\n",
    "    EXTRACT(year FROM avg(age(coalesce(death, now()), birth))) AS average_age\n",
    "FROM authors\n",
    "JOIN books ON books.author_id = authors.id\n",
    "WHERE translation_of IS NULL\n",
    "GROUP BY language;"
   ]
  },
  {
   "cell_type": "markdown",
   "metadata": {
    "slideshow": {
     "slide_type": "slide"
    }
   },
   "source": [
    "## Exemple de représentation de données\n",
    "\n",
    "On peut afficher de nombreuses manières les statistiques extraites.\n",
    "\n",
    "Généralement, on génère une image à l’aide d’un autre outil, en partant des statistiques renvoyées par la base de données. Toutefois, une base de données est si puissante qu’on peut écrire la logique pour **afficher un graphique directement en SQL**.\n",
    "\n",
    "Voici comment réaliser un diagramme circulaire à partir de presque n’importe quelle statistique : https://sql.noripyt.com/58725bf9/1\n",
    "\n",
    "![](ascii-graph.png)\n",
    "\n",
    "C’est **très moche** et en pratique on ne fait jamais cela, mais cela montre bien que les données sorties par notre requête `GROUP BY` sont prêtes pour une représentation graphique. De nos jours, on préférera générer un fichier SVG à l’aide d’outils externes."
   ]
  },
  {
   "cell_type": "markdown",
   "metadata": {
    "slideshow": {
     "slide_type": "slide"
    }
   },
   "source": [
    "## Table intermédiaire _many-to-many_\n",
    "\n",
    "Pour l’instant, notre base de données est incapable de gérer plusieurs auteurs pour un même livre.\n",
    "C’est handicapant, car on omet systématiquement le traducteur. Bien entendu, c’est plus gênant encore pour les publications scientifiques et autres ouvrages à auteurs multiples.\n",
    "\n",
    "Un mauvais réflexe consiste à ajouter une seconde colonne, `author2_id`, puis une troisième `author3_id`, etc. Cette technique a l’avantage d’être simple à construire, mais elle souffre de deux importantes failles :\n",
    "- Obligation d’avoir un nombre maximum d’auteurs. En général on commence à mettre jusqu’à 5 colonnes d’auteurs, mais dès qu’un ouvrage arrive avec plus d’auteurs, il faut faire appel au technicien pour ajouter de nouvelles colonnes, ou faire passer à la trappe quelques auteurs.\n",
    "- Pour des requêtes complexes comme des jointures, tout se complique très vite, car il faudrait joindre plusieurs fois la table `authors`."
   ]
  },
  {
   "cell_type": "markdown",
   "metadata": {
    "slideshow": {
     "slide_type": "slide"
    }
   },
   "source": [
    "## Table intermédiaire _many-to-many_ (suite)\n",
    "\n",
    "La solution propre consiste à créer une table intermédiaire entre `books` et `authors`. On l’appelera `books_authors`\n",
    "\n",
    "Chaque ligne de `books_authors` lie un livre à un auteur. On peut mettre plusieurs lignes mentionnant le même livre, et plusieurs lignes mentionnant le même auteur. Par exemple :\n",
    "\n",
    "book_id | author_id\n",
    "------- | ---------\n",
    "1       | 1\n",
    "1       | 3\n",
    "2       | 1\n",
    "2       | 4\n",
    "…       | …\n",
    "\n",
    "Ici, _Alice au pays des merveilles_ (1) est lié à deux auteurs, Lewis Carroll (1) et Henri Bué (3). _De l’autre côté du miroir_ (2) est lié aussi à deux auteurs, Lewis Carroll (1) et Paul Gilson (4).\n",
    "\n",
    "On peut aussi noter que Lewis Carroll (1) est donc lié à deux livres.\n",
    "\n",
    "Comme plusieurs auteurs peuvent être liés à un seul livre, et que plusieurs livres peuvent être liés à un seul auteur, on appelle cette relation un **many-to-many**."
   ]
  },
  {
   "cell_type": "markdown",
   "metadata": {
    "slideshow": {
     "slide_type": "subslide"
    }
   },
   "source": [
    "### Exercice 42\n",
    "\n",
    "Dans le tableur Google Drive, créer une table _many-to-many_ nommée `book_authors` liant les auteurs aux livres.\n",
    "Y inscrire le lien entre livres et auteurs qui était stocké précedemment dans la colonne `author_id` des livres.\n",
    "\n",
    "Supprimer la colonne `author_id` des livres du tableur Google Drive.\n",
    "\n",
    "Créer dans le tableur Google Drive tous les traducteurs des livres dont on a déjà les traductions.\n",
    "Ajouter le lien entre les livres et ces traducteurs.\n",
    "\n",
    "Réimporter les données dans NoriSQL avec cette nouvelle structure.\n",
    "Ne pas oublier de faire les changements de type de colonnes comme d’habitude.\n",
    "\n",
    "### Exercice 43\n",
    "\n",
    "Écrire une requête récupérant les livres et leurs auteurs (traducteurs inclus)."
   ]
  },
  {
   "cell_type": "code",
   "execution_count": 56,
   "metadata": {
    "slideshow": {
     "slide_type": "skip"
    }
   },
   "outputs": [],
   "source": [
    "CREATE TABLE books_authors (book_id int REFERENCES books(id),\n",
    "                            author_id int REFERENCES authors(id));\n",
    "INSERT INTO authors VALUES (3, 'Jean', 'Rosenthal', '1923-1-1', NULL);\n",
    "INSERT INTO books_authors VALUES (6, 1), (7, 1), (8, 2), (9, 2), (10, 2),\n",
    "                                 (1, 1), (3, 1), (2, 2), (4, 2), (5, 2), (2, 3);\n",
    "ALTER TABLE books DROP COLUMN author_id;"
   ]
  },
  {
   "cell_type": "code",
   "execution_count": 57,
   "metadata": {
    "slideshow": {
     "slide_type": "skip"
    }
   },
   "outputs": [
    {
     "data": {
      "text/html": [
       "<table>\n",
       "<tr><th style=\"text-align: right;\">  id</th><th>title_prefix  </th><th>title                       </th><th style=\"text-align: right;\">  pages</th><th style=\"text-align: right;\">  translation_of</th><th>language  </th><th style=\"text-align: right;\">  id</th><th>first_name  </th><th>last_name  </th><th>birth     </th><th>death     </th></tr>\n",
       "<tr><td style=\"text-align: right;\">   1</td><td>              </td><td>Alice au pays des merveilles</td><td style=\"text-align: right;\">    196</td><td style=\"text-align: right;\">               6</td><td>fr        </td><td style=\"text-align: right;\">   1</td><td>Lewis       </td><td>Carroll    </td><td>1832-01-27</td><td>1898-01-14</td></tr>\n",
       "<tr><td style=\"text-align: right;\">   6</td><td>              </td><td>Alice in Wonderland         </td><td style=\"text-align: right;\">       </td><td style=\"text-align: right;\">                </td><td>en        </td><td style=\"text-align: right;\">   1</td><td>Lewis       </td><td>Carroll    </td><td>1832-01-27</td><td>1898-01-14</td></tr>\n",
       "<tr><td style=\"text-align: right;\">   5</td><td>La            </td><td>Chute des géants            </td><td style=\"text-align: right;\">       </td><td style=\"text-align: right;\">              10</td><td>fr        </td><td style=\"text-align: right;\">   2</td><td>Ken         </td><td>Follett    </td><td>1949-06-05</td><td>          </td></tr>\n",
       "<tr><td style=\"text-align: right;\">   3</td><td>              </td><td>De l’autre côté du miroir   </td><td style=\"text-align: right;\">       </td><td style=\"text-align: right;\">               7</td><td>fr        </td><td style=\"text-align: right;\">   1</td><td>Lewis       </td><td>Carroll    </td><td>1832-01-27</td><td>1898-01-14</td></tr>\n",
       "<tr><td style=\"text-align: right;\">  10</td><td>              </td><td>Fall of Giants              </td><td style=\"text-align: right;\">       </td><td style=\"text-align: right;\">                </td><td>en        </td><td style=\"text-align: right;\">   2</td><td>Ken         </td><td>Follett    </td><td>1949-06-05</td><td>          </td></tr>\n",
       "<tr><td style=\"text-align: right;\">   4</td><td>Un            </td><td>Monde sans fin              </td><td style=\"text-align: right;\">       </td><td style=\"text-align: right;\">               9</td><td>fr        </td><td style=\"text-align: right;\">   2</td><td>Ken         </td><td>Follett    </td><td>1949-06-05</td><td>          </td></tr>\n",
       "<tr><td style=\"text-align: right;\">   2</td><td>Les           </td><td>Piliers de la terre         </td><td style=\"text-align: right;\">   1050</td><td style=\"text-align: right;\">               8</td><td>fr        </td><td style=\"text-align: right;\">   2</td><td>Ken         </td><td>Follett    </td><td>1949-06-05</td><td>          </td></tr>\n",
       "<tr><td style=\"text-align: right;\">   2</td><td>Les           </td><td>Piliers de la terre         </td><td style=\"text-align: right;\">   1050</td><td style=\"text-align: right;\">               8</td><td>fr        </td><td style=\"text-align: right;\">   3</td><td>Jean        </td><td>Rosenthal  </td><td>1923-01-01</td><td>          </td></tr>\n",
       "<tr><td style=\"text-align: right;\">   8</td><td>The           </td><td>Pillars of the Earth        </td><td style=\"text-align: right;\">       </td><td style=\"text-align: right;\">                </td><td>en        </td><td style=\"text-align: right;\">   2</td><td>Ken         </td><td>Follett    </td><td>1949-06-05</td><td>          </td></tr>\n",
       "<tr><td style=\"text-align: right;\">   7</td><td>              </td><td>Through the Looking-Glass   </td><td style=\"text-align: right;\">       </td><td style=\"text-align: right;\">                </td><td>en        </td><td style=\"text-align: right;\">   1</td><td>Lewis       </td><td>Carroll    </td><td>1832-01-27</td><td>1898-01-14</td></tr>\n",
       "<tr><td style=\"text-align: right;\">   9</td><td>              </td><td>World Without End           </td><td style=\"text-align: right;\">       </td><td style=\"text-align: right;\">                </td><td>en        </td><td style=\"text-align: right;\">   2</td><td>Ken         </td><td>Follett    </td><td>1949-06-05</td><td>          </td></tr>\n",
       "</table>"
      ],
      "text/plain": [
       "  id  title_prefix    title                           pages    translation_of  language      id  first_name    last_name    birth       death\n",
       "----  --------------  ----------------------------  -------  ----------------  ----------  ----  ------------  -----------  ----------  ----------\n",
       "   1                  Alice au pays des merveilles      196                 6  fr             1  Lewis         Carroll      1832-01-27  1898-01-14\n",
       "   6                  Alice in Wonderland                                      en             1  Lewis         Carroll      1832-01-27  1898-01-14\n",
       "   5  La              Chute des géants                                     10  fr             2  Ken           Follett      1949-06-05\n",
       "   3                  De l’autre côté du miroir                             7  fr             1  Lewis         Carroll      1832-01-27  1898-01-14\n",
       "  10                  Fall of Giants                                           en             2  Ken           Follett      1949-06-05\n",
       "   4  Un              Monde sans fin                                        9  fr             2  Ken           Follett      1949-06-05\n",
       "   2  Les             Piliers de la terre              1050                 8  fr             2  Ken           Follett      1949-06-05\n",
       "   2  Les             Piliers de la terre              1050                 8  fr             3  Jean          Rosenthal    1923-01-01\n",
       "   8  The             Pillars of the Earth                                     en             2  Ken           Follett      1949-06-05\n",
       "   7                  Through the Looking-Glass                                en             1  Lewis         Carroll      1832-01-27  1898-01-14\n",
       "   9                  World Without End                                        en             2  Ken           Follett      1949-06-05"
      ]
     },
     "metadata": {},
     "output_type": "display_data"
    }
   ],
   "source": [
    "SELECT books.*, authors.*\n",
    "FROM books\n",
    "JOIN books_authors ON books_authors.book_id = books.id\n",
    "JOIN authors ON authors.id = books_authors.author_id\n",
    "ORDER BY title, last_name;"
   ]
  },
  {
   "cell_type": "markdown",
   "metadata": {
    "slideshow": {
     "slide_type": "slide"
    }
   },
   "source": [
    "## Regrouper plusieurs auteurs dans la même cellule\n",
    "\n",
    "La requête de l’exercice 43 renvoie plusieurs fois les mêmes résultats. En effet, s’il y a **3 auteurs pour un même livre**, la jointure fera que **le livre sera renvoyé une fois pour chaque auteur**, donnant quelque chose du genre :\n",
    "\n",
    "Livre | Auteur\n",
    "----- | ------\n",
    "Alice au pays des merveilles | Lewis Carroll\n",
    "Alice au pays des merveilles | Henri Bué\n",
    "\n",
    "Lorsque les résultats sont affichés sur un site Internet, les auteurs sont généralement regroupés par le langage de programmation du site (Python, PHP, Java, etc), mais restent ainsi en SQL."
   ]
  },
  {
   "cell_type": "markdown",
   "metadata": {
    "slideshow": {
     "slide_type": "slide"
    }
   },
   "source": [
    "## Regrouper plusieurs auteurs dans la même cellule (suite)\n",
    "\n",
    "Mais grâce à PostgreSQL, on peut rassembler ces données joliment à l’aide de l’agrégation `STRING_AGG`. Il faut y adjoindre un `GROUP BY`, car on ne souhaite pas agréger les données de la table en une seule donnée, mais bien en **les agréger en une donnée par livre** :"
   ]
  },
  {
   "cell_type": "code",
   "execution_count": 58,
   "metadata": {},
   "outputs": [
    {
     "data": {
      "text/html": [
       "<table>\n",
       "<tr><th>book                        </th><th>authors                    </th></tr>\n",
       "<tr><td>Alice au pays des merveilles</td><td>Lewis Carroll              </td></tr>\n",
       "<tr><td>Alice in Wonderland         </td><td>Lewis Carroll              </td></tr>\n",
       "<tr><td>La Chute des géants         </td><td>Ken Follett                </td></tr>\n",
       "<tr><td>De l’autre côté du miroir   </td><td>Lewis Carroll              </td></tr>\n",
       "<tr><td>Fall of Giants              </td><td>Ken Follett                </td></tr>\n",
       "<tr><td>Un Monde sans fin           </td><td>Ken Follett                </td></tr>\n",
       "<tr><td>Les Piliers de la terre     </td><td>Ken Follett, Jean Rosenthal</td></tr>\n",
       "<tr><td>The Pillars of the Earth    </td><td>Ken Follett                </td></tr>\n",
       "<tr><td>Through the Looking-Glass   </td><td>Lewis Carroll              </td></tr>\n",
       "<tr><td>World Without End           </td><td>Ken Follett                </td></tr>\n",
       "</table>"
      ],
      "text/plain": [
       "book                          authors\n",
       "----------------------------  ---------------------------\n",
       "Alice au pays des merveilles  Lewis Carroll\n",
       "Alice in Wonderland           Lewis Carroll\n",
       "La Chute des géants           Ken Follett\n",
       "De l’autre côté du miroir     Lewis Carroll\n",
       "Fall of Giants                Ken Follett\n",
       "Un Monde sans fin             Ken Follett\n",
       "Les Piliers de la terre       Ken Follett, Jean Rosenthal\n",
       "The Pillars of the Earth      Ken Follett\n",
       "Through the Looking-Glass     Lewis Carroll\n",
       "World Without End             Ken Follett"
      ]
     },
     "metadata": {},
     "output_type": "display_data"
    }
   ],
   "source": [
    "SELECT books.title_prefix || books.title AS book,\n",
    "       STRING_AGG(authors.first_name || ' ' || authors.last_name,\n",
    "                  ', ' ORDER BY last_name, first_name) AS authors\n",
    "FROM books\n",
    "JOIN books_authors ON books_authors.book_id = books.id\n",
    "JOIN authors ON authors.id = books_authors.author_id\n",
    "GROUP BY books.id\n",
    "ORDER BY title;"
   ]
  },
  {
   "cell_type": "markdown",
   "metadata": {
    "slideshow": {
     "slide_type": "slide"
    }
   },
   "source": [
    "## Affinons sans fin\n",
    "\n",
    "Bonne nouvelle ! On a vu la quasi totalité des problématiques de base de données et leurs solutions en SQL.\n",
    "\n",
    "Maintenant il s’agit d’affiner toujours plus notre **modélisation** de données pour qu’elle gère tous les cas dont on a besoin en se servant toujours des mêmes outils."
   ]
  },
  {
   "cell_type": "markdown",
   "metadata": {
    "slideshow": {
     "slide_type": "subslide"
    }
   },
   "source": [
    "### Exercice 44\n",
    "\n",
    "Maintenant qu’on peut stocker plusieurs auteurs par livre, le problème est qu’ils sont à égalité : on ne peut pas différencier l’auteur du traducteur ! Ajouter dans la table `books_authors` un champ `profession` stockant ce qu’a fait la personne : `'author'`, `'translator'`, `'proofreader'`, etc.\n",
    "\n",
    "Adapter la requête précédente pour qu’à côté de chaque nom d’auteur soit sa tâche entre parenthèses. Par exemple :\n",
    "`Ken Follett (author), Jean Rosenthal (translator)`.\n",
    "\n",
    "### Exercice 45\n",
    "\n",
    "Encore un souci, les auteurs restent ordonnés par nom de famille, or on préférerait avoir l’auteur d’abord.\n",
    "Ajouter un champ de nombre entier `position` permettant de mettre `1` pour l’auteur principal, `2` pour l’auteur secondaire, etc.\n",
    "\n",
    "Adapter la requête de l’exercice 44 pour que les auteurs soient bien ordonnés par ce nombre `position`."
   ]
  },
  {
   "cell_type": "markdown",
   "metadata": {
    "slideshow": {
     "slide_type": "subslide"
    }
   },
   "source": [
    "### Exercice 46\n",
    "\n",
    "Évidemment, ces deux nouvelles données, `profession` et `position`, deviennent **très redondantes**. Il serait mieux de les regrouper dans une table, car la position devra toujours la même pour une même `task`. De plus, cela permettra d’éviter les fautes d’orthographe.\n",
    "\n",
    "Créer une table `professions` contenant les deux champs. Appeler `name` l’ancien champ `profession`. Bien penser à créer les clés étrangères.\n",
    "\n",
    "Réécrire la requête de l’exercice 45 en utilisant cette nouvelle table de professions."
   ]
  },
  {
   "cell_type": "markdown",
   "metadata": {
    "slideshow": {
     "slide_type": "subslide"
    }
   },
   "source": [
    "### Exercice 47\n",
    "\n",
    "Faire une amélioration sensée de la base de données. Celle que vous voulez !\n",
    "\n",
    "Il y a énormément de possibilités, quelques idées :\n",
    "- gérer l’année de publication de chaque livre, et ainsi permettre de faire un classement chronologique de sortie des livres pour un auteur donnée\n",
    "- gérer les différentes éditions d’un même livre\n",
    "- stocker un lien vers la version numérisée sur Gallica\n",
    "- stocker l’ISBN\n",
    "- stocker le lieu de conservation du manuscrit autographe, lorsqu’il existe (en deux champs, bibliothèque + cote)\n",
    "- stocker le lieu de naissance et de décès de chaque auteur\n",
    "- stocker le contenu de chaque livre en plein texte pour pouvoir rechercher à l’intérieur des livres"
   ]
  },
  {
   "cell_type": "code",
   "execution_count": 59,
   "metadata": {
    "slideshow": {
     "slide_type": "skip"
    }
   },
   "outputs": [],
   "source": [
    "DROP TABLE IF EXISTS books_authors;\n",
    "DROP TABLE IF EXISTS books;\n",
    "DROP TABLE IF EXISTS authors;"
   ]
  },
  {
   "cell_type": "markdown",
   "metadata": {
    "slideshow": {
     "slide_type": "slide"
    }
   },
   "source": [
    "# Merci !\n",
    "\n",
    "Twitter : [@NoriPytCom](https://twitter.com/NoriPytCom) - GitHub : [@BertrandBordage](https://github.com/BertrandBordage)"
   ]
  }
 ],
 "metadata": {
  "celltoolbar": "Slideshow",
  "kernelspec": {
   "display_name": "PostgreSQL",
   "language": "sql",
   "name": "postgres"
  },
  "language_info": {
   "codemirror_mode": "sql",
   "file_extension": ".sql",
   "mimetype": "text/x-postgresql",
   "name": "PostgreSQL"
  }
 },
 "nbformat": 4,
 "nbformat_minor": 2
}
