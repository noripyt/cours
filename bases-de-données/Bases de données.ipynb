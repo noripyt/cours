{
 "cells": [
  {
   "cell_type": "markdown",
   "metadata": {
    "slideshow": {
     "slide_type": "skip"
    }
   },
   "source": [
    "Pour exporter en slides, lancer :\n",
    "`jupyter nbconvert Bases\\ de\\ données.ipynb --to slides --post serve`"
   ]
  },
  {
   "cell_type": "code",
   "execution_count": 1,
   "metadata": {
    "slideshow": {
     "slide_type": "skip"
    }
   },
   "outputs": [],
   "source": [
    "-- connection: dbname=cours user=cours"
   ]
  },
  {
   "cell_type": "markdown",
   "metadata": {
    "slideshow": {
     "slide_type": "slide"
    }
   },
   "source": [
    "# Bases de données\n",
    "### Master Humanités Numériques 2017 — université de Rouen"
   ]
  },
  {
   "cell_type": "markdown",
   "metadata": {
    "slideshow": {
     "slide_type": "slide"
    }
   },
   "source": [
    "## Bertrand Bordage de NoriPyt\n",
    "- Développeur, musicien & dirigeant\n",
    "- Membre de l’équipe de développement du CMS Wagtail\n",
    "- Créateur de Dezède avec l’université de Rouen\n",
    "- Créateur de nombreux projets open source"
   ]
  },
  {
   "cell_type": "markdown",
   "metadata": {
    "slideshow": {
     "slide_type": "slide"
    }
   },
   "source": [
    "# Introduction\n",
    "\n",
    "Un peu de mise en contexte et explications avant de commencer."
   ]
  },
  {
   "cell_type": "markdown",
   "metadata": {
    "slideshow": {
     "slide_type": "slide"
    }
   },
   "source": [
    "## Qu’entend-on par « base de données » ?\n",
    "\n",
    "- En sciences humaines, une application (web, de bureau ou mobile) permettant d’accéder facilement à des données stockées dans un SGBD.<br />\n",
    "  ⇒ Terme abusif, à éviter\n",
    "- Tout système informatique de stockage de données<br />\n",
    "  ⇒ « Système de Gestion de Bases de Données », soit SGBD ou DBMS en anglais\n",
    "- Un ensemble de données structuré par un SGBD\n",
    "\n",
    "Dans le cadre de ce cours, on se concentrera sur les SGBD."
   ]
  },
  {
   "cell_type": "markdown",
   "metadata": {
    "slideshow": {
     "slide_type": "slide"
    }
   },
   "source": [
    "## Exemples d’utilisations abusives du terme « base de données »\n",
    "\n",
    "- Dezède\n",
    "- SUDOC\n",
    "- Data BNF\n",
    "- Gallica\n",
    "\n",
    "Pourquoi éviter ce terme abusif ?<br />\n",
    "Au même titre, Twitter, les services Google, et presque tout l’Internet moderne pourrait être nommé « base de données ».\n",
    "\n",
    "Même un tableur type Excel ou une feuille de papier peuvent être appelés abusivement « base de données ».\n",
    "\n",
    "Pas faux en soit, mais peu précis."
   ]
  },
  {
   "cell_type": "markdown",
   "metadata": {
    "slideshow": {
     "slide_type": "slide"
    }
   },
   "source": [
    "## Redéfinissions « base de données »\n",
    "\n",
    "une base de données ≠ un Système de Gestion de Base de Données\n",
    "\n",
    "un **SGBD** = logiciel<br/>\n",
    "une **base de données** = contenu\n",
    "\n",
    "Dans l’ordre d’utilisation, on :\n",
    "- **créé la structure** de la base de données\n",
    "- **ajoute des données** à la base de données\n",
    "- **effectue des requêtes** sur ces données\n",
    "- ajoute des données\n",
    "- effectue des requêtes\n",
    "- …"
   ]
  },
  {
   "cell_type": "markdown",
   "metadata": {
    "slideshow": {
     "slide_type": "slide"
    }
   },
   "source": [
    "## Pourquoi Excel, Gallica et papier pas SGBD ?\n",
    "\n",
    "**Excel** : non structuré, ne permet pas de faire de requêtes au-delà de filtrages basiques\n",
    "\n",
    "**Gallica** : contient une base de données mais n’est pas un SGBD (pas de création de nouvelle base de données au sein de Gallica)\n",
    "\n",
    "**Papier** : non structuré, ne permet pas de faire de requêtes.\n",
    "\n",
    "En plus de devoir **gérer les actions listées précédemment**, un SGBD doit permettre de réaliser toutes ces tâches sous forme de **code informatique**, et être ainsi totalement automatisables. Cela permet d’intégrer les données dans n’importe quel programme : application web, de bureau, mobile."
   ]
  },
  {
   "cell_type": "markdown",
   "metadata": {
    "slideshow": {
     "slide_type": "slide"
    }
   },
   "source": [
    "## Termes courants à connaître\n",
    "\n",
    "Une **base de données** (ou **database**, **DB**, **BDD**) est composée de **tables** stockant des **lignes** suivant plusieurs **colonnes**.\n",
    "\n",
    "Chaque **table** contient les données structurées suivant les mêmes colonnes.<br />\n",
    "Par exemple, la base de données « bibliothèque » contient les tables « livres », « auteurs », « genres », « collections », « éditeurs », etc.\n",
    "\n",
    "Une **ligne** correspond à un ensemble de **données**.<br />\n",
    "Par exemple « Le Horla de Maupassant ».\n",
    "\n",
    "Une **colonne** correspond à un champ. Par exemple « année de publication ».\n",
    "\n",
    "Une **valeur** est la **donnée** élémentaire contenue dans une **cellule**, c’est-à-dire l’intersection d’une ligne et d’une colonne. Par exemple, l’année de publication du Horla de Maupassant est « 1886 ».\n",
    "\n",
    "Ensuite, on **lancer une requête** (sans lance-requêtes) pour demander à la base de données d’extraire des informations. Par exemple, on peut demander tous les livres de Maupassant, ou le nombre de livres fantastiques publiés entre 1880 et 1890."
   ]
  },
  {
   "cell_type": "markdown",
   "metadata": {
    "slideshow": {
     "slide_type": "slide"
    }
   },
   "source": [
    "## Principaux types de bases de données\n",
    "- relationnelle\n",
    "- non relationnelle\n",
    "- SQL (« siquoueul »)\n",
    "- noSQL (« nosiquoueul »)\n",
    "\n",
    "La plupart du temps :\n",
    "- bases de données **relationnelles** en **SQL**\n",
    "- bases de données **non relationnelles** en **noSQL**\n",
    "\n",
    "Le type de base de données indispensable, vu dans ce cours :<br />\n",
    "les bases de données relationnelles en SQL"
   ]
  },
  {
   "cell_type": "markdown",
   "metadata": {
    "slideshow": {
     "slide_type": "slide"
    }
   },
   "source": [
    "## SQL, c’est quoi ?\n",
    "\n",
    "_Structured Query Language_ (= Langage de requêtes structurées)\n",
    "\n",
    "Langage informatique créé en 1974 ayant abouti à une norme internationale\n",
    "\n",
    "Un langage pour décrire la forme du résultat que l’on souhaite obtenir, et non le raisonnement.\n",
    "\n",
    "SQL ≠ SGBD<br />\n",
    "SQL = langage<br />\n",
    "SGBD = logiciel pouvant être utilisé à l’aide d’un langage comme SQL\n",
    "\n",
    "Célèbres SGBD où les requêtes s’écrivent en SQL :\n",
    "\n",
    "Nom     | Prononciation idéale | Prononciation à la française\n",
    "------- | -------------------- | ----------------------------\n",
    "MySQL   | maï-siquoueul    | maï-escuèl\n",
    "SQLite  | siquoueulaïte    | escuèlite\n",
    "Oracle  | owreuqueulle     | oracle\n",
    "Microsoft SQL server | maïcrossoft siquoueul seurveur | microssoft escuèl serveur\n",
    "PostgreSQL | poste-graisse-kyou-elle | poste-greu-escuèl\n",
    "\n",
    "Ce tableau est précieux, tout le monde se trompe sur ces prononciations."
   ]
  },
  {
   "cell_type": "markdown",
   "metadata": {
    "slideshow": {
     "slide_type": "slide"
    }
   },
   "source": [
    "## Quel SGBD choisir ?\n",
    "\n",
    "![db](mysql.png)\n",
    "\n",
    "**++** le plus répandu<br />\n",
    "**+-** gratuit mais dirigé par Oracle, et sous licence partiellement open source<br />\n",
    "**--** structure laxiste aboutissant à des pertes de données"
   ]
  },
  {
   "cell_type": "markdown",
   "metadata": {
    "slideshow": {
     "slide_type": "slide"
    }
   },
   "source": [
    "## Quel SGBD choisir ?\n",
    "\n",
    "![db](sqlite.png)\n",
    "\n",
    "**++** le plus léger, il est partout (navigateurs, smartphones, …)<br />\n",
    "**++** open source<br />\n",
    "**--** sournois, car ne respecte aucune des structures pourtant obligatoires à déclarer"
   ]
  },
  {
   "cell_type": "markdown",
   "metadata": {
    "slideshow": {
     "slide_type": "slide"
    }
   },
   "source": [
    "## Quel SGBD choisir ?\n",
    "\n",
    "![db](oracle.png)\n",
    "\n",
    "**++** le plus complet<br />\n",
    "**--** coûte 17 500 € la licence (oui)"
   ]
  },
  {
   "cell_type": "markdown",
   "metadata": {
    "slideshow": {
     "slide_type": "slide"
    }
   },
   "source": [
    "## Quel SGBD choisir ?\n",
    "\n",
    "![db](ms-sql.jpg)\n",
    "\n",
    "**++** coûte moins cher qu’Oracle<br />\n",
    "**--** n’a aucun intérêt par rapport à PostgreSQL"
   ]
  },
  {
   "cell_type": "markdown",
   "metadata": {
    "slideshow": {
     "slide_type": "slide"
    }
   },
   "source": [
    "## Quel SGBD choisir ?\n",
    "\n",
    "![db](postgresql.png)\n",
    "\n",
    "**++** le plus complet et fiable des SGBD open source, quasiment aussi complet qu’Oracle<br />\n",
    "**--** configuration des accès un peu complexe (mais pour une excellente sécurité)"
   ]
  },
  {
   "cell_type": "markdown",
   "metadata": {
    "slideshow": {
     "slide_type": "slide"
    }
   },
   "source": [
    "## Au menu du jour\n",
    "\n",
    "**PostgreSQL** !\n",
    "\n",
    "Parfait pour toutes les types de base de données jusqu’à des millards de données, ce qui suffira toute votre vie.\n",
    "\n",
    "Nous n’aurons pas de problème de configuration des accès car nous passons par un service en ligne gérant ça pour nous."
   ]
  },
  {
   "cell_type": "markdown",
   "metadata": {
    "slideshow": {
     "slide_type": "slide"
    }
   },
   "source": [
    "# Passons à la pratique !"
   ]
  },
  {
   "cell_type": "markdown",
   "metadata": {
    "slideshow": {
     "slide_type": "slide"
    }
   },
   "source": [
    "## Procédure de travail\n",
    "\n",
    "Ouvrez un onglet de navigateur web sur SQLFiddle : http://sqlfiddle.com\n",
    "\n",
    "Sélectionnez en type de base de données la dernière version de PostgreSQL :\n",
    "![](sqlfiddle-postgresql.png)\n",
    "\n",
    "Trois panneaux :\n",
    "- à gauche : commandes SQL structurant la base de données\n",
    "- à droite : commandes SQL pour effectuer des requêtes\n",
    "- en bas : résultat des requêtes SQL\n",
    "\n",
    "**À chaque modification** puis lancement, l’URL du SQLFiddle change : conservez chaque nouvelle URL pour chaque étape que vous souhaitez sauvegardez ! Créez un document que vous **sauvegardez régulièrement** contenant à chaque fois modification un **descriptif** de ce que vous venez de faire + l’**URL** du SQLFiddle."
   ]
  },
  {
   "cell_type": "markdown",
   "metadata": {
    "slideshow": {
     "slide_type": "slide"
    }
   },
   "source": [
    "## Notre projet pour cet ensemble de cours\n",
    "\n",
    "Créer une **base de données de livres**, ceux que vous adorez plus ou moins.\n",
    "\n",
    "Au fur et à mesure de l’avancée du cours, on va rencontrer des problèmes nécessitant d’**affiner la structure** de la base de données.\n",
    "\n",
    "Nous allons tous **collaborer** à un fichier Google Drive servant de source à cette base de données :<br />\n",
    "https://docs.google.com/spreadsheets/d/1vSk2zLwmlfeGtzCRUV7MVYyl-QzDYFm2eNQA2bOihWI/edit?usp=sharing\n",
    "\n",
    "Utiliser ce fichier de source collaboratif permettra de vous faire voir les problématiques de formatage des données, **le problème numéro un auquel vous ferez face**."
   ]
  },
  {
   "cell_type": "markdown",
   "metadata": {
    "slideshow": {
     "slide_type": "slide"
    }
   },
   "source": [
    "## Création d’une table\n",
    "\n",
    "Création de la structure de la table :"
   ]
  },
  {
   "cell_type": "code",
   "execution_count": 2,
   "metadata": {},
   "outputs": [],
   "source": [
    "CREATE TABLE books (id int, title text, author text,\n",
    "                    pages int, is_author_alive boolean);"
   ]
  },
  {
   "cell_type": "markdown",
   "metadata": {},
   "source": [
    "Types de données élémentaires :\n",
    "\n",
    "Type SQL | Exemple de donnée | Traduction\n",
    "-------- | ----------------- | ----------\n",
    "`boolean` | `true` ou `false` | Booléen, soit vrai ou faux\n",
    "`int` | `-723` | Nombre entier\n",
    "`float` | `3.1415` | Nombre à virgule avec précision incertaine (inadapté pour des prix)\n",
    "`text` | `'bonjour'` | Texte libre\n",
    "`varchar[57]` | `'salut'` | Texte libre, jusqu’à 57 caractères\n",
    "`date` | `DATE '2017-10-16'` | Une date\n",
    "`time` | `TIME '10:08:27'` | Une heure\n",
    "`timestamp` | `TIMESTAMP '2017-10-16 10:08:27'`| Un moment dans l’histoire, donc une combinaison de date et heure"
   ]
  },
  {
   "cell_type": "markdown",
   "metadata": {
    "slideshow": {
     "slide_type": "slide"
    }
   },
   "source": [
    "## Ajout de données\n",
    "\n",
    "Ajout sans préciser les colonnes :"
   ]
  },
  {
   "cell_type": "code",
   "execution_count": 3,
   "metadata": {},
   "outputs": [],
   "source": [
    "INSERT INTO books\n",
    "VALUES (1, 'Alice au pays des merveilles', 'Lewis Carroll', 196, false),\n",
    "       (2, 'Les Piliers de la terre', 'Ken Follett', 1050, true);"
   ]
  },
  {
   "cell_type": "markdown",
   "metadata": {},
   "source": [
    "Ajout en précisant les colonnes :"
   ]
  },
  {
   "cell_type": "code",
   "execution_count": 4,
   "metadata": {},
   "outputs": [],
   "source": [
    "INSERT INTO books (id, title, author)\n",
    "VALUES (3, 'De l’autre côté du miroir', 'Lewis Carroll'),\n",
    "       (4, 'Un Monde sans fin', 'Ken Follett');"
   ]
  },
  {
   "cell_type": "markdown",
   "metadata": {
    "slideshow": {
     "slide_type": "subslide"
    }
   },
   "source": [
    "### Exercice 1\n",
    "\n",
    "Insérez au moins 3 de vos livres préférés dans la table `books`.\n",
    "\n",
    "Ajouter ensuite ces livres dans le tableur Google Drive.\n",
    "\n",
    "### Exercice 2\n",
    "\n",
    "À partir du tableur Google Drive, exporter en CSV pour importer toutes les données dans SQLFiddle."
   ]
  },
  {
   "cell_type": "markdown",
   "metadata": {
    "slideshow": {
     "slide_type": "slide"
    }
   },
   "source": [
    "## Sélection de données\n",
    "\n",
    "Sélection de toutes les colonnes de toutes les lignes :"
   ]
  },
  {
   "cell_type": "code",
   "execution_count": 5,
   "metadata": {},
   "outputs": [
    {
     "data": {
      "text/html": [
       "<table>\n",
       "<tr><th style=\"text-align: right;\">  id</th><th>title                       </th><th>author       </th><th style=\"text-align: right;\">  pages</th><th style=\"text-align: right;\">  is_author_alive</th></tr>\n",
       "<tr><td style=\"text-align: right;\">   1</td><td>Alice au pays des merveilles</td><td>Lewis Carroll</td><td style=\"text-align: right;\">    196</td><td style=\"text-align: right;\">                0</td></tr>\n",
       "<tr><td style=\"text-align: right;\">   2</td><td>Les Piliers de la terre     </td><td>Ken Follett  </td><td style=\"text-align: right;\">   1050</td><td style=\"text-align: right;\">                1</td></tr>\n",
       "<tr><td style=\"text-align: right;\">   3</td><td>De l’autre côté du miroir   </td><td>Lewis Carroll</td><td style=\"text-align: right;\">       </td><td style=\"text-align: right;\">                 </td></tr>\n",
       "<tr><td style=\"text-align: right;\">   4</td><td>Un Monde sans fin           </td><td>Ken Follett  </td><td style=\"text-align: right;\">       </td><td style=\"text-align: right;\">                 </td></tr>\n",
       "</table>"
      ],
      "text/plain": [
       "  id  title                         author           pages    is_author_alive\n",
       "----  ----------------------------  -------------  -------  -----------------\n",
       "   1  Alice au pays des merveilles  Lewis Carroll      196                  0\n",
       "   2  Les Piliers de la terre       Ken Follett       1050                  1\n",
       "   3  De l’autre côté du miroir     Lewis Carroll\n",
       "   4  Un Monde sans fin             Ken Follett"
      ]
     },
     "metadata": {},
     "output_type": "display_data"
    }
   ],
   "source": [
    "SELECT * FROM books;"
   ]
  },
  {
   "cell_type": "markdown",
   "metadata": {},
   "source": [
    "Sélection de deux colonnes :"
   ]
  },
  {
   "cell_type": "code",
   "execution_count": 6,
   "metadata": {},
   "outputs": [
    {
     "data": {
      "text/html": [
       "<table>\n",
       "<tr><th>title                       </th><th>author       </th></tr>\n",
       "<tr><td>Alice au pays des merveilles</td><td>Lewis Carroll</td></tr>\n",
       "<tr><td>Les Piliers de la terre     </td><td>Ken Follett  </td></tr>\n",
       "<tr><td>De l’autre côté du miroir   </td><td>Lewis Carroll</td></tr>\n",
       "<tr><td>Un Monde sans fin           </td><td>Ken Follett  </td></tr>\n",
       "</table>"
      ],
      "text/plain": [
       "title                         author\n",
       "----------------------------  -------------\n",
       "Alice au pays des merveilles  Lewis Carroll\n",
       "Les Piliers de la terre       Ken Follett\n",
       "De l’autre côté du miroir     Lewis Carroll\n",
       "Un Monde sans fin             Ken Follett"
      ]
     },
     "metadata": {},
     "output_type": "display_data"
    }
   ],
   "source": [
    "SELECT title, author FROM books;"
   ]
  },
  {
   "cell_type": "markdown",
   "metadata": {
    "slideshow": {
     "slide_type": "subslide"
    }
   },
   "source": [
    "### Exercice 3\n",
    "\n",
    "Écrire une requête récupérant le titre et le nombre de pages de tous les livres"
   ]
  },
  {
   "cell_type": "markdown",
   "metadata": {
    "slideshow": {
     "slide_type": "slide"
    }
   },
   "source": [
    "## Alias de colonnes"
   ]
  },
  {
   "cell_type": "code",
   "execution_count": 7,
   "metadata": {},
   "outputs": [
    {
     "data": {
      "text/html": [
       "<table>\n",
       "<tr><th>titre                       </th><th>auteur       </th></tr>\n",
       "<tr><td>Alice au pays des merveilles</td><td>Lewis Carroll</td></tr>\n",
       "<tr><td>Les Piliers de la terre     </td><td>Ken Follett  </td></tr>\n",
       "<tr><td>De l’autre côté du miroir   </td><td>Lewis Carroll</td></tr>\n",
       "<tr><td>Un Monde sans fin           </td><td>Ken Follett  </td></tr>\n",
       "</table>"
      ],
      "text/plain": [
       "titre                         auteur\n",
       "----------------------------  -------------\n",
       "Alice au pays des merveilles  Lewis Carroll\n",
       "Les Piliers de la terre       Ken Follett\n",
       "De l’autre côté du miroir     Lewis Carroll\n",
       "Un Monde sans fin             Ken Follett"
      ]
     },
     "metadata": {},
     "output_type": "display_data"
    }
   ],
   "source": [
    "SELECT title AS titre, author AS auteur FROM books;"
   ]
  },
  {
   "cell_type": "markdown",
   "metadata": {
    "slideshow": {
     "slide_type": "subslide"
    }
   },
   "source": [
    "### Exercice 4\n",
    "\n",
    "Écrire une requête récupérant le nom du livre et le nombre de pages, avec les noms de colonne `nom` et `nombre_de_pages`."
   ]
  },
  {
   "cell_type": "markdown",
   "metadata": {
    "slideshow": {
     "slide_type": "slide"
    }
   },
   "source": [
    "## Limiter le nombre de données récupérées\n",
    "\n",
    "La plupart des bases de données sont volumineuses, il est inutile d’aller chercher systématiquement la totalité des données.\n",
    "\n",
    "Pour limiter le nombre de résultats :"
   ]
  },
  {
   "cell_type": "code",
   "execution_count": 8,
   "metadata": {},
   "outputs": [
    {
     "data": {
      "text/html": [
       "<table>\n",
       "<tr><th style=\"text-align: right;\">  id</th><th>title                       </th><th>author       </th><th style=\"text-align: right;\">  pages</th><th style=\"text-align: right;\">  is_author_alive</th></tr>\n",
       "<tr><td style=\"text-align: right;\">   1</td><td>Alice au pays des merveilles</td><td>Lewis Carroll</td><td style=\"text-align: right;\">    196</td><td style=\"text-align: right;\">                0</td></tr>\n",
       "<tr><td style=\"text-align: right;\">   2</td><td>Les Piliers de la terre     </td><td>Ken Follett  </td><td style=\"text-align: right;\">   1050</td><td style=\"text-align: right;\">                1</td></tr>\n",
       "<tr><td style=\"text-align: right;\">   3</td><td>De l’autre côté du miroir   </td><td>Lewis Carroll</td><td style=\"text-align: right;\">       </td><td style=\"text-align: right;\">                 </td></tr>\n",
       "</table>"
      ],
      "text/plain": [
       "  id  title                         author           pages    is_author_alive\n",
       "----  ----------------------------  -------------  -------  -----------------\n",
       "   1  Alice au pays des merveilles  Lewis Carroll      196                  0\n",
       "   2  Les Piliers de la terre       Ken Follett       1050                  1\n",
       "   3  De l’autre côté du miroir     Lewis Carroll"
      ]
     },
     "metadata": {},
     "output_type": "display_data"
    }
   ],
   "source": [
    "SELECT * FROM books LIMIT 3;"
   ]
  },
  {
   "cell_type": "markdown",
   "metadata": {},
   "source": [
    "Pour sauter les premiers résultats :"
   ]
  },
  {
   "cell_type": "code",
   "execution_count": 9,
   "metadata": {},
   "outputs": [
    {
     "data": {
      "text/html": [
       "<table>\n",
       "<tr><th style=\"text-align: right;\">  id</th><th>title                    </th><th>author       </th><th style=\"text-align: right;\">  pages</th><th style=\"text-align: right;\">  is_author_alive</th></tr>\n",
       "<tr><td style=\"text-align: right;\">   3</td><td>De l’autre côté du miroir</td><td>Lewis Carroll</td><td style=\"text-align: right;\">       </td><td style=\"text-align: right;\">                 </td></tr>\n",
       "<tr><td style=\"text-align: right;\">   4</td><td>Un Monde sans fin        </td><td>Ken Follett  </td><td style=\"text-align: right;\">       </td><td style=\"text-align: right;\">                 </td></tr>\n",
       "</table>"
      ],
      "text/plain": [
       "  id  title                      author           pages    is_author_alive\n",
       "----  -------------------------  -------------  -------  -----------------\n",
       "   3  De l’autre côté du miroir  Lewis Carroll\n",
       "   4  Un Monde sans fin          Ken Follett"
      ]
     },
     "metadata": {},
     "output_type": "display_data"
    }
   ],
   "source": [
    "SELECT * FROM books OFFSET 2;"
   ]
  },
  {
   "cell_type": "markdown",
   "metadata": {
    "slideshow": {
     "slide_type": "subslide"
    }
   },
   "source": [
    "### Exercice 5\n",
    "\n",
    "Dans un site Internet, on affiche plusieurs pages de résultats.\n",
    "\n",
    "Chaque page fait 4 résultats.\n",
    "\n",
    "Écrire la requête listant les résultats de la page 2."
   ]
  },
  {
   "cell_type": "markdown",
   "metadata": {
    "slideshow": {
     "slide_type": "slide"
    }
   },
   "source": [
    "## Filtrer les données\n",
    "\n",
    "Sélection de tous les livres écrits par Lewis Carroll :"
   ]
  },
  {
   "cell_type": "code",
   "execution_count": 10,
   "metadata": {},
   "outputs": [
    {
     "data": {
      "text/html": [
       "<table>\n",
       "<tr><th style=\"text-align: right;\">  id</th><th>title                       </th><th>author       </th><th style=\"text-align: right;\">  pages</th><th style=\"text-align: right;\">  is_author_alive</th></tr>\n",
       "<tr><td style=\"text-align: right;\">   1</td><td>Alice au pays des merveilles</td><td>Lewis Carroll</td><td style=\"text-align: right;\">    196</td><td style=\"text-align: right;\">                0</td></tr>\n",
       "<tr><td style=\"text-align: right;\">   3</td><td>De l’autre côté du miroir   </td><td>Lewis Carroll</td><td style=\"text-align: right;\">       </td><td style=\"text-align: right;\">                 </td></tr>\n",
       "</table>"
      ],
      "text/plain": [
       "  id  title                         author           pages    is_author_alive\n",
       "----  ----------------------------  -------------  -------  -----------------\n",
       "   1  Alice au pays des merveilles  Lewis Carroll      196                  0\n",
       "   3  De l’autre côté du miroir     Lewis Carroll"
      ]
     },
     "metadata": {},
     "output_type": "display_data"
    }
   ],
   "source": [
    "SELECT * FROM books WHERE author = 'Lewis Carroll';"
   ]
  },
  {
   "cell_type": "markdown",
   "metadata": {},
   "source": [
    "Sélection de tous les livres écrits par Ken Follett de plus de 1100 pages :"
   ]
  },
  {
   "cell_type": "code",
   "execution_count": 11,
   "metadata": {},
   "outputs": [
    {
     "data": {
      "text/html": [
       "<table>\n",
       "<tr><th style=\"text-align: right;\">  id</th><th>title                  </th><th>author     </th><th style=\"text-align: right;\">  pages</th><th style=\"text-align: right;\">  is_author_alive</th></tr>\n",
       "<tr><td style=\"text-align: right;\">   2</td><td>Les Piliers de la terre</td><td>Ken Follett</td><td style=\"text-align: right;\">   1050</td><td style=\"text-align: right;\">                1</td></tr>\n",
       "</table>"
      ],
      "text/plain": [
       "  id  title                    author         pages    is_author_alive\n",
       "----  -----------------------  -----------  -------  -----------------\n",
       "   2  Les Piliers de la terre  Ken Follett     1050                  1"
      ]
     },
     "metadata": {},
     "output_type": "display_data"
    }
   ],
   "source": [
    "SELECT * FROM books WHERE author = 'Ken Follett' AND pages < 1100;"
   ]
  },
  {
   "cell_type": "markdown",
   "metadata": {
    "slideshow": {
     "slide_type": "subslide"
    }
   },
   "source": [
    "### Exercice 6\n",
    "\n",
    "Écrire une requête récupérant les livres de votre auteur préféré."
   ]
  },
  {
   "cell_type": "markdown",
   "metadata": {
    "slideshow": {
     "slide_type": "slide"
    }
   },
   "source": [
    "## Comparaisons\n",
    "\n",
    "Exemple   | Traduction\n",
    "--------- | ---------\n",
    "`a = b`     | `a` est égal à `b`\n",
    "`a != b`        | `a` est différent de `b`\n",
    "`a > b` | `a` est supérieur à `b`\n",
    "`a < b` | `a` est inférieur à `b`\n",
    "`a >= b` | `a` est supérieur ou égal à `b`\n",
    "`a <= b` | `a` est inférieur ou égal à `b`\n",
    "`a IS NULL` | `a` n’a pas été rempli (tout type sauf texte)\n",
    "`a IN (1, 2, 3)` | `a` est parmi les valeurs `1`, `2` ou `3`\n",
    "`a LIKE '%feuill__'` | `a` vaut `'feuillue'` ou `'portefeuilles'`\n",
    "\n",
    "Combinaison de comparaisons :\n",
    "\n",
    "Exemple | Traduction\n",
    "------- | ----------\n",
    "`a AND b` | `true` si à la fois `a` et `b` sont `true`\n",
    "`a OR b` | `true` si soit `a` ou `b` est `true`, ou les deux\n",
    "`NOT a` | `true` si `a` est `false`"
   ]
  },
  {
   "cell_type": "markdown",
   "metadata": {
    "slideshow": {
     "slide_type": "subslide"
    }
   },
   "source": [
    "### Exercice 7\n",
    "\n",
    "Écrire une requête récupérant les livres dont le titre commence par « Le ».\n",
    "\n",
    "### Exercice 8\n",
    "\n",
    "Écrire une requête récupérant les livres dont l’auteur est toujours vivant et a un nom contenant un « e ».\n",
    "\n",
    "### Exercice 9\n",
    "\n",
    "Écrire une requête récupérant les livres dont l’un des deux champs suivants (ou les deux) n’est pas défini : `pages` ou `is_author_alive`"
   ]
  },
  {
   "cell_type": "markdown",
   "metadata": {
    "slideshow": {
     "slide_type": "slide"
    }
   },
   "source": [
    "## Mise à jour de données\n",
    "\n",
    "Encore un ajout de données :"
   ]
  },
  {
   "cell_type": "code",
   "execution_count": 12,
   "metadata": {},
   "outputs": [],
   "source": [
    "INSERT INTO books (title) VALUES ('La Chute des géants');"
   ]
  },
  {
   "cell_type": "markdown",
   "metadata": {},
   "source": [
    "Oups, j’ai oublié quelques infos !"
   ]
  },
  {
   "cell_type": "code",
   "execution_count": 13,
   "metadata": {},
   "outputs": [],
   "source": [
    "UPDATE books\n",
    "SET id = 5, author = 'Ken Follett'\n",
    "WHERE title = 'La Chute des géants';"
   ]
  },
  {
   "cell_type": "markdown",
   "metadata": {},
   "source": [
    "Est-ce que ça a marché ?"
   ]
  },
  {
   "cell_type": "code",
   "execution_count": 14,
   "metadata": {},
   "outputs": [
    {
     "data": {
      "text/html": [
       "<table>\n",
       "<tr><th style=\"text-align: right;\">  id</th><th>title                  </th><th>author     </th><th style=\"text-align: right;\">  pages</th><th style=\"text-align: right;\">  is_author_alive</th></tr>\n",
       "<tr><td style=\"text-align: right;\">   2</td><td>Les Piliers de la terre</td><td>Ken Follett</td><td style=\"text-align: right;\">   1050</td><td style=\"text-align: right;\">                1</td></tr>\n",
       "<tr><td style=\"text-align: right;\">   4</td><td>Un Monde sans fin      </td><td>Ken Follett</td><td style=\"text-align: right;\">       </td><td style=\"text-align: right;\">                 </td></tr>\n",
       "<tr><td style=\"text-align: right;\">   5</td><td>La Chute des géants    </td><td>Ken Follett</td><td style=\"text-align: right;\">       </td><td style=\"text-align: right;\">                 </td></tr>\n",
       "</table>"
      ],
      "text/plain": [
       "  id  title                    author         pages    is_author_alive\n",
       "----  -----------------------  -----------  -------  -----------------\n",
       "   2  Les Piliers de la terre  Ken Follett     1050                  1\n",
       "   4  Un Monde sans fin        Ken Follett\n",
       "   5  La Chute des géants      Ken Follett"
      ]
     },
     "metadata": {},
     "output_type": "display_data"
    }
   ],
   "source": [
    "SELECT * FROM books WHERE author = 'Ken Follett';"
   ]
  },
  {
   "cell_type": "markdown",
   "metadata": {},
   "source": [
    "Oui !"
   ]
  },
  {
   "cell_type": "markdown",
   "metadata": {
    "slideshow": {
     "slide_type": "subslide"
    }
   },
   "source": [
    "### Exercice 10\n",
    "\n",
    "Remplir automatiquement le champ `is_author_alive` de tous les livres où il n’est pas défini. Remplir par défaut la valeur `false`."
   ]
  },
  {
   "cell_type": "markdown",
   "metadata": {
    "slideshow": {
     "slide_type": "slide"
    }
   },
   "source": [
    "## Modification de la structure\n",
    "\n",
    "Dans la vie professionnelle, on ne supprime pas les tables pour les recréer à chaque fois comme on fait aujourd’hui ensemble.\n",
    "\n",
    "À la place, on fait **migrer** la base de données en modifiant sa structure.\n",
    "\n",
    "Si on souhaite ajouter un champ :"
   ]
  },
  {
   "cell_type": "code",
   "execution_count": 15,
   "metadata": {},
   "outputs": [],
   "source": [
    "ALTER TABLE books ADD COLUMN publication_year int;"
   ]
  },
  {
   "cell_type": "markdown",
   "metadata": {},
   "source": [
    "Mettre une valeur par défaut :"
   ]
  },
  {
   "cell_type": "code",
   "execution_count": 16,
   "metadata": {},
   "outputs": [],
   "source": [
    "ALTER TABLE books ALTER COLUMN title SET DEFAULT '[Titre inconnu]';"
   ]
  },
  {
   "cell_type": "markdown",
   "metadata": {},
   "source": [
    "Mais ce qui nous intéresse, c’est de rendre des champs obligatoires :"
   ]
  },
  {
   "cell_type": "code",
   "execution_count": 17,
   "metadata": {},
   "outputs": [],
   "source": [
    "ALTER TABLE books ALTER COLUMN title SET NOT NULL,\n",
    "                  ALTER COLUMN author SET NOT NULL;"
   ]
  },
  {
   "cell_type": "markdown",
   "metadata": {},
   "source": [
    "Impossible désormais de ne pas remplir les champs titre et auteur !\n",
    "\n",
    "Liste complète des possibilités de modification de structure :\n",
    "https://www.postgresql.org/docs/10/static/sql-altertable.html"
   ]
  },
  {
   "cell_type": "markdown",
   "metadata": {
    "slideshow": {
     "slide_type": "subslide"
    }
   },
   "source": [
    "### Exercice 11\n",
    "\n",
    "Rendre obligatoire l’identifiant.\n",
    "\n",
    "### Exercice 12\n",
    "\n",
    "Modifier la structure pour qu’on considère qu’un auteur soit décédé par défaut."
   ]
  },
  {
   "cell_type": "markdown",
   "metadata": {
    "slideshow": {
     "slide_type": "slide"
    }
   },
   "source": [
    "## Suppression de données"
   ]
  },
  {
   "cell_type": "code",
   "execution_count": 18,
   "metadata": {},
   "outputs": [],
   "source": [
    "INSERT INTO books (title, author)\n",
    "VALUES ('Alice in Wonderland', 'Lewis Carroll');"
   ]
  },
  {
   "cell_type": "markdown",
   "metadata": {},
   "source": [
    "Oups, un doublon !\n",
    "\n",
    "Retirons-le :"
   ]
  },
  {
   "cell_type": "code",
   "execution_count": 19,
   "metadata": {},
   "outputs": [],
   "source": [
    "DELETE FROM books\n",
    "WHERE title = 'Alice in Wonderland';"
   ]
  },
  {
   "cell_type": "markdown",
   "metadata": {},
   "source": [
    "Et si le titre avait été le même ?"
   ]
  },
  {
   "cell_type": "markdown",
   "metadata": {
    "slideshow": {
     "slide_type": "subslide"
    }
   },
   "source": [
    "### Exercice 13\n",
    "\n",
    "Supprimer tous les livres d’un auteur que vous n’aimez pas.\n",
    "\n",
    "(C’est le seul type d’autodafé qu’il est convenable de faire dans sa vie.)"
   ]
  },
  {
   "cell_type": "markdown",
   "metadata": {
    "slideshow": {
     "slide_type": "slide"
    }
   },
   "source": [
    "## Les identifiants automatiques, indispensables"
   ]
  },
  {
   "cell_type": "markdown",
   "metadata": {},
   "source": [
    "Définir des identifiants soi-même, tâche rébarbative et source d’erreurs.\n",
    "\n",
    "Les **identifiants auto-incrémentés**, ou numéros de série, sont là pour ça.\n",
    "\n",
    "À chaque nouvel ajout dans la base de données, nouvel identifiant créé.\n",
    "\n",
    "**Très important !** L’identifiant d’une donnée supprimée n’est jamais réutilisé.\n",
    "\n",
    "Pour créer un identifiant auto-incrémenté, on dispose du type `serial`."
   ]
  },
  {
   "cell_type": "markdown",
   "metadata": {
    "slideshow": {
     "slide_type": "subslide"
    }
   },
   "source": [
    "### Exercice 14\n",
    "\n",
    "Transformer l’identifiant de `books` en un identifiant auto-incrémenté."
   ]
  },
  {
   "cell_type": "markdown",
   "metadata": {
    "slideshow": {
     "slide_type": "slide"
    }
   },
   "source": [
    "## Aggréger les données\n",
    "\n",
    "Sélection du nombre de livres :"
   ]
  },
  {
   "cell_type": "code",
   "execution_count": 20,
   "metadata": {},
   "outputs": [
    {
     "data": {
      "text/html": [
       "<table>\n",
       "<tr><th style=\"text-align: right;\">  count</th></tr>\n",
       "<tr><td style=\"text-align: right;\">      5</td></tr>\n",
       "</table>"
      ],
      "text/plain": [
       "  count\n",
       "-------\n",
       "      5"
      ]
     },
     "metadata": {},
     "output_type": "display_data"
    }
   ],
   "source": [
    "SELECT count(*) FROM books;"
   ]
  },
  {
   "cell_type": "markdown",
   "metadata": {},
   "source": [
    "Sélection du nombre total de pages dans la table :"
   ]
  },
  {
   "cell_type": "code",
   "execution_count": 21,
   "metadata": {},
   "outputs": [
    {
     "data": {
      "text/html": [
       "<table>\n",
       "<tr><th style=\"text-align: right;\">  sum</th></tr>\n",
       "<tr><td style=\"text-align: right;\"> 1246</td></tr>\n",
       "</table>"
      ],
      "text/plain": [
       "  sum\n",
       "-----\n",
       " 1246"
      ]
     },
     "metadata": {},
     "output_type": "display_data"
    }
   ],
   "source": [
    "SELECT sum(pages) FROM books;"
   ]
  },
  {
   "cell_type": "markdown",
   "metadata": {
    "slideshow": {
     "slide_type": "subslide"
    }
   },
   "source": [
    "### Exercice 15\n",
    "\n",
    "Écrire une requête récupérant le nombre de livres écrits par votre auteur préféré.\n",
    "\n",
    "### Exercice 16\n",
    "\n",
    "Écrire une requête récupérant le nombre de livres contenant la syllabe `tion` dans le titre.\n",
    "\n",
    "### Exercice 17\n",
    "\n",
    "Écrire une requête calculant le pourcentage de livres écrits par des auteurs vivants."
   ]
  },
  {
   "cell_type": "markdown",
   "metadata": {
    "slideshow": {
     "slide_type": "slide"
    }
   },
   "source": [
    "## Ordonner les données\n",
    "\n",
    "Ordonner les livres par ordre alphabétique croissant de titre :"
   ]
  },
  {
   "cell_type": "code",
   "execution_count": 22,
   "metadata": {},
   "outputs": [
    {
     "data": {
      "text/html": [
       "<table>\n",
       "<tr><th style=\"text-align: right;\">  id</th><th>title                       </th><th>author       </th><th style=\"text-align: right;\">  pages</th><th style=\"text-align: right;\">  is_author_alive</th><th style=\"text-align: right;\">  publication_year</th></tr>\n",
       "<tr><td style=\"text-align: right;\">   1</td><td>Alice au pays des merveilles</td><td>Lewis Carroll</td><td style=\"text-align: right;\">    196</td><td style=\"text-align: right;\">                0</td><td style=\"text-align: right;\">                  </td></tr>\n",
       "<tr><td style=\"text-align: right;\">   3</td><td>De l’autre côté du miroir   </td><td>Lewis Carroll</td><td style=\"text-align: right;\">       </td><td style=\"text-align: right;\">                 </td><td style=\"text-align: right;\">                  </td></tr>\n",
       "<tr><td style=\"text-align: right;\">   5</td><td>La Chute des géants         </td><td>Ken Follett  </td><td style=\"text-align: right;\">       </td><td style=\"text-align: right;\">                 </td><td style=\"text-align: right;\">                  </td></tr>\n",
       "<tr><td style=\"text-align: right;\">   2</td><td>Les Piliers de la terre     </td><td>Ken Follett  </td><td style=\"text-align: right;\">   1050</td><td style=\"text-align: right;\">                1</td><td style=\"text-align: right;\">                  </td></tr>\n",
       "<tr><td style=\"text-align: right;\">   4</td><td>Un Monde sans fin           </td><td>Ken Follett  </td><td style=\"text-align: right;\">       </td><td style=\"text-align: right;\">                 </td><td style=\"text-align: right;\">                  </td></tr>\n",
       "</table>"
      ],
      "text/plain": [
       "  id  title                         author           pages    is_author_alive    publication_year\n",
       "----  ----------------------------  -------------  -------  -----------------  ------------------\n",
       "   1  Alice au pays des merveilles  Lewis Carroll      196                  0\n",
       "   3  De l’autre côté du miroir     Lewis Carroll\n",
       "   5  La Chute des géants           Ken Follett\n",
       "   2  Les Piliers de la terre       Ken Follett       1050                  1\n",
       "   4  Un Monde sans fin             Ken Follett"
      ]
     },
     "metadata": {},
     "output_type": "display_data"
    }
   ],
   "source": [
    "SELECT * FROM books ORDER BY title;"
   ]
  },
  {
   "cell_type": "markdown",
   "metadata": {},
   "source": [
    "Ordonner les livres par ordre alphabétique croissant d’auteur, puis par ordre décroissant de titre :"
   ]
  },
  {
   "cell_type": "code",
   "execution_count": 23,
   "metadata": {},
   "outputs": [
    {
     "data": {
      "text/html": [
       "<table>\n",
       "<tr><th style=\"text-align: right;\">  id</th><th>title                       </th><th>author       </th><th style=\"text-align: right;\">  pages</th><th style=\"text-align: right;\">  is_author_alive</th><th style=\"text-align: right;\">  publication_year</th></tr>\n",
       "<tr><td style=\"text-align: right;\">   4</td><td>Un Monde sans fin           </td><td>Ken Follett  </td><td style=\"text-align: right;\">       </td><td style=\"text-align: right;\">                 </td><td style=\"text-align: right;\">                  </td></tr>\n",
       "<tr><td style=\"text-align: right;\">   2</td><td>Les Piliers de la terre     </td><td>Ken Follett  </td><td style=\"text-align: right;\">   1050</td><td style=\"text-align: right;\">                1</td><td style=\"text-align: right;\">                  </td></tr>\n",
       "<tr><td style=\"text-align: right;\">   5</td><td>La Chute des géants         </td><td>Ken Follett  </td><td style=\"text-align: right;\">       </td><td style=\"text-align: right;\">                 </td><td style=\"text-align: right;\">                  </td></tr>\n",
       "<tr><td style=\"text-align: right;\">   3</td><td>De l’autre côté du miroir   </td><td>Lewis Carroll</td><td style=\"text-align: right;\">       </td><td style=\"text-align: right;\">                 </td><td style=\"text-align: right;\">                  </td></tr>\n",
       "<tr><td style=\"text-align: right;\">   1</td><td>Alice au pays des merveilles</td><td>Lewis Carroll</td><td style=\"text-align: right;\">    196</td><td style=\"text-align: right;\">                0</td><td style=\"text-align: right;\">                  </td></tr>\n",
       "</table>"
      ],
      "text/plain": [
       "  id  title                         author           pages    is_author_alive    publication_year\n",
       "----  ----------------------------  -------------  -------  -----------------  ------------------\n",
       "   4  Un Monde sans fin             Ken Follett\n",
       "   2  Les Piliers de la terre       Ken Follett       1050                  1\n",
       "   5  La Chute des géants           Ken Follett\n",
       "   3  De l’autre côté du miroir     Lewis Carroll\n",
       "   1  Alice au pays des merveilles  Lewis Carroll      196                  0"
      ]
     },
     "metadata": {},
     "output_type": "display_data"
    }
   ],
   "source": [
    "SELECT * FROM books ORDER BY author ASC, title DESC;"
   ]
  },
  {
   "cell_type": "markdown",
   "metadata": {
    "slideshow": {
     "slide_type": "subslide"
    }
   },
   "source": [
    "### Exercice 18\n",
    "\n",
    "Écrire une requête affichant les deux livres de votre auteur préféré possédant le plus de pages."
   ]
  },
  {
   "cell_type": "code",
   "execution_count": 24,
   "metadata": {
    "slideshow": {
     "slide_type": "skip"
    }
   },
   "outputs": [],
   "source": [
    "DROP TABLE books;"
   ]
  },
  {
   "cell_type": "markdown",
   "metadata": {
    "slideshow": {
     "slide_type": "skip"
    }
   },
   "source": [
    "## Problème : ordres inattendus\n",
    "\n",
    "« Ken Follett » devrait être après « Lewis Carroll », car F > C\n",
    "\n",
    "Solution : séparer nom et prénom\n",
    "\n",
    "« Les Piliers de la terre » devrait être après « Un Monde sans fin », car P > M\n",
    "\n",
    "Solution : séparer l’article du titre"
   ]
  }
 ],
 "metadata": {
  "celltoolbar": "Slideshow",
  "kernelspec": {
   "display_name": "PostgreSQL",
   "language": "psql",
   "name": "postgres"
  },
  "language_info": {
   "codemirror_mode": "sql",
   "file_extension": ".sql",
   "mimetype": "text/x-postgresql",
   "name": "PostgreSQL"
  }
 },
 "nbformat": 4,
 "nbformat_minor": 2
}
