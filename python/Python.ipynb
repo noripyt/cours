{
 "cells": [
  {
   "cell_type": "markdown",
   "metadata": {
    "slideshow": {
     "slide_type": "slide"
    }
   },
   "source": [
    "# Langage de programmation Python\n",
    "\n",
    "## Par Bertrand Bordage\n",
    "- Programmeur Python, Django, PostgreSQL\n",
    "- Membre de l’équipe de développement du CMS Wagtail\n",
    "- Créateur de nombreux projets *open source* plus ou moins célèbres"
   ]
  },
  {
   "cell_type": "markdown",
   "metadata": {
    "slideshow": {
     "slide_type": "slide"
    }
   },
   "source": [
    "## Projets pour les vétérans\n",
    "\n",
    "Choisir un des projets suivants :\n",
    "- Créer une mini application web avec [Django](https://docs.djangoproject.com/en/2.0/) faisant une interface un minimum jolie et colorée de l’action RPG textuel (voir dernières slides du cours). Stocker l’état d’une partie dans la base de données.\n",
    "- Écrire un programme qui trouve des anagrammes parfaits en français. Par exemple, « mec menu anormal » est un anagramme de « Emmanuel Macron ».\n",
    "- Réaliser un site avec catalogue d’articles en vente en utilisant [Wagtail](https://wagtail.io/), avec un design pas trop moche en utilisant Bootstrap. S’inspirer éventuellement de la [bakerydemo](https://github.com/wagtail/bakerydemo). "
   ]
  },
  {
   "cell_type": "markdown",
   "metadata": {
    "slideshow": {
     "slide_type": "slide"
    }
   },
   "source": [
    "## Introduction\n",
    "\n",
    "Créé en 1991 par Guido Van Rossum, un fan des Monty Python.\n",
    "\n",
    "Plus ancien que PHP, Java, JavaScript, .Net\n",
    "\n",
    "Pourtant bien plus simple et (discutablement) plus complet\n",
    "\n",
    "Python, un langage interprété à typage dynamique\n",
    "\n",
    "⇒ 10 × plus rapide pour coder qu’avec un langage compilé à typage statique comme C\n",
    "\n",
    "Un langage pour se concentrer sur ce qu’on cherche à faire, en étant le moins possible perturbé par des contraintes techniques"
   ]
  },
  {
   "cell_type": "markdown",
   "metadata": {
    "slideshow": {
     "slide_type": "slide"
    }
   },
   "source": [
    "## Pourquoi utiliser Python\n",
    "\n",
    "Facile pour débuter, mais reste pertinent pour des travaux experts\n",
    "\n",
    "Permet d’écrire tout type de programme\n",
    "\n",
    "Contient une librairie standard particulièrement complète\n",
    "\n",
    "Possède un écosystème de paquets extrêmement vaste pour réaliser les tâches les plus complexes\n",
    "\n",
    "Basé sur une philosophie **incitant à la simplicité et à la clarté**.\n",
    "\n",
    "Un poème, [Le Zen de Python](https://www.python.org/dev/peps/pep-0020/), résume cette philosophie.\n",
    "\n",
    "Et *open source*, donc :\n",
    "- gratuit\n",
    "- on peut voir comment c’est construit\n",
    "- on peut le modifier voire y participer"
   ]
  },
  {
   "cell_type": "markdown",
   "metadata": {
    "slideshow": {
     "slide_type": "slide"
    }
   },
   "source": [
    "## Que faire avec Python\n",
    "\n",
    "Utilisé dans le monde entier comme couteau suisse de la programmation.\n",
    "[Second langage le plus utilisé](https://octoverse.github.com/) en *open source* après JavaScript.\n",
    "\n",
    "On s’en sert pour faire :\n",
    "- des **scripts** pour automatiser des tâches\n",
    "- des programmes divers dans les **systèmes d’exploitation** Linux & Mac OS X\n",
    "- des **applications web**\n",
    "- du **traitement de données** : stockage, data mining, acoustique, reconnaissance d’image, deep learning, etc.\n",
    "- de la **recherche scientifique** : physique, biologie, météorologie, mathématiques, etc.\n",
    "- de la **domotique** et autres systèmes embarqués\n",
    "- parfois pour faire des **jeux vidéo**\n",
    "\n",
    "Commence à être indispensable en informatique aujourd’hui, et est utilisé par les plus grands :\n",
    "- [Google](https://github.com/google)\n",
    "- NASA\n",
    "- Lucasfilm\n",
    "- Dropbox, Instagram, Mozilla, Pinterest, etc."
   ]
  },
  {
   "cell_type": "markdown",
   "metadata": {
    "slideshow": {
     "slide_type": "slide"
    }
   },
   "source": [
    "## Comment installer Python\n",
    "\n",
    "On utilise au minimum la version 3.4.<br />\n",
    "Prendre la version la plus récente, par exemple 3.6.4.\n",
    "\n",
    "#### Ubuntu ou Debian\n",
    "\n",
    "Ouvrir un terminal et lancer :\n",
    "```bash\n",
    "sudo apt install python3.6\n",
    "```\n",
    "\n",
    "Si le paquet n’existe pas vous devez utiliser une version plus ancienne, essayer en remplaçant `3.6` par `3.5` ou `3.4`.\n",
    "\n",
    "#### macOS\n",
    "\n",
    "[Télécharger sur python.org](https://www.python.org/ftp/python/3.6.4/python-3.6.4-macosx10.6.pkg) puis installer le programme.\n",
    "\n",
    "#### Windows\n",
    "\n",
    "[Télécharger sur python.org](https://www.python.org/ftp/python/3.6.4/python-3.6.4-amd64.exe) puis lancer le fichier téléchargé, et penser à cocher `Add Python 3.6 to PATH` pendant l’installation. Redémarrer l’ordinateur parce que Windows."
   ]
  },
  {
   "cell_type": "markdown",
   "metadata": {
    "slideshow": {
     "slide_type": "slide"
    }
   },
   "source": [
    "## Comment utiliser Python\n",
    "\n",
    "Quelque soit le système, lancer un terminal (nommé « Invite de commandes » sous Windows).\n",
    "\n",
    "Pour lancer Python en mode interactif, utiliser la commande :\n",
    "```bash\n",
    "python3.6\n",
    "```\n",
    "\n",
    "Après plusieurs lignes d’informations, on voit un triple chevron `>>> `.<br />\n",
    "Cela indique que Python attend que vous saisissiez une commande Python.\n",
    "\n",
    "Plus tard, on créera des fichiers .py contenant du Python, qu’on exécutera en mode non-interactif en faisant :<br />\n",
    "`python3.6 un_programme.py`"
   ]
  },
  {
   "cell_type": "markdown",
   "metadata": {
    "slideshow": {
     "slide_type": "slide"
    }
   },
   "source": [
    "# Débutons"
   ]
  },
  {
   "cell_type": "markdown",
   "metadata": {
    "slideshow": {
     "slide_type": "slide"
    }
   },
   "source": [
    "## Les types de base\n",
    "\n",
    "Les données manipulées en Python ont des types divers.<br />\n",
    "Des dizaines de types, mais nous nous servirons d’abord des types simples suivants :\n",
    "\n",
    "  | Nom du type en Python | Notation\n",
    "- | --------------------- | --------\n",
    "Nombre entier | `int` | `1234567`\n",
    "Nombre à virgule | `float` | `3.14`\n",
    "Chaîne de caractères | `str` | `'abc'` ou `\"abc\"`\n",
    "Booléen (« oui » ou « non ») | `bool` | `True` ou `False`\n",
    "Valeur spéciale unique pour dire « rien » | `NoneType` | `None`\n",
    "\n",
    "Attention : les nombres à virgule s’écrivent… sans virgule ! Il s’agit de la notation anglo-saxonne, avec un point à la place de la virgule."
   ]
  },
  {
   "cell_type": "markdown",
   "metadata": {
    "slideshow": {
     "slide_type": "subslide"
    }
   },
   "source": [
    "### Exercice 1\n",
    "\n",
    "Dans la console interactive :\n",
    "- créer un nombre entier quelconque\n",
    "- créer un nombre entier supérieur à 1 000.\n",
    "- créer un nombre à virgule quelconque\n",
    "- créer une chaîne de caractères quelconque\n",
    "- créer un booléen quelconque"
   ]
  },
  {
   "cell_type": "markdown",
   "metadata": {
    "slideshow": {
     "slide_type": "slide"
    }
   },
   "source": [
    "### Les opérations\n",
    "\n",
    "En Python comme en mathématiques, des symboles existent pour effectuer des opérations.<br />\n",
    "Heureusement, ils sont beaucoup moins nombreux, et certains sont déjà familiers.<br />\n",
    "Ces opérations s’exécutent indifféremment sur des nombres entiers ou à virgule.\n",
    "\n",
    "Opération | Notation | Résultat\n",
    "--------- | -------- | --------\n",
    "Addition | `7 + 2` | `9`\n",
    "Soustraction | `7 - 2` | `5`\n",
    "Multiplication | `7 * 2` | `14`\n",
    "Division | `7 / 2` | `3.5`\n",
    "Modulo (reste d’une division euclidienne) | `7 % 2` | `1`\n",
    "Quotient d’une division euclidienne | `7 // 2` | `3`\n",
    "Puissance | `7 ** 2` | `49`\n",
    "\n",
    "\n",
    "Pour regrouper des opérations, on utilise des parenthèses, comme en mathématiques :<br />\n",
    "`((3 + 8) * (5.5 - 7)) / 3`"
   ]
  },
  {
   "cell_type": "markdown",
   "metadata": {
    "slideshow": {
     "slide_type": "subslide"
    }
   },
   "source": [
    "### Exercice 2\n",
    "\n",
    "Dans la console interactive :\n",
    "- additionner deux nombres entiers quelconques\n",
    "- soustraire un nombre à virgule à un nombre entier\n",
    "- multiplier un nombre entier par l’addition de deux nombres à virgule, et diviser le tout par un nombre entier"
   ]
  },
  {
   "cell_type": "markdown",
   "metadata": {
    "slideshow": {
     "slide_type": "slide"
    }
   },
   "source": [
    "## Opérations & types\n",
    "\n",
    "En Python, ces opérations arithmétiques fonctionnent aussi sur d’autres types.<br />\n",
    "Certains opérateurs marchent notamment sur les chaînes de caractères.\n",
    "\n",
    "Voici ce que cela donne :\n",
    "\n",
    "Opération | Résultat\n",
    "--------- | --------\n",
    "`'abc' + 'def'` | `'abcdef'`\n",
    "`'abc' - 'def'` | `Opération impossible !`\n",
    "`'abc' * 'def'` | `Opération impossible !`\n",
    "`'abc' * 3` | `'abcabcabc'`\n",
    "`'abc' / 'def'` | `Opération impossible !`\n",
    "`'abc' / 3` | `Opération impossible !`"
   ]
  },
  {
   "cell_type": "markdown",
   "metadata": {
    "slideshow": {
     "slide_type": "subslide"
    }
   },
   "source": [
    "(Toujours dans la console interactive)\n",
    "\n",
    "### Exercice 3\n",
    "\n",
    "« Concaténer » (rassembler) 3 chaînes de caractères :\n",
    "- votre prénom\n",
    "- une espace\n",
    "- votre nom\n",
    "\n",
    "### Exercice 4\n",
    "\n",
    "Écrire « blablablablablabla » (6 fois « bla ») en 7 caractères"
   ]
  },
  {
   "cell_type": "markdown",
   "metadata": {
    "slideshow": {
     "slide_type": "slide"
    }
   },
   "source": [
    "## Les variables\n",
    "\n",
    "En informatique, une variable est un endroit nommé où on stocke une donnée.<br />\n",
    "En Python, on écrit d’abord le nom de la variable, puis le symbole `=`,  puis la donnée :\n",
    "\n",
    "```python\n",
    "nom = 'Vivaldi'\n",
    "```\n",
    "\n",
    "On dit alors qu’on assigne la chaîne de caractères `'Vivaldi'` à la variable `nom`.\n",
    "\n",
    "Attention, ce n’est pas une égalité mathématique ! On peut très bien écrire :\n",
    "```python\n",
    "n = 1\n",
    "n = 2\n",
    "```\n",
    "Cela signifie qu’on assigne `1` à la variable `n`, puis qu’on assigne `2` à cette même variable. Après la seconde ligne, `n` vaut `2`, cela écrase l’opération précédente, comme lorsqu’on écrase un fichier avec un fichier du même nom.\n",
    "\n",
    "Un nom de variable peut contenir des lettres, des chiffres ou des *underscores* mais ne peut commencer par un chiffre. Il peut stocker le résultat d’un calcul. Exemple :\n",
    "\n",
    "```python\n",
    "mon_budget_2016 = (12 * 30) + 5\n",
    "```"
   ]
  },
  {
   "cell_type": "markdown",
   "metadata": {
    "slideshow": {
     "slide_type": "subslide"
    }
   },
   "source": [
    "(Toujours dans la console interactive)\n",
    "\n",
    "### Exercice 5\n",
    "\n",
    "Assigner le titre de votre film préféré à une variable `film_favori`\n",
    "\n",
    "### Exercice 6\n",
    "\n",
    "Assigner le résultat d’une multiplication de nombres entiers à une variable"
   ]
  },
  {
   "cell_type": "markdown",
   "metadata": {
    "slideshow": {
     "slide_type": "slide"
    }
   },
   "source": [
    "## Utiliser des fonctions\n",
    "\n",
    "Comme en mathématiques, une fonction en programmation permet de **transformer des paramètres en un résultat**. Pour utiliser une fonction, il faut écrire le nom de la fonction suivi de parenthèses contenant des paramètres séparés par des virgules. Exemple :\n",
    "```python\n",
    "print(1, 2, 'abc')\n",
    "```\n",
    "\n",
    "Cette fonction, `print`, permet d’afficher les paramètres dans la console.<br />\n",
    "À noter, cette fonction est en réalité ce qu’on appelle une procédure en algorithmique, terme que l’on n’utilise pas en Python.\n",
    "\n",
    "Une autre fonction, `input`, permet de demander à l’utilisateur de saisir du texte, qu’on peut stocker :\n",
    "```python\n",
    "desir = input('Que voulez-vous ? ')\n",
    "```"
   ]
  },
  {
   "cell_type": "markdown",
   "metadata": {
    "slideshow": {
     "slide_type": "slide"
    }
   },
   "source": [
    "## Fonctions utiles\n",
    "\n",
    "Les fonctions utilisables directement sont toutes listées sur [docs.python.org/3/library/functions](https://docs.python.org/3/library/functions).\n",
    "\n",
    "Seules ces fonctions sont utiles pour commencer :\n",
    "\n",
    "Fonction | Utilité | Fonction | Utilité\n",
    "------- | ------------------------------------------ | ------ | -----------------------------\n",
    "`float` | Convertit le paramètre en nombre à virgule | `list` | Convertit une donnée en liste\n",
    "`input` | Voir précédemment | `min` | Donne le plus petit de tous les paramètres\n",
    "`int` | Convertit le paramètre en nombre entier | `max` | Donne le plus grand de tous les paramètres\n",
    "`len` | Renvoie la longueur d’une donnée | `print` | Voir précédemment"
   ]
  },
  {
   "cell_type": "markdown",
   "metadata": {
    "slideshow": {
     "slide_type": "subslide"
    }
   },
   "source": [
    "(Toujours dans la console interactive)\n",
    "\n",
    "### Exercice 7\n",
    "\n",
    "Effectuer les tâches suivantes :\n",
    "- afficher « Bienvenue »\n",
    "- demander l’âge de l’utilisateur en posant la question « Quel âge avez-vous ? » et le stocker dans une variable `age`\n",
    "- convertir l’âge en nombre entier et le multiplier par 4, stocker le tout dans une variable `futur_age`\n",
    "- afficher « Tu imagines quand tu auras X ans ? » en remplaçant X par `futur_age`"
   ]
  },
  {
   "cell_type": "markdown",
   "metadata": {
    "slideshow": {
     "slide_type": "slide"
    }
   },
   "source": [
    "## Les listes\n",
    "\n",
    "Les listes permettent de stocker des séries ordonnées de données, et se définissent avec des crochets :\n",
    "```python\n",
    "premiers = [1, 2, 3, 5, 7, 11]\n",
    "liste_mixte = [1, 1.5, 'a', True, None]\n",
    "```\n",
    "\n",
    "#### Lire une liste\n",
    "\n",
    "Connaître le nombre d’éléments d’une liste en utilisant la fonction len vue auparavant :\n",
    "```python\n",
    "len(premiers)  # Renvoie 6\n",
    "```\n",
    "Obtenir un élément de la liste (en commençant par 0 et non 1) :\n",
    "```python\n",
    "premiers[0]  # Renvoie 1\n",
    "premiers[3]  # Renvoie 5\n",
    "```\n",
    "Tester la présence d’un élément :\n",
    "```python\n",
    "'violon' in liste_mixte  # Renvoie False\n",
    "```"
   ]
  },
  {
   "cell_type": "markdown",
   "metadata": {
    "slideshow": {
     "slide_type": "slide"
    }
   },
   "source": [
    "## Les listes — suite\n",
    "\n",
    "#### Modifier une liste\n",
    "\n",
    "Redéfinir un élément de la liste :\n",
    "```python\n",
    "liste_mixte[4] = 53.42\n",
    "```\n",
    "Ajouter des éléments à la liste :\n",
    "```python\n",
    "premiers += [13, 17]  # Raccourci pour premiers = premiers + [13, 17]\n",
    "```\n",
    "Supprimer un élément de la liste :\n",
    "```python\n",
    "del premiers[0]\n",
    "```"
   ]
  },
  {
   "cell_type": "markdown",
   "metadata": {
    "slideshow": {
     "slide_type": "subslide"
    }
   },
   "source": [
    "(Toujours dans la console interactive)\n",
    "\n",
    "### Exercice 8\n",
    "\n",
    "Effectuer les instructions suivantes :\n",
    "- créer une liste contenant 3 données quelconques\n",
    "- afficher sa longueur pour vérifier qu’elle vaut bien 3\n",
    "- aller chercher le 2<sup>nd</sup> élément\n",
    "- remplacer le premier élément de cette liste par `'bravo'`\n",
    "- ajouter 2 éléments quelconques\n",
    "- supprimer le dernier élément\n",
    "- vérifier si `'Chuck Norris'` est dans la liste (on ne sait jamais…)\n",
    "- afficher la liste"
   ]
  },
  {
   "cell_type": "markdown",
   "metadata": {
    "slideshow": {
     "slide_type": "slide"
    }
   },
   "source": [
    "## Les dictionnaires\n",
    "\n",
    "Comme une liste, mais pour faire correspondre des données entre elles.<br />\n",
    "Ici, on fait correspondre des prénoms (les **clés**) à des âges (les **valeurs**) :\n",
    "```python\n",
    "ages = {'Paul': 38, 'Aziz': 49, 'Shotaro': 22}\n",
    "```\n",
    "Connaître le nombre d’entrées :\n",
    "```python\n",
    "len(ages)  # Renvoie 3\n",
    "```\n",
    "Obtenir une valeur à partir d’une clé :\n",
    "```python\n",
    "ages['Paul']  # Renvoie 38\n",
    "```\n",
    "Ajouter une entrée au dictionnaire :\n",
    "```python\n",
    "ages['Antonio'] = 63\n",
    "```\n",
    "Supprimer une entrée du dictionnaire :\n",
    "```python\n",
    "del ages['Paul']\n",
    "```\n",
    "Vérifier si une clé est dans le dictionnaire :\n",
    "```python\n",
    "'Hans' in ages  # Renvoie False\n",
    "```"
   ]
  },
  {
   "cell_type": "markdown",
   "metadata": {
    "slideshow": {
     "slide_type": "subslide"
    }
   },
   "source": [
    "(Toujours dans la console interactive)\n",
    "\n",
    "### Exercice 9\n",
    "\n",
    "Effectuer les instructions suivantes :\n",
    "- créer un dictionnaire vide dans une variable `achats`, dans lequel on fera correspondre des noms d’objets à des nombres à virgule indiquant le prix d’achat d’un objet.\n",
    "- ajouter un ordinateur à 700 € au dictionnaire<br />\n",
    "- ajouter une baguette à 75 centimes\n",
    "- remplacer le prix de l’ordinateur par 800 €\n",
    "- aller chercher le prix de l’ordinateur\n",
    "- supprimer la baguette\n",
    "- vérifier si Chuck Norris est dans le dictionnaire (on ne sait jamais…)"
   ]
  },
  {
   "cell_type": "markdown",
   "metadata": {
    "slideshow": {
     "slide_type": "slide"
    }
   },
   "source": [
    "## Les conditions\n",
    "\n",
    "Pour exécuter du code uniquement si une condition est vraie, on utilise la commande `if` suivie de la condition. Par exemple ici, « bingo » ne sera affiché que si `x` est supérieur à 3 :\n",
    "```python\n",
    "if x > 3:\n",
    "    print('bingo')\n",
    "```\n",
    "Notez qu’on indente de 4 espaces ce qui est exécuté si la commande est vraie.<br />\n",
    "Deux types d’opérateurs pour les conditions, les **comparaisons** et **opérateurs booléens** (ou **combinaisons**).\n",
    "\n",
    "Type d’opération | Opération | Notation\n",
    "---------------- | --------- | --------\n",
    "Comparaison | `a` égal à `b` | `a == b`\n",
    "Comparaison | `a` différent de `b` | `a != b`\n",
    "Comparaison | `a` supérieur à `b` | `a > b`\n",
    "Comparaison | `a` supérieur ou égal à `b` | `a >= b`\n",
    "Comparaison | `a` inférieur à `b` | `a < b`\n",
    "Comparaison | `a` inférieur ou égal à `b` | `a <= b`\n",
    "Combinaison | `a` ou `b` | `a or b`\n",
    "Combinaison | `a` et `b` | `a and b`\n",
    "Combinaison | opposé de `a` | `not a`"
   ]
  },
  {
   "cell_type": "markdown",
   "metadata": {
    "slideshow": {
     "slide_type": "slide"
    }
   },
   "source": [
    "## Les conditions — suite\n",
    "\n",
    "Les comparaisons prennent deux valeurs quelconques, les **opérandes**, et renvoient un booléen, par exemple :\n",
    "```python\n",
    "3 > 1       # renvoie True\n",
    "'a' == 'b'  # renvoie False\n",
    "```\n",
    "Les combinaisons permettent de combiner des booléens, donc de combiner le résultat de comparaisons :\n",
    "```python\n",
    "3 > 1 or 'a' == 'a'  # renvoie True puisque l’une des deux comparaisons vaut True\n",
    "```\n",
    "On peut mettre des parenthèses pour expliquer à Python la priorité des opérations :\n",
    "```python\n",
    "(3 > 1 or 'a' == 'a') and 5 <= 2  # renvoie False, tandis que\n",
    "3 > 1 or ('a' == 'a' and 5 <= 2)  # renvoie True\n",
    "```\n",
    "Voici un résumé du comportement des opérateurs booléens :\n",
    "```python\n",
    "True or True     # True\n",
    "True or False    # True\n",
    "False or True    # True\n",
    "False or False   # False\n",
    "True and True    # True\n",
    "True and False   # False\n",
    "False and True   # False\n",
    "False and False  # False\n",
    "not True         # False\n",
    "not False        # True\n",
    "```"
   ]
  },
  {
   "cell_type": "markdown",
   "metadata": {
    "slideshow": {
     "slide_type": "slide"
    }
   },
   "source": [
    "## Les conditions — suite\n",
    "\n",
    "Si la condition d’un `if` est `False`, on peut aussi exécuter autre chose, à l’aide du mot-clé `else` :"
   ]
  },
  {
   "cell_type": "code",
   "execution_count": 1,
   "metadata": {},
   "outputs": [
    {
     "name": "stdout",
     "output_type": "stream",
     "text": [
      "Condition fausse\n"
     ]
    }
   ],
   "source": [
    "if 1 > 3:\n",
    "    print('Condition vraie')\n",
    "else:\n",
    "    print('Condition fausse')"
   ]
  },
  {
   "cell_type": "markdown",
   "metadata": {},
   "source": [
    "On peut aussi tester une autre condition à l’aide de la contraction de “else if”, le mot-clé `elif` :"
   ]
  },
  {
   "cell_type": "code",
   "execution_count": 2,
   "metadata": {},
   "outputs": [
    {
     "name": "stdout",
     "output_type": "stream",
     "text": [
      "3e condition vraie\n"
     ]
    }
   ],
   "source": [
    "if 1 > 3:\n",
    "    print('1re condition vraie')\n",
    "elif 2 > 3:\n",
    "    print('2de condition vraie')\n",
    "elif 5 > 3:\n",
    "    print('3e condition vraie')\n",
    "else:\n",
    "    print('Tout est faux')"
   ]
  },
  {
   "cell_type": "markdown",
   "metadata": {
    "slideshow": {
     "slide_type": "subslide"
    }
   },
   "source": [
    "### Exercice 10\n",
    "\n",
    "Créer un fichier texte vide `conditions.py`\n",
    "\n",
    "À l’intérieur du fichier, créer une variable `age` contenant votre âge\n",
    "\n",
    "Créer une variable `pointure` contenant votre pointure de chaussure\n",
    "\n",
    "Écrire une condition affichant « Vous êtes mineur » si vous avez moins de 18 ans\n",
    "\n",
    "Sinon vérifier si votre pointure vaut plus de 2 fois votre âge et que votre âge est pair, et si tout cela est vrai, afficher « Vous êtes un majeur veinard »\n",
    "\n",
    "Sinon afficher « Vous êtes un majeur et malchanceux »"
   ]
  },
  {
   "cell_type": "markdown",
   "metadata": {
    "slideshow": {
     "slide_type": "slide"
    }
   },
   "source": [
    "## Les boucles\n",
    "\n",
    "Deux types de boucles en Python : `for` et `while`.\n",
    "- `while` répète les mêmes lignes de code tant qu’une condition reste vraie\n",
    "- `for` passe en revue le contenu d’une liste (ou similaire) et s’arrête lorsqu’il n’y a plus rien\n",
    "\n",
    "Deux exemples équivalents affichant tous deux `0`, `1` et `2` :\n",
    "```python\n",
    "i = 0\n",
    "while i < 3:\n",
    "    print(i)\n",
    "    i += 1  # Raccourci pour i = i + 1\n",
    "```\n",
    "\n",
    "```python\n",
    "for i in [0, 1, 2]:\n",
    "    print(i)\n",
    "```\n",
    "\n",
    "`for` est très prisé dans l’univers Python pour sa simplicité, mais dans certains cas `while` est plus adapté.\n",
    "\n",
    "Il existe une fonction `range` permettant d’écrire plus rapidement une suite de nombres consécutifs dans une boucle `for`. Par exemple, `range(10)` équivaudra à itérer sur `[0, 1, 2, 3, 4, 5, 6, 7, 8, 9]` et `range(3, 6)` équivaudra à itérer sur `[3, 4, 5]`."
   ]
  },
  {
   "cell_type": "markdown",
   "metadata": {
    "slideshow": {
     "slide_type": "subslide"
    }
   },
   "source": [
    "### Exercice 11\n",
    "\n",
    "Dans un fichier `boucles.py`, créer deux boucles :\n",
    "\n",
    "Une boucle affichant des nombres de 50 à 100 inclus\n",
    "\n",
    "Une boucle demandant à l’utilisateur « Quel est votre prénom ? » jusqu’à ce qu’il tape exactement votre prénom.<br />\n",
    "À chaque fois que cela ne correspondra pas à votre prénom, afficher « Accès refusé »"
   ]
  },
  {
   "cell_type": "markdown",
   "metadata": {
    "slideshow": {
     "slide_type": "slide"
    }
   },
   "source": [
    "## Utiliser des modules\n",
    "\n",
    "Python inclut des dizaines de modules indispensables à la vie du développeur.\n",
    "\n",
    "Pour importer un module entier et s’en servir, il faut utiliser la syntaxe :\n",
    "```python\n",
    "import random\n",
    "random.randint(5, 20)  # Choisit un nombre aléatoire entre 5 et 20.\n",
    "```\n",
    "\n",
    "Pour importer directement un composant d’un module, comme une fonction, il faut utiliser la syntaxe :\n",
    "```python\n",
    "from random import randint\n",
    "randint(5, 20)\n",
    "```\n",
    "\n",
    "Par convention, toutes les importations sont faites en haut du fichier et sont groupées par ordre alphabétique de nom de module, par exemple :\n",
    "```python\n",
    "from math import log\n",
    "from random import randint, choice\n",
    "import re\n",
    "from time import time\n",
    "```\n",
    "La documentation de tous les modules inclus dans Python est sur :<br />\n",
    "[docs.python.org/3/library/](https://docs.python.org/3/library/)"
   ]
  },
  {
   "cell_type": "markdown",
   "metadata": {
    "slideshow": {
     "slide_type": "slide"
    }
   },
   "source": [
    "# Passons à la pratique :\n",
    "# le jeu du juste prix !"
   ]
  },
  {
   "cell_type": "markdown",
   "metadata": {
    "slideshow": {
     "slide_type": "slide"
    }
   },
   "source": [
    "## Le jeu du juste prix\n",
    "\n",
    "Deviner le prix d’un objet pioché aléatoirement.<br />\n",
    "Plusieurs objets et leurs fourchettes de prix sont précisées dans le code.<br />\n",
    "Le prix à deviner est aléatoire au sein de la fourchette de prix de l’objet.\n",
    "\n",
    "![](juste-prix.png)"
   ]
  },
  {
   "cell_type": "markdown",
   "metadata": {
    "slideshow": {
     "slide_type": "slide"
    }
   },
   "source": [
    "# Écosystème Python"
   ]
  },
  {
   "cell_type": "markdown",
   "metadata": {
    "slideshow": {
     "slide_type": "slide"
    }
   },
   "source": [
    "## Python 2 vs 3\n",
    "\n",
    "Depuis 8 ans, deux versions principales de Python coexistent : Python 2 et Python 3.\n",
    "\n",
    "Python 3 est né de la volonté de changer de nombreux choix de Python qui ne pouvaient être changés du jour au lendemain.<br />\n",
    "Cette coexistence a permi à la communauté de prendre le temps de s’approprier tous ces changements et de rendre les paquets compatibles avec la nouvelle version, Python 3.\n",
    "\n",
    "Aujourd’hui, nous approchons de la fin de cette période de transition et vous pouvez travailler directement avec Python 3, peut-être n’aurez-vous d’ailleurs jamais à utiliser Python 2.\n",
    "\n",
    "Si jamais vous avez besoin d’utiliser Python 2, les différences majeures sont :\n",
    "- `print` n’était pas une fonction et s’écrivait donc sans parenthèses : `print 'quelque chose'`\n",
    "- Les chaînes de caractères étaient par défaut en ASCII, il fallait indiquer l’encodage en haut du fichier avec une première ligne `# coding: utf-8` et ajouter un petit U avant chaque chaîne unicode, comme `u'chaîne accentuée'`\n",
    "- La division de deux nombres entiers renvoyait un nombre entier, donc `1 / 2` renvoyait `0` et non `0.5`\n",
    "- `input` avait un comportement différent et l’équivalent du `input` de Python 3 s’appellait `raw_input`\n",
    "\n",
    "Les autres différences sont assez avancées et il est finalement rare de les croiser."
   ]
  },
  {
   "cell_type": "markdown",
   "metadata": {
    "slideshow": {
     "slide_type": "slide"
    }
   },
   "source": [
    "## Le virtualenv\n",
    "\n",
    "En informatique, on est amenés à utiliser des versions différentes de logiciels pour chaque projet.<br />\n",
    "Un environnement virtuel Python, ou “virtualenv”, permet d’avoir pour chaque projet un ensemble de paquets Python différent des autres projets.\n",
    "\n",
    "Installation sous Ubuntu :\n",
    "```bash\n",
    "sudo apt install virtualenvwrapper python3-virtualenv\n",
    "echo 'export WORKON_HOME=~/.virtualenvs' >> ~/.bashrc\n",
    "```\n",
    "Redémarrer la console\n",
    "\n",
    "Créer un virtualenv :\n",
    "```bash\n",
    "mkvirtualenv -p /usr/bin/python3.5 nom_du_virtualenv\n",
    "```\n",
    "Activer un virtualenv :\n",
    "```bash\n",
    "workon nom_du_virtualenv\n",
    "```\n",
    "Désactiver le virtualenv actuel :\n",
    "```bash\n",
    "deactivate\n",
    "```\n",
    "Supprimer un virtualenv :\n",
    "```bash\n",
    "rmvirtualenv nom_du_virtualenv\n",
    "```"
   ]
  },
  {
   "cell_type": "markdown",
   "metadata": {
    "slideshow": {
     "slide_type": "slide"
    }
   },
   "source": [
    "## Installer des librairies avec pip\n",
    "\n",
    "Une fois dans un virtualenv, la commande `pip` permet d’installer/désinstaller des paquets.\n",
    "Installer puis désinstaller un paquet :\n",
    "```bash\n",
    "pip install Django\n",
    "pip uninstall Django\n",
    "```\n",
    "Lister les paquets installés :\n",
    "```bash\n",
    "pip freeze\n",
    "```\n",
    "Installer une version spécifique d’un paquet (on échappe avec des guillemets car on utilise souvent des caractères spéciaux de ligne de commande pour préciser la version) :\n",
    "```bash\n",
    "pip install \"django-cachalot==1.5.0\"\n",
    "```\n",
    "Installer un paquet avec la dernière version dans une fourchette de versions :\n",
    "```bash\n",
    "pip install \"Django>=1.10,<1.11\"\n",
    "```\n",
    "Rechercher tous les paquets contenant un mot dans leur nom :\n",
    "```bash\n",
    "pip search django\n",
    "```\n",
    "Tous ces paquets proviennent du PyPI (Python Package Index) : [pypi.python.org](https://pypi.python.org)"
   ]
  },
  {
   "cell_type": "markdown",
   "metadata": {
    "slideshow": {
     "slide_type": "slide"
    }
   },
   "source": [
    "## Créer une fonction\n",
    "\n",
    "Une fonction permet d’éviter de répéter du code.<br />\n",
    "⇒ En créer une dès qu’on sent qu’on écrit à peu près la même chose.\n",
    "\n",
    "Une fonction se définit ainsi :"
   ]
  },
  {
   "cell_type": "code",
   "execution_count": 5,
   "metadata": {},
   "outputs": [],
   "source": [
    "def calcul(x, y):\n",
    "    return x ** 2 + 3 * y + 2"
   ]
  },
  {
   "cell_type": "markdown",
   "metadata": {},
   "source": [
    "- Le mot-clé `def` indique qu’on définit une fonction.\n",
    "- Son nom est ici `calcul`.\n",
    "- Ses arguments (ou paramètres) sont `x` et `y` : comme des variables, mais définies implicitement.\n",
    "- Le code qu’elle contient est indenté.\n",
    "- Elle renvoie le résultat du calcul $x^2 + 3y + 2$ à l’aide du mot-clé `return`."
   ]
  },
  {
   "cell_type": "markdown",
   "metadata": {
    "slideshow": {
     "slide_type": "slide"
    }
   },
   "source": [
    "## Créer une fonction — suite\n",
    "\n",
    "Exemple d’utilisation :"
   ]
  },
  {
   "cell_type": "code",
   "execution_count": 6,
   "metadata": {},
   "outputs": [
    {
     "name": "stdout",
     "output_type": "stream",
     "text": [
      "96\n"
     ]
    }
   ],
   "source": [
    "print(calcul(5, 23))"
   ]
  },
  {
   "cell_type": "markdown",
   "metadata": {},
   "source": [
    "Une fonction peut :\n",
    "- contenir plusieurs lignes de code\n",
    "- contenir n’importe quelle ligne de code Python (assignation de variable, condition, boucle, etc.)\n",
    "- contenir des arguments optionnels, qui doivent avoir une valeur par défaut\n",
    "- ne rien renvoyer avec `return`, elle renverra `None` par défaut (ce qu’on appelle procédure en algorithmique est donc appellé aussi fonction en Python)"
   ]
  },
  {
   "cell_type": "markdown",
   "metadata": {
    "slideshow": {
     "slide_type": "slide"
    }
   },
   "source": [
    "## Créer une fonction — suite\n",
    "\n",
    "Exemple plus complexe :\n",
    "```python\n",
    "def calcul_dur(a, b=0, c=1):\n",
    "    if b == 0:\n",
    "        return a\n",
    "    d = a / b + c\n",
    "    return d * 2\n",
    "```\n",
    "Ici, `b` et `c` sont des arguments optionnels, si on ne les spécifie pas ils vaudront `0` et `1`.\n",
    "Exemples d’utilisation :\n",
    "```python\n",
    "calcul_dur(1)            # Renvoie 1\n",
    "calcul_dur(1, 2, 3)      # Renvoie 7.0\n",
    "calcul_dur(2, b=3, c=4)  # Renvoie 9.3333…\n",
    "calcul_dur(2, c=4)       # Renvoie 2\n",
    "calcul_dur(2, c=4, b=3)  # Renvoie 9.3333…\n",
    "```\n",
    "On peut donc préciser le nom des arguments optionnels pour :\n",
    "- être plus explicite\n",
    "- sauter des arguments optionnels\n",
    "- spécifier des arguments optionnels dans l’ordre qu’on veut"
   ]
  },
  {
   "cell_type": "markdown",
   "metadata": {
    "slideshow": {
     "slide_type": "subslide"
    }
   },
   "source": [
    "À partir de maintenant, toujours faire les exercices dans des fichiers Python, ici par exemple `fonctions.py`.\n",
    "\n",
    "### Exercice 12\n",
    "\n",
    "Créer une fonction `square` transformant un entier `x` en son carré.\n",
    "\n",
    "### Exercice 13\n",
    "\n",
    "Créer une fonction `salut` avec un argument `prenom` et affichant « Salut Michel ! Ça va ? » en remplaçant le prénom.\n",
    "\n",
    "Modifier la fonction précédente pour qu’elle accepte un argument optionnel booléen `forme_politesse` permettant de déterminer si on écrit « Salut Michel ! Ça va ? » ou « Bonjour Michel ! Comment allez-vous ? ».<br />\n",
    "Par défaut, afficher la forme de politesse.\n",
    "\n",
    "Ajouter un argument optionnel chaîne de caractères `titre` contenant par exemple `'M.'`, `'Mme'`, `'Dr'`, `'mon'` ou `'ma'`. Par défaut, cet argument vaut `None`. Le titre doit s’afficher de sorte que les chaînes affichent « Bonjour Dr. Michel ! Comment allez-vous ? » ou « Salut mon Michel ! Ça va ? ». Si cet argument vaut `None`, on affiche la forme du point précédent : « Salut Michel ! Ça va ? ».\n",
    "\n",
    "Utiliser la fonction pour afficher :<br />\n",
    "« Bonjour M. Pierre ! Comment allez-vous ? »<br />\n",
    "« Salut cher Patrice ! Ça va ? »<br />\n",
    "« Salut Jean-Claude ! Ça va ? »"
   ]
  },
  {
   "cell_type": "markdown",
   "metadata": {
    "slideshow": {
     "slide_type": "slide"
    }
   },
   "source": [
    "## Modules, paquets et librairies\n",
    "\n",
    "Ce qu’on appelle un **module** est un fichier Python ou un dossier regroupant de nombreux fichiers Python.\n",
    "\n",
    "On utilise le terme **paquet** pour désigner un dossier regroupant de nombreux fichiers Python.<br />\n",
    "Un paquet contient obligatoirement un fichier `__init__.py`, même vide.\n",
    "On utilise également ce terme pour désigner une librairie externe installable depuis le [Python Package Index](https://pypi.python.org/pypi), que ce soit en réalité un paquet ou un module.<br />\n",
    "\n",
    "Le terme **librairie** est utilisé pour désigner tout module externe au projet dans lequel on travaille, généralement installée depuis PyPI.\n",
    "\n",
    "Pour résumer :\n",
    "- module : fichier ou dossier Python local\n",
    "- paquet : dossier Python local ou librairie externe\n",
    "- librairie : module externe installé\n",
    "\n",
    "⇒ C’est un peu le bazar, c’est vrai."
   ]
  },
  {
   "cell_type": "markdown",
   "metadata": {
    "slideshow": {
     "slide_type": "subslide"
    }
   },
   "source": [
    "### Exercice 14\n",
    "\n",
    "Créer un fichier `essai.py` contenant la ligne `truc = 3`\n",
    "\n",
    "Lancer la console Python dans le dossier contenant `essai.py` puis exécuter :\n",
    "```python\n",
    "from essai import truc\n",
    "print(truc)\n",
    "```\n",
    "`3` doit donc être affiché !<br />\n",
    "De même, créer une fonction quelconque dans le fichier `essai.py`, importer et utiliser cette fonction.\n",
    "\n",
    "Un paquet Python est un dossier contenant des fichiers Python.<br />\n",
    "Créer un dossier `paquet_test` contenant les fichiers `__init__.py`, `a.py` et `b.py`.\n",
    "\n",
    "Dans `a.py`, créer une variable `var_a` et une fonction quelconque `func_a`.<br />\n",
    "Dans `b.py`, créer une variable `var_b` et une fonction quelconque `func_b`.<br />\n",
    "Dans `__init__.py`, écrire :\n",
    "```python\n",
    "from .a import var_a, func_a  # Le . montre que l’import est relatif\n",
    "from .b import var_b, func_b\n",
    "```\n",
    "\n",
    "Lancer la console Python dans le dossier contenant `paquet_test`, puis exécuter :\n",
    "```python\n",
    "from paquet_test.a import var_a\n",
    "from paquet_test import func_a, var_b\n",
    "```\n",
    "Utiliser les objets importés et constater que l’import fonctionne !"
   ]
  },
  {
   "cell_type": "markdown",
   "metadata": {
    "slideshow": {
     "slide_type": "slide"
    }
   },
   "source": [
    "## Les méthodes\n",
    "\n",
    "Tout est objet en Python (ou presque).<br />\n",
    "Les méthodes sont des fonctions appliquées à un objet et correspondant à leur type. Exemples :\n",
    "```python\n",
    "'BonJour'.lower()  # 'bonjour'\n",
    "'27'.isdigit()     # True\n",
    "3.7.is_integer()   # False\n",
    "3.0.is_integer()   # True\n",
    "x = 8 / 3\n",
    "x.is_integer()     # False\n",
    "une_liste = []\n",
    "une_liste.append(1678)  # Ajoute 1678 à la liste\n",
    "```"
   ]
  },
  {
   "cell_type": "markdown",
   "metadata": {
    "slideshow": {
     "slide_type": "subslide"
    }
   },
   "source": [
    "### Exercice 15\n",
    "\n",
    "Convertir une entrée utilisateur en minuscules puis en majuscules, et afficher les deux.\n",
    "\n",
    "### Exercice 16\n",
    "\n",
    "Définir une liste vide, puis y ajouter 3 entrées utilisateur différentes converties en majuscules, puis afficher la liste.\n",
    "\n",
    "### Exercice 17\n",
    "\n",
    "Définir une liste vide, puis y ajouter 3 nombres entiers saisis par l’utilisateur. On testera si l’entrée utilisateur est bien un nombre avant de l’ajouter à la liste. Afficher la liste."
   ]
  },
  {
   "cell_type": "markdown",
   "metadata": {
    "slideshow": {
     "slide_type": "slide"
    }
   },
   "source": [
    "## Gestion des exceptions\n",
    "\n",
    "Des erreurs arrivent, cela ne doit pas être une fatalité !<br />\n",
    "Par exemple, la fonction `int` peut lever des exceptions `ValueError` et `TypeError`.\n",
    "\n",
    "Lorsqu’une exception est levée, par défaut Python quitte le programme.<br />\n",
    "Pour éviter qu’une exception ne quitte le programme, on doit capturer l’exception :"
   ]
  },
  {
   "cell_type": "code",
   "execution_count": 7,
   "metadata": {},
   "outputs": [
    {
     "name": "stdout",
     "output_type": "stream",
     "text": [
      "0\n"
     ]
    }
   ],
   "source": [
    "try:\n",
    "    i = int('je ne suis pas entier')\n",
    "except ValueError:\n",
    "    i = 0\n",
    "except TypeError:\n",
    "    i = -1\n",
    "else:\n",
    "    print('Cool, aucune erreur !')\n",
    "print(i)"
   ]
  },
  {
   "cell_type": "markdown",
   "metadata": {},
   "source": [
    "Dans `try`, on écrit les lignes de code à tenter d’exécuter.<br />\n",
    "En cas d’erreur, on se réfère au `except` correspondant à l’erreur (ici `ValueError`) et on exécute son code.<br />\n",
    "Si aucune erreur ne se produit, on exécute ce qu’il y a dans `else`.\n",
    "\n",
    "Seul `try` et un `except` sont obligatoires, n’utiliser `else` et les `except` supplémentaires que si nécessaires."
   ]
  },
  {
   "cell_type": "markdown",
   "metadata": {
    "slideshow": {
     "slide_type": "subslide"
    }
   },
   "source": [
    "### Exercice 18\n",
    "\n",
    "Demander un nombre entier (positif ou négatif) à l’utilisateur et continuer à demander en boucle ce nombre tant que l’utilisateur tape quelque chose n’étant pas un nombre entier."
   ]
  },
  {
   "cell_type": "markdown",
   "metadata": {
    "slideshow": {
     "slide_type": "slide"
    }
   },
   "source": [
    "## Lever une exception\n",
    "\n",
    "En Python, lorsque que quelque chose d’innatendu et grave se produit, on préfère **lever une exception** plutôt que de faire planter et arrêter le programme.\n",
    "\n",
    "Pour cela, il faut utiliser le mot-clé `raise` et choisir le type d’exception parmi [la liste des exceptions disponibles](https://docs.python.org/3/library/exceptions.html). Idéalement, on ajoute un message d’erreur, mais ce n’est pas obligatoire.\n",
    "\n",
    "Par exemple :"
   ]
  },
  {
   "cell_type": "code",
   "execution_count": 15,
   "metadata": {},
   "outputs": [
    {
     "name": "stdout",
     "output_type": "stream",
     "text": [
      "Quel âge avez-vous ? huit\n"
     ]
    },
    {
     "ename": "TypeError",
     "evalue": "Vous devez taper un nombre",
     "output_type": "error",
     "traceback": [
      "\u001b[0;31m---------------------------------------------------------------------------\u001b[0m",
      "\u001b[0;31mTypeError\u001b[0m                                 Traceback (most recent call last)",
      "\u001b[0;32m<ipython-input-15-ff7e594d681c>\u001b[0m in \u001b[0;36m<module>\u001b[0;34m()\u001b[0m\n\u001b[1;32m      1\u001b[0m \u001b[0mmessage\u001b[0m \u001b[0;34m=\u001b[0m \u001b[0minput\u001b[0m\u001b[0;34m(\u001b[0m\u001b[0;34m'Quel âge avez-vous ? '\u001b[0m\u001b[0;34m)\u001b[0m\u001b[0;34m\u001b[0m\u001b[0m\n\u001b[1;32m      2\u001b[0m \u001b[0;32mif\u001b[0m \u001b[0;32mnot\u001b[0m \u001b[0mmessage\u001b[0m\u001b[0;34m.\u001b[0m\u001b[0misdigit\u001b[0m\u001b[0;34m(\u001b[0m\u001b[0;34m)\u001b[0m\u001b[0;34m:\u001b[0m\u001b[0;34m\u001b[0m\u001b[0m\n\u001b[0;32m----> 3\u001b[0;31m     \u001b[0;32mraise\u001b[0m \u001b[0mTypeError\u001b[0m\u001b[0;34m(\u001b[0m\u001b[0;34m'Vous devez taper un nombre'\u001b[0m\u001b[0;34m)\u001b[0m\u001b[0;34m\u001b[0m\u001b[0m\n\u001b[0m\u001b[1;32m      4\u001b[0m \u001b[0;32mif\u001b[0m \u001b[0mmessage\u001b[0m \u001b[0;34m==\u001b[0m \u001b[0;34m'0'\u001b[0m\u001b[0;34m:\u001b[0m\u001b[0;34m\u001b[0m\u001b[0m\n\u001b[1;32m      5\u001b[0m     \u001b[0;32mraise\u001b[0m \u001b[0mNotImplementedError\u001b[0m\u001b[0;34m\u001b[0m\u001b[0m\n",
      "\u001b[0;31mTypeError\u001b[0m: Vous devez taper un nombre"
     ]
    }
   ],
   "source": [
    "message = input('Quel âge avez-vous ? ')\n",
    "if not message.isdigit():\n",
    "    raise TypeError('Vous devez taper un nombre')\n",
    "if message == '0':\n",
    "    raise NotImplementedError\n",
    "print('Vous avez', message, 'ans')"
   ]
  },
  {
   "cell_type": "markdown",
   "metadata": {
    "slideshow": {
     "slide_type": "slide"
    }
   },
   "source": [
    "## Lecture et écriture de fichier\n",
    "\n",
    "Pour lire un fichier, utiliser le mot-clé `with`, la fonction `open` et des méthodes de l’objet renvoyé :\n",
    "```python\n",
    "with open('un_fichier.txt') as fichier:\n",
    "    contenu = fichier.read()\n",
    "    print(contenu)\n",
    "```\n",
    "Si le fichier n’existe pas, une exception `FileNotFoundError` est levée.<br />\n",
    "Utiliser un `try`…`except` pour gérer cette situation.\n",
    "\n",
    "Par défaut, `open` ouvre les fichiers pour être lus, le mode d’ouverture `'r'`.<br />\n",
    "Pour avoir un comportement différent, il faut changer le mode d’ouverture.<br />\n",
    "Ainsi, pour écrire dans un nouveau fichier ou écraser un fichier existant :\n",
    "```python\n",
    "with open('un_fichier.txt', 'w') as fichier:\n",
    "    fichier.write('Une première ligne\\nEt une seconde')\n",
    "```\n",
    "Un mode spécial, `'a'` (pour “append”), permet d’ajouter du contenu à la fin du fichier :\n",
    "```python\n",
    "with open('un_fichier.txt', 'a') as fichier:\n",
    "    fichier.write('Une troisième ligne')\n",
    "```"
   ]
  },
  {
   "cell_type": "markdown",
   "metadata": {
    "slideshow": {
     "slide_type": "subslide"
    }
   },
   "source": [
    "### Exercice 19\n",
    "\n",
    "Uniquement en utilisant Python, faire ce qui suit :\n",
    "- Créer un fichier `essai.txt` contenant le texte « Je sais écrire :D ».\n",
    "- Lire le fichier et vérifier qu’il contient bien le texte d’origine.\n",
    "- Vider le contenu du fichier et vérifier qu’il est vide.\n",
    "- Écrire dans le fichier 3 lignes d’entrées utilisateur.\n",
    "- Lire le fichier et afficher son contenu\n",
    "- Ajouter dans le fichier une ligne « Bon, finies les doléances. »\n",
    "- Lire à nouveau le fichier et afficher son contenu."
   ]
  },
  {
   "cell_type": "markdown",
   "metadata": {
    "slideshow": {
     "slide_type": "slide"
    }
   },
   "source": [
    "## Exécuter un programme externe\n",
    "\n",
    "Exécuter un programme externe pour obtenir son code de retour :\n",
    "```python\n",
    "import os\n",
    "return_code = os.system('ls /home/')\n",
    "```\n",
    "⇒ Intérêt vite limité, et peu sécurisé.\n",
    "\n",
    "Exécuter un programme externe pour obtenir sa sortie :\n",
    "```python\n",
    "from subprocess import getstatusoutput\n",
    "return_code, output = getstatusoutput('ls /home/')\n",
    "print(return_code)\n",
    "print(output)\n",
    "```\n",
    "\n",
    "⇒ Plus intéressant, mais peu sécurisé et toujours un peu limité.\n",
    "\n",
    "Interagir complètement avec un programme externe :\n",
    "```python\n",
    "from subprocess import Popen, PIPE\n",
    "p = Popen(['ls', '/home/'], stdout=PIPE, stderr=PIPE)\n",
    "p.wait()\n",
    "print(p.returncode)\n",
    "print(p.stdout.read().decode())\n",
    "```\n",
    "… et plein d’autres interactions."
   ]
  },
  {
   "cell_type": "markdown",
   "metadata": {
    "slideshow": {
     "slide_type": "slide"
    }
   },
   "source": [
    "## Script en ligne de commande\n",
    "\n",
    "Pour exécuter un script directement sans appeler Python :\n",
    "- Ajouter `#!/usr/bin/env python3` en première ligne du fichier (le “shebang”)\n",
    "- Rendre le script exécutable en exécutant `chmod +x script.py`\n",
    "\n",
    "Le module `argparse` inclus dans Python permet de créer des outils de qualité en ligne de commande :\n",
    "```python\n",
    "from argparse import ArgumentParser\n",
    "\n",
    "parser = ArgumentParser(description='Ce script lit ou écrit un fichier.')\n",
    "parser.add_argument('chemin', help='Chemin vers le fichier')\n",
    "parser.add_argument('--contenu', help='Contenu écrit dans le fichier')\n",
    "args = parser.parse_args()\n",
    "if args.contenu is None:\n",
    "    with open(args.chemin) as fichier:\n",
    "        print(fichier.read())\n",
    "else:\n",
    "    with open(args.chemin, 'w') as fichier:\n",
    "        fichier.write(args.contenu)\n",
    "```\n",
    "\n",
    "Pour plus de détails, lire la documentation : [docs.python.org/3/library/argparse](https://docs.python.org/3/library/argparse)"
   ]
  },
  {
   "cell_type": "markdown",
   "metadata": {
    "slideshow": {
     "slide_type": "slide"
    }
   },
   "source": [
    "# Créons un journal intime en ligne de commande !"
   ]
  },
  {
   "cell_type": "markdown",
   "metadata": {
    "slideshow": {
     "slide_type": "slide"
    }
   },
   "source": [
    "## Journal intime\n",
    "\n",
    "Créer un outil en ligne de commande permettant d’écrire et lire un journal intime.\n",
    "\n",
    "![](journal.png)"
   ]
  },
  {
   "cell_type": "markdown",
   "metadata": {
    "slideshow": {
     "slide_type": "slide"
    }
   },
   "source": [
    "# Écosystème Python"
   ]
  },
  {
   "cell_type": "markdown",
   "metadata": {
    "slideshow": {
     "slide_type": "slide"
    }
   },
   "source": [
    "## Problèmes d’encodage\n",
    "\n",
    "Depuis Python 3 ⇒ presque plus de problèmes d’encodage !<br />\n",
    "Voir Python 2 vs 3 précédemment.<br />\n",
    "Mais parfois toujours besoin de conversions.\n",
    "\n",
    "#### Encodage UTF-8 (norme universelle respectée par tous sauf Windows)\n",
    "\n",
    "Conversion `bytes` → `str` :<br />\n",
    "`b'abc'.decode()  # Renvoie 'abc'`<br />\n",
    "Conversion `str` → `bytes` :<br />\n",
    "`'abc'.encode()  # Renvoie b'abc'`\n",
    "\n",
    "#### Autres encodages\n",
    "\n",
    "Ici on utilise par exemple ISO 8859-1, la norme Windows pour l’Europe universelle. C’est sans doute l’encodage autre que UTF-8 que vous rencontrerez le plus souvent.\n",
    "\n",
    "Conversion `bytes` → `str` :<br />\n",
    "`'\\xe9'.decode('iso-8859-1')  # Renvoie 'é'`<br />\n",
    "Conversion `str` → `bytes` :<br />\n",
    "`'é'.encode('iso-8859-1')  # Renvoie b'\\xe9'`\n",
    "\n",
    "Voir [la liste complète](https://docs.python.org/3/library/codecs.html#standard-encodings) des noms d’encodages gérés par Python."
   ]
  },
  {
   "cell_type": "markdown",
   "metadata": {
    "slideshow": {
     "slide_type": "slide"
    }
   },
   "source": [
    "## Gérer les fichiers et dossiers avec `pathlib`\n",
    "\n",
    "Dans des scripts, souvent besoin de lister des fichiers, découper des chemins etc.<br />\n",
    "⇒ pathlib, une solution récemment incluse à Python pour faciliter tout cela.\n",
    "```python\n",
    "from pathlib import Path\n",
    "usr_bin = Path('/usr/bin/')\n",
    "print(usr_bin.is_dir())                 # True\n",
    "print(list(usr_bin.glob('python*')))    # Liste les exécutables python\n",
    "print(usr_bin.parent)                   # /usr\n",
    "home = Path.home()\n",
    "projets = home / 'Projets Python'\n",
    "print(projets.exists())                 # Probablement False\n",
    "print(Path('test').absolute())          # Transforme en chemin absolu.\n",
    "print(Path('fichier.txt').name)         # fichier\n",
    "print(Path('fichier.txt').suffix)       # .txt\n",
    "print(Path('fichier.tar.gz').suffixes)  # ['.tar', '.gz']\n",
    "```\n",
    "Pour plus d’informations : [docs.python.org/3/library/pathlib](https://docs.python.org/3/library/pathlib)"
   ]
  },
  {
   "cell_type": "markdown",
   "metadata": {
    "slideshow": {
     "slide_type": "subslide"
    }
   },
   "source": [
    "### Exercice 20\n",
    "\n",
    "En utilisant exclusivement `pathlib` et `argparse`, écrire un script en ligne de commande nommé `ls.py` permettant d’afficher le chemin de tous les fichiers Python trouvés récursivement dans le dossier actuel. Cela affichera aussi optionnellement la taille des fichiers. Si un argument est passé à `ls.py` en ligne de commande, on cherche dans l’argument.\n",
    "\n",
    "Les chemins seront affichés de manière absolue, et par ordre alphabétique. On limite le nombre de chemins affichés à 1000, modifiable par un argument.\n",
    "\n",
    "Exemples :\n",
    "```bash\n",
    "./ls.py --limite 2\n",
    "```\n",
    "```\n",
    "journal.py\n",
    "ls.py\n",
    "```\n",
    "```bash\n",
    "./ls.py /usr --limite 3 --afficher-taille\n",
    "```\n",
    "```\n",
    "  7261 octets /usr/lib/update-notifier/apt_check.py\n",
    "  4848 octets /usr/lib/update-notifier/backend_helper.py\n",
    " 15467 octets /usr/lib/rhythmbox/plugins/alternative-toolbar/alttoolbar_plugins.py\n",
    "```"
   ]
  },
  {
   "cell_type": "markdown",
   "metadata": {
    "slideshow": {
     "slide_type": "slide"
    }
   },
   "source": [
    "## Les classes et objets\n",
    "\n",
    "Une classe :\n",
    "- = un type, sauf qu’il est défini en Python et non en C<br />\n",
    "- = un plan de fabrication d’objets\n",
    "           \n",
    "Un objet = une instance d’une classe ou d’un type\n",
    "\n",
    "Quand on crée un objet à partir d’une classe, on dit qu’on instancie une classe.\n",
    "\n",
    "Éléments importants d’une classe :\n",
    "- nom de la classe\n",
    "- attributs de classe\n",
    "- attributs d’instance\n",
    "- méthodes, dont les méthodes spéciales/magiques\n",
    "- héritage"
   ]
  },
  {
   "cell_type": "markdown",
   "metadata": {
    "slideshow": {
     "slide_type": "slide"
    }
   },
   "source": [
    "## Les classes et objets — suite\n",
    "\n",
    "```python\n",
    "class Stylo:\n",
    "    encre_par_lettre = 1\n",
    "\n",
    "    def __init__(self, couleur='noir'):\n",
    "        self.couleur = couleur\n",
    "        self.remplir()\n",
    "\n",
    "    def remplir(self):\n",
    "        self.quantite_encre = 40\n",
    "    \n",
    "    def ecrire(self, texte):\n",
    "        self.quantite_encre -= len(texte) * self.encre_par_lettre\n",
    "        if self.quantite_encre <= 0:\n",
    "            raise ValueError('Le stylo est vide.')\n",
    "        print(texte)\n",
    "```\n",
    "Maintenant on peut produire des stylos et s’en servir :\n",
    "```python\n",
    "stylo = Stylo('rouge')      # Un stylo rouge\n",
    "stylo.ecrire('quelque chose')\n",
    "stylo.ecrire('blabla' * 5)  # Le stylo est vide.\n",
    "stylo.remplir()             # Remet de l’encre\n",
    "stylo.ecrire('blabla' * 5)  # Il marche à nouveau !\n",
    "```"
   ]
  },
  {
   "cell_type": "markdown",
   "metadata": {
    "slideshow": {
     "slide_type": "slide"
    }
   },
   "source": [
    "## Les classes et objets — suite\n",
    "\n",
    "Hériter d’une classe permet de réutiliser son code, tout en le personnalisant :\n",
    "\n",
    "```python\n",
    "class Crayon(Stylo):\n",
    "    encre_par_lettre = 0.5\n",
    "\n",
    "crayon = Crayon()  # Un crayon noir\n",
    "crayon.ecrire('quelque chose')\n",
    "crayon.ecrire('blabla' * 5)\n",
    "crayon.ecrire('blabla' * 5)\n",
    "crayon.ecrire('blabla' * 5)  # Le stylo est vide.\n",
    "```\n",
    "On peut même écraser des méthodes, éventuellement en réutilisant leur fonctionnement de base.\n",
    "```python\n",
    "class Feutre(Stylo):\n",
    "    def remplir(self):\n",
    "        self.quantite_encre = 60\n",
    "\n",
    "    def ecrire(self, texte):\n",
    "        try:\n",
    "            super().ecrire(texte)  # Exécute la méthode écrasée\n",
    "        except ValueError:\n",
    "            raise ValueError('Le feutre est vide.')\n",
    "\n",
    "```"
   ]
  },
  {
   "cell_type": "markdown",
   "metadata": {
    "slideshow": {
     "slide_type": "subslide"
    }
   },
   "source": [
    "### Exercice 21\n",
    "\n",
    "Créer une classe Vehicule contenant :\n",
    "- un attribut de classe `vitesse_max` en km/h, valant la vitesse de la lumière\n",
    "- un attribut de classe `consommation`, la quantité de carburant consommée pour 100 km, valant `10`\n",
    "- un attribut de classe `reservoir_max` définissant la taille de la réserve de carburant, valant `1000`\n",
    "- un attribut d’instance `reservoir`, le remplissage du réservoir, plein par défaut\n",
    "- une méthode parcourir prenant en argument une distance en km et retirant de l’essence ou de l’électricité en accord avec consommation, et renvoyer la durée minimale du trajet en heures\n",
    "- une méthode `faire_le_plein` remplissant le réservoir\n",
    "\n",
    "Empêcher le véhicule de rouler si il n’a plus assez d’essence pour parcourir la distance demandée.\n",
    "\n",
    "Créer deux classes `Voiture` et `Avion` héritant de `Vehicule`, avec des vitesses maximales de `160` et `950`, des consommations de `6` et `1500` et des réservoirs de `50` et `260000`.\n",
    "\n",
    "En utilisant ces classes, trouver approximativement en tâtonnant la distance maximale que peut faire une voiture et un avion,  et en combien de temps minimum.\n",
    "\n",
    "Créer deux classes `C3` et `Zoe2017` héritant de `Voiture`, avec des vitesses maximales de `150` et `155`, des consommations de `6` et `13` et des réservoirs de `40` et `41`.\n",
    "Trouver de la même manière à tâton les distances maximales et durées de voyages."
   ]
  },
  {
   "cell_type": "markdown",
   "metadata": {
    "slideshow": {
     "slide_type": "slide"
    }
   },
   "source": [
    "## Les méthodes spéciales\n",
    "\n",
    "« Spéciales » car elles ont des sens bien particuliers dans Python.<br />\n",
    "On les appelle aussi couramment « méthodes magiques ».\n",
    "\n",
    "Elles permettent aux classes de s’intégrer dans la syntaxe Python très naturellement et ainsi d’éviter d’utiliser tout le temps des méthodes lors de l’utilisation d’une classe.\n",
    "\n",
    "Toutes les méthodes spéciales commencent et finissent par un double underscore, `__`.\n",
    "\n",
    "Quelques méthodes spéciales importantes :\n",
    "\n",
    "Nom de la méthode | Utilité\n",
    "----------------- | -------\n",
    "`__init__` | Instanciation de la classe\n",
    "`__str__` | Conversion de l’objet en chaîne de caractères\n",
    "`__repr__` | Représentation de l’objet\n",
    "`__add__`, `__sub__`, … | Opérations arithmétiques\n",
    "`__lt__`, `__gt__`, `__eq__`, … | Comparaisons\n",
    "`__del__` | Suppression de l’objet (même automatique)\n",
    "\n",
    "\n",
    "Pour en savoir plus, voir [la liste complète](https://docs.python.org/3/reference/datamodel#special-method-names)."
   ]
  },
  {
   "cell_type": "markdown",
   "metadata": {
    "slideshow": {
     "slide_type": "subslide"
    }
   },
   "source": [
    "### Exercice 22\n",
    "\n",
    "Reprendre la classe `Vehicule` des exercices précédents, et y ajouter un attribut de classe `nom` valant `'Véhicule'`.<br />\n",
    "Écraser cet attribut de classe dans toutes ses sous-classes, par exemple `'Avion'` pour `Avion` ou `'Zoé 2017'` pour `Zoe2017`.\n",
    "\n",
    "Ajouter une méthode spéciale à `Vehicule` de sorte que `str(Voiture())` affiche « Voiture », `str(Zoe2017())` affiche « Zoé 2017 », etc.\n",
    "\n",
    "Ajouter une méthode spéciale pour ajouter un peu de carburant à un véhicule comme ceci :\n",
    "```python\n",
    "c3 = C3()\n",
    "c3.parcourir(200)\n",
    "print(c3.reservoir)  # 28.0\n",
    "c3 += 5\n",
    "print(c3.reservoir)  # 33.0\n",
    "```\n",
    "Ajouter une méthode spéciale qui affiche par exemple « C3 part à la casse ! » quand on supprime un objet.\n",
    "En Python, les objets se suppriment automatiquement, mais on peut forcer la suppression en faisant :\n",
    "```python\n",
    "c3 = C3()\n",
    "del c3\n",
    "```"
   ]
  },
  {
   "cell_type": "markdown",
   "metadata": {
    "slideshow": {
     "slide_type": "slide"
    }
   },
   "source": [
    "## Les décorateurs\n",
    "\n",
    "Un décorateur est une fonction modifiant une fonction, une méthode ou même une classe pour lui ajouter des fonctionnalités."
   ]
  },
  {
   "cell_type": "code",
   "execution_count": 8,
   "metadata": {},
   "outputs": [],
   "source": [
    "def espionner_fonction(fonction):\n",
    "    def nouvelle_fonction(*args, **kwargs):\n",
    "        print('Début de', fonction.__name__, 'arguments :', args, kwargs)\n",
    "        resultat = fonction(*args, **kwargs)\n",
    "        print('Fin de la fonction, résultat :', resultat)\n",
    "        return resultat\n",
    "    return nouvelle_fonction\n",
    "\n",
    "@espionner_fonction\n",
    "def calcul(x, y=0):\n",
    "    return x ** 2 + y"
   ]
  },
  {
   "cell_type": "code",
   "execution_count": 9,
   "metadata": {},
   "outputs": [
    {
     "name": "stdout",
     "output_type": "stream",
     "text": [
      "Début de calcul arguments : (2,) {}\n",
      "Fin de la fonction, résultat : 4\n"
     ]
    },
    {
     "data": {
      "text/plain": [
       "4"
      ]
     },
     "execution_count": 9,
     "metadata": {},
     "output_type": "execute_result"
    }
   ],
   "source": [
    "calcul(2)"
   ]
  },
  {
   "cell_type": "code",
   "execution_count": 10,
   "metadata": {},
   "outputs": [
    {
     "name": "stdout",
     "output_type": "stream",
     "text": [
      "Début de calcul arguments : () {'x': 5, 'y': 8}\n",
      "Fin de la fonction, résultat : 33\n"
     ]
    },
    {
     "data": {
      "text/plain": [
       "33"
      ]
     },
     "execution_count": 10,
     "metadata": {},
     "output_type": "execute_result"
    }
   ],
   "source": [
    "calcul(x=5, y=8)"
   ]
  },
  {
   "cell_type": "markdown",
   "metadata": {
    "slideshow": {
     "slide_type": "slide"
    }
   },
   "source": [
    "## Les décorateurs — suite\n",
    "\n",
    "Utile notamment pour :\n",
    "- Indiquer qu’une fonction doit être utiliser par un autre système (en programmation événementielle)\n",
    "- Transformer une simple fonction en quelque chose de complexe (une page web par exemple, avec Flask)"
   ]
  },
  {
   "cell_type": "markdown",
   "metadata": {
    "slideshow": {
     "slide_type": "slide"
    }
   },
   "source": [
    "## Les expressions régulières\n",
    "\n",
    "Une expression régulière permet de reconnaître un motif dans une chaîne de caractères et éventuellement d’extraire une partie de cette chaîne de caractéristiques.\n",
    "\n",
    "Trouver si une chaîne correspond à un motif :\n",
    "```python\n",
    "import re\n",
    "match = re.match(r'^Mon nom est .+$', 'Mon nom est Bertrand Bordage')\n",
    "```\n",
    "\n",
    "Si `match` est `None`, alors le texte ne correspond pas au motif.\n",
    "Sinon, `match` est un objet permettant d’extraire des groupes de caractères. Pour définir des groupes :\n",
    "\n",
    "```python\n",
    "import re\n",
    "match = re.match(r'^Mon nom est (.+)$', 'Mon nom est Bertrand Bordage')\n",
    "print(match.group(1))  # Affiche « Bertrand Bordage »\n",
    "```\n",
    "\n",
    "De nombreux moyens de préciser des motifs, tous listés sur [la documentation du module `re`](https://docs.python.org/3/library/re).\n",
    "\n",
    "Notation | Traduction | Notation | Traduction\n",
    "-------- | ---------- | -------- | ----------\n",
    "`.` | N’importe quel caractère | `?` | Répète une expression 0 ou 1 fois\n",
    "`\\w` | N’importe quel lettre | `*` | Répète une expression 0 ou plus de fois\n",
    "`\\d` | N’importe quel chiffre | `+` | Répète une expression 1 ou plus de fois\n",
    "`[]` | N’importe lequel des caractères entre crochets | `{2,5}` | Répète une expression 2 à 5 fois"
   ]
  },
  {
   "cell_type": "markdown",
   "metadata": {
    "slideshow": {
     "slide_type": "subslide"
    }
   },
   "source": [
    "### Exercice 23\n",
    "\n",
    "On va écrire un script simulant une discussion banale.<br />\n",
    "À tout moment, l’utilisateur peut écrire quelque chose d’innatendu, le script ne doit pas planter.<br />\n",
    "Il doit afficher à la place « Désolé, je n’ai pas compris. » puis poser à nouveau sa question.\n",
    "\n",
    "Écrire un script demandant à l’utilisateur « Nom et ville ? », l’utilisateur devra répondre par exemple :<br />\n",
    "« Je m’appelle Yves et j’habite Yvetôt » ou « Je m’appelle Antonio et j’habite Venise ».\n",
    "\n",
    "Répondre à l’utilisateur :<br />\n",
    "« Bonjour Yves ! » ou « Bonjour Antonio ! »<br />\n",
    "Puis lui demander : « Quel temps fait-il à Yvetôt ? » ou « Quel temps fait-il à Venise ? »\n",
    "\n",
    "L’utilisateur devra répondre par exemple :<br />\n",
    "« Nuageux, avec une température de 9 °C » ou « Ensoleillé, avec une température de 27 °C »\n",
    "\n",
    "Récupérer la température, puis afficher :\n",
    "- « Brr… il caille ! :( » s’il fait moins de 0 °C\n",
    "- « Frisquet… » s’il fait moins de 10 °C\n",
    "- « Ça va, il fait bon :) » s’il fait plus de 20 °C\n",
    "- « Wow, il fait chaud ! :o » s’il fait plus de 30 °C\n",
    "\n",
    "Afficher « Bon, je dois vous laisser, passez une bonne journée ! »"
   ]
  },
  {
   "cell_type": "markdown",
   "metadata": {
    "slideshow": {
     "slide_type": "slide"
    }
   },
   "source": [
    "# Écosystème Python"
   ]
  },
  {
   "cell_type": "markdown",
   "metadata": {
    "slideshow": {
     "slide_type": "slide"
    }
   },
   "source": [
    "## Analyser du HTML\n",
    "\n",
    "Nous allons utiliser requests et BeautifulSoup 4 pour récupérer une page web et l’analyser. Installation :\n",
    "```bash\n",
    "pip install beautifulsoup4 requests\n",
    "```\n",
    "Ici, nous allons voir comment :\n",
    "- télécharger la page Twitter @CESI_alternance avec requests ([documentation](http://docs.python-requests.org/en/master/user/quickstart/))\n",
    "- extraire les données numériques « Tweets », « Abonnements », « Abonnés » et « J’aime » à l’aide de BeautifulSoup 4 ([documentation](https://www.crummy.com/software/BeautifulSoup/bs4/doc/))"
   ]
  },
  {
   "cell_type": "code",
   "execution_count": 11,
   "metadata": {},
   "outputs": [
    {
     "name": "stdout",
     "output_type": "stream",
     "text": [
      "@cesi_alternance a 826 abonnés.\n"
     ]
    }
   ],
   "source": [
    "from bs4 import BeautifulSoup\n",
    "import requests\n",
    "\n",
    "account = 'cesi_alternance'\n",
    "# Requête HTTP téléchargeant la page du compte Twitter\n",
    "reponse = requests.get('https://twitter.com/' + account)\n",
    "# Création d’un objet BeautifulSoup pour analyser le HTML\n",
    "soup = BeautifulSoup(reponse.text, 'html.parser')\n",
    "# On utilise un sélecteur CSS pour récupérer\n",
    "# la balise contenant le nombre d’abonnés\n",
    "followers_css_selector = '.ProfileNav-item--followers .ProfileNav-value'\n",
    "followers_tag = soup.select(followers_css_selector)[0]\n",
    "# Récupère la valeur de l’attribut HTML data-count de la balise\n",
    "followers = followers_tag['data-count']\n",
    "\n",
    "print('@' + account, 'a', followers, 'abonnés.')"
   ]
  },
  {
   "cell_type": "markdown",
   "metadata": {
    "slideshow": {
     "slide_type": "slide"
    }
   },
   "source": [
    "## Programmation asynchrone\n",
    "\n",
    "La programmation asynchrone sert à exécuter plusieurs tâches simultanément.<br />\n",
    "Utile pour :\n",
    "- Des boucles lourdes mettant trop de temps à s’exécuter par rapport au temps souhaité (traitement de données, génération de niveaux d’un jeu vidéo, etc)\n",
    "- Exécuter certaines tâches où Python attend un événement extérieur (requête SQL ou HTTP, ouverture de milliers de fichiers, etc)\n",
    "\n",
    "Dans Python, plusieurs modules pour la programmation asynchrone : threading, multiprocessing, concurrent\n",
    "Malheureusement, ils sont complexes à utiliser :\n",
    "- difficile de synchroniser les tâches\n",
    "- difficile à débugger\n",
    "\n",
    "Récemment, une nouvelle manière de faire de la programmation asynchrone en Python :\n",
    "le module asyncio et les mots-clés async et await.\n",
    "\n",
    "Révolutionnaires, mais cela manque de maturité, cela changera encore beaucoup à l’avenir et il y a encore de nombreux bugs.\n",
    "\n",
    "⇒ Il vaut mieux attendre encore un peu !"
   ]
  },
  {
   "cell_type": "markdown",
   "metadata": {
    "slideshow": {
     "slide_type": "slide"
    }
   },
   "source": [
    "# Faisons un Action RPG textuel !"
   ]
  },
  {
   "cell_type": "markdown",
   "metadata": {
    "slideshow": {
     "slide_type": "slide"
    }
   },
   "source": [
    "![](action-rpg.png)"
   ]
  },
  {
   "cell_type": "markdown",
   "metadata": {
    "slideshow": {
     "slide_type": "slide"
    }
   },
   "source": [
    "## Action RPG textuel\n",
    "\n",
    "Créer un petit jeu avec des créatures affrontant un humain (un peu comme Pokémon par exemple). Les humains et créatures ont quelques capacités classiques des RPG :\n",
    "- **niveau**\n",
    "- **vie**\n",
    "- **endurance**\n",
    "\n",
    "On gère trois actions pour commencer :\n",
    "- **frapper** pour retirer des points de vie à l’adversaire\n",
    "- **attendre** pour récupérer de la vie et de l’endurance\n",
    "- **esquiver** pour éviter le prochain coup de l’adversaire"
   ]
  },
  {
   "cell_type": "markdown",
   "metadata": {
    "slideshow": {
     "slide_type": "slide"
    }
   },
   "source": [
    "## Action RPG textuel — conseils de réalisation\n",
    "\n",
    "Certaines données non affichées sont presque indispensables :\n",
    "- l’**expérience** (le changement de niveau se fait en accumulant de plus ou moins d’expérience par combat)\n",
    "- la **vie maximale** que peut contenir le personnage\n",
    "- la **force** (pour définir la puissance des coups, qui sera modifiée en fonction du niveau de l’ennemi, ainsi que le coût d’endurance par coup)\n",
    "- l’**agilité** (pour définir le coût d’endurance par esquive, plus l’agilité est grand, plus le coût est bas)\n",
    "\n",
    "Il est très fortement recommandé de créer une classe, par exemple `Personnage` stockant les données et gérant la logique des personnages. Ainsi, chaque nouveau type de personnage sera une sous-classe ajustant les paramètres.\n",
    "\n",
    "Pour les plus téméraires, vous pouvez ajouter de nombreux systèmes usuels, comme les coups critiques, la fuite d’un combat, l’armure, différents types d’attaque, etc."
   ]
  }
 ],
 "metadata": {
  "celltoolbar": "Slideshow",
  "kernelspec": {
   "display_name": "Python 3",
   "language": "python",
   "name": "python3"
  },
  "language_info": {
   "codemirror_mode": {
    "name": "ipython",
    "version": 3
   },
   "file_extension": ".py",
   "mimetype": "text/x-python",
   "name": "python",
   "nbconvert_exporter": "python",
   "pygments_lexer": "ipython3",
   "version": "3.6.3"
  }
 },
 "nbformat": 4,
 "nbformat_minor": 2
}
