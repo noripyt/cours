{
 "cells": [
  {
   "cell_type": "markdown",
   "metadata": {
    "slideshow": {
     "slide_type": "skip"
    }
   },
   "source": [
    "Pour compiler ce document en présentation, exécuter :\n",
    "\n",
    "`jupyter nbconvert Cours\\ d’algorithmique.ipynb --to slides --post serve`"
   ]
  },
  {
   "cell_type": "markdown",
   "metadata": {
    "slideshow": {
     "slide_type": "slide"
    }
   },
   "source": [
    "# Bertrand Bordage de NoriPyt\n",
    "- Programmeur Python, Django, PostgreSQL\n",
    "- Membre de l’équipe de développement du CMS Wagtail\n",
    "- Créateur de nombreux projets open source plus ou moins célèbres"
   ]
  },
  {
   "cell_type": "markdown",
   "metadata": {
    "slideshow": {
     "slide_type": "slide"
    }
   },
   "source": [
    "# Introduction\n",
    "\n",
    "Algorithme = suite logique d’instructions précises permettant de résoudre un problème à partir de données.\n",
    "\n",
    "Algorithmique = science et art de structurer un problème complexe pour le résoudre de manière efficace et élégante.\n",
    "\n",
    "C’est donc le point commun de tous les langages de programmation.\n",
    "\n",
    "Fermez vos PCs, aujourd’hui on apprend à coder sur papier.\n",
    "\n",
    "À noter :\n",
    "- ce n’est qu’une introduction à l’algorithmique\n",
    "- le code sera en langage Python sauf mention du contraire\n",
    "- on se limite à la programmation impérative (= ce que vous ferez presque toujours)"
   ]
  },
  {
   "cell_type": "markdown",
   "metadata": {
    "slideshow": {
     "slide_type": "slide"
    }
   },
   "source": [
    "# Qu’est-ce qu’un langage de programmation ?\n",
    "\n",
    "Comme une langue :\n",
    "- contient des mots & des phrases\n",
    "- une syntaxe et une grammaire permettant d’exprimer des idées logiques\n",
    "- vous pouvez donner des ordres\n",
    "\n",
    "Pas comme une langue :\n",
    "- très peu de mots\n",
    "- pas de conjugaison ou d’accords\n",
    "- vous définissez la plupart des mots que vous utilisez\n",
    "- approximations impossibles, chaque mot et phrase doit être parfait\n",
    "- vous ne pouvez que rarement faire des descriptions\n",
    "- personne ne vous répondra jamais"
   ]
  },
  {
   "cell_type": "markdown",
   "metadata": {
    "slideshow": {
     "slide_type": "subslide"
    }
   },
   "source": [
    "## Attention\n",
    "\n",
    "Langage de programmation ≠ langage déclaratif/descriptif (SQL, HTML, CSS, LaTeX)\n",
    "\n",
    "| Programmation | Déclaration/Description |\n",
    "| - | - |\n",
    "| Construis ce meuble ! | Ce meuble est bleu et un peu moche. |\n",
    "\n",
    "Les langages de programmation contiennent souvent une partie descriptive, mais la plupart du temps il s’agit donc d’ordres.\n",
    "\n",
    "On parle de **programmation impérative** lorsqu’il s’agit essentiellement ou uniquement de donner des ordres."
   ]
  },
  {
   "cell_type": "markdown",
   "metadata": {
    "slideshow": {
     "slide_type": "slide"
    }
   },
   "source": [
    "# Langages compilés & interprétés\n",
    "\n",
    "Pour lancer un programme en **langage compilé** :\n",
    "- le programmeur doit le compiler une fois en langage machine à l’aide d’un compilateur\n",
    "- le programme peut ensuite être exécuté directement sans autre programme\n",
    "- à chaque changement du programme, le programmeur doit le recompiler\n",
    "\n",
    "En **langage interprété** :\n",
    "- est exécuté directement, mais à l’aide d’un interpréteur qui détermine quel langage machine exécuter au fur et à mesure de l’exécution\n",
    "\n",
    "![](compiled-vs-interpreted.png)"
   ]
  },
  {
   "cell_type": "markdown",
   "metadata": {
    "slideshow": {
     "slide_type": "subslide"
    }
   },
   "source": [
    "## Conclusion un peu cliché\n",
    "- un langage **compilé** :\n",
    "  - nécessite des compétences solides\n",
    "  - risque d’erreurs accru\n",
    "  - un maximum de puissance\n",
    "- langage **interprété** :\n",
    "  - une puissance réduite\n",
    "  - considérablement moins de temps de travail\n",
    "  - adapté aux débutants et experts\n",
    "  - bien moins de code\n",
    "\n",
    "Toutefois, de nombreux éléments rendent cette conclusion fausse :\n",
    "- compilateurs *Just In Time*\n",
    "- certains langages interprétés plus difficiles (LISP, Scheme)\n",
    "- le temps de travail gagné permet d’améliorer ses algorithmes, aboutissant à de meilleures performances que du C mal conçu\n",
    "- un langage interprété est souvent plus complexe à totalement maîtriser qu’un langage compilé du fait de sa conception plus technique"
   ]
  },
  {
   "cell_type": "markdown",
   "metadata": {
    "slideshow": {
     "slide_type": "slide"
    }
   },
   "source": [
    "# Compilé = obsolète & interprété = moderne?\n",
    "\n",
    "| Année       | Langage                          |             |\n",
    "| ----------: | -------------------------------- | --------    |\n",
    "| 1954        | FORTRAN et le premier assembleur | compilés    |\n",
    "| 1959        | COBOL                            | compilé     |\n",
    "| 1972        | C                                | compilé     |\n",
    "| années 1970 | disparition des cartes perforées |             |\n",
    "| 1991        | Python                           | interprété  |\n",
    "| 1995        | Java, Javascript et PHP          | interprétés |\n",
    "\n",
    "Tous ces langages sont encore indispensables aujourd’hui :\n",
    "- Assembleur : base de toute l’informatique\n",
    "- FORTRAN : utilisé pour les calculs mathématiques les plus lourds\n",
    "- COBOL : les systèmes de transactions bancaires\n",
    "- C : la base de tous les programmes de vos ordinateurs & téléphones, et aussi des langages interprétés\n",
    "- Python : utilisé partout dans Linux, les sciences « dures », par Google, la NASA, LucasFilm, Instagram, etc\n",
    "- Java : utilisé dans d’innombrables systèmes informatiques d’entreprises\n",
    "- Javascript : utilisé pour améliorer l’ergonomie des sites, et plus récemment pour écrire des sites entiers\n",
    "- PHP : utilisé pour écrire la plupart des sites d’Internet, notamment Facebook\n",
    "\n",
    "Et oui, les langages les plus anciens encore utilisés aujourd’hui sont en fait les plus indispensables !"
   ]
  },
  {
   "cell_type": "markdown",
   "metadata": {
    "slideshow": {
     "slide_type": "slide"
    }
   },
   "source": [
    "# Choix du langage\n",
    "\n",
    "Lourds calculs ou informatique embarquée ⇒ langages compilés\n",
    "\n",
    "Pour tout le reste ⇒ langages interprétés\n",
    "\n",
    "Ensuite, un art consistant à choisir le meilleur compromis entre :\n",
    "- l’adéquation du langage aux besoins du projet\n",
    "- les connaissances de votre équipe et vous-même\n",
    "- les possibilités du langage de programmation\n",
    "- la qualité du langage (lisibilité, cohérence, philosophie)\n",
    "- l’avenir du langage\n",
    "\n",
    "Mes recommandations après 22 ans d’expérience sur une vingtaine de langages :\n",
    "- Apprendre un langage interprété simple et permettant de tout faire : typiquement Python.\n",
    "- Connaître les bases d’un langage bas niveau : typiquement C (et non C++).\n",
    "- Apprendre un langage dominant dans votre branche : pour du web, Javascript."
   ]
  },
  {
   "cell_type": "markdown",
   "metadata": {
    "slideshow": {
     "slide_type": "slide"
    }
   },
   "source": [
    "# Structures de données\n",
    "\n",
    "3 est une donnée. « J’aime coder » aussi.\n",
    "\n",
    "Comment les stocker ?\n",
    "\n",
    "Deux manières :\n",
    "- constante pour les valeurs qui ne changeront jamais (nom du programme, version, etc)\n",
    "- variable pour tout le reste\n",
    "\n",
    "Il faut donner un nom, sans espaces ni caractères spéciaux, juste de l’ASCII.\n",
    "\n",
    "Certaines données peuvent être très simples, comme un nombre.\n",
    "\n",
    "D’autres peuvent être très complexes, comme un index de base de données sous forme d’arborescence."
   ]
  },
  {
   "cell_type": "markdown",
   "metadata": {
    "slideshow": {
     "slide_type": "slide"
    }
   },
   "source": [
    "# Types de données\n",
    "\n",
    "Les données sont le premier outil du programmeur.\n",
    "\n",
    "Chaque donnée est typée et possède des règles propres à son type.\n",
    "\n",
    "Quelques types prédéfinis, à partir desquels tout est possible.\n",
    "\n",
    "Vous les connaissez sans doute, mais mettons maintenant des noms dessus."
   ]
  },
  {
   "cell_type": "markdown",
   "metadata": {
    "slideshow": {
     "slide_type": "slide"
    }
   },
   "source": [
    "# Types élementaires\n",
    "\n",
    "Les types de base sont presque toujours les mêmes :\n",
    "\n",
    "Booléens : uniquement `True` ou `False`\n",
    "\n",
    "Nombres entiers : `3`, `-8752`, `654189426871662371897286541987153419827154`\n",
    "\n",
    "Nombres à virgule (flottants) : `1.0`, `-5e19`, `8e-20`, `NaN`, `+inf`, `-inf`\n",
    "\n",
    "Chaînes de caractères : `'a'`, `'Bonjour'`, `'βατρακοι'`\n",
    "\n",
    "Des tas d’autres types disponibles dans les langages : fichiers, dates, ensembles, nombres complexes, expressions régulières."
   ]
  },
  {
   "cell_type": "markdown",
   "metadata": {
    "slideshow": {
     "slide_type": "slide"
    }
   },
   "source": [
    "# Instructions\n",
    "\n",
    "Un programme est constitué d’instructions. Exemples d’instructions :\n",
    "- faire une addition\n",
    "- afficher un texte à l’écran\n",
    "- lire un fichier\n",
    "\n",
    "## Séquence\n",
    "\n",
    "La plupart du temps, les instructions s’exécutent en séquence. Exemple de séquence d’instructions :\n",
    "- se lever\n",
    "- se préparer\n",
    "- petit-déjeuner\n",
    "- aller au travail"
   ]
  },
  {
   "cell_type": "markdown",
   "metadata": {
    "slideshow": {
     "slide_type": "slide"
    }
   },
   "source": [
    "# Opérations\n",
    "\n",
    "Les opérations et leurs opérateurs varient assez peu d’un langage à l’autre.\n",
    "\n",
    "L’opération la plus élémentaire est l’assignation, elle permet de stocker une donnée dans une variable ou une constante. Le plus souvent `=`, mais parfois `:=` ou autre. À différencier de l’égalité mathématique."
   ]
  },
  {
   "cell_type": "code",
   "execution_count": null,
   "metadata": {
    "collapsed": true,
    "slideshow": {
     "slide_type": "-"
    }
   },
   "outputs": [],
   "source": [
    "une_variable = 5"
   ]
  },
  {
   "cell_type": "markdown",
   "metadata": {
    "slideshow": {
     "slide_type": "-"
    }
   },
   "source": [
    "Cette opération d’assignation est un peu différente des autres :\n",
    "\n",
    "| Type d’opération | Opérateur | Exemples | Résultats |\n",
    "| ---------------- | --------------- | ----- | - |\n",
    "| Combinaison      | `+` `-` `*` `/` `%` | `2 + 7` | `9` |\n",
    "| Comparaison      | `==` `!=` `>` `<` `>=` `<=` | `9 == 9` | `True` |\n",
    "| Combinaison booléenne | `and` `or` `not` **ou** `&&` <code>&#124;&#124;</code> `!` | `True and False` | `False` |\n",
    "| Combinaison binaire | `&` <code>&#124;</code> `^` `~` | `0b0011 & 0b1100` | `0b0000` |\n",
    "\n",
    "Des raccourcis existent dans la plupart des langages, par exemple :"
   ]
  },
  {
   "cell_type": "code",
   "execution_count": null,
   "metadata": {
    "collapsed": true,
    "slideshow": {
     "slide_type": "-"
    }
   },
   "outputs": [],
   "source": [
    "x = 3\n",
    "x += 7\n",
    "x *= 8"
   ]
  },
  {
   "cell_type": "markdown",
   "metadata": {
    "slideshow": {
     "slide_type": "-"
    }
   },
   "source": [
    "Équivaut parfaitement à :"
   ]
  },
  {
   "cell_type": "code",
   "execution_count": null,
   "metadata": {
    "collapsed": true,
    "slideshow": {
     "slide_type": "-"
    }
   },
   "outputs": [],
   "source": [
    "x = 3\n",
    "x = x + 7\n",
    "x = x * 8"
   ]
  },
  {
   "cell_type": "markdown",
   "metadata": {
    "slideshow": {
     "slide_type": "subslide"
    }
   },
   "source": [
    "## Exercice 1\n",
    "\n",
    "Définir la constante mathématique π avec une précision de 2 chiffres après la virgule.\n",
    "\n",
    "## Exercice 2\n",
    "\n",
    "Que vaut x après ces trois lignes ?\n",
    "\n",
    "```python\n",
    "x = 27\n",
    "x -= 2\n",
    "x / 5\n",
    "```\n",
    "\n",
    "## Exercice 3\n",
    "\n",
    "Tester si « é » est différent de « e ».\n",
    "\n",
    "## Exercice 4\n",
    "\n",
    "Définir une variable `x` valant 333, la diviser par 3, retirer 11 et diviser par 10.\n",
    "\n",
    "Ceci doit être fait en deux instructions.\n",
    "\n",
    "Combien vaut `x` à la fin ?"
   ]
  },
  {
   "cell_type": "markdown",
   "metadata": {
    "slideshow": {
     "slide_type": "slide"
    }
   },
   "source": [
    "# Types composés\n",
    "\n",
    "Un type composé rassemble des valeurs d’autres types en un seul élément.\n",
    "\n",
    "À partir des types simples que nous verrons, il est possible de faire des types plus complexes : arborescences, graphs circulaires, modèles de base de données, etc."
   ]
  },
  {
   "cell_type": "markdown",
   "metadata": {
    "slideshow": {
     "slide_type": "subslide"
    }
   },
   "source": [
    "## Liste / tableau\n",
    "\n",
    "Le type composé le plus simple est la liste, aussi appelée array (=tableau) selon les langages. Elle est indexée en commençant par 0.\n",
    "\n",
    "<table class=\"array-table\">\n",
    "  <tr><th>500</th><th>800</th><th>3</th></tr>\n",
    "  <tr><td>0</td><td>1</td><td>2</td></tr>\n",
    "</table>\n",
    "\n",
    "<table class=\"array-table\">\n",
    "  <tr><td></td><td>0</td><td>1</td><td>2</td></tr>\n",
    "  <tr><td>0</td><th>1</th><th>2</th><th>3</th></tr>\n",
    "  <tr><td>1</td><th>4</th><th>5</th><th>6</th></tr>\n",
    "  <tr><td>2</td><th>7</th><th>8</th><th>9</th></tr>\n",
    "</table>\n",
    "\n",
    "Dans les langages bas niveau, la liste n’accepte qu’un type de données.\n",
    "\n",
    "Exemple C :"
   ]
  },
  {
   "cell_type": "code",
   "execution_count": null,
   "metadata": {
    "collapsed": true,
    "slideshow": {
     "slide_type": "-"
    }
   },
   "outputs": [],
   "source": [
    "int data[3] = {500, 800, 3};\n",
    "data[0]  // 500\n",
    "float data[3][3] = {{1.0, 2.0, 3.0},\n",
    "                    {4.0, 5.0, 6.0},\n",
    "                    {7.0, 8.0, 9.0}};\n",
    "data[1][1]  // 5"
   ]
  },
  {
   "cell_type": "markdown",
   "metadata": {
    "slideshow": {
     "slide_type": "-"
    }
   },
   "source": [
    "Exemple Python :"
   ]
  },
  {
   "cell_type": "code",
   "execution_count": null,
   "metadata": {
    "collapsed": true,
    "slideshow": {
     "slide_type": "-"
    }
   },
   "outputs": [],
   "source": [
    "data = [500, 800, 3]\n",
    "data[0]  # 500\n",
    "data = [[1.0, 2.0, 3.0],\n",
    "        [4.0, 5.0, 6.0],\n",
    "        [7.0, 8.0, 9.0]]\n",
    "data[1][1]  # 5\n",
    "data = ['a', 1, True]\n",
    "data[2]  # True"
   ]
  },
  {
   "cell_type": "markdown",
   "metadata": {
    "slideshow": {
     "slide_type": "subslide"
    }
   },
   "source": [
    "## Exercice 5\n",
    "\n",
    "Si `l = [1, [2, 3], [4], 5]`\n",
    "Quelle est la valeur de `l[2]` ? La valeur de `l[1][0]` ? Et enfin `l[3][1]` ?\n",
    "\n",
    "## Exercice 6\n",
    "\n",
    "Si `l = [[8, 3, 7], [12, 2, 91], [830, 6, 57]]`\n",
    "\n",
    "Écrire le code nécessaire pour obtenir le nombre `91` à partir de `l`."
   ]
  },
  {
   "cell_type": "markdown",
   "metadata": {
    "slideshow": {
     "slide_type": "subslide"
    }
   },
   "source": [
    "## Dictionnaires\n",
    "\n",
    "Appelés objets en Javascript ou listes d’associations en LISP & Scheme.\n",
    "\n",
    "Proche de la liste, mais :\n",
    "- fait correspondre des valeurs deux par deux\n",
    "- n’est pas ordonné (selon les langages)\n",
    "\n",
    "Exemple Python / Javascript :"
   ]
  },
  {
   "cell_type": "code",
   "execution_count": null,
   "metadata": {
    "collapsed": true,
    "slideshow": {
     "slide_type": "-"
    }
   },
   "outputs": [],
   "source": [
    "ages = {\n",
    "    'Jean-Paul': 42,\n",
    "    'Zoé': 12,\n",
    "    'Lucas': 27,\n",
    "}"
   ]
  },
  {
   "cell_type": "markdown",
   "metadata": {
    "slideshow": {
     "slide_type": "subslide"
    }
   },
   "source": [
    "# Structures et classes\n",
    "\n",
    "## Structure\n",
    "\n",
    "Proche du dictionnaire, mais avec structure fixe.\n",
    "Extrêmement utilisée en C."
   ]
  },
  {
   "cell_type": "code",
   "execution_count": null,
   "metadata": {
    "collapsed": true,
    "slideshow": {
     "slide_type": "-"
    }
   },
   "outputs": [],
   "source": [
    "struct Book {\n",
    "    char[50] title\n",
    "    char[50] subtitle\n",
    "    char[150] authors\n",
    "    int length\n",
    "}"
   ]
  },
  {
   "cell_type": "markdown",
   "metadata": {
    "slideshow": {
     "slide_type": "-"
    }
   },
   "source": [
    "## Classe\n",
    "\n",
    "Comme une structure, mais avec des fonctions liées (nommées méthodes), beaucoup plus facile à utiliser :"
   ]
  },
  {
   "cell_type": "code",
   "execution_count": null,
   "metadata": {
    "collapsed": true
   },
   "outputs": [],
   "source": [
    "class Book:\n",
    "    def __init__(self, title, subtitle='', authors='', length=None):\n",
    "        self.title = title\n",
    "        self.subtitle = subtitle\n",
    "        self.authors = authors\n",
    "        self.length = length\n",
    "\n",
    "    def __str__(self):\n",
    "        return '« %s » par %s' % (self.title, self.authors)\n",
    "\n",
    "print(Book('Les Piliers de la terre', authors='Ken Follet'))"
   ]
  },
  {
   "cell_type": "markdown",
   "metadata": {
    "slideshow": {
     "slide_type": "slide"
    }
   },
   "source": [
    "# Structures de contrôle\n",
    "\n",
    "La séquence est la structure de contrôle par défaut.\n",
    "Bien entendu, elle n’est pas pratique, on ne peut se contenter de toujours suivre le même circuit.\n",
    "\n",
    "Il existe principalement deux autres structures de contrôle.\n",
    "\n",
    "## Conditions\n",
    "\n",
    "Si en retard, pas de petit déjeuner !\n",
    "- se lever\n",
    "- se préparer\n",
    "- si je ne suis pas en retard :\n",
    "  - petit-déjeuner\n",
    "- aller au travail\n",
    "\n",
    "## Boucles\n",
    "\n",
    "Une fois sur le lieu de travail, il faut travailler jusqu’à l’heure de sortie :\n",
    "- tant que l’heure est inférieure à la fin de journée de travail :\n",
    "  - travailler deux heures\n",
    "  - faire une pause de 5 minutes\n",
    "- rentrer à la maison\n",
    "\n",
    "Ensuite, chez moi, je dois faire la vaisselle. On peut dire :\n",
    "- tant qu’il reste des assiettes à laver dans l’évier :\n",
    "  - je prends une assiette\n",
    "  - je lave l’assiette\n",
    "\n",
    "Mais pour être plus rapide et lisible, il est préférable de dire :\n",
    "- pour chaque assiette dans l’évier :\n",
    "  - je la nettoie\n",
    "  \n",
    "Voyons comment ceci se traduit en algorithmique."
   ]
  },
  {
   "cell_type": "markdown",
   "metadata": {
    "slideshow": {
     "slide_type": "slide"
    }
   },
   "source": [
    "# Conditions\n",
    "\n",
    "Cela permet de faire varier les instructions en fonction des données.\n",
    "\n",
    "Une condition exécute un bloc d’instructions si la condition est vraie."
   ]
  },
  {
   "cell_type": "code",
   "execution_count": null,
   "metadata": {
    "collapsed": true,
    "slideshow": {
     "slide_type": "-"
    }
   },
   "outputs": [],
   "source": [
    "name = input('Bonjour, quel est votre nom ? ')\n",
    "if name == 'Germaine':\n",
    "    print('Bonjour arrière-grand-mère !')\n",
    "elif name == 'Jean-Marie':\n",
    "    print('Bonjour tonton !')\n",
    "else:\n",
    "    print('Bonjour ' + name + ' !')"
   ]
  },
  {
   "cell_type": "markdown",
   "metadata": {
    "slideshow": {
     "slide_type": "subslide"
    }
   },
   "source": [
    "## Exercice 7\n",
    "\n",
    "Quelle est la valeur de `x` à la fin de l’exécution du code ?"
   ]
  },
  {
   "cell_type": "code",
   "execution_count": null,
   "metadata": {
    "slideshow": {
     "slide_type": "-"
    }
   },
   "outputs": [],
   "source": [
    "x = 7\n",
    "if x / 3.5 >= 2:\n",
    "    x += 9\n",
    "    if x * 3 > 17:\n",
    "        x /= 8\n",
    "else:\n",
    "    x -= 2"
   ]
  },
  {
   "cell_type": "markdown",
   "metadata": {
    "slideshow": {
     "slide_type": "slide"
    }
   },
   "source": [
    "# Boucles\n",
    "\n",
    "Pour itérer sur des objets (= les passer en revue), par exemple dans une liste :"
   ]
  },
  {
   "cell_type": "code",
   "execution_count": null,
   "metadata": {
    "collapsed": true,
    "slideshow": {
     "slide_type": "-"
    }
   },
   "outputs": [],
   "source": [
    "maximum = 0\n",
    "for number in [7, 28, 4, 9, 12, 3]:\n",
    "    if number > maximum:\n",
    "        maximum = number"
   ]
  },
  {
   "cell_type": "markdown",
   "metadata": {
    "slideshow": {
     "slide_type": "-"
    }
   },
   "source": [
    "Ceci fonctionne dans quelques langages de haut niveau comme Python, mais dans la plupart des langages, il faut créer un index intermédiaire. Par exemple en C :"
   ]
  },
  {
   "cell_type": "code",
   "execution_count": null,
   "metadata": {
    "collapsed": true,
    "slideshow": {
     "slide_type": "-"
    }
   },
   "outputs": [],
   "source": [
    "void main() {\n",
    "    int maximum = 0;\n",
    "    int data[6] = {7, 28, 4, 9, 12, 3};\n",
    "    for (int i = 0; i < 6; i++) {\n",
    "        int number = data[i];\n",
    "        if (number > maximum) {\n",
    "            maximum = number;\n",
    "        }\n",
    "    }\n",
    "}"
   ]
  },
  {
   "cell_type": "markdown",
   "metadata": {
    "slideshow": {
     "slide_type": "-"
    }
   },
   "source": [
    "Dans les autres cas :"
   ]
  },
  {
   "cell_type": "code",
   "execution_count": null,
   "metadata": {
    "collapsed": true,
    "slideshow": {
     "slide_type": "-"
    }
   },
   "outputs": [],
   "source": [
    "while input('Avez-vous fini ? ') not in ('oui', 'o', 'OUI', 'O', 'Oui'):\n",
    "    print('Écrivez oui, tout va bien se passer.')"
   ]
  },
  {
   "cell_type": "markdown",
   "metadata": {},
   "source": [
    "Ou :"
   ]
  },
  {
   "cell_type": "code",
   "execution_count": null,
   "metadata": {},
   "outputs": [],
   "source": [
    "while True:\n",
    "    if input('Avez-vous fini ? ') in ('oui', 'o', 'OUI', 'O', 'Oui'):\n",
    "        break\n",
    "    print('Écrivez oui, tout va bien se passer.')"
   ]
  },
  {
   "cell_type": "markdown",
   "metadata": {
    "slideshow": {
     "slide_type": "subslide"
    }
   },
   "source": [
    "## Exercice 8\n",
    "\n",
    "Écrire une boucle trouvant le plus grand commun diviseur entre deux nombres.\n",
    "\n",
    "## Exercice 9\n",
    "\n",
    "Quelle est la valeur de `x` à la fin de l’exécution ?"
   ]
  },
  {
   "cell_type": "code",
   "execution_count": null,
   "metadata": {},
   "outputs": [],
   "source": [
    "x = 0\n",
    "i = 5\n",
    "while i > -2:\n",
    "    x += i\n",
    "    i -= 1"
   ]
  },
  {
   "cell_type": "markdown",
   "metadata": {
    "slideshow": {
     "slide_type": "slide"
    }
   },
   "source": [
    "# Fonctions et procédures\n",
    "## Fonction\n",
    "Groupe de lignes de code effectuant une tâche donnée, à laquelle nous donnons un nom. Une fonction renvoie un résultat et ne modifie pas l’état du programme ou les données d’entrée."
   ]
  },
  {
   "cell_type": "code",
   "execution_count": null,
   "metadata": {
    "collapsed": true,
    "slideshow": {
     "slide_type": "-"
    }
   },
   "outputs": [],
   "source": [
    "def function(n: int) -> int:\n",
    "    return n * 4 + 2"
   ]
  },
  {
   "cell_type": "markdown",
   "metadata": {
    "slideshow": {
     "slide_type": "-"
    }
   },
   "source": [
    "## Procédure\n",
    "Même chose que fonction, mais modifie l’état du programme et/ou des données d’entrée, et peut ne rien renvoyer."
   ]
  },
  {
   "cell_type": "code",
   "execution_count": null,
   "metadata": {
    "collapsed": true,
    "slideshow": {
     "slide_type": "-"
    }
   },
   "outputs": [],
   "source": [
    "def procedure(l: list):\n",
    "    l[0] = 3\n",
    "    print('Nous avons modifié la liste en entrée')"
   ]
  },
  {
   "cell_type": "markdown",
   "metadata": {
    "slideshow": {
     "slide_type": "notes"
    }
   },
   "source": [
    "Un paradigme nommé programmation fonctionnelle consiste à n’utiliser que des fonctions et jamais de procédure. En pratique, ce paradigme est rarement utilisé seul, car il empêche toute interaction avec le système d’exploitation (et donc avec fichiers, réseaux, périphériques)"
   ]
  },
  {
   "cell_type": "markdown",
   "metadata": {
    "slideshow": {
     "slide_type": "subslide"
    }
   },
   "source": [
    "## Exercice 10\n",
    "Dans chaque cas, est-ce une fonction ou une procédure ?"
   ]
  },
  {
   "cell_type": "code",
   "execution_count": null,
   "metadata": {
    "collapsed": true,
    "slideshow": {
     "slide_type": "-"
    }
   },
   "outputs": [],
   "source": [
    "def martin(first_name: str):\n",
    "    return first_name + ' Martin'"
   ]
  },
  {
   "cell_type": "code",
   "execution_count": null,
   "metadata": {
    "collapsed": true,
    "slideshow": {
     "slide_type": "-"
    }
   },
   "outputs": [],
   "source": [
    "def martin_bis():\n",
    "    first_name = input('Quel est votre prénom, monsieur Martin ?')\n",
    "    return first_name + ' Martin'"
   ]
  },
  {
   "cell_type": "code",
   "execution_count": null,
   "metadata": {
    "collapsed": true,
    "slideshow": {
     "slide_type": "-"
    }
   },
   "outputs": [],
   "source": [
    "def f(n: int):\n",
    "    print('Bonjour')\n",
    "    return n + 5"
   ]
  },
  {
   "cell_type": "markdown",
   "metadata": {
    "slideshow": {
     "slide_type": "slide"
    }
   },
   "source": [
    "# Forme récursive\n",
    "\n",
    "Une fonction ou procédure peut s’appeler elle-même.\n",
    "\n",
    "Utilité :\n",
    "- traverser des arborescences\n",
    "- effectuer des suites mathématiques\n",
    "\n",
    "Exemple avec une arborescence :"
   ]
  },
  {
   "cell_type": "code",
   "execution_count": null,
   "metadata": {
    "collapsed": true,
    "slideshow": {
     "slide_type": "-"
    }
   },
   "outputs": [],
   "source": [
    "def find_min_max(tree: list):\n",
    "    minimum = float('inf')\n",
    "    maximum = 0\n",
    "    for value in tree:\n",
    "        if isinstance(value, list):\n",
    "            value_min, value_max = find_min_max(value)\n",
    "            if value_min < minimum:\n",
    "                minimum = value_min\n",
    "            if value_max > maximum:\n",
    "                maximum = value_max\n",
    "        else:\n",
    "            if value < minimum:\n",
    "                minimum = value\n",
    "            if value > maximum:\n",
    "                maximum = value\n",
    "    return minimum, maximum\n",
    "            \n",
    "\n",
    "find_min_max([\n",
    "    [827, 312, [592, 522]],\n",
    "    910, 395, [815],\n",
    "    [195, 168, [806, 497, [972]]],\n",
    "])"
   ]
  },
  {
   "cell_type": "markdown",
   "metadata": {
    "slideshow": {
     "slide_type": "subslide"
    }
   },
   "source": [
    "## Exercice 11\n",
    "Quel résultat va donner cette fonction pour i = 1 ? et i = 3 ? et i = 7 ?"
   ]
  },
  {
   "cell_type": "code",
   "execution_count": null,
   "metadata": {
    "slideshow": {
     "slide_type": "-"
    }
   },
   "outputs": [],
   "source": [
    "def fib(i: int) -> int:\n",
    "    if i < 2:\n",
    "        return i\n",
    "    return fib(i-1) + fib(i - 2)"
   ]
  },
  {
   "cell_type": "markdown",
   "metadata": {
    "slideshow": {
     "slide_type": "-"
    }
   },
   "source": [
    "## Exercice 12\n",
    "Écrire la fonction factorielle en utilisant de la récursivité. Une fois fini, écrire la même fonction sans récursivité et comparer les résultats"
   ]
  },
  {
   "cell_type": "markdown",
   "metadata": {
    "slideshow": {
     "slide_type": "slide"
    }
   },
   "source": [
    "# Règles d’or du meilleur dev\n",
    "\n",
    "Désolé pour vous, il faut faire des efforts.\n",
    "\n",
    "Vous devrez vous construire ces habitudes avec le temps pour être un dev de qualité supérieure :\n",
    "- Réfléchir à sa structure avant de commencer à coder.\n",
    "- Au moindre blocage, utiliser la méthode du canard en plastique ou un papier et un crayon .\n",
    "- Donner des noms compréhensibles et courts aux variables et fonctions.\n",
    "- Ne jamais copier-coller de code, surtout s’il est pompé sur Internet.\n",
    "- Utiliser systématiquement un gestionnaire de versions.\n",
    "- Ne jamais commenter une ligne et la laisser « parce que ça pourrait toujours servir ». Ça servira juste à dérouter la personne qui le relira, peut-être vous.\n",
    "- Il faut mieux passer du temps à clarifier et simplifier son code qu’à le commenter outrageusement.\n",
    "- Respecter les conventions en usage, en priorité celles du projet, puis celles du langage.\n",
    "\n",
    "De manière générale :\n",
    "- Ne travaillez pas dur, travaillez intelligemment.\n",
    "- Soyez propres, vous vous remercierez vous-même dans quelques années en reprenant un projet."
   ]
  },
  {
   "cell_type": "markdown",
   "metadata": {
    "slideshow": {
     "slide_type": "subslide"
    }
   },
   "source": [
    "# Structurer son code\n",
    "\n",
    "L’erreur du débutant : écrire une énorme fonction devenant incompréhensible pour une tâche globale comme `mon_jeu()`.\n",
    "\n",
    "Structurer son code = subdiviser une vaste tâche en tâches élémentaires, et grouper ces tâches de manière censées.\n",
    "\n",
    "Outils à disposition :\n",
    "- constantes et variables globales\n",
    "- fonctions & procédures\n",
    "- classes et structures (si le langage les supporte)\n",
    "- modules\n",
    "\n",
    "Un module est un fichier regroupant des fonctions, des constantes, des classes, etc.\n",
    "\n",
    "Un module peut aussi être un dossier regroupant plusieurs sous-modules et ainsi de suite.\n",
    "\n",
    "Structurer son code permet donc de créer une arborescence de module qui soit claire pour les développeurs l’utilisant.\n",
    "\n",
    "Librairie = module partagé par quelqu’un pour que d’autres puissent s’en servir facilement\n",
    "\n",
    "Une librairie est généralement installée une seule fois sur le système, et plusieurs programmes peuvent s’en servir sans avoir à la réinstaller à chaque fois."
   ]
  },
  {
   "cell_type": "markdown",
   "metadata": {
    "slideshow": {
     "slide_type": "subslide"
    }
   },
   "source": [
    "## Exemple de module utilisant une librairie\n",
    "\n",
    "<div class=\"structure\">\n",
    "  Module <code>mon_jeu</code>\n",
    "  <div>Procédure <code>lancer_jeu()</code></div>\n",
    "  <div>Procédure <code>afficher_bouton_quand_appuyé()</code></div>\n",
    "</div>\n",
    "\n",
    "<div class=\"structure\">\n",
    "  Librairie <code>jeu_video</code>\n",
    "  <div>\n",
    "    Module <code>manettes</code>\n",
    "    <div>Constante <code>NOMBRE_MAXIMUM_DE_MANETTES</code></div>\n",
    "    <div>Variable <code>nombre_de_manettes</code></div>\n",
    "    <div>Procédure <code>allumer_manettes()</code></div>\n",
    "    <div>Procédure <code>éteindre_manettes()</code></div>\n",
    "    <div>Fonction <code>afficher_nom(manette)</code></div>\n",
    "    <div>Fonction <code>lister_boutons(manette)</code></div>\n",
    "    <div>\n",
    "        Classe <code>Manette</code>\n",
    "        <div>Attribut <code>nom</code></div>\n",
    "        <div>Attribut <code>boutons</code></div>\n",
    "        <div>Méthode <code>allumer()</code></div>\n",
    "        <div>Méthode <code>éteindre()</code></div>\n",
    "    </div>\n",
    "  </div>\n",
    "  <div>\n",
    "    Module <code>video</code>\n",
    "    <div><em>Et cetera</em></div>\n",
    "  </div>\n",
    "</div>"
   ]
  },
  {
   "cell_type": "markdown",
   "metadata": {
    "slideshow": {
     "slide_type": "slide"
    }
   },
   "source": [
    "# Architecture à trois couches\n",
    "\n",
    "Aussi appelée « architecture trois tiers »\n",
    "\n",
    "Omniprésente en informatique aujourd’hui.\n",
    "Utilisée par les applications de bureau ou mobiles et sur les sites Internet.\n",
    "\n",
    "Les couches sont :\n",
    "- affichage des données\n",
    "- traitement des données\n",
    "- stockage persistent de données\n",
    "\n",
    "## Exemples\n",
    "\n",
    "| Couche     | Site Internet       | Tableur de bureau                  |\n",
    "| ---------- | ------------------- | ---------------------------------- |\n",
    "| Affichage  | Navigateur web      | Fenêtre avec cases, menus, boutons |\n",
    "| Traitement | Serveur applicatif  | Calcul du contenu des cellules     |\n",
    "| Stockage   | Base de données SQL | Fichier ODS, XLS, CSV              |\n",
    "\n",
    "À retenir, ce sera le point de départ de la plupart de vos projets."
   ]
  },
  {
   "cell_type": "markdown",
   "metadata": {
    "slideshow": {
     "slide_type": "slide"
    }
   },
   "source": [
    "# Modélisation\n",
    "\n",
    "Modélisation d’un algorithme = l’écrire visuellement, de la manière qui nous parle le mieux\n",
    "\n",
    "⇒ Pas de manière particulière de noter, faisons ce qui paraît clair.\n",
    "\n",
    "Quelques problèmes concrets en organigrammes puis traduits en code :"
   ]
  },
  {
   "cell_type": "markdown",
   "metadata": {
    "slideshow": {
     "slide_type": "subslide"
    }
   },
   "source": [
    "## Manger\n",
    "\n",
    "![](manger.png)"
   ]
  },
  {
   "cell_type": "markdown",
   "metadata": {
    "slideshow": {
     "slide_type": "subslide"
    }
   },
   "source": [
    "### Équivalent en code"
   ]
  },
  {
   "cell_type": "code",
   "execution_count": null,
   "metadata": {
    "collapsed": true
   },
   "outputs": [],
   "source": [
    "def manger(bras, bouche):\n",
    "    lever(bras)\n",
    "    ouvrir(bouche)\n",
    "    fermer(bouche)\n",
    "    while est_pleine(bouche):\n",
    "        ouvrir(bouche)\n",
    "        fermer(bouche)"
   ]
  },
  {
   "cell_type": "markdown",
   "metadata": {},
   "source": [
    "Ou encore :"
   ]
  },
  {
   "cell_type": "code",
   "execution_count": null,
   "metadata": {
    "collapsed": true
   },
   "outputs": [],
   "source": [
    "def manger(bras, bouche):\n",
    "    lever(bras)\n",
    "    while True:\n",
    "        ouvrir(bouche)\n",
    "        fermer(bouche)\n",
    "        if not est_pleine(bouche):\n",
    "            break"
   ]
  },
  {
   "cell_type": "markdown",
   "metadata": {},
   "source": [
    "Évidemment, `lever`, `ouvrir`, `fermer` et `est_pleine` restent à définir.\n",
    "\n",
    "Prenons un cas plus abstrait mais plus précis."
   ]
  },
  {
   "cell_type": "markdown",
   "metadata": {
    "slideshow": {
     "slide_type": "subslide"
    }
   },
   "source": [
    "## Trouver le minimum\n",
    "\n",
    "![](minimum.png)"
   ]
  },
  {
   "cell_type": "markdown",
   "metadata": {
    "slideshow": {
     "slide_type": "subslide"
    }
   },
   "source": [
    "### Équivalent en code"
   ]
  },
  {
   "cell_type": "code",
   "execution_count": null,
   "metadata": {},
   "outputs": [],
   "source": [
    "def trouver_minimum(l):\n",
    "    minimum = float('+inf')\n",
    "    for i in l:\n",
    "        if i < minimum:\n",
    "            minimum = i\n",
    "    return minimum"
   ]
  },
  {
   "cell_type": "markdown",
   "metadata": {},
   "source": [
    "Organigramme plus clair pour débuter, mais bien plus long et compliqué à lire quand on est habitué au code.\n",
    "\n",
    "Ne pas hésiter à se faire des organigrammes pour mettre les choses à plat.\n",
    "\n",
    "Oui, je m’en sers encore de temps en temps."
   ]
  },
  {
   "cell_type": "markdown",
   "metadata": {
    "slideshow": {
     "slide_type": "slide"
    }
   },
   "source": [
    "# Complexité algorithmique\n",
    "\n",
    "Sert à identifier un algorithme lent, puis à comprendre pourquoi et trouver comment l’améliorer.\n",
    "\n",
    "On utilise la notation `O()` pour décrire le temps d’exécution d’une fonction ou procédure dans le pire des cas.\n",
    "\n",
    "Pour une fonction ou procédure, on dit qu’elle est :\n",
    "- `O(1)` si elle prend toujours le même temps, quelque soit son contenu.\n",
    "- `O(n)` si elle prend un temps linéairement proportionnel à la valeur d’un argument\n",
    "- `O(2n)` si elle prend un temps proportionnel à 2 fois la la valeur d’un argument\n",
    "- `O(n²)` si elle prend un temps proportionnel au carré de la valeur d’un argument\n",
    "- `O(m×n)` si elle prend un temps proportionnel au produit des valeurs de deux arguments\n",
    "- `O(log n)` si elle prend un temps logarithmiquement proportionnel à la valeur d’un argument\n",
    "- *Et cetera*\n",
    "\n",
    "De même que pour noter le pire des cas, la notation `Ω()` permet de décrire le meilleur des cas.\n",
    "\n",
    "Il existe d’autres notations pour décrire d’autres complexités : la mémoire utilisée, le nombre d’opérations effectuées, etc."
   ]
  },
  {
   "cell_type": "markdown",
   "metadata": {
    "slideshow": {
     "slide_type": "subslide"
    }
   },
   "source": [
    "## Exemples"
   ]
  },
  {
   "cell_type": "code",
   "execution_count": null,
   "metadata": {
    "collapsed": true,
    "slideshow": {
     "slide_type": "-"
    }
   },
   "outputs": [],
   "source": [
    "def f(n: int) -> int:\n",
    "    return 3 * n"
   ]
  },
  {
   "cell_type": "markdown",
   "metadata": {
    "collapsed": true,
    "slideshow": {
     "slide_type": "-"
    }
   },
   "source": [
    "Complexité : `O(1)`"
   ]
  },
  {
   "cell_type": "code",
   "execution_count": null,
   "metadata": {
    "collapsed": true
   },
   "outputs": [],
   "source": [
    "def f(n: int) -> int:\n",
    "    total = 0\n",
    "    for i in range(n):\n",
    "        total += i\n",
    "    return total"
   ]
  },
  {
   "cell_type": "markdown",
   "metadata": {},
   "source": [
    "Complexité : `O(n)`"
   ]
  },
  {
   "cell_type": "code",
   "execution_count": null,
   "metadata": {
    "collapsed": true
   },
   "outputs": [],
   "source": [
    "def f(m: int, n: int) -> int:\n",
    "    total = 0\n",
    "    for x in range(m):\n",
    "        for y in range(n):\n",
    "            total += x * y\n",
    "    return total"
   ]
  },
  {
   "cell_type": "markdown",
   "metadata": {},
   "source": [
    "Complexité : `O(m×n)`"
   ]
  },
  {
   "cell_type": "markdown",
   "metadata": {
    "slideshow": {
     "slide_type": "subslide"
    }
   },
   "source": [
    "## Exercice 13\n",
    "\n",
    "Quelle est la complexité de ces fonctions ?"
   ]
  },
  {
   "cell_type": "code",
   "execution_count": null,
   "metadata": {
    "collapsed": true
   },
   "outputs": [],
   "source": [
    "def f() -> int:\n",
    "    return 3"
   ]
  },
  {
   "cell_type": "code",
   "execution_count": null,
   "metadata": {
    "collapsed": true
   },
   "outputs": [],
   "source": [
    "def f(m: int, n: int) -> int:\n",
    "    total = 0\n",
    "    for i in range(m):\n",
    "        total += i * n\n",
    "    return total"
   ]
  },
  {
   "cell_type": "code",
   "execution_count": null,
   "metadata": {
    "collapsed": true
   },
   "outputs": [],
   "source": [
    "def f(n: int) -> int:\n",
    "    total = 1\n",
    "    for x in range(n):\n",
    "        for y in range(n):\n",
    "            total *= n\n",
    "        total /= 2\n",
    "    return total"
   ]
  },
  {
   "cell_type": "markdown",
   "metadata": {},
   "source": [
    "## Exercice 14\n",
    "\n",
    "Écrire une fonction de complexité `O(2n)`."
   ]
  },
  {
   "cell_type": "markdown",
   "metadata": {
    "collapsed": true,
    "slideshow": {
     "slide_type": "slide"
    }
   },
   "source": [
    "# Efficacité d’algorithmes pour un même problème\n",
    "\n",
    "Souvent les problèmes les plus simples sont les plus intéressants à étudier, car ils aboutissent à des gains de performance sur l’ensemble de l’informatique.\n",
    "\n",
    "Exemple typique : tri d’une liste.\n",
    "\n",
    "Opération utile partout et pourtant il est facile de la faire inefficacement."
   ]
  },
  {
   "cell_type": "code",
   "execution_count": 1,
   "metadata": {
    "collapsed": true
   },
   "outputs": [],
   "source": [
    "DATA = [7, 10, 3, 9, 6, 0, 4, 13, 2, 12, 8, 11, 5, 1]"
   ]
  },
  {
   "cell_type": "markdown",
   "metadata": {
    "slideshow": {
     "slide_type": "subslide"
    }
   },
   "source": [
    "## Tri par sélection\n",
    "\n",
    "`Ω(n²)` (meilleur des cas)\n",
    "\n",
    "`O(n²)` (pire des cas)\n",
    "\n",
    "![](tri-par-sélection.gif)"
   ]
  },
  {
   "cell_type": "code",
   "execution_count": 2,
   "metadata": {
    "collapsed": true,
    "slideshow": {
     "slide_type": "subslide"
    }
   },
   "outputs": [],
   "source": [
    "def tri(l: list) -> list:\n",
    "    n = len(l)\n",
    "    for i1 in range(n):\n",
    "        minimum = i1\n",
    "        for i2 in range(i1+1, n):\n",
    "            if l[i2] < l[minimum]:\n",
    "                minimum = i2\n",
    "        if minimum != i1:\n",
    "            l[i1], l[minimum] = l[minimum], l[i1]\n",
    "    return l"
   ]
  },
  {
   "cell_type": "code",
   "execution_count": 3,
   "metadata": {},
   "outputs": [
    {
     "name": "stdout",
     "output_type": "stream",
     "text": [
      "[0, 1, 2, 3, 4, 5, 6, 7, 8, 9, 10, 11, 12, 13]\n",
      "17.9 µs ± 602 ns per loop (mean ± std. dev. of 7 runs, 100000 loops each)\n"
     ]
    }
   ],
   "source": [
    "print(tri(DATA.copy()))\n",
    "%timeit tri(DATA.copy())"
   ]
  },
  {
   "cell_type": "markdown",
   "metadata": {
    "slideshow": {
     "slide_type": "subslide"
    }
   },
   "source": [
    "## Tri par insertion\n",
    "\n",
    "`Ω(n)` (meilleur des cas)\n",
    "\n",
    "`O(n²)` (pire des cas)\n",
    "\n",
    "![](tri-par-insertion.gif)"
   ]
  },
  {
   "cell_type": "code",
   "execution_count": 4,
   "metadata": {
    "slideshow": {
     "slide_type": "subslide"
    }
   },
   "outputs": [],
   "source": [
    "def tri(l: list) -> list:\n",
    "    n = len(l)\n",
    "    for i1 in range(n):\n",
    "        v1 = l[i1]\n",
    "        i2 = i1\n",
    "        while i2 > 0 and l[i2 - 1] > v1:\n",
    "            l[i2] = l[i2 - 1]\n",
    "            i2 -= 1\n",
    "        l[i2] = v1\n",
    "    return l"
   ]
  },
  {
   "cell_type": "code",
   "execution_count": 5,
   "metadata": {},
   "outputs": [
    {
     "name": "stdout",
     "output_type": "stream",
     "text": [
      "[0, 1, 2, 3, 4, 5, 6, 7, 8, 9, 10, 11, 12, 13]\n",
      "13.4 µs ± 366 ns per loop (mean ± std. dev. of 7 runs, 100000 loops each)\n"
     ]
    }
   ],
   "source": [
    "print(tri(DATA.copy()))\n",
    "%timeit tri(DATA.copy())"
   ]
  },
  {
   "cell_type": "markdown",
   "metadata": {
    "slideshow": {
     "slide_type": "subslide"
    }
   },
   "source": [
    "## Tri par tas\n",
    "\n",
    "`Ω(n×log(n))`\n",
    "\n",
    "`O(n×log(n))`\n",
    "\n",
    "![](tri-par-tas.gif)"
   ]
  },
  {
   "cell_type": "code",
   "execution_count": 6,
   "metadata": {
    "slideshow": {
     "slide_type": "subslide"
    }
   },
   "outputs": [],
   "source": [
    "def descendre(l: list, premier: int, dernier: int):\n",
    "    maximum = 2 * premier + 1\n",
    "    while maximum <= dernier:\n",
    "        if maximum < dernier and l[maximum] < l[maximum + 1]:\n",
    "            maximum += 1\n",
    "        if l[maximum] > l[premier]:\n",
    "            l[maximum], l[premier] = l[premier], l[maximum]\n",
    "            premier = maximum\n",
    "            maximum = 2 * premier + 1\n",
    "        else:\n",
    "            break\n",
    "\n",
    "\n",
    "def tri(l: list) -> list:\n",
    "    n = len(l) - 1\n",
    "    for i in range(int(n / 2), -1, -1):\n",
    "        descendre(l, i, n)\n",
    "\n",
    "    for i in range(n, 0, -1):\n",
    "        if l[0] > l[i]:\n",
    "            l[0], l[i] = l[i], l[0]\n",
    "            descendre(l, 0, i-1)\n",
    "    return l"
   ]
  },
  {
   "cell_type": "code",
   "execution_count": 7,
   "metadata": {},
   "outputs": [
    {
     "name": "stdout",
     "output_type": "stream",
     "text": [
      "[0, 1, 2, 3, 4, 5, 6, 7, 8, 9, 10, 11, 12, 13]\n",
      "28.2 µs ± 2.06 µs per loop (mean ± std. dev. of 7 runs, 10000 loops each)\n"
     ]
    }
   ],
   "source": [
    "print(tri(DATA.copy()))\n",
    "%timeit tri(DATA.copy())"
   ]
  },
  {
   "cell_type": "markdown",
   "metadata": {
    "slideshow": {
     "slide_type": "subslide"
    }
   },
   "source": [
    "### Plus lent que les algorithmes moins efficaces !?\n",
    "\n",
    "Première possibilité : nous sommes dans le pire des cas du tri par tas mais le meilleur des cas pour les autres algorithmes\n",
    "\n",
    "Seconde possibilité : notre implémentation est trop lente.\n",
    "\n",
    "Regardez le tri par tas, son exécution demande d’exécuter beaucoup plus d’instructions que les autres algorithmes.\n",
    "\n",
    "Les détails d’implémentation sont très importants, c’est pourquoi l’algorithmique doit être combinée à une excellente connaissance du langage en question.\n",
    "\n",
    "L’algorithme de tri de Python, de même complexité algorithmique :"
   ]
  },
  {
   "cell_type": "code",
   "execution_count": 8,
   "metadata": {},
   "outputs": [
    {
     "name": "stdout",
     "output_type": "stream",
     "text": [
      "[0, 1, 2, 3, 4, 5, 6, 7, 8, 9, 10, 11, 12, 13]\n",
      "350 ns ± 41.2 ns per loop (mean ± std. dev. of 7 runs, 1000000 loops each)\n"
     ]
    }
   ],
   "source": [
    "l = DATA.copy()\n",
    "l.sort()\n",
    "print(l)\n",
    "l = DATA.copy()\n",
    "%timeit l.sort()"
   ]
  },
  {
   "cell_type": "markdown",
   "metadata": {
    "slideshow": {
     "slide_type": "slide"
    }
   },
   "source": [
    "<div style=\"text-align: center;\">\n",
    "  <h1>\n",
    "    Merci &amp;<br />\n",
    "    bon courage pour la suite !\n",
    "  </h1>\n",
    "  <h3>\n",
    "    Suivez nos activités sur<br />\n",
    "    GitHub: @BertrandBordage<br />\n",
    "    Twitter: @NoriPytCom\n",
    "  </h3>\n",
    "</div>"
   ]
  }
 ],
 "metadata": {
  "celltoolbar": "Slideshow",
  "kernelspec": {
   "display_name": "Python 3",
   "language": "python",
   "name": "python3"
  },
  "language_info": {
   "codemirror_mode": {
    "name": "ipython",
    "version": 3
   },
   "file_extension": ".py",
   "mimetype": "text/x-python",
   "name": "python",
   "nbconvert_exporter": "python",
   "pygments_lexer": "ipython3",
   "version": "3.5.2"
  }
 },
 "nbformat": 4,
 "nbformat_minor": 2
}
